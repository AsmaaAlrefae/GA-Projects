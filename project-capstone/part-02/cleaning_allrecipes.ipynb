{
 "cells": [
  {
   "cell_type": "code",
   "execution_count": 1,
   "metadata": {},
   "outputs": [],
   "source": [
    "# Import-a-ton\n",
    "import pandas as pd\n",
    "import pickle"
   ]
  },
  {
   "cell_type": "markdown",
   "metadata": {},
   "source": [
    "# Allrecipes"
   ]
  },
  {
   "cell_type": "code",
   "execution_count": 2,
   "metadata": {},
   "outputs": [],
   "source": [
    "# Load the products dataset\n",
    "allrecipes = './datasets/allrecipes/allrecipes.csv'\n",
    "df = pd.read_csv(allrecipes)"
   ]
  },
  {
   "cell_type": "code",
   "execution_count": 3,
   "metadata": {},
   "outputs": [
    {
     "data": {
      "text/html": [
       "<div>\n",
       "<style scoped>\n",
       "    .dataframe tbody tr th:only-of-type {\n",
       "        vertical-align: middle;\n",
       "    }\n",
       "\n",
       "    .dataframe tbody tr th {\n",
       "        vertical-align: top;\n",
       "    }\n",
       "\n",
       "    .dataframe thead th {\n",
       "        text-align: right;\n",
       "    }\n",
       "</style>\n",
       "<table border=\"1\" class=\"dataframe\">\n",
       "  <thead>\n",
       "    <tr style=\"text-align: right;\">\n",
       "      <th></th>\n",
       "      <th>recipeName</th>\n",
       "      <th>link</th>\n",
       "      <th>country</th>\n",
       "      <th>Butter salted</th>\n",
       "      <th>Butter oil anhydrous</th>\n",
       "      <th>Cheese blue</th>\n",
       "      <th>Cheese brie</th>\n",
       "      <th>Cheese caraway</th>\n",
       "      <th>Cheese cheddar</th>\n",
       "      <th>Cheese colby</th>\n",
       "      <th>...</th>\n",
       "      <th>Luncheon slices meatless</th>\n",
       "      <th>Vegetarian fillets</th>\n",
       "      <th>Alcoholic beverage wine cooking</th>\n",
       "      <th>Alcoholic beverage wine light</th>\n",
       "      <th>Eggs scrambled frozen mixture</th>\n",
       "      <th>Soybean curd cheese</th>\n",
       "      <th>Vegetables mixed (corn lima beans peas green beans carrots) canned no salt added</th>\n",
       "      <th>Alcoholic beverage rice (sake)</th>\n",
       "      <th>Celery flakes dried</th>\n",
       "      <th>Vital wheat gluten</th>\n",
       "    </tr>\n",
       "  </thead>\n",
       "  <tbody>\n",
       "    <tr>\n",
       "      <th>0</th>\n",
       "      <td>1-dish-taco-bake</td>\n",
       "      <td>http://allrecipes.com/recipe/1-dish-taco-bake/...</td>\n",
       "      <td>Mexican</td>\n",
       "      <td>0</td>\n",
       "      <td>0</td>\n",
       "      <td>0</td>\n",
       "      <td>0</td>\n",
       "      <td>0</td>\n",
       "      <td>0</td>\n",
       "      <td>0</td>\n",
       "      <td>...</td>\n",
       "      <td>0</td>\n",
       "      <td>0</td>\n",
       "      <td>0</td>\n",
       "      <td>0</td>\n",
       "      <td>0</td>\n",
       "      <td>0</td>\n",
       "      <td>0</td>\n",
       "      <td>0</td>\n",
       "      <td>0</td>\n",
       "      <td>0</td>\n",
       "    </tr>\n",
       "    <tr>\n",
       "      <th>1</th>\n",
       "      <td>15-minute-dinner-nachos-supreme</td>\n",
       "      <td>http://allrecipes.com/recipe/15-minute-dinner-...</td>\n",
       "      <td>Mexican</td>\n",
       "      <td>0</td>\n",
       "      <td>0</td>\n",
       "      <td>0</td>\n",
       "      <td>0</td>\n",
       "      <td>0</td>\n",
       "      <td>1</td>\n",
       "      <td>0</td>\n",
       "      <td>...</td>\n",
       "      <td>0</td>\n",
       "      <td>0</td>\n",
       "      <td>0</td>\n",
       "      <td>0</td>\n",
       "      <td>0</td>\n",
       "      <td>0</td>\n",
       "      <td>0</td>\n",
       "      <td>0</td>\n",
       "      <td>0</td>\n",
       "      <td>0</td>\n",
       "    </tr>\n",
       "    <tr>\n",
       "      <th>2</th>\n",
       "      <td>2-minute-cheese-quesadillas</td>\n",
       "      <td>http://allrecipes.com/recipe/2-minute-cheese-q...</td>\n",
       "      <td>Mexican</td>\n",
       "      <td>0</td>\n",
       "      <td>0</td>\n",
       "      <td>0</td>\n",
       "      <td>0</td>\n",
       "      <td>0</td>\n",
       "      <td>1</td>\n",
       "      <td>0</td>\n",
       "      <td>...</td>\n",
       "      <td>0</td>\n",
       "      <td>0</td>\n",
       "      <td>0</td>\n",
       "      <td>0</td>\n",
       "      <td>0</td>\n",
       "      <td>0</td>\n",
       "      <td>0</td>\n",
       "      <td>0</td>\n",
       "      <td>0</td>\n",
       "      <td>0</td>\n",
       "    </tr>\n",
       "    <tr>\n",
       "      <th>3</th>\n",
       "      <td>3-cheese-enchiladas</td>\n",
       "      <td>http://allrecipes.com/recipe/3-cheese-enchilad...</td>\n",
       "      <td>Mexican</td>\n",
       "      <td>0</td>\n",
       "      <td>0</td>\n",
       "      <td>0</td>\n",
       "      <td>0</td>\n",
       "      <td>0</td>\n",
       "      <td>1</td>\n",
       "      <td>0</td>\n",
       "      <td>...</td>\n",
       "      <td>0</td>\n",
       "      <td>0</td>\n",
       "      <td>0</td>\n",
       "      <td>0</td>\n",
       "      <td>0</td>\n",
       "      <td>0</td>\n",
       "      <td>0</td>\n",
       "      <td>0</td>\n",
       "      <td>0</td>\n",
       "      <td>0</td>\n",
       "    </tr>\n",
       "    <tr>\n",
       "      <th>4</th>\n",
       "      <td>3-milk-cake-or-tres-leches</td>\n",
       "      <td>http://allrecipes.com/recipe/3-milk-cake-or-tr...</td>\n",
       "      <td>Mexican</td>\n",
       "      <td>1</td>\n",
       "      <td>0</td>\n",
       "      <td>0</td>\n",
       "      <td>0</td>\n",
       "      <td>0</td>\n",
       "      <td>0</td>\n",
       "      <td>0</td>\n",
       "      <td>...</td>\n",
       "      <td>0</td>\n",
       "      <td>0</td>\n",
       "      <td>0</td>\n",
       "      <td>0</td>\n",
       "      <td>1</td>\n",
       "      <td>0</td>\n",
       "      <td>0</td>\n",
       "      <td>0</td>\n",
       "      <td>0</td>\n",
       "      <td>0</td>\n",
       "    </tr>\n",
       "  </tbody>\n",
       "</table>\n",
       "<p>5 rows × 1002 columns</p>\n",
       "</div>"
      ],
      "text/plain": [
       "                        recipeName  \\\n",
       "0                 1-dish-taco-bake   \n",
       "1  15-minute-dinner-nachos-supreme   \n",
       "2      2-minute-cheese-quesadillas   \n",
       "3              3-cheese-enchiladas   \n",
       "4       3-milk-cake-or-tres-leches   \n",
       "\n",
       "                                                link  country  Butter salted  \\\n",
       "0  http://allrecipes.com/recipe/1-dish-taco-bake/...  Mexican              0   \n",
       "1  http://allrecipes.com/recipe/15-minute-dinner-...  Mexican              0   \n",
       "2  http://allrecipes.com/recipe/2-minute-cheese-q...  Mexican              0   \n",
       "3  http://allrecipes.com/recipe/3-cheese-enchilad...  Mexican              0   \n",
       "4  http://allrecipes.com/recipe/3-milk-cake-or-tr...  Mexican              1   \n",
       "\n",
       "   Butter oil anhydrous  Cheese blue  Cheese brie  Cheese caraway  \\\n",
       "0                     0            0            0               0   \n",
       "1                     0            0            0               0   \n",
       "2                     0            0            0               0   \n",
       "3                     0            0            0               0   \n",
       "4                     0            0            0               0   \n",
       "\n",
       "   Cheese cheddar  Cheese colby         ...          Luncheon slices meatless  \\\n",
       "0               0             0         ...                                 0   \n",
       "1               1             0         ...                                 0   \n",
       "2               1             0         ...                                 0   \n",
       "3               1             0         ...                                 0   \n",
       "4               0             0         ...                                 0   \n",
       "\n",
       "   Vegetarian fillets  Alcoholic beverage wine cooking  \\\n",
       "0                   0                                0   \n",
       "1                   0                                0   \n",
       "2                   0                                0   \n",
       "3                   0                                0   \n",
       "4                   0                                0   \n",
       "\n",
       "   Alcoholic beverage wine light  Eggs scrambled frozen mixture  \\\n",
       "0                              0                              0   \n",
       "1                              0                              0   \n",
       "2                              0                              0   \n",
       "3                              0                              0   \n",
       "4                              0                              1   \n",
       "\n",
       "   Soybean curd cheese  \\\n",
       "0                    0   \n",
       "1                    0   \n",
       "2                    0   \n",
       "3                    0   \n",
       "4                    0   \n",
       "\n",
       "   Vegetables mixed (corn lima beans peas green beans carrots) canned no salt added  \\\n",
       "0                                                  0                                  \n",
       "1                                                  0                                  \n",
       "2                                                  0                                  \n",
       "3                                                  0                                  \n",
       "4                                                  0                                  \n",
       "\n",
       "   Alcoholic beverage rice (sake)  Celery flakes dried  Vital wheat gluten  \n",
       "0                               0                    0                   0  \n",
       "1                               0                    0                   0  \n",
       "2                               0                    0                   0  \n",
       "3                               0                    0                   0  \n",
       "4                               0                    0                   0  \n",
       "\n",
       "[5 rows x 1002 columns]"
      ]
     },
     "execution_count": 3,
     "metadata": {},
     "output_type": "execute_result"
    }
   ],
   "source": [
    "df.head()"
   ]
  },
  {
   "cell_type": "code",
   "execution_count": 4,
   "metadata": {},
   "outputs": [
    {
     "name": "stdout",
     "output_type": "stream",
     "text": [
      "<class 'pandas.core.frame.DataFrame'>\n",
      "RangeIndex: 1952 entries, 0 to 1951\n",
      "Columns: 1002 entries, recipeName to Vital wheat gluten\n",
      "dtypes: int64(999), object(3)\n",
      "memory usage: 14.9+ MB\n"
     ]
    }
   ],
   "source": [
    "df.info()"
   ]
  },
  {
   "cell_type": "code",
   "execution_count": 5,
   "metadata": {},
   "outputs": [],
   "source": [
    "df = df.drop(columns=['link','country'])"
   ]
  },
  {
   "cell_type": "code",
   "execution_count": 6,
   "metadata": {},
   "outputs": [
    {
     "data": {
      "text/plain": [
       "9.288934426229508"
      ]
     },
     "execution_count": 6,
     "metadata": {},
     "output_type": "execute_result"
    }
   ],
   "source": [
    "# Average number of ingredients required\n",
    "df.sum(axis=1, numeric_only=True).mean()"
   ]
  },
  {
   "cell_type": "code",
   "execution_count": 7,
   "metadata": {},
   "outputs": [
    {
     "data": {
      "text/plain": [
       "0"
      ]
     },
     "execution_count": 7,
     "metadata": {},
     "output_type": "execute_result"
    }
   ],
   "source": [
    "# Check for duplicated rows\n",
    "df.duplicated('recipeName', keep=False).sum()"
   ]
  },
  {
   "cell_type": "code",
   "execution_count": 8,
   "metadata": {},
   "outputs": [],
   "source": [
    "# Replace hyphens with space and title case the recipes\n",
    "df['recipeName'] = df['recipeName'].str.replace('-', ' ').str.title()"
   ]
  },
  {
   "cell_type": "code",
   "execution_count": 9,
   "metadata": {},
   "outputs": [],
   "source": [
    "recipes = df['recipeName'].to_frame()"
   ]
  },
  {
   "cell_type": "code",
   "execution_count": 10,
   "metadata": {},
   "outputs": [
    {
     "data": {
      "text/html": [
       "<div>\n",
       "<style scoped>\n",
       "    .dataframe tbody tr th:only-of-type {\n",
       "        vertical-align: middle;\n",
       "    }\n",
       "\n",
       "    .dataframe tbody tr th {\n",
       "        vertical-align: top;\n",
       "    }\n",
       "\n",
       "    .dataframe thead th {\n",
       "        text-align: right;\n",
       "    }\n",
       "</style>\n",
       "<table border=\"1\" class=\"dataframe\">\n",
       "  <thead>\n",
       "    <tr style=\"text-align: right;\">\n",
       "      <th></th>\n",
       "      <th>recipeName</th>\n",
       "    </tr>\n",
       "  </thead>\n",
       "  <tbody>\n",
       "    <tr>\n",
       "      <th>0</th>\n",
       "      <td>1 Dish Taco Bake</td>\n",
       "    </tr>\n",
       "    <tr>\n",
       "      <th>1</th>\n",
       "      <td>15 Minute Dinner Nachos Supreme</td>\n",
       "    </tr>\n",
       "    <tr>\n",
       "      <th>2</th>\n",
       "      <td>2 Minute Cheese Quesadillas</td>\n",
       "    </tr>\n",
       "    <tr>\n",
       "      <th>3</th>\n",
       "      <td>3 Cheese Enchiladas</td>\n",
       "    </tr>\n",
       "    <tr>\n",
       "      <th>4</th>\n",
       "      <td>3 Milk Cake Or Tres Leches</td>\n",
       "    </tr>\n",
       "    <tr>\n",
       "      <th>5</th>\n",
       "      <td>3 P Salad</td>\n",
       "    </tr>\n",
       "    <tr>\n",
       "      <th>6</th>\n",
       "      <td>7 Layer Meatless Tortilla Pie</td>\n",
       "    </tr>\n",
       "    <tr>\n",
       "      <th>7</th>\n",
       "      <td>7 Layer Taco Dip</td>\n",
       "    </tr>\n",
       "    <tr>\n",
       "      <th>8</th>\n",
       "      <td>7 Minute Or So Guacamole</td>\n",
       "    </tr>\n",
       "    <tr>\n",
       "      <th>9</th>\n",
       "      <td>8 Treasures</td>\n",
       "    </tr>\n",
       "    <tr>\n",
       "      <th>10</th>\n",
       "      <td>A Big Honkin Margarita</td>\n",
       "    </tr>\n",
       "    <tr>\n",
       "      <th>11</th>\n",
       "      <td>A Drama Queens Pavlova</td>\n",
       "    </tr>\n",
       "    <tr>\n",
       "      <th>12</th>\n",
       "      <td>A Firefighters Meatloaf</td>\n",
       "    </tr>\n",
       "    <tr>\n",
       "      <th>13</th>\n",
       "      <td>A Good Barbeque Sauce</td>\n",
       "    </tr>\n",
       "    <tr>\n",
       "      <th>14</th>\n",
       "      <td>A Great Pepper Salad</td>\n",
       "    </tr>\n",
       "    <tr>\n",
       "      <th>15</th>\n",
       "      <td>A Jerky Chicken</td>\n",
       "    </tr>\n",
       "    <tr>\n",
       "      <th>16</th>\n",
       "      <td>A Lot More Than Plain Spinach Pie Greek Batsaria</td>\n",
       "    </tr>\n",
       "    <tr>\n",
       "      <th>17</th>\n",
       "      <td>A Number One Egg Bread</td>\n",
       "    </tr>\n",
       "    <tr>\n",
       "      <th>18</th>\n",
       "      <td>A Pad Thai Worth Making</td>\n",
       "    </tr>\n",
       "    <tr>\n",
       "      <th>19</th>\n",
       "      <td>A Perfect Margarita</td>\n",
       "    </tr>\n",
       "  </tbody>\n",
       "</table>\n",
       "</div>"
      ],
      "text/plain": [
       "                                          recipeName\n",
       "0                                   1 Dish Taco Bake\n",
       "1                    15 Minute Dinner Nachos Supreme\n",
       "2                        2 Minute Cheese Quesadillas\n",
       "3                                3 Cheese Enchiladas\n",
       "4                         3 Milk Cake Or Tres Leches\n",
       "5                                          3 P Salad\n",
       "6                      7 Layer Meatless Tortilla Pie\n",
       "7                                   7 Layer Taco Dip\n",
       "8                           7 Minute Or So Guacamole\n",
       "9                                        8 Treasures\n",
       "10                            A Big Honkin Margarita\n",
       "11                            A Drama Queens Pavlova\n",
       "12                           A Firefighters Meatloaf\n",
       "13                             A Good Barbeque Sauce\n",
       "14                              A Great Pepper Salad\n",
       "15                                   A Jerky Chicken\n",
       "16  A Lot More Than Plain Spinach Pie Greek Batsaria\n",
       "17                            A Number One Egg Bread\n",
       "18                           A Pad Thai Worth Making\n",
       "19                               A Perfect Margarita"
      ]
     },
     "execution_count": 10,
     "metadata": {},
     "output_type": "execute_result"
    }
   ],
   "source": [
    "recipes.head(20)"
   ]
  },
  {
   "cell_type": "code",
   "execution_count": 11,
   "metadata": {},
   "outputs": [],
   "source": [
    "# Write to CSV file\n",
    "recipes.to_csv('./datasets/allrecipes/allr_recipes.csv', index=False, encoding = 'utf8')"
   ]
  },
  {
   "cell_type": "markdown",
   "metadata": {},
   "source": [
    "# Ingredients"
   ]
  },
  {
   "cell_type": "code",
   "execution_count": 12,
   "metadata": {},
   "outputs": [],
   "source": [
    "ingredients = df.iloc[:,1:].copy()"
   ]
  },
  {
   "cell_type": "code",
   "execution_count": 13,
   "metadata": {},
   "outputs": [],
   "source": [
    "list_of_ingredients = ingredients.columns.tolist()"
   ]
  },
  {
   "cell_type": "code",
   "execution_count": 14,
   "metadata": {},
   "outputs": [],
   "source": [
    "# Pickle!\n",
    "pickle.dump(list_of_ingredients,open('allr_list_ingredients.p','wb'))"
   ]
  },
  {
   "cell_type": "code",
   "execution_count": 15,
   "metadata": {},
   "outputs": [],
   "source": [
    "# Write to CSV file\n",
    "ingredients.to_csv('./datasets/allrecipes/allr_ingredients.csv', index=False, encoding = 'utf8')"
   ]
  }
 ],
 "metadata": {
  "kernelspec": {
   "display_name": "Python 2",
   "language": "python",
   "name": "python2"
  },
  "language_info": {
   "codemirror_mode": {
    "name": "ipython",
    "version": 2
   },
   "file_extension": ".py",
   "mimetype": "text/x-python",
   "name": "python",
   "nbconvert_exporter": "python",
   "pygments_lexer": "ipython2",
   "version": "2.7.14"
  }
 },
 "nbformat": 4,
 "nbformat_minor": 2
}
