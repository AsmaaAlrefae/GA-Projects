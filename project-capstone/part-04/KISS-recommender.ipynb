{
 "cells": [
  {
   "cell_type": "markdown",
   "metadata": {},
   "source": [
    "# Hello\n",
    "\n",
    "![](./localhost.png)"
   ]
  },
  {
   "cell_type": "code",
   "execution_count": 21,
   "metadata": {},
   "outputs": [],
   "source": [
    "# Import py2neo and connect to Neo4j\n",
    "from py2neo import Graph\n",
    "\n",
    "# Import number generator to generate a random user ID and product ID to query\n",
    "from random import randint\n",
    "\n",
    "# just an example, replace with credentials for your own Neo4j instance\n",
    "graph = Graph(bolt=True, host=\"localhost\", http_port=7687, user='neo4j', password='kiss')"
   ]
  },
  {
   "cell_type": "code",
   "execution_count": 37,
   "metadata": {},
   "outputs": [
    {
     "data": {
      "text/plain": [
       "242654"
      ]
     },
     "execution_count": 37,
     "metadata": {},
     "output_type": "execute_result"
    }
   ],
   "source": [
    "# Hello world, sanity check\n",
    "graph.run(\"MATCH (a) RETURN COUNT(a) AS numberOfNodes\").evaluate()"
   ]
  },
  {
   "cell_type": "code",
   "execution_count": null,
   "metadata": {},
   "outputs": [],
   "source": [
    "# # Create all the constraints\n",
    "\n",
    "# graph.run(\"CREATE CONSTRAINT ON (p:Product) ASSERT p.id IS UNIQUE;\")\n",
    "# graph.run(\"CREATE CONSTRAINT ON (a:Aisle) ASSERT a.id IS UNIQUE;\")\n",
    "# graph.run(\"CREATE CONSTRAINT ON (d:Department) ASSERT d.id IS UNIQUE;\")\n",
    "# graph.run(\"CREATE CONSTRAINT ON (u:User) ASSERT u.id IS UNIQUE;\")"
   ]
  },
  {
   "cell_type": "code",
   "execution_count": null,
   "metadata": {},
   "outputs": [],
   "source": [
    "# # Load the CSV files\n",
    "# # File are located at neo4j_home/import folder\n",
    "# # products first\n",
    "\n",
    "# graph.run(\"\"\"\n",
    "# USING PERIODIC COMMIT \n",
    "# LOAD CSV WITH HEADERS FROM \"file:///products_clean.csv\" AS line WITH line\n",
    "# CREATE (product:Product {id: toInteger(line.product_id), name: line.product_name})\n",
    "# MERGE (aisle:Aisle {id: toInteger(line.aisle_id), name: line.aisle})\n",
    "# MERGE (department:Department {id: toInteger(line.department_id),name: line.department})\n",
    "# CREATE (product)-[:FOUND_IN]->(aisle)\n",
    "# CREATE (product)-[:TYPE_OF]->(department);\n",
    "# \"\"\")"
   ]
  },
  {
   "cell_type": "code",
   "execution_count": null,
   "metadata": {},
   "outputs": [],
   "source": [
    "# # users next\n",
    "# # This will take awhile...\n",
    "\n",
    "# graph.run(\"\"\"\n",
    "# USING PERIODIC COMMIT \n",
    "# LOAD CSV WITH HEADERS FROM \"file:///users_orders.csv\" AS line WITH line\n",
    "# MATCH (product:Product {id: toInteger(line.product_id)})\n",
    "# MERGE (user:User {id: toInteger(line.user_id)})\n",
    "# CREATE (user)-[b:BOUGHT]->(product)\n",
    "# SET b.order_total = toInteger(line.total_orders);\n",
    "# \"\"\")"
   ]
  },
  {
   "cell_type": "markdown",
   "metadata": {},
   "source": [
    "## Collaborative filtering"
   ]
  },
  {
   "cell_type": "code",
   "execution_count": 28,
   "metadata": {},
   "outputs": [
    {
     "name": "stdout",
     "output_type": "stream",
     "text": [
      "The selected user ID is: 12570\n"
     ]
    }
   ],
   "source": [
    "random_user = randint(0, 206210)\n",
    "print(\"The selected user ID is: {}\".format(random_user))"
   ]
  },
  {
   "cell_type": "markdown",
   "metadata": {},
   "source": [
    "What if we go by aisle? What else do other users buy just as much or more in the same aisle?"
   ]
  },
  {
   "cell_type": "code",
   "execution_count": 29,
   "metadata": {},
   "outputs": [
    {
     "name": "stdout",
     "output_type": "stream",
     "text": [
      "('recommendation': 'Banana', 'usersInCommon': 37169)\n",
      "('recommendation': 'Organic Strawberries', 'usersInCommon': 32013)\n",
      "('recommendation': 'Bag of Organic Bananas', 'usersInCommon': 31485)\n",
      "('recommendation': 'Raspberries', 'usersInCommon': 24473)\n",
      "('recommendation': 'Organic Hass Avocado', 'usersInCommon': 22389)\n",
      "('recommendation': 'Hass Avocados', 'usersInCommon': 21427)\n",
      "('recommendation': 'Strawberries', 'usersInCommon': 19063)\n",
      "('recommendation': 'Large Lemon', 'usersInCommon': 18414)\n",
      "('recommendation': 'Organic Avocado', 'usersInCommon': 18205)\n",
      "('recommendation': 'Limes', 'usersInCommon': 16428)\n"
     ]
    }
   ],
   "source": [
    "results = graph.run(\"\"\"\n",
    "MATCH (user:User {id: {user_id}})-[b1:BOUGHT]->()-[:FOUND_IN]->()<-[:FOUND_IN]-(otherproduct:Product)<-[b2:BOUGHT]-(otheruser:User)\n",
    "WHERE NOT (user)-[:BOUGHT]->(otherproduct) AND b2.order_total >= b1.order_total\n",
    "RETURN otherproduct.name AS recommendation,\n",
    "       COUNT(*) AS usersInCommon\n",
    "ORDER BY usersInCommon DESC\n",
    "LIMIT 10\"\"\", user_id=random_user)\n",
    "\n",
    "for row in results:\n",
    "    print(row)"
   ]
  },
  {
   "cell_type": "markdown",
   "metadata": {},
   "source": [
    "## Simple Version (the KNN of Recommendations)\n",
    "\n",
    "What else do other users buy just as much as?"
   ]
  },
  {
   "cell_type": "code",
   "execution_count": 30,
   "metadata": {},
   "outputs": [
    {
     "name": "stdout",
     "output_type": "stream",
     "text": [
      "('rec.name': 'Bag of Organic Bananas', 'usersWhoAlsoBought': 11493)\n",
      "('rec.name': 'Organic Strawberries', 'usersWhoAlsoBought': 9445)\n",
      "('rec.name': 'Banana', 'usersWhoAlsoBought': 8294)\n",
      "('rec.name': 'Strawberries', 'usersWhoAlsoBought': 7252)\n",
      "('rec.name': 'Organic Hass Avocado', 'usersWhoAlsoBought': 5604)\n",
      "('rec.name': 'Organic Blueberries', 'usersWhoAlsoBought': 5204)\n",
      "('rec.name': 'Clementines', 'usersWhoAlsoBought': 4243)\n",
      "('rec.name': 'Hass Avocados', 'usersWhoAlsoBought': 4071)\n",
      "('rec.name': 'Organic Avocado', 'usersWhoAlsoBought': 4036)\n",
      "('rec.name': 'Raspberries', 'usersWhoAlsoBought': 3982)\n"
     ]
    }
   ],
   "source": [
    "results = graph.run(\"\"\"\n",
    "MATCH (user:User {id: {user_id}})-[b1:BOUGHT]->(:Product)<-[b2:BOUGHT]-(otheruser:User)\n",
    "MATCH (otheruser)-[:BOUGHT]->(rec:Product)\n",
    "WHERE NOT EXISTS( (user)-[:BOUGHT]->(rec)) AND b2.order_total >= b1.order_total\n",
    "RETURN rec.name, COUNT(*) AS usersWhoAlsoBought\n",
    "ORDER BY usersWhoAlsoBought DESC \n",
    "LIMIT 10\"\"\", user_id=random_user)\n",
    "\n",
    "for row in results:\n",
    "    print(row)"
   ]
  },
  {
   "cell_type": "markdown",
   "metadata": {},
   "source": [
    "Consider the type of food."
   ]
  },
  {
   "cell_type": "code",
   "execution_count": 12,
   "metadata": {},
   "outputs": [
    {
     "name": "stdout",
     "output_type": "stream",
     "text": [
      "Next user is: 159738\n"
     ]
    }
   ],
   "source": [
    "random_user = randint(0, 206210)\n",
    "print(\"Next user is: {}\".format(random_user))"
   ]
  },
  {
   "cell_type": "code",
   "execution_count": 31,
   "metadata": {},
   "outputs": [
    {
     "name": "stdout",
     "output_type": "stream",
     "text": [
      "('recommendation': 'Organic Spring Mix', 'productType': ['packaged vegetables fruits'], 'sscore': 2)\n",
      "('recommendation': 'Organic Portabello Mushroom Caps', 'productType': ['packaged vegetables fruits'], 'sscore': 2)\n",
      "('recommendation': 'Organic Apple Fuji 3 Lb Bag', 'productType': ['packaged vegetables fruits'], 'sscore': 2)\n",
      "('recommendation': 'Packaged Organic Apricots', 'productType': ['packaged vegetables fruits'], 'sscore': 2)\n",
      "('recommendation': 'Grapes, Certified Organic, California, Black Seedless', 'productType': ['packaged vegetables fruits'], 'sscore': 2)\n",
      "('recommendation': 'Sliced Baby Bellas Mushrooms', 'productType': ['packaged vegetables fruits'], 'sscore': 2)\n",
      "('recommendation': 'Parmesan Crusted Cod', 'productType': ['frozen meat seafood'], 'sscore': 2)\n",
      "('recommendation': 'Organic Baby Romaine Lettuce', 'productType': ['packaged vegetables fruits'], 'sscore': 2)\n",
      "('recommendation': 'Santa Fe Caesar Complete Salad Kit', 'productType': ['packaged vegetables fruits'], 'sscore': 2)\n",
      "('recommendation': 'Bella Romaine Salad Mix', 'productType': ['packaged vegetables fruits'], 'sscore': 2)\n"
     ]
    }
   ],
   "source": [
    "results = graph.run(\"\"\"\n",
    "MATCH (user:User {id: {user_id}})-[b:BOUGHT]->(p:Product)\n",
    "WITH user, avg(b.order_total) AS mean\n",
    "\n",
    "MATCH (user)-[b:BOUGHT]->(p:Product)-[:FOUND_IN]->(a:Aisle)\n",
    "WHERE b.order_total >= mean\n",
    "\n",
    "WITH user, a, COUNT(*) AS score\n",
    "\n",
    "MATCH (a)<-[:FOUND_IN]-(rec:Product)\n",
    "WHERE NOT EXISTS((user)-[:BOUGHT]->(rec))\n",
    "\n",
    "RETURN rec.name AS recommendation, COLLECT(DISTINCT a.name) AS productType, SUM(score) AS sscore\n",
    "ORDER BY sscore DESC LIMIT 10\n",
    "\"\"\", user_id=random_user)\n",
    "\n",
    "for row in results:\n",
    "    print(row)"
   ]
  },
  {
   "cell_type": "markdown",
   "metadata": {},
   "source": [
    "Not helpful with the same scores...\n",
    "\n",
    "Let's see if similarity metrics will help instead.\n",
    "\n",
    "### 1) Cosine Similarity\n",
    "\n",
    "The cosine similarty of two users will tell us how similar two users' preferences for products are. Users with a high cosine similarity will have similar preferences."
   ]
  },
  {
   "cell_type": "code",
   "execution_count": 32,
   "metadata": {},
   "outputs": [
    {
     "name": "stdout",
     "output_type": "stream",
     "text": [
      "('p2.id': 93378, 'cosim': 1.0)\n",
      "('p2.id': 37075, 'cosim': 1.0)\n",
      "('p2.id': 34556, 'cosim': 1.0)\n",
      "('p2.id': 14221, 'cosim': 0.9999999999999999)\n",
      "('p2.id': 169980, 'cosim': 0.9969876781034773)\n",
      "('p2.id': 194440, 'cosim': 0.9950590839400425)\n",
      "('p2.id': 35214, 'cosim': 0.993781603687568)\n",
      "('p2.id': 145881, 'cosim': 0.989762410697451)\n",
      "('p2.id': 94615, 'cosim': 0.9879933919232682)\n",
      "('p2.id': 59361, 'cosim': 0.9850449679330249)\n"
     ]
    }
   ],
   "source": [
    "results = graph.run(\"\"\"\n",
    "MATCH (p1:User {id: {user_id}})-[x:BOUGHT]->(p:Product)<-[y:BOUGHT]-(p2:User)\n",
    "WITH COUNT(p) AS numberproducts, SUM(x.order_total * y.order_total) AS xyDotProduct,\n",
    "SQRT(REDUCE(xDot = 0.0, a IN COLLECT(x.order_total) | xDot + a^2)) AS xLength,\n",
    "SQRT(REDUCE(yDot = 0.0, b IN COLLECT(y.order_total) | yDot + b^2)) AS yLength,\n",
    "p1, p2 WHERE numberproducts > 10\n",
    "RETURN p2.id, xyDotProduct / (xLength * yLength) AS cosim\n",
    "ORDER BY cosim DESC \n",
    "LIMIT 10\"\"\", user_id=random_user)\n",
    "\n",
    "for row in results:\n",
    "    print(row)"
   ]
  },
  {
   "cell_type": "markdown",
   "metadata": {},
   "source": [
    "### 2) Pearson Similarity\n",
    "\n",
    "This is particularly well-suited for product recommendations because it takes into account the fact that different users will have different mean total orders: on average some people do buy only from Instacart, while some prefer to go out of their house. Since Pearson similarity considers differences about the mean, this metric will account for these discrepancies."
   ]
  },
  {
   "cell_type": "code",
   "execution_count": 33,
   "metadata": {},
   "outputs": [
    {
     "name": "stdout",
     "output_type": "stream",
     "text": [
      "('u2.id': 43783, 'pearson': 0.9168641652177419)\n",
      "('u2.id': 148698, 'pearson': 0.8901667246271118)\n",
      "('u2.id': 8855, 'pearson': 0.8838304369607415)\n",
      "('u2.id': 194597, 'pearson': 0.8005758992467286)\n",
      "('u2.id': 92766, 'pearson': 0.6848314049687728)\n",
      "('u2.id': 53449, 'pearson': 0.63079342810736)\n",
      "('u2.id': 178096, 'pearson': 0.6285083027687466)\n",
      "('u2.id': 22624, 'pearson': 0.6202638734661828)\n",
      "('u2.id': 110023, 'pearson': 0.6190677785368518)\n",
      "('u2.id': 166372, 'pearson': 0.6125638918316887)\n"
     ]
    }
   ],
   "source": [
    "results = graph.run(\"\"\"\n",
    "MATCH (u1:User {id: {user_id}})-[r:BOUGHT]->(m:Product)\n",
    "WITH u1, avg(r.order_total) AS u1_mean\n",
    "\n",
    "MATCH (u1)-[r1:BOUGHT]->(m:Product)<-[r2:BOUGHT]-(u2)\n",
    "WITH u1, u1_mean, u2, COLLECT({r1: r1, r2: r2}) AS totalorders WHERE size(totalorders) > 10\n",
    "\n",
    "MATCH (u2)-[r:BOUGHT]->(m:Product)\n",
    "WITH u1, u1_mean, u2, avg(r.order_total) AS u2_mean, totalorders\n",
    "\n",
    "UNWIND totalorders AS r\n",
    "\n",
    "WITH sum( (r.r1.order_total - u1_mean) * (r.r2.order_total - u2_mean) ) AS nom,\n",
    "     sqrt( sum( (r.r1.order_total - u1_mean)^2) * sum( (r.r2.order_total - u2_mean) ^2)) AS denom,\n",
    "     u1, u2 WHERE denom <> 0\n",
    "\n",
    "RETURN u2.id, nom/denom AS pearson\n",
    "ORDER BY pearson DESC \n",
    "LIMIT 10\"\"\", user_id=random_user)\n",
    "\n",
    "for row in results:\n",
    "    print(row)"
   ]
  },
  {
   "cell_type": "markdown",
   "metadata": {},
   "source": [
    "I have a problem with so many 0.90+ scores for the cosine similarity metric. The Pearson scores seems to be a better spread...\n",
    "\n",
    "## FINAL: Collaborative Filtering = KNN + Pearson \n",
    "\n",
    "Combine the simple implementation of KNN with the Pearson correlation scoring system:"
   ]
  },
  {
   "cell_type": "code",
   "execution_count": 34,
   "metadata": {},
   "outputs": [
    {
     "name": "stdout",
     "output_type": "stream",
     "text": [
      "('recommendation': 'Unsweetened Almondmilk', 'score': 52.047186777626735)\n",
      "('recommendation': 'Organic Broccoli Florets', 'score': 48.864540201612535)\n",
      "('recommendation': 'Organic Large Extra Fancy Fuji Apple', 'score': 38.32933883790394)\n",
      "('recommendation': 'Organic Lemon', 'score': 33.556738843469866)\n",
      "('recommendation': 'French Vanilla Sugar Free Liquid Coffee Creamer', 'score': 32.4658862670795)\n",
      "('recommendation': 'Organic Cucumber', 'score': 29.447750413657232)\n",
      "('recommendation': 'Granny Smith Apples', 'score': 27.595168463440466)\n",
      "('recommendation': 'Lunchables Turkey & Cheddar with Crackers', 'score': 26.589060791314516)\n",
      "('recommendation': 'Organic Yellow Onion', 'score': 23.96909917390705)\n",
      "('recommendation': 'Black Plum', 'score': 23.21670107815513)\n"
     ]
    }
   ],
   "source": [
    "results = graph.run(\"\"\"\n",
    "MATCH (u1:User {id: {user_id}})-[r:BOUGHT]->(m:Product)\n",
    "WITH u1, avg(r.order_total) AS u1_mean\n",
    "\n",
    "MATCH (u1)-[r1:BOUGHT]->(m:Product)<-[r2:BOUGHT]-(u2)\n",
    "WITH u1, u1_mean, u2, COLLECT({r1: r1, r2: r2}) AS totalorders WHERE size(totalorders) > 10\n",
    "\n",
    "MATCH (u2)-[r:BOUGHT]->(m:Product)\n",
    "WITH u1, u1_mean, u2, avg(r.order_total) AS u2_mean, totalorders\n",
    "\n",
    "UNWIND totalorders AS r\n",
    "\n",
    "WITH sum( (r.r1.order_total - u1_mean) * (r.r2.order_total - u2_mean) ) AS nom,\n",
    "     sqrt( sum( (r.r1.order_total - u1_mean)^2) * sum( (r.r2.order_total - u2_mean) ^2)) AS denom,\n",
    "     u1, u2 WHERE denom <> 0\n",
    "\n",
    "WITH u1, u2, nom/denom AS pearson\n",
    "ORDER BY pearson DESC LIMIT 10\n",
    "\n",
    "MATCH (u2)-[r:BOUGHT]->(m:Product) WHERE NOT EXISTS( (u1)-[:BOUGHT]->(m) )\n",
    "\n",
    "RETURN m.name AS recommendation, SUM(pearson * r.order_total) AS score\n",
    "ORDER BY score DESC \n",
    "LIMIT 10\"\"\", user_id=random_user)\n",
    "\n",
    "for row in results:\n",
    "    print(row)"
   ]
  },
  {
   "cell_type": "markdown",
   "metadata": {},
   "source": [
    "#### **Conclusion**\n",
    "\n",
    "I am quite happy using the Pearson similarity to find other products from similar users based on the total number of orders for that product in lieu of a ratings system."
   ]
  },
  {
   "cell_type": "markdown",
   "metadata": {},
   "source": [
    "## Content-based filtering\n",
    "\n",
    "What are other products similar to what you are looking at? Let's bring in the categorical nature of some of the products. \n",
    "\n",
    "If we know what products a user has bought, we can use this information to recommend similar products: Recommend products similar to those the user has already bought."
   ]
  },
  {
   "cell_type": "code",
   "execution_count": null,
   "metadata": {},
   "outputs": [],
   "source": [
    "# Case sensitive... 'Bacon' worked but 'bacon' didn't work\n",
    "# Case very sensitive... 'Product' works but not 'PRODUCT'\n",
    "\n",
    "result = graph.run('''\n",
    "MATCH (m:Product)-[:FOUND_IN]->(g:Aisle)<-[:FOUND_IN]-(rec:Product)\n",
    "WHERE m.name CONTAINS 'Bacon'\n",
    "WITH rec.name AS recommendation, g.name AS aisle, COUNT(*) AS commonAisles\n",
    "RETURN recommendation, aisle, commonAisles\n",
    "ORDER BY commonAisles DESC \n",
    "LIMIT 10''')\n",
    "\n",
    "for row in result:\n",
    "    print(row)"
   ]
  },
  {
   "cell_type": "markdown",
   "metadata": {},
   "source": [
    "99 commonAisles is a problem. lol. What is we take a user and then recommend based on the types of products. Either by aisle or by department."
   ]
  },
  {
   "cell_type": "code",
   "execution_count": null,
   "metadata": {},
   "outputs": [],
   "source": [
    "random_user = randint(0, 206210)\n",
    "print(\"Next user is: {}\".format(random_user))"
   ]
  },
  {
   "cell_type": "markdown",
   "metadata": {},
   "source": [
    "#### By Aisle"
   ]
  },
  {
   "cell_type": "code",
   "execution_count": null,
   "metadata": {},
   "outputs": [],
   "source": [
    "result = graph.run('''\n",
    "MATCH (u:User {id: {user_id}})-[r:BOUGHT]->(m:Product), (m)-[:FOUND_IN]->(g:Aisle)<-[:FOUND_IN]-(rec:Product)\n",
    "WHERE NOT EXISTS( (u)-[:BOUGHT]->(rec) )\n",
    "WITH rec.name AS recommendation, [g.name, COUNT(*)] AS scores\n",
    "RETURN recommendation, COLLECT(scores) AS scoreComponents, REDUCE (s=0,x in COLLECT(scores) | s+x[1]) AS score\n",
    "ORDER BY score DESC \n",
    "LIMIT 10''', user_id=random_user)\n",
    "\n",
    "for row in result:\n",
    "    print(row)"
   ]
  },
  {
   "cell_type": "markdown",
   "metadata": {},
   "source": [
    "#### By Department"
   ]
  },
  {
   "cell_type": "code",
   "execution_count": null,
   "metadata": {},
   "outputs": [],
   "source": [
    "result = graph.run('''\n",
    "MATCH (u:User {id: {user_id}})-[r:BOUGHT]->(m:Product), (m)-[:TYPE_OF]->(g:Department)<-[:TYPE_OF]-(rec:Product)\n",
    "WHERE NOT EXISTS( (u)-[:BOUGHT]->(rec) )\n",
    "WITH rec.name AS recommendation, [g.name, COUNT(*)] AS scores\n",
    "RETURN recommendation, COLLECT(scores) AS scoreComponents, REDUCE (s=0,x in COLLECT(scores) | s+x[1]) AS score\n",
    "ORDER BY score DESC \n",
    "LIMIT 10''', user_id=random_user)\n",
    "\n",
    "for row in result:\n",
    "    print(row)"
   ]
  },
  {
   "cell_type": "markdown",
   "metadata": {},
   "source": [
    "Separately (Aisle vs Department), I think they are pretty rubbish recommendations. Let's try a weighted sum of these two components in the 'score'."
   ]
  },
  {
   "cell_type": "code",
   "execution_count": 35,
   "metadata": {},
   "outputs": [
    {
     "name": "stdout",
     "output_type": "stream",
     "text": [
      "('recommendation': 'Vegetable Combo Sp', 'score': 8)\n",
      "('recommendation': 'Original Pork Sausage Patties', 'score': 8)\n",
      "('recommendation': 'Naturals Savory Turkey Breakfast Sausage', 'score': 8)\n",
      "('recommendation': 'Organic Creamy Deluxe Macaroni Dinner Rotini & White Cheddar Sauce', 'score': 8)\n",
      "('recommendation': 'Gluten Free Corn Dogs', 'score': 8)\n",
      "('recommendation': \"Meat Lover's Pizza\", 'score': 8)\n",
      "('recommendation': 'Bacon', 'score': 8)\n",
      "('recommendation': 'Thick Slices Canadian Bacon', 'score': 8)\n",
      "('recommendation': 'Smoked Cheddar Beef Franks', 'score': 8)\n",
      "('recommendation': 'Rich & Hearty Savory Beef Barley Vegetable Soup', 'score': 8)\n"
     ]
    }
   ],
   "source": [
    "result = graph.run('''\n",
    "MATCH (m:Product) WHERE m.name CONTAINS 'Bacon'\n",
    "MATCH (m)-[:FOUND_IN]->(g:Aisle)<-[:FOUND_IN]-(rec:Product)\n",
    "\n",
    "WITH m, rec, COUNT(*) AS gs\n",
    "\n",
    "OPTIONAL MATCH (m)-[:TYPE_OF]->(a:Department)<-[:TYPE_OF]-(rec)\n",
    "WITH m, rec, gs, COUNT(*) AS as\n",
    "\n",
    "RETURN rec.name AS recommendation, (5*gs)+(3*as) AS score ORDER BY score DESC \n",
    "LIMIT 10\n",
    "''')\n",
    "\n",
    "for row in result:\n",
    "    print(row)"
   ]
  },
  {
   "cell_type": "code",
   "execution_count": 36,
   "metadata": {},
   "outputs": [
    {
     "name": "stdout",
     "output_type": "stream",
     "text": [
      "('recommendation': 'Turkey Cotto Salami', 'score': 8)\n",
      "('recommendation': 'Premium Deli Honey Ham', 'score': 8)\n",
      "('recommendation': 'Mexican Papaya', 'score': 8)\n",
      "('recommendation': 'Jamaican Jerk Hemp Seed Salad', 'score': 8)\n",
      "('recommendation': 'Southern Cornmeal Crusted Cod Fillets', 'score': 8)\n",
      "('recommendation': 'Organic Chicken Thighs', 'score': 8)\n",
      "('recommendation': 'Cheddar Cheese Burrito', 'score': 8)\n",
      "('recommendation': 'Dinosaur Shapes Chicken Breast Nuggets', 'score': 8)\n",
      "('recommendation': 'Peppercorn Sauce', 'score': 8)\n",
      "('recommendation': 'Beef With Vegetables & Barley Condensed Soup', 'score': 8)\n"
     ]
    }
   ],
   "source": [
    "result = graph.run('''\n",
    "MATCH (m:Product) WHERE m.name CONTAINS 'Turkey'\n",
    "MATCH (m)-[:FOUND_IN]->(g:Aisle)<-[:FOUND_IN]-(rec:Product)\n",
    "\n",
    "WITH m, rec, COUNT(*) AS gs\n",
    "\n",
    "OPTIONAL MATCH (m)-[:TYPE_OF]->(a:Department)<-[:TYPE_OF]-(rec)\n",
    "WITH m, rec, gs, COUNT(*) AS as\n",
    "\n",
    "RETURN rec.name AS recommendation, (5*gs)+(3*as) AS score ORDER BY score DESC \n",
    "LIMIT 10\n",
    "''')\n",
    "\n",
    "for row in result:\n",
    "    print(row)"
   ]
  },
  {
   "cell_type": "markdown",
   "metadata": {},
   "source": [
    "If we add a minimum order total of at least 5, the query takes a long time to run..."
   ]
  },
  {
   "cell_type": "code",
   "execution_count": null,
   "metadata": {},
   "outputs": [],
   "source": [
    "# Will take awhile\n",
    "\n",
    "result = graph.run('''\n",
    "MATCH (m:Product) WHERE m.name CONTAINS 'Bacon'\n",
    "MATCH (m)-[:FOUND_IN]->(g:Aisle)<-[:FOUND_IN]-(rec:Product)\n",
    "\n",
    "WITH m, rec, COUNT(*) AS gs\n",
    "\n",
    "OPTIONAL MATCH (m)-[:TYPE_OF]->(a:Department)<-[:TYPE_OF]-(rec)\n",
    "WITH m, rec, gs, COUNT(*) AS as\n",
    "\n",
    "OPTIONAL MATCH (m)<-[b:BOUGHT]-(d:User) WHERE b.order_total > 5\n",
    "WITH m, rec, gs, as, COUNT(d) AS ds\n",
    "\n",
    "RETURN rec.name AS recommendation, (5*gs)+(3*as)+(1*ds) AS score \n",
    "ORDER BY score DESC \n",
    "LIMIT 10\n",
    "''', user_id=random_user)\n",
    "\n",
    "for row in result:\n",
    "    print(row)"
   ]
  },
  {
   "cell_type": "markdown",
   "metadata": {},
   "source": [
    "But everything is \"stuck\" in the same category/type versus the previous one."
   ]
  },
  {
   "cell_type": "code",
   "execution_count": null,
   "metadata": {},
   "outputs": [],
   "source": [
    "result = graph.run('''\n",
    "MATCH (m:Product) WHERE m.name CONTAINS 'Bacon'\n",
    "MATCH (m)-[:FOUND_IN]->(g:Aisle)<-[:FOUND_IN]-(rec:Product)\n",
    "\n",
    "WITH m, rec, COUNT(*) AS gs\n",
    "\n",
    "OPTIONAL MATCH (m)-[:TYPE_OF]->(a:Department)<-[:TYPE_OF]-(rec)\n",
    "WITH m, rec, gs, COUNT(a) AS as\n",
    "\n",
    "RETURN rec.name AS recommendation, (5*gs)+(3*as) AS score ORDER BY score DESC \n",
    "LIMIT 10\n",
    "''')\n",
    "\n",
    "for row in result:\n",
    "    print(row)"
   ]
  },
  {
   "cell_type": "markdown",
   "metadata": {},
   "source": [
    "So far, we used 'common traits' to traverse the network and return results. As we can see the 'scores' for most of these are the same. No doubt they seem to produce the same order but for reproducibility and for robustness, we need a form of similarity scoring.\n",
    "\n",
    "### 1) Jaccard Index\n",
    "\n",
    "From [Wikipedia](https://en.wikipedia.org/wiki/Jaccard_index): The Jaccard index, also known as Intersection over Union and the Jaccard similarity coefficient (originally coined coefficient de communauté by Paul Jaccard), is a statistic used for comparing the similarity and diversity of sample sets. The Jaccard coefficient measures similarity between finite sample sets, and is defined as the size of the intersection divided by the size of the union of the sample sets.\n",
    "\n",
    "**TL;DR** The Jaccard index is a number between 0 and 1 that indicates how similar two sets are. The Jaccard index of two identical sets is 1. If two sets do not have a common element, then the Jaccard index is 0. \n",
    "\n",
    "We can calculate the Jaccard index for sets of product via their aisles to determine how similar two products are."
   ]
  },
  {
   "cell_type": "code",
   "execution_count": null,
   "metadata": {},
   "outputs": [],
   "source": [
    "random_product = randint(0, 49687)\n",
    "print(\"Random product is: {}\".format(random_product))"
   ]
  },
  {
   "cell_type": "code",
   "execution_count": null,
   "metadata": {},
   "outputs": [],
   "source": [
    "product = graph.run('''\n",
    "MATCH (m:Product {id: {product_id}})\n",
    "RETURN m.name\n",
    "''', product_id=random_product)\n",
    "\n",
    "for row in product:\n",
    "    print(row)"
   ]
  },
  {
   "cell_type": "code",
   "execution_count": null,
   "metadata": {},
   "outputs": [],
   "source": [
    "result = graph.run('''\n",
    "MATCH (m:Product {id: {product_id}})-[:FOUND_IN]->(a:Aisle)<-[:FOUND_IN]-(other:Product)\n",
    "WITH m, other, COUNT(a) AS intersection, COLLECT(a.name) AS i\n",
    "\n",
    "MATCH (m)-[:FOUND_IN]->(ma:Aisle)\n",
    "WITH m, other, intersection,i, COLLECT(ma.name) AS s1\n",
    "\n",
    "MATCH (other)-[:FOUND_IN]->(oa:Aisle)\n",
    "WITH m, other,intersection,i, s1, COLLECT(oa.name) AS s2\n",
    "\n",
    "WITH m, other,intersection, s1,s2\n",
    "\n",
    "WITH m, other,intersection, s1+filter(x IN s2 WHERE NOT x IN s1) AS union, s1, s2\n",
    "\n",
    "RETURN other.name AS recommendation, s1,s2,((1.0*intersection)/SIZE(union)) AS jaccard ORDER BY jaccard DESC \n",
    "LIMIT 10\n",
    "''', product_id=random_product)\n",
    "\n",
    "for row in result:\n",
    "    print(row)"
   ]
  },
  {
   "cell_type": "code",
   "execution_count": null,
   "metadata": {},
   "outputs": [],
   "source": [
    "result = graph.run('''\n",
    "MATCH (m:Product {id: {product_id}})-[:TYPE_OF]->(d:Department)<-[:TYPE_OF]-(other:Product)\n",
    "WITH m, other, COUNT(d) AS intersection, COLLECT(d.name) AS i\n",
    "\n",
    "MATCH (m)-[:TYPE_OF]->(md:Department)\n",
    "WITH m, other, intersection,i, COLLECT(md.name) AS s1\n",
    "\n",
    "MATCH (other)-[:TYPE_OF]->(od:Department)\n",
    "WITH m, other,intersection,i, s1, COLLECT(od.name) AS s2\n",
    "\n",
    "WITH m, other,intersection, s1,s2\n",
    "\n",
    "WITH m, other,intersection, s1+filter(x IN s2 WHERE NOT x IN s1) AS union, s1, s2\n",
    "\n",
    "RETURN other.name AS recommendation, s1,s2,((1.0*intersection)/SIZE(union)) AS jaccard ORDER BY jaccard DESC \n",
    "LIMIT 10\n",
    "''', product_id=random_product)\n",
    "\n",
    "for row in result:\n",
    "    print(row)"
   ]
  },
  {
   "cell_type": "markdown",
   "metadata": {},
   "source": [
    "Once again, separating the aisle and department, will just yield a 1.0 Jaccard score, because they _are_ the same. So let's mix the two up."
   ]
  },
  {
   "cell_type": "code",
   "execution_count": null,
   "metadata": {},
   "outputs": [],
   "source": [
    "result = graph.run('''\n",
    "MATCH (m:Product {id: {product_id}})-[:TYPE_OF|:FOUND_IN]-(t)<-[:TYPE_OF|:FOUND_IN]-(other:Product)\n",
    "WITH m, other, COUNT(t) AS intersection, COLLECT(t.name) AS i\n",
    "\n",
    "MATCH (m)-[:TYPE_OF|:FOUND_IN]-(mt)\n",
    "WITH m, other, intersection,i, COLLECT(mt.name) AS s1\n",
    "\n",
    "MATCH (other)-[:TYPE_OF|:FOUND_IN]-(ot)\n",
    "WITH m, other,intersection,i, s1, COLLECT(ot.name) AS s2\n",
    "\n",
    "WITH m, other,intersection,s1,s2\n",
    "\n",
    "WITH m, other,intersection,s1+filter(x IN s2 WHERE NOT x IN s1) AS union, s1, s2\n",
    "\n",
    "RETURN other.name AS recommendation, s1,s2,((1.0*intersection)/SIZE(union)) AS jaccard ORDER BY jaccard DESC\n",
    "LIMIT 10''', product_id=random_product)\n",
    "\n",
    "for row in result:\n",
    "    print(row)"
   ]
  },
  {
   "cell_type": "code",
   "execution_count": null,
   "metadata": {},
   "outputs": [],
   "source": [
    "result = graph.run('''\n",
    "MATCH (m:Product {id: {product_id}})-[:TYPE_OF|:FOUND_IN]-(t)<-[:TYPE_OF|:FOUND_IN]-(other:Product)\n",
    "WITH m, other, COUNT(t) AS intersection, COLLECT(t.name) AS i\n",
    "\n",
    "MATCH (m)-[:TYPE_OF|:FOUND_IN]-(mt)\n",
    "WITH m, other, intersection,i, COLLECT(mt.name) AS s1\n",
    "\n",
    "MATCH (other)-[:TYPE_OF|:FOUND_IN]-(ot)\n",
    "WITH m, other,intersection,i, s1, COLLECT(ot.name) AS s2\n",
    "\n",
    "WITH m, other,intersection,s1,s2\n",
    "\n",
    "WITH m, other,intersection,s1+filter(x IN s2 WHERE NOT x IN s1) AS union, s1, s2\n",
    "\n",
    "RETURN other.name AS recommendation, s1,s2,((1.0*intersection)/SIZE(union)) AS jaccard ORDER BY jaccard ASC\n",
    "LIMIT 10''', product_id=random_product)\n",
    "\n",
    "for row in result:\n",
    "    print(row)"
   ]
  },
  {
   "cell_type": "markdown",
   "metadata": {},
   "source": [
    "I realised that Jaccard scores will be whole numbers, because for each product it can be found in one aisle and one department respectively. It doesn't have multiple aisles or multiple departments. So, I now turn to clustering to see if I can use it for something.\n",
    "\n",
    "### 2) Clustering"
   ]
  },
  {
   "cell_type": "code",
   "execution_count": 3,
   "metadata": {},
   "outputs": [],
   "source": [
    "from igraph import Graph as IGraph"
   ]
  },
  {
   "cell_type": "code",
   "execution_count": 12,
   "metadata": {},
   "outputs": [
    {
     "name": "stdout",
     "output_type": "stream",
     "text": [
      "('aisleName': 'candy chocolate', 'departmentName': 'snacks', 'weight': 1245)\n",
      "('aisleName': 'ice cream ice', 'departmentName': 'frozen', 'weight': 1089)\n",
      "('aisleName': 'yogurt', 'departmentName': 'dairy eggs', 'weight': 1026)\n",
      "('aisleName': 'chips pretzels', 'departmentName': 'snacks', 'weight': 986)\n",
      "('aisleName': 'tea', 'departmentName': 'beverages', 'weight': 891)\n",
      "('aisleName': 'packaged cheese', 'departmentName': 'dairy eggs', 'weight': 891)\n",
      "('aisleName': 'frozen meals', 'departmentName': 'frozen', 'weight': 880)\n",
      "('aisleName': 'cookies cakes', 'departmentName': 'snacks', 'weight': 874)\n",
      "('aisleName': 'energy granola bars', 'departmentName': 'snacks', 'weight': 832)\n",
      "('aisleName': 'spices seasonings', 'departmentName': 'pantry', 'weight': 797)\n"
     ]
    }
   ],
   "source": [
    "result = graph.run('''\n",
    "MATCH (a:Aisle)<-[:FOUND_IN]-()-[:TYPE_OF]->(d:Department)\n",
    "RETURN a.name AS aisleName, d.name AS departmentName, COUNT(*) AS weight\n",
    "ORDER BY weight DESC\n",
    "LIMIT 10''')\n",
    "\n",
    "for row in result:\n",
    "    print(row)"
   ]
  },
  {
   "cell_type": "code",
   "execution_count": 13,
   "metadata": {},
   "outputs": [],
   "source": [
    "cluster = graph.run('''\n",
    "MATCH (a:Aisle)<-[:FOUND_IN]-()-[:TYPE_OF]->(d:Department)\n",
    "RETURN a.name AS aisleName, d.name AS departmentName, COUNT(*) AS weight''')"
   ]
  },
  {
   "cell_type": "code",
   "execution_count": 14,
   "metadata": {},
   "outputs": [
    {
     "data": {
      "text/plain": [
       "<igraph.Graph at 0x1dc9ad82b88>"
      ]
     },
     "execution_count": 14,
     "metadata": {},
     "output_type": "execute_result"
    }
   ],
   "source": [
    "ig = IGraph.TupleList(cluster, weights=True)\n",
    "ig"
   ]
  },
  {
   "cell_type": "code",
   "execution_count": 15,
   "metadata": {},
   "outputs": [
    {
     "data": {
      "text/plain": [
       "16"
      ]
     },
     "execution_count": 15,
     "metadata": {},
     "output_type": "execute_result"
    }
   ],
   "source": [
    "clusters = IGraph.community_walktrap(ig, weights='weight')\n",
    "clusters = clusters.as_clustering()\n",
    "len(clusters)"
   ]
  },
  {
   "cell_type": "code",
   "execution_count": 16,
   "metadata": {},
   "outputs": [
    {
     "data": {
      "text/plain": [
       "[{'group': 0,\n",
       "  'id': 'canned fruit applesauce',\n",
       "  'label': 'canned fruit applesauce'},\n",
       " {'group': 0, 'id': 'canned goods', 'label': 'canned goods'},\n",
       " {'group': 1, 'id': 'trail mix snack mix', 'label': 'trail mix snack mix'},\n",
       " {'group': 1, 'id': 'snacks', 'label': 'snacks'},\n",
       " {'group': 1, 'id': 'chips pretzels', 'label': 'chips pretzels'},\n",
       " {'group': 2, 'id': 'fresh herbs', 'label': 'fresh herbs'},\n",
       " {'group': 2, 'id': 'produce', 'label': 'produce'},\n",
       " {'group': 3, 'id': 'prepared soups salads', 'label': 'prepared soups salads'},\n",
       " {'group': 3, 'id': 'deli', 'label': 'deli'},\n",
       " {'group': 4,\n",
       "  'id': 'preserved dips spreads',\n",
       "  'label': 'preserved dips spreads'},\n",
       " {'group': 4, 'id': 'pantry', 'label': 'pantry'},\n",
       " {'group': 5,\n",
       "  'id': 'specialty wines champagnes',\n",
       "  'label': 'specialty wines champagnes'},\n",
       " {'group': 5, 'id': 'alcohol', 'label': 'alcohol'},\n",
       " {'group': 6, 'id': 'eggs', 'label': 'eggs'},\n",
       " {'group': 6, 'id': 'dairy eggs', 'label': 'dairy eggs'},\n",
       " {'group': 7, 'id': 'frozen dessert', 'label': 'frozen dessert'},\n",
       " {'group': 7, 'id': 'frozen', 'label': 'frozen'},\n",
       " {'group': 8, 'id': 'dry pasta', 'label': 'dry pasta'},\n",
       " {'group': 8, 'id': 'dry goods pasta', 'label': 'dry goods pasta'},\n",
       " {'group': 0, 'id': 'canned meals beans', 'label': 'canned meals beans'}]"
      ]
     },
     "execution_count": 16,
     "metadata": {},
     "output_type": "execute_result"
    }
   ],
   "source": [
    "# Let's take a look at the 'clusters'\n",
    "nodes = [node['name'] for node in ig.vs]\n",
    "nodes = [{'id': x, 'label': x} for x in nodes]\n",
    "nodes[:5]\n",
    "\n",
    "for node in nodes:\n",
    "    idx = ig.vs.find(name=node['id']).index\n",
    "    node['group'] = clusters.membership[idx]\n",
    "    \n",
    "nodes[:20]"
   ]
  },
  {
   "cell_type": "code",
   "execution_count": null,
   "metadata": {},
   "outputs": [],
   "source": [
    "# # Write it back into the database\n",
    "# #\n",
    "# # Create constraint on cluster name\n",
    "\n",
    "# graph.run(\"CREATE CONSTRAINT ON (cluster:Cluster) ASSERT cluster.name IS UNIQUE;\")"
   ]
  },
  {
   "cell_type": "code",
   "execution_count": 17,
   "metadata": {},
   "outputs": [
    {
     "data": {
      "text/plain": [
       "<py2neo.graph.Cursor at 0x1dc9ae0a278>"
      ]
     },
     "execution_count": 17,
     "metadata": {},
     "output_type": "execute_result"
    }
   ],
   "source": [
    "# # Write it back into the database\n",
    "# #\n",
    "# # Writing Aisle first\n",
    "\n",
    "# graph.run('''\n",
    "# UNWIND {params} AS p \n",
    "# MATCH (a:Aisle {name: p.id})\n",
    "# MERGE (cluster:Cluster {name: p.group})\n",
    "# MERGE (a)-[:IN_CLUSTER]->(cluster)\n",
    "# ''', params = nodes)"
   ]
  },
  {
   "cell_type": "code",
   "execution_count": 18,
   "metadata": {},
   "outputs": [
    {
     "data": {
      "text/plain": [
       "<py2neo.graph.Cursor at 0x1dc9ae1a828>"
      ]
     },
     "execution_count": 18,
     "metadata": {},
     "output_type": "execute_result"
    }
   ],
   "source": [
    "# # Write it back into the database\n",
    "# #\n",
    "# # Writing Department next\n",
    "\n",
    "# graph.run('''\n",
    "# UNWIND {params} AS p \n",
    "# MATCH (d:Department {name: p.id})\n",
    "# MERGE (cluster:Cluster {name: p.group})\n",
    "# MERGE (d)-[:IN_CLUSTER]->(cluster)\n",
    "# ''', params = nodes)"
   ]
  },
  {
   "cell_type": "markdown",
   "metadata": {},
   "source": [
    "### Novelty Recommendation\n",
    "\n",
    "I found that having clusters would allow me to group aisles together. A good use for this is to find something for \"Try Something New\" but not too foreign."
   ]
  },
  {
   "cell_type": "code",
   "execution_count": 22,
   "metadata": {},
   "outputs": [
    {
     "name": "stdout",
     "output_type": "stream",
     "text": [
      "Next user is: 194981\n"
     ]
    }
   ],
   "source": [
    "random_user = randint(0, 206210)\n",
    "print(\"Next user is: {}\".format(random_user))"
   ]
  },
  {
   "cell_type": "code",
   "execution_count": 27,
   "metadata": {},
   "outputs": [
    {
     "name": "stdout",
     "output_type": "stream",
     "text": [
      "('aisles': 'cereal', 'commonAisles': 454)\n",
      "('aisles': 'hot cereal pancake mixes', 'commonAisles': 303)\n",
      "('aisles': 'granola', 'commonAisles': 185)\n",
      "('aisles': 'breakfast bars pastries', 'commonAisles': 173)\n"
     ]
    }
   ],
   "source": [
    "result = graph.run('''\n",
    "MATCH (user:User {id: {user_id}})-[:BOUGHT]->(product)-[:FOUND_IN]->(a:Aisle)-[:IN_CLUSTER]->(cluster)\n",
    "WITH user, cluster, COUNT(*) AS times\n",
    "ORDER BY times DESC\n",
    "LIMIT 1\n",
    "WITH user, cluster\n",
    "MATCH (cluster)<-[:IN_CLUSTER]-(a)<-[:FOUND_IN]-()\n",
    "WITH cluster, a.name AS aisles, COUNT(a) as commonAisles\n",
    "RETURN aisles, commonAisles\n",
    "ORDER BY commonAisles DESC\n",
    "LIMIT 5''', user_id=random_user)\n",
    "\n",
    "for row in result:\n",
    "    print(row)"
   ]
  },
  {
   "cell_type": "code",
   "execution_count": 23,
   "metadata": {},
   "outputs": [
    {
     "name": "stdout",
     "output_type": "stream",
     "text": [
      "('otherProducts.name': 'Peanut Butter Gluten Free Breakfast Bars', 'orderTotal': 60)\n",
      "('otherProducts.name': 'Nutri-Grain Soft Baked Strawberry Cereal Breakfast Bars', 'orderTotal': 58)\n",
      "('otherProducts.name': \"Kellogg's Pop-Tarts Frosted Strawberry Pastries\", 'orderTotal': 58)\n",
      "('otherProducts.name': 'Crunchy Granola Bars Variety Pack', 'orderTotal': 58)\n",
      "('otherProducts.name': 'Special K Protein Greek Yogurt And Fruit Bar 4.76oz', 'orderTotal': 57)\n",
      "('otherProducts.name': 'Whole Wheat Blueberry Fig Bars', 'orderTotal': 56)\n",
      "('otherProducts.name': 'Frosted Toaster Pastries, Cherry Pomegran', 'orderTotal': 53)\n",
      "('otherProducts.name': 'Pop-Tarts Frosted Raspberry Toaster Pastries', 'orderTotal': 53)\n",
      "('otherProducts.name': 'Frosted Cherry Pop-Tarts Toaster Pastries', 'orderTotal': 52)\n",
      "('otherProducts.name': 'Oat Blueberry Lemon Whenever Bars', 'orderTotal': 51)\n"
     ]
    }
   ],
   "source": [
    "# This is giving me stuff on the opposite end of what a user orders most often\n",
    "# Is this my novelty recommendation?\n",
    "\n",
    "result = graph.run('''\n",
    "MATCH (user:User {id: {user_id}})-[:BOUGHT]->(product)-[:FOUND_IN]->(a:Aisle)-[:IN_CLUSTER]->(cluster)\n",
    "WITH user, cluster, COUNT(*) AS times\n",
    "ORDER BY times DESC\n",
    "LIMIT 1\n",
    "WITH user, cluster\n",
    "MATCH (cluster)<-[:IN_CLUSTER]-(a)<-[:FOUND_IN]-()\n",
    "WITH cluster, a.name AS aisles, COUNT(a) as commonAisles\n",
    "ORDER BY commonAisles ASC\n",
    "LIMIT 1\n",
    "WITH aisles AS x\n",
    "MATCH (Aisle {name: x})<-[:FOUND_IN]-(otherProducts)<-[b:BOUGHT]-()\n",
    "WHERE b.order_total > 10\n",
    "RETURN DISTINCT otherProducts.name, MAX(b.order_total) AS orderTotal\n",
    "ORDER BY orderTotal DESC\n",
    "LIMIT 10''', user_id=random_user)\n",
    "\n",
    "for row in result:\n",
    "    print(row)"
   ]
  },
  {
   "cell_type": "markdown",
   "metadata": {},
   "source": [
    "## Making recommendations\n",
    "\n",
    "### 1) Collaborative Filtering\n",
    "Using total_orders as an indicator of some sort of rating (high number of total_orders = highly rated), the recommender is able to generate a list of other products based on the buying habits (total_orders) from a pool of users, using the Pearson corelation as scores and KNN as a traversial method. \n",
    "\n",
    "### 2) Content-based Filtering\n",
    "This didn't work out as well as hoped. Mainly because each product is a TYPE_OF and FOUND_IN one other category each. A product is not a meat and a vegetable at the same time. This made content-based filtering non-existant for this dataset. However, being a graph database, the nodes do allow me to implement a search function instead.\n",
    "\n",
    "### 3) Clusters of Products\n",
    "I was able to infer clusters of products from the Aisles and the Departments that the products were found in. Clusters consists mostly of 4 Aisle nodes and 1 Department nodes on average. From there, we would be able to traverse up from Product to Aisle to Cluster and find the Aisle where the User bought the least from. Traverse out of the cluster and find all Products in the least popular Aisle and recommend Products that other people seem to like more. "
   ]
  }
 ],
 "metadata": {
  "kernelspec": {
   "display_name": "Python 3",
   "language": "python",
   "name": "python3"
  },
  "language_info": {
   "codemirror_mode": {
    "name": "ipython",
    "version": 3
   },
   "file_extension": ".py",
   "mimetype": "text/x-python",
   "name": "python",
   "nbconvert_exporter": "python",
   "pygments_lexer": "ipython3",
   "version": "3.5.5"
  }
 },
 "nbformat": 4,
 "nbformat_minor": 2
}
