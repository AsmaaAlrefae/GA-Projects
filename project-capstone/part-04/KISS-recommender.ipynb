{
 "cells": [
  {
   "cell_type": "markdown",
   "metadata": {},
   "source": [
    "# Hello\n",
    "\n",
    "![](./localhost.png)"
   ]
  },
  {
   "cell_type": "code",
   "execution_count": 1,
   "metadata": {},
   "outputs": [],
   "source": [
    "# Import py2neo and connect to Neo4j\n",
    "from py2neo import Graph\n",
    "\n",
    "# just an example, replace with credentials for your own Neo4j instance\n",
    "graph = Graph(bolt=True, host=\"localhost\", http_port=7687, user='neo4j', password='kiss')"
   ]
  },
  {
   "cell_type": "code",
   "execution_count": 2,
   "metadata": {},
   "outputs": [
    {
     "data": {
      "text/plain": [
       "242654"
      ]
     },
     "execution_count": 2,
     "metadata": {},
     "output_type": "execute_result"
    }
   ],
   "source": [
    "# Hello world, sanity check\n",
    "graph.run(\"MATCH (a) RETURN COUNT(a) AS numberOfNodes\").evaluate()"
   ]
  },
  {
   "cell_type": "code",
   "execution_count": null,
   "metadata": {},
   "outputs": [],
   "source": [
    "# # Create all the constraints\n",
    "\n",
    "# graph.run(\"CREATE CONSTRAINT ON (p:Product) ASSERT p.id IS UNIQUE;\")\n",
    "# graph.run(\"CREATE CONSTRAINT ON (a:Aisle) ASSERT a.id IS UNIQUE;\")\n",
    "# graph.run(\"CREATE CONSTRAINT ON (d:Department) ASSERT d.id IS UNIQUE;\")\n",
    "# graph.run(\"CREATE CONSTRAINT ON (u:User) ASSERT u.id IS UNIQUE;\")"
   ]
  },
  {
   "cell_type": "code",
   "execution_count": null,
   "metadata": {},
   "outputs": [],
   "source": [
    "# # Load the CSV files\n",
    "# # File are located at neo4j_home/import folder\n",
    "# # products first\n",
    "\n",
    "# graph.run(\"\"\"\n",
    "# USING PERIODIC COMMIT \n",
    "# LOAD CSV WITH HEADERS FROM \"file:///products_clean.csv\" AS line WITH line\n",
    "# CREATE (product:Product {id: toInteger(line.product_id), name: line.product_name})\n",
    "# MERGE (aisle:Aisle {id: toInteger(line.aisle_id), name: line.aisle})\n",
    "# MERGE (department:Department {id: toInteger(line.department_id),name: line.department})\n",
    "# CREATE (product)-[:FOUND_IN]->(aisle)\n",
    "# CREATE (product)-[:TYPE_OF]->(department);\n",
    "# \"\"\")"
   ]
  },
  {
   "cell_type": "code",
   "execution_count": null,
   "metadata": {},
   "outputs": [],
   "source": [
    "# # users next\n",
    "# # This will take awhile...\n",
    "\n",
    "# graph.run(\"\"\"\n",
    "# USING PERIODIC COMMIT \n",
    "# LOAD CSV WITH HEADERS FROM \"file:///users_orders.csv\" AS line WITH line\n",
    "# MATCH (product:Product {id: toInteger(line.product_id)})\n",
    "# MERGE (user:User {id: toInteger(line.user_id)})\n",
    "# CREATE (user)-[b:BOUGHT]->(product)\n",
    "# SET b.order_total = toInteger(line.total_orders);\n",
    "# \"\"\")"
   ]
  },
  {
   "cell_type": "markdown",
   "metadata": {},
   "source": [
    "## Collaborative filtering"
   ]
  },
  {
   "cell_type": "code",
   "execution_count": 3,
   "metadata": {},
   "outputs": [],
   "source": [
    "import pandas as pd"
   ]
  },
  {
   "cell_type": "code",
   "execution_count": 4,
   "metadata": {},
   "outputs": [],
   "source": [
    "# Import number generator to generate a random user ID to query\n",
    "from random import randint"
   ]
  },
  {
   "cell_type": "code",
   "execution_count": null,
   "metadata": {},
   "outputs": [],
   "source": [
    "random_user = randint(0, 206210)\n",
    "print(\"The selected user ID is: {}\".format(random_user))"
   ]
  },
  {
   "cell_type": "markdown",
   "metadata": {},
   "source": [
    "What if we go by aisle? What else do other users buy just as much or more in the same aisle?"
   ]
  },
  {
   "cell_type": "code",
   "execution_count": null,
   "metadata": {},
   "outputs": [],
   "source": [
    "results = graph.run(\"\"\"\n",
    "MATCH (user:User {id: {user_id}})-[b1:BOUGHT]->()-[:FOUND_IN]->()<-[:FOUND_IN]-(otherproduct:Product)<-[b2:BOUGHT]-(otheruser:User)\n",
    "WHERE NOT (user)-[:BOUGHT]->(otherproduct) AND b2.order_total >= b1.order_total\n",
    "RETURN otherproduct.name AS recommendation,\n",
    "       COUNT(*) AS usersInCommon\n",
    "ORDER BY usersInCommon DESC\n",
    "LIMIT 10\"\"\", user_id=random_user)\n",
    "\n",
    "for row in results:\n",
    "    print(row)"
   ]
  },
  {
   "cell_type": "markdown",
   "metadata": {},
   "source": [
    "## Simple Version (the KNN of Recommendations)\n",
    "\n",
    "What else do other users buy just as much as?"
   ]
  },
  {
   "cell_type": "code",
   "execution_count": null,
   "metadata": {},
   "outputs": [],
   "source": [
    "results = graph.run(\"\"\"\n",
    "MATCH (user:User {id: {user_id}})-[b1:BOUGHT]->(:Product)<-[b2:BOUGHT]-(otheruser:User)\n",
    "MATCH (otheruser)-[:BOUGHT]->(rec:Product)\n",
    "WHERE NOT EXISTS( (user)-[:BOUGHT]->(rec)) AND b2.order_total >= b1.order_total\n",
    "RETURN rec.name, COUNT(*) AS usersWhoAlsoBought\n",
    "ORDER BY usersWhoAlsoBought DESC \n",
    "LIMIT 10\"\"\", user_id=random_user)\n",
    "\n",
    "for row in results:\n",
    "    print(row)"
   ]
  },
  {
   "cell_type": "markdown",
   "metadata": {},
   "source": [
    "Consider the type of food."
   ]
  },
  {
   "cell_type": "code",
   "execution_count": 12,
   "metadata": {},
   "outputs": [
    {
     "name": "stdout",
     "output_type": "stream",
     "text": [
      "Next user is: 159738\n"
     ]
    }
   ],
   "source": [
    "random_user = randint(0, 206210)\n",
    "print(\"Next user is: {}\".format(random_user))"
   ]
  },
  {
   "cell_type": "code",
   "execution_count": null,
   "metadata": {},
   "outputs": [],
   "source": [
    "results = graph.run(\"\"\"\n",
    "MATCH (user:User {id: {user_id}})-[b:BOUGHT]->(p:Product)\n",
    "WITH user, avg(b.order_total) AS mean\n",
    "\n",
    "MATCH (user)-[b:BOUGHT]->(p:Product)-[:FOUND_IN]->(a:Aisle)\n",
    "WHERE b.order_total >= mean\n",
    "\n",
    "WITH user, a, COUNT(*) AS score\n",
    "\n",
    "MATCH (a)<-[:FOUND_IN]-(rec:Product)\n",
    "WHERE NOT EXISTS((user)-[:BOUGHT]->(rec))\n",
    "\n",
    "RETURN rec.name AS recommendation, COLLECT(DISTINCT a.name) AS productType, SUM(score) AS sscore\n",
    "ORDER BY sscore DESC LIMIT 10\n",
    "\"\"\", user_id=random_user)\n",
    "\n",
    "for row in results:\n",
    "    print(row)"
   ]
  },
  {
   "cell_type": "markdown",
   "metadata": {},
   "source": [
    "Not helpful with the same scores...\n",
    "\n",
    "Let's see if similarity metrics will help instead.\n",
    "\n",
    "### 1) Cosine Similarity\n",
    "\n",
    "The cosine similarty of two users will tell us how similar two users' preferences for products are. Users with a high cosine similarity will have similar preferences."
   ]
  },
  {
   "cell_type": "code",
   "execution_count": null,
   "metadata": {},
   "outputs": [],
   "source": [
    "results = graph.run(\"\"\"\n",
    "MATCH (p1:User {id: {user_id}})-[x:BOUGHT]->(p:Product)<-[y:BOUGHT]-(p2:User)\n",
    "WITH COUNT(p) AS numberproducts, SUM(x.order_total * y.order_total) AS xyDotProduct,\n",
    "SQRT(REDUCE(xDot = 0.0, a IN COLLECT(x.order_total) | xDot + a^2)) AS xLength,\n",
    "SQRT(REDUCE(yDot = 0.0, b IN COLLECT(y.order_total) | yDot + b^2)) AS yLength,\n",
    "p1, p2 WHERE numberproducts > 10\n",
    "RETURN p2.id, xyDotProduct / (xLength * yLength) AS cosim\n",
    "ORDER BY cosim DESC \n",
    "LIMIT 10\"\"\", user_id=random_user)\n",
    "\n",
    "for row in results:\n",
    "    print(row)"
   ]
  },
  {
   "cell_type": "markdown",
   "metadata": {},
   "source": [
    "### 2) Pearson Similarity\n",
    "\n",
    "This is particularly well-suited for product recommendations because it takes into account the fact that different users will have different mean total orders: on average some people do buy only from Instacart, while some prefer to go out of their house. Since Pearson similarity considers differences about the mean, this metric will account for these discrepancies."
   ]
  },
  {
   "cell_type": "code",
   "execution_count": null,
   "metadata": {},
   "outputs": [],
   "source": [
    "results = graph.run(\"\"\"\n",
    "MATCH (u1:User {id: {user_id}})-[r:BOUGHT]->(m:Product)\n",
    "WITH u1, avg(r.order_total) AS u1_mean\n",
    "\n",
    "MATCH (u1)-[r1:BOUGHT]->(m:Product)<-[r2:BOUGHT]-(u2)\n",
    "WITH u1, u1_mean, u2, COLLECT({r1: r1, r2: r2}) AS totalorders WHERE size(totalorders) > 10\n",
    "\n",
    "MATCH (u2)-[r:BOUGHT]->(m:Product)\n",
    "WITH u1, u1_mean, u2, avg(r.order_total) AS u2_mean, totalorders\n",
    "\n",
    "UNWIND totalorders AS r\n",
    "\n",
    "WITH sum( (r.r1.order_total - u1_mean) * (r.r2.order_total - u2_mean) ) AS nom,\n",
    "     sqrt( sum( (r.r1.order_total - u1_mean)^2) * sum( (r.r2.order_total - u2_mean) ^2)) AS denom,\n",
    "     u1, u2 WHERE denom <> 0\n",
    "\n",
    "RETURN u2.id, nom/denom AS pearson\n",
    "ORDER BY pearson DESC \n",
    "LIMIT 10\"\"\", user_id=random_user)\n",
    "\n",
    "for row in results:\n",
    "    print(row)"
   ]
  },
  {
   "cell_type": "markdown",
   "metadata": {},
   "source": [
    "I have a problem with so many 0.90+ scores for the cosine similarity metric. The Pearson scores seems to be a better spread...\n",
    "\n",
    "## FINAL: Collaborative Filtering = KNN + Pearson \n",
    "\n",
    "Combine the simple implementation of KNN with the Pearson correlation scoring system:"
   ]
  },
  {
   "cell_type": "code",
   "execution_count": null,
   "metadata": {},
   "outputs": [],
   "source": [
    "results = graph.run(\"\"\"\n",
    "MATCH (u1:User {id: {user_id}})-[r:BOUGHT]->(m:Product)\n",
    "WITH u1, avg(r.order_total) AS u1_mean\n",
    "\n",
    "MATCH (u1)-[r1:BOUGHT]->(m:Product)<-[r2:BOUGHT]-(u2)\n",
    "WITH u1, u1_mean, u2, COLLECT({r1: r1, r2: r2}) AS totalorders WHERE size(totalorders) > 10\n",
    "\n",
    "MATCH (u2)-[r:BOUGHT]->(m:Product)\n",
    "WITH u1, u1_mean, u2, avg(r.order_total) AS u2_mean, totalorders\n",
    "\n",
    "UNWIND totalorders AS r\n",
    "\n",
    "WITH sum( (r.r1.order_total - u1_mean) * (r.r2.order_total - u2_mean) ) AS nom,\n",
    "     sqrt( sum( (r.r1.order_total - u1_mean)^2) * sum( (r.r2.order_total - u2_mean) ^2)) AS denom,\n",
    "     u1, u2 WHERE denom <> 0\n",
    "\n",
    "WITH u1, u2, nom/denom AS pearson\n",
    "ORDER BY pearson DESC LIMIT 10\n",
    "\n",
    "MATCH (u2)-[r:BOUGHT]->(m:Product) WHERE NOT EXISTS( (u1)-[:BOUGHT]->(m) )\n",
    "\n",
    "RETURN m.name AS recommendation, SUM( pearson * r.order_total) AS score\n",
    "ORDER BY score DESC \n",
    "LIMIT 10\"\"\", user_id=random_user)\n",
    "\n",
    "for row in results:\n",
    "    print(row)"
   ]
  },
  {
   "cell_type": "markdown",
   "metadata": {},
   "source": [
    "#### **Conclusion**\n",
    "\n",
    "I am quite happy using the Pearson similarity to find other products from similar users based on the total number of orders for that product in lieu of a ratings system."
   ]
  },
  {
   "cell_type": "markdown",
   "metadata": {},
   "source": [
    "## Content-based filtering\n",
    "\n",
    "What are other products similar to what you are looking at? Let's bring in the categorical nature of some of the products. \n",
    "\n",
    "If we know what products a user has bought, we can use this information to recommend similar products: Recommend products similar to those the user has already bought."
   ]
  },
  {
   "cell_type": "code",
   "execution_count": null,
   "metadata": {},
   "outputs": [],
   "source": [
    "# Case sensitive... 'Bacon' worked but 'bacon' didn't work\n",
    "# Case very sensitive... 'Product' works but not 'PRODUCT'\n",
    "\n",
    "result = graph.run('''\n",
    "MATCH (m:Product)-[:FOUND_IN]->(g:Aisle)<-[:FOUND_IN]-(rec:Product)\n",
    "WHERE m.name CONTAINS 'Bacon'\n",
    "WITH rec.name AS recommendation, g.name AS aisle, COUNT(*) AS commonAisles\n",
    "RETURN recommendation, aisle, commonAisles\n",
    "ORDER BY commonAisles DESC \n",
    "LIMIT 10''')\n",
    "\n",
    "for row in result:\n",
    "    print(row)"
   ]
  },
  {
   "cell_type": "markdown",
   "metadata": {},
   "source": [
    "99 commonAisles is a problem. lol. What is we take a user and then recommend based on the types of products. Either by aisle or by department."
   ]
  },
  {
   "cell_type": "code",
   "execution_count": null,
   "metadata": {},
   "outputs": [],
   "source": [
    "random_user = randint(0, 206210)\n",
    "print(\"Next user is: {}\".format(random_user))"
   ]
  },
  {
   "cell_type": "markdown",
   "metadata": {},
   "source": [
    "#### By Aisle"
   ]
  },
  {
   "cell_type": "code",
   "execution_count": null,
   "metadata": {},
   "outputs": [],
   "source": [
    "result = graph.run('''\n",
    "MATCH (u:User {id: {user_id}})-[r:BOUGHT]->(m:Product), (m)-[:FOUND_IN]->(g:Aisle)<-[:FOUND_IN]-(rec:Product)\n",
    "WHERE NOT EXISTS( (u)-[:BOUGHT]->(rec) )\n",
    "WITH rec.name AS recommendation, [g.name, COUNT(*)] AS scores\n",
    "RETURN recommendation, COLLECT(scores) AS scoreComponents, REDUCE (s=0,x in COLLECT(scores) | s+x[1]) AS score\n",
    "ORDER BY score DESC \n",
    "LIMIT 10''', user_id=random_user)\n",
    "\n",
    "for row in result:\n",
    "    print(row)"
   ]
  },
  {
   "cell_type": "markdown",
   "metadata": {},
   "source": [
    "#### By Department"
   ]
  },
  {
   "cell_type": "code",
   "execution_count": null,
   "metadata": {},
   "outputs": [],
   "source": [
    "result = graph.run('''\n",
    "MATCH (u:User {id: {user_id}})-[r:BOUGHT]->(m:Product), (m)-[:TYPE_OF]->(g:Department)<-[:TYPE_OF]-(rec:Product)\n",
    "WHERE NOT EXISTS( (u)-[:BOUGHT]->(rec) )\n",
    "WITH rec.name AS recommendation, [g.name, COUNT(*)] AS scores\n",
    "RETURN recommendation, COLLECT(scores) AS scoreComponents, REDUCE (s=0,x in COLLECT(scores) | s+x[1]) AS score\n",
    "ORDER BY score DESC \n",
    "LIMIT 10''', user_id=random_user)\n",
    "\n",
    "for row in result:\n",
    "    print(row)"
   ]
  },
  {
   "cell_type": "markdown",
   "metadata": {},
   "source": [
    "Separately (Aisle vs Department), I think they are pretty rubbish recommendations. Let's try a weighted sum of these two components in the 'score'."
   ]
  },
  {
   "cell_type": "code",
   "execution_count": null,
   "metadata": {},
   "outputs": [],
   "source": [
    "result = graph.run('''\n",
    "MATCH (m:Product) WHERE m.name CONTAINS 'Bacon'\n",
    "MATCH (m)-[:FOUND_IN]->(g:Aisle)<-[:FOUND_IN]-(rec:Product)\n",
    "\n",
    "WITH m, rec, COUNT(*) AS gs\n",
    "\n",
    "OPTIONAL MATCH (m)-[:TYPE_OF]->(a:Department)<-[:TYPE_OF]-(rec)\n",
    "WITH m, rec, gs, COUNT(*) AS as\n",
    "\n",
    "RETURN rec.name AS recommendation, (5*gs)+(3*as) AS score ORDER BY score DESC \n",
    "LIMIT 10\n",
    "''')\n",
    "\n",
    "for row in result:\n",
    "    print(row)"
   ]
  },
  {
   "cell_type": "markdown",
   "metadata": {},
   "source": [
    "If we add a minimum order total of at least 5, the query takes a long time to run..."
   ]
  },
  {
   "cell_type": "code",
   "execution_count": null,
   "metadata": {},
   "outputs": [],
   "source": [
    "# Will take awhile\n",
    "\n",
    "result = graph.run('''\n",
    "MATCH (m:Product) WHERE m.name CONTAINS 'Bacon'\n",
    "MATCH (m)-[:FOUND_IN]->(g:Aisle)<-[:FOUND_IN]-(rec:Product)\n",
    "\n",
    "WITH m, rec, COUNT(*) AS gs\n",
    "\n",
    "OPTIONAL MATCH (m)-[:TYPE_OF]->(a:Department)<-[:TYPE_OF]-(rec)\n",
    "WITH m, rec, gs, COUNT(*) AS as\n",
    "\n",
    "OPTIONAL MATCH (m)<-[b:BOUGHT]-(d:User) WHERE b.order_total > 5\n",
    "WITH m, rec, gs, as, COUNT(d) AS ds\n",
    "\n",
    "RETURN rec.name AS recommendation, (5*gs)+(3*as)+(1*ds) AS score \n",
    "ORDER BY score DESC \n",
    "LIMIT 10\n",
    "''', user_id=random_user)\n",
    "\n",
    "for row in result:\n",
    "    print(row)"
   ]
  },
  {
   "cell_type": "markdown",
   "metadata": {},
   "source": [
    "But everything is \"stuck\" in the same category/type versus the previous one."
   ]
  },
  {
   "cell_type": "code",
   "execution_count": null,
   "metadata": {},
   "outputs": [],
   "source": [
    "result = graph.run('''\n",
    "MATCH (m:Product) WHERE m.name CONTAINS 'Bacon'\n",
    "MATCH (m)-[:FOUND_IN]->(g:Aisle)<-[:FOUND_IN]-(rec:Product)\n",
    "\n",
    "WITH m, rec, COUNT(*) AS gs\n",
    "\n",
    "OPTIONAL MATCH (m)-[:TYPE_OF]->(a:Department)<-[:TYPE_OF]-(rec)\n",
    "WITH m, rec, gs, COUNT(a) AS as\n",
    "\n",
    "RETURN rec.name AS recommendation, (5*gs)+(3*as) AS score ORDER BY score DESC \n",
    "LIMIT 10\n",
    "''')\n",
    "\n",
    "for row in result:\n",
    "    print(row)"
   ]
  },
  {
   "cell_type": "markdown",
   "metadata": {},
   "source": [
    "So far, we used 'common traits' to traverse the network and return results. As we can see the 'scores' for most of these are the same. No doubt they seem to produce the same order but for reproducibility and for robustness, we need a form of similarity scoring.\n",
    "\n",
    "### 1) Jaccard Index\n",
    "\n",
    "From [Wikipedia](https://en.wikipedia.org/wiki/Jaccard_index): The Jaccard index, also known as Intersection over Union and the Jaccard similarity coefficient (originally coined coefficient de communauté by Paul Jaccard), is a statistic used for comparing the similarity and diversity of sample sets. The Jaccard coefficient measures similarity between finite sample sets, and is defined as the size of the intersection divided by the size of the union of the sample sets.\n",
    "\n",
    "**TL;DR** The Jaccard index is a number between 0 and 1 that indicates how similar two sets are. The Jaccard index of two identical sets is 1. If two sets do not have a common element, then the Jaccard index is 0. \n",
    "\n",
    "We can calculate the Jaccard index for sets of product via their aisles to determine how similar two products are."
   ]
  },
  {
   "cell_type": "code",
   "execution_count": null,
   "metadata": {},
   "outputs": [],
   "source": [
    "random_product = randint(0, 49687)\n",
    "print(\"Random product is: {}\".format(random_product))"
   ]
  },
  {
   "cell_type": "code",
   "execution_count": null,
   "metadata": {},
   "outputs": [],
   "source": [
    "product = graph.run('''\n",
    "MATCH (m:Product {id: {product_id}})\n",
    "RETURN m.name\n",
    "''', product_id=random_product)\n",
    "\n",
    "for row in product:\n",
    "    print(row)"
   ]
  },
  {
   "cell_type": "code",
   "execution_count": null,
   "metadata": {},
   "outputs": [],
   "source": [
    "result = graph.run('''\n",
    "MATCH (m:Product {id: {product_id}})-[:FOUND_IN]->(a:Aisle)<-[:FOUND_IN]-(other:Product)\n",
    "WITH m, other, COUNT(a) AS intersection, COLLECT(a.name) AS i\n",
    "\n",
    "MATCH (m)-[:FOUND_IN]->(ma:Aisle)\n",
    "WITH m, other, intersection,i, COLLECT(ma.name) AS s1\n",
    "\n",
    "MATCH (other)-[:FOUND_IN]->(oa:Aisle)\n",
    "WITH m, other,intersection,i, s1, COLLECT(oa.name) AS s2\n",
    "\n",
    "WITH m, other,intersection, s1,s2\n",
    "\n",
    "WITH m, other,intersection, s1+filter(x IN s2 WHERE NOT x IN s1) AS union, s1, s2\n",
    "\n",
    "RETURN other.name AS recommendation, s1,s2,((1.0*intersection)/SIZE(union)) AS jaccard ORDER BY jaccard DESC \n",
    "LIMIT 10\n",
    "''', product_id=random_product)\n",
    "\n",
    "for row in result:\n",
    "    print(row)"
   ]
  },
  {
   "cell_type": "code",
   "execution_count": null,
   "metadata": {},
   "outputs": [],
   "source": [
    "result = graph.run('''\n",
    "MATCH (m:Product {id: {product_id}})-[:TYPE_OF]->(d:Department)<-[:TYPE_OF]-(other:Product)\n",
    "WITH m, other, COUNT(d) AS intersection, COLLECT(d.name) AS i\n",
    "\n",
    "MATCH (m)-[:TYPE_OF]->(md:Department)\n",
    "WITH m, other, intersection,i, COLLECT(md.name) AS s1\n",
    "\n",
    "MATCH (other)-[:TYPE_OF]->(od:Department)\n",
    "WITH m, other,intersection,i, s1, COLLECT(od.name) AS s2\n",
    "\n",
    "WITH m, other,intersection, s1,s2\n",
    "\n",
    "WITH m, other,intersection, s1+filter(x IN s2 WHERE NOT x IN s1) AS union, s1, s2\n",
    "\n",
    "RETURN other.name AS recommendation, s1,s2,((1.0*intersection)/SIZE(union)) AS jaccard ORDER BY jaccard DESC \n",
    "LIMIT 10\n",
    "''', product_id=random_product)\n",
    "\n",
    "for row in result:\n",
    "    print(row)"
   ]
  },
  {
   "cell_type": "markdown",
   "metadata": {},
   "source": [
    "Once again, separating the aisle and department, will just yield a 1.0 Jaccard score, because they _are_ the same. So let's mix the two up."
   ]
  },
  {
   "cell_type": "code",
   "execution_count": null,
   "metadata": {},
   "outputs": [],
   "source": [
    "result = graph.run('''\n",
    "MATCH (m:Product {id: {product_id}})-[:TYPE_OF|:FOUND_IN]-(t)<-[:TYPE_OF|:FOUND_IN]-(other:Product)\n",
    "WITH m, other, COUNT(t) AS intersection, COLLECT(t.name) AS i\n",
    "\n",
    "MATCH (m)-[:TYPE_OF|:FOUND_IN]-(mt)\n",
    "WITH m, other, intersection,i, COLLECT(mt.name) AS s1\n",
    "\n",
    "MATCH (other)-[:TYPE_OF|:FOUND_IN]-(ot)\n",
    "WITH m, other,intersection,i, s1, COLLECT(ot.name) AS s2\n",
    "\n",
    "WITH m, other,intersection,s1,s2\n",
    "\n",
    "WITH m, other,intersection,s1+filter(x IN s2 WHERE NOT x IN s1) AS union, s1, s2\n",
    "\n",
    "RETURN other.name AS recommendation, s1,s2,((1.0*intersection)/SIZE(union)) AS jaccard ORDER BY jaccard DESC\n",
    "LIMIT 10''', product_id=random_product)\n",
    "\n",
    "for row in result:\n",
    "    print(row)"
   ]
  },
  {
   "cell_type": "code",
   "execution_count": null,
   "metadata": {},
   "outputs": [],
   "source": [
    "result = graph.run('''\n",
    "MATCH (m:Product {id: {product_id}})-[:TYPE_OF|:FOUND_IN]-(t)<-[:TYPE_OF|:FOUND_IN]-(other:Product)\n",
    "WITH m, other, COUNT(t) AS intersection, COLLECT(t.name) AS i\n",
    "\n",
    "MATCH (m)-[:TYPE_OF|:FOUND_IN]-(mt)\n",
    "WITH m, other, intersection,i, COLLECT(mt.name) AS s1\n",
    "\n",
    "MATCH (other)-[:TYPE_OF|:FOUND_IN]-(ot)\n",
    "WITH m, other,intersection,i, s1, COLLECT(ot.name) AS s2\n",
    "\n",
    "WITH m, other,intersection,s1,s2\n",
    "\n",
    "WITH m, other,intersection,s1+filter(x IN s2 WHERE NOT x IN s1) AS union, s1, s2\n",
    "\n",
    "RETURN other.name AS recommendation, s1,s2,((1.0*intersection)/SIZE(union)) AS jaccard ORDER BY jaccard ASC\n",
    "LIMIT 10''', product_id=random_product)\n",
    "\n",
    "for row in result:\n",
    "    print(row)"
   ]
  },
  {
   "cell_type": "markdown",
   "metadata": {},
   "source": [
    "I realised that Jaccard scores will be whole numbers, because for each product it can be found in one aisle and one department respectively. It doesn't have multiple aisles or multiple departments. So, I now turn to clustering to see if I can use it for something.\n",
    "\n",
    "### 2) Clustering"
   ]
  },
  {
   "cell_type": "code",
   "execution_count": 7,
   "metadata": {},
   "outputs": [],
   "source": [
    "from igraph import Graph as IGraph"
   ]
  },
  {
   "cell_type": "code",
   "execution_count": 13,
   "metadata": {},
   "outputs": [
    {
     "name": "stdout",
     "output_type": "stream",
     "text": [
      "('aisleName': 'yogurt', 'departmentName': 'dairy eggs', 'weight': 1026)\n",
      "('aisleName': 'tea', 'departmentName': 'beverages', 'weight': 891)\n",
      "('aisleName': 'frozen meals', 'departmentName': 'frozen', 'weight': 880)\n",
      "('aisleName': 'cookies cakes', 'departmentName': 'snacks', 'weight': 874)\n",
      "('aisleName': 'spices seasonings', 'departmentName': 'pantry', 'weight': 797)\n",
      "('aisleName': 'packaged vegetables fruits', 'departmentName': 'produce', 'weight': 615)\n",
      "('aisleName': 'asian foods', 'departmentName': 'international', 'weight': 604)\n",
      "('aisleName': 'other', 'departmentName': 'other', 'weight': 546)\n",
      "('aisleName': 'canned jarred vegetables', 'departmentName': 'canned goods', 'weight': 487)\n",
      "('aisleName': 'cereal', 'departmentName': 'breakfast', 'weight': 454)\n"
     ]
    }
   ],
   "source": [
    "result = graph.run('''\n",
    "MATCH (a:Aisle)<-[:FOUND_IN]-()-[:TYPE_OF]->(d:Department)\n",
    "WHERE ID(a) < ID(d)\n",
    "RETURN a.name AS aisleName, d.name AS departmentName, COUNT(*) AS weight\n",
    "ORDER BY weight DESC\n",
    "LIMIT 10''')\n",
    "\n",
    "for row in result:\n",
    "    print(row)"
   ]
  },
  {
   "cell_type": "code",
   "execution_count": 14,
   "metadata": {},
   "outputs": [],
   "source": [
    "cluster = graph.run('''\n",
    "MATCH (a:Aisle)<-[:FOUND_IN]-()-[:TYPE_OF]->(d:Department)\n",
    "WHERE ID(a) < ID(d)\n",
    "RETURN a.name AS aisleName, d.name AS departmentName, COUNT(*) AS weight''')"
   ]
  },
  {
   "cell_type": "code",
   "execution_count": 15,
   "metadata": {},
   "outputs": [
    {
     "data": {
      "text/plain": [
       "<igraph.Graph at 0x14b6def3228>"
      ]
     },
     "execution_count": 15,
     "metadata": {},
     "output_type": "execute_result"
    }
   ],
   "source": [
    "ig = IGraph.TupleList(cluster, weights=True)\n",
    "ig"
   ]
  },
  {
   "cell_type": "code",
   "execution_count": 16,
   "metadata": {},
   "outputs": [
    {
     "data": {
      "text/plain": [
       "16"
      ]
     },
     "execution_count": 16,
     "metadata": {},
     "output_type": "execute_result"
    }
   ],
   "source": [
    "clusters = IGraph.community_walktrap(ig, weights='weight')\n",
    "clusters = clusters.as_clustering()\n",
    "len(clusters)"
   ]
  },
  {
   "cell_type": "code",
   "execution_count": 18,
   "metadata": {},
   "outputs": [
    {
     "data": {
      "text/plain": [
       "[{'group': 0,\n",
       "  'id': 'specialty wines champagnes',\n",
       "  'label': 'specialty wines champagnes'},\n",
       " {'group': 0, 'id': 'alcohol', 'label': 'alcohol'},\n",
       " {'group': 1, 'id': 'spices seasonings', 'label': 'spices seasonings'},\n",
       " {'group': 1, 'id': 'pantry', 'label': 'pantry'},\n",
       " {'group': 2, 'id': 'cereal', 'label': 'cereal'},\n",
       " {'group': 2, 'id': 'breakfast', 'label': 'breakfast'},\n",
       " {'group': 3, 'id': 'poultry counter', 'label': 'poultry counter'},\n",
       " {'group': 3, 'id': 'meat seafood', 'label': 'meat seafood'},\n",
       " {'group': 4, 'id': 'frozen meals', 'label': 'frozen meals'},\n",
       " {'group': 4, 'id': 'frozen', 'label': 'frozen'},\n",
       " {'group': 5,\n",
       "  'id': 'packaged vegetables fruits',\n",
       "  'label': 'packaged vegetables fruits'},\n",
       " {'group': 5, 'id': 'produce', 'label': 'produce'},\n",
       " {'group': 6, 'id': 'tea', 'label': 'tea'},\n",
       " {'group': 6, 'id': 'beverages', 'label': 'beverages'},\n",
       " {'group': 7, 'id': 'cookies cakes', 'label': 'cookies cakes'},\n",
       " {'group': 7, 'id': 'snacks', 'label': 'snacks'},\n",
       " {'group': 8, 'id': 'yogurt', 'label': 'yogurt'},\n",
       " {'group': 8, 'id': 'dairy eggs', 'label': 'dairy eggs'},\n",
       " {'group': 9,\n",
       "  'id': 'bulk grains rice dried goods',\n",
       "  'label': 'bulk grains rice dried goods'},\n",
       " {'group': 9, 'id': 'bulk', 'label': 'bulk'}]"
      ]
     },
     "execution_count": 18,
     "metadata": {},
     "output_type": "execute_result"
    }
   ],
   "source": [
    "# Let's take a look at the 'clusters'\n",
    "nodes = [node['name'] for node in ig.vs]\n",
    "nodes = [{'id': x, 'label': x} for x in nodes]\n",
    "nodes[:5]\n",
    "\n",
    "for node in nodes:\n",
    "    idx = ig.vs.find(name=node['id']).index\n",
    "    node['group'] = clusters.membership[idx]\n",
    "    \n",
    "nodes[:20]"
   ]
  },
  {
   "cell_type": "code",
   "execution_count": null,
   "metadata": {},
   "outputs": [],
   "source": [
    "# # Write it back into the database\n",
    "# #\n",
    "# # Create constraint on cluster name\n",
    "\n",
    "# graph.run(\"CREATE CONSTRAINT ON (cluster:Cluster) ASSERT cluster.name IS UNIQUE;\")"
   ]
  },
  {
   "cell_type": "code",
   "execution_count": null,
   "metadata": {},
   "outputs": [],
   "source": [
    "# # Write it back into the database\n",
    "# #\n",
    "# # Writing Aisle first\n",
    "\n",
    "# graph.run('''\n",
    "# UNWIND {params} AS p \n",
    "# MATCH (a:Aisle {name: p.id})\n",
    "# MERGE (cluster:Cluster {name: p.group})\n",
    "# MERGE (a)-[:IN_CLUSTER]->(cluster)\n",
    "# ''', params = nodes)"
   ]
  },
  {
   "cell_type": "code",
   "execution_count": null,
   "metadata": {},
   "outputs": [],
   "source": [
    "# # Write it back into the database\n",
    "# #\n",
    "# # Writing Department next\n",
    "\n",
    "# graph.run('''\n",
    "# UNWIND {params} AS p \n",
    "# MATCH (d:Department {name: p.id})\n",
    "# MERGE (cluster:Cluster {name: p.group})\n",
    "# MERGE (d)-[:IN_CLUSTER]->(cluster)\n",
    "# ''', params = nodes)"
   ]
  },
  {
   "cell_type": "code",
   "execution_count": null,
   "metadata": {},
   "outputs": [],
   "source": [
    "random_product = randint(0, 49687)\n",
    "print(\"Random product is: {}\".format(random_product))"
   ]
  },
  {
   "cell_type": "markdown",
   "metadata": {},
   "source": [
    "### Novelty Recommendation\n",
    "\n",
    "I found that having clusters would allow me to group aisles together. A good use for this is to find something for \"Try Something New\" but not too foreign."
   ]
  },
  {
   "cell_type": "code",
   "execution_count": null,
   "metadata": {},
   "outputs": [],
   "source": [
    "# This is giving me stuff on the opposite end of what a user orders most often\n",
    "# Is this my novelty recommendation?\n",
    "\n",
    "MATCH (user:User {id:159738})-[:BOUGHT]->(product)-[:FOUND_IN]->(a:Aisle)-[:IN_CLUSTER]->(cluster)\n",
    "WITH user, cluster, COUNT(*) AS times\n",
    "ORDER BY times DESC\n",
    "LIMIT 1\n",
    "WITH user, cluster\n",
    "MATCH (cluster)<-[:IN_CLUSTER]-(a)<-[:FOUND_IN]-()\n",
    "WITH cluster, a.name AS aisles, COUNT(a) as commonAisles\n",
    "ORDER BY commonAisles ASC\n",
    "LIMIT 1\n",
    "WITH aisles AS x\n",
    "MATCH (Aisle {name: x })<-[:FOUND_IN]-(otherProducts)<-[b:BOUGHT]-()\n",
    "WHERE b.order_total > 10\n",
    "RETURN DISTINCT otherProducts.name, b.order_total\n",
    "ORDER BY b.order_total DESC\n",
    "LIMIT 10"
   ]
  },
  {
   "cell_type": "code",
   "execution_count": null,
   "metadata": {},
   "outputs": [],
   "source": []
  },
  {
   "cell_type": "code",
   "execution_count": null,
   "metadata": {},
   "outputs": [],
   "source": []
  },
  {
   "cell_type": "markdown",
   "metadata": {},
   "source": [
    "## Making recommendations\n",
    "\n",
    "What to buy next? Meat -> Vegetable -> Wine or other way round"
   ]
  },
  {
   "cell_type": "code",
   "execution_count": null,
   "metadata": {},
   "outputs": [],
   "source": []
  },
  {
   "cell_type": "code",
   "execution_count": null,
   "metadata": {},
   "outputs": [],
   "source": []
  },
  {
   "cell_type": "code",
   "execution_count": null,
   "metadata": {},
   "outputs": [],
   "source": []
  }
 ],
 "metadata": {
  "kernelspec": {
   "display_name": "Python 3",
   "language": "python",
   "name": "python3"
  },
  "language_info": {
   "codemirror_mode": {
    "name": "ipython",
    "version": 3
   },
   "file_extension": ".py",
   "mimetype": "text/x-python",
   "name": "python",
   "nbconvert_exporter": "python",
   "pygments_lexer": "ipython3",
   "version": "3.5.5"
  }
 },
 "nbformat": 4,
 "nbformat_minor": 2
}
