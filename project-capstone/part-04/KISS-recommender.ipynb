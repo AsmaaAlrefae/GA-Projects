{
 "cells": [
  {
   "cell_type": "markdown",
   "metadata": {},
   "source": [
    "# Hello\n",
    "\n",
    "![](./localhost.png)"
   ]
  },
  {
   "cell_type": "code",
   "execution_count": 1,
   "metadata": {},
   "outputs": [],
   "source": [
    "# Import py2neo and connect to Neo4j\n",
    "from py2neo import Graph\n",
    "\n",
    "# just an example, replace with credentials for your own Neo4j instance\n",
    "graph = Graph(bolt=True, host=\"localhost\", http_port=7687, user='neo4j', password='kiss')"
   ]
  },
  {
   "cell_type": "code",
   "execution_count": 2,
   "metadata": {},
   "outputs": [
    {
     "data": {
      "text/plain": [
       "0"
      ]
     },
     "execution_count": 2,
     "metadata": {},
     "output_type": "execute_result"
    }
   ],
   "source": [
    "# Hello world, sanity check\n",
    "graph.run(\"MATCH (a) RETURN COUNT(a) AS numberOfNodes\").evaluate()"
   ]
  },
  {
   "cell_type": "code",
   "execution_count": 3,
   "metadata": {},
   "outputs": [
    {
     "data": {
      "text/plain": [
       "<py2neo.graph.Cursor at 0x21720818940>"
      ]
     },
     "execution_count": 3,
     "metadata": {},
     "output_type": "execute_result"
    }
   ],
   "source": [
    "# Create all the constraints\n",
    "\n",
    "graph.run(\"CREATE CONSTRAINT ON (p:Product) ASSERT p.id IS UNIQUE;\")\n",
    "graph.run(\"CREATE CONSTRAINT ON (a:Aisle) ASSERT a.id IS UNIQUE;\")\n",
    "graph.run(\"CREATE CONSTRAINT ON (d:Department) ASSERT d.id IS UNIQUE;\")\n",
    "graph.run(\"CREATE CONSTRAINT ON (u:User) ASSERT u.id IS UNIQUE;\")"
   ]
  },
  {
   "cell_type": "code",
   "execution_count": 4,
   "metadata": {},
   "outputs": [
    {
     "data": {
      "text/plain": [
       "<py2neo.graph.Cursor at 0x217208186a0>"
      ]
     },
     "execution_count": 4,
     "metadata": {},
     "output_type": "execute_result"
    }
   ],
   "source": [
    "# Load the CSV files\n",
    "# File are located at neo4j_home/import folder\n",
    "# products first\n",
    "\n",
    "graph.run(\"\"\"\n",
    "USING PERIODIC COMMIT \n",
    "LOAD CSV WITH HEADERS FROM \"file:///products_clean.csv\" AS line WITH line\n",
    "CREATE (product:Product {id: toInteger(line.product_id), name: line.product_name})\n",
    "MERGE (aisle:Aisle {id: toInteger(line.aisle_id), name: line.aisle})\n",
    "MERGE (department:Department {id: toInteger(line.department_id),name: line.department})\n",
    "CREATE (product)-[:FOUND_IN]->(aisle)\n",
    "CREATE (product)-[:TYPE_OF]->(department);\n",
    "\"\"\")"
   ]
  },
  {
   "cell_type": "code",
   "execution_count": 5,
   "metadata": {},
   "outputs": [
    {
     "data": {
      "text/plain": [
       "<py2neo.graph.Cursor at 0x21720818cc0>"
      ]
     },
     "execution_count": 5,
     "metadata": {},
     "output_type": "execute_result"
    }
   ],
   "source": [
    "# users next\n",
    "# This will take awhile...\n",
    "\n",
    "graph.run(\"\"\"\n",
    "USING PERIODIC COMMIT \n",
    "LOAD CSV WITH HEADERS FROM \"file:///users_orders.csv\" AS line WITH line\n",
    "MATCH (product:Product {id: toInteger(line.product_id)})\n",
    "MERGE (user:User {id: toInteger(line.user_id)})\n",
    "CREATE (user)-[b:BOUGHT]->(product)\n",
    "SET b.order_total = toInteger(line.total_orders);\n",
    "\"\"\")"
   ]
  },
  {
   "cell_type": "markdown",
   "metadata": {},
   "source": [
    "## Collaborative filtering"
   ]
  },
  {
   "cell_type": "code",
   "execution_count": 65,
   "metadata": {},
   "outputs": [],
   "source": [
    "import pandas as pd"
   ]
  },
  {
   "cell_type": "code",
   "execution_count": 8,
   "metadata": {},
   "outputs": [
    {
     "name": "stdout",
     "output_type": "stream",
     "text": [
      "Next user is: 151258\n"
     ]
    }
   ],
   "source": [
    "# Import number generator to generate a random user ID to query\n",
    "from random import randint"
   ]
  },
  {
   "cell_type": "code",
   "execution_count": 12,
   "metadata": {},
   "outputs": [
    {
     "name": "stdout",
     "output_type": "stream",
     "text": [
      "Next user is: 83539\n"
     ]
    }
   ],
   "source": [
    "random_user = randint(0, 206210)\n",
    "print(\"The selected user ID is: {}\".format(random_user))"
   ]
  },
  {
   "cell_type": "markdown",
   "metadata": {},
   "source": [
    "What is we go by aisle? What else do other users buy just as much or more in the same aisle?"
   ]
  },
  {
   "cell_type": "code",
   "execution_count": 14,
   "metadata": {},
   "outputs": [
    {
     "name": "stdout",
     "output_type": "stream",
     "text": [
      "('otherproduct.name': 'Organic Baby Spinach', 'usersInCommon': 8568)\n",
      "('otherproduct.name': 'Organic Blueberries', 'usersInCommon': 4136)\n",
      "('otherproduct.name': 'Organic Grape Tomatoes', 'usersInCommon': 4110)\n",
      "('otherproduct.name': 'Organic Raspberries', 'usersInCommon': 4002)\n",
      "('otherproduct.name': 'Seedless Red Grapes', 'usersInCommon': 3169)\n",
      "('otherproduct.name': 'Organic Baby Carrots', 'usersInCommon': 3123)\n",
      "('otherproduct.name': 'Organic Baby Arugula', 'usersInCommon': 2985)\n",
      "('otherproduct.name': 'Organic Peeled Whole Baby Carrots', 'usersInCommon': 2566)\n",
      "('otherproduct.name': 'Clementines, Bag', 'usersInCommon': 2077)\n",
      "('otherproduct.name': 'Original Hummus', 'usersInCommon': 1563)\n"
     ]
    }
   ],
   "source": [
    "results = graph.run(\"\"\"\n",
    "MATCH (user:User {id: {user_id}})-[b1:BOUGHT]->()-[:FOUND_IN]->()<-[:FOUND_IN]-(otherproduct:Product)<-[b2:BOUGHT]-(otheruser:User)\n",
    "WHERE NOT (user)-[:BOUGHT]->(otherproduct) AND b2.order_total >= b1.order_total\n",
    "RETURN otherproduct.name AS recommendation,\n",
    "       COUNT(*) AS usersInCommon\n",
    "ORDER BY usersInCommon DESC\n",
    "LIMIT 10\"\"\", user_id=random_user)\n",
    "\n",
    "for row in results:\n",
    "    print(row)"
   ]
  },
  {
   "cell_type": "markdown",
   "metadata": {},
   "source": [
    "## Simple Version\n",
    "\n",
    "What else do other users buy just as much as?"
   ]
  },
  {
   "cell_type": "code",
   "execution_count": 27,
   "metadata": {},
   "outputs": [
    {
     "name": "stdout",
     "output_type": "stream",
     "text": [
      "('rec.name': 'Bag of Organic Bananas', 'usersWhoAlsoBought': 741)\n",
      "('rec.name': 'Organic Strawberries', 'usersWhoAlsoBought': 629)\n",
      "('rec.name': 'Organic Hass Avocado', 'usersWhoAlsoBought': 596)\n",
      "('rec.name': 'Organic Raspberries', 'usersWhoAlsoBought': 525)\n",
      "('rec.name': 'Organic Baby Spinach', 'usersWhoAlsoBought': 520)\n",
      "('rec.name': 'Organic Blueberries', 'usersWhoAlsoBought': 403)\n",
      "('rec.name': 'Banana', 'usersWhoAlsoBought': 398)\n",
      "('rec.name': 'Organic Lemon', 'usersWhoAlsoBought': 319)\n",
      "('rec.name': 'Limes', 'usersWhoAlsoBought': 264)\n",
      "('rec.name': 'Organic Zucchini', 'usersWhoAlsoBought': 235)\n"
     ]
    }
   ],
   "source": [
    "results = graph.run(\"\"\"\n",
    "MATCH (user:User {id: {user_id}})-[b1:BOUGHT]->(:Product)<-[b2:BOUGHT]-(otheruser:User)\n",
    "MATCH (otheruser)-[:BOUGHT]->(rec:Product)\n",
    "WHERE NOT EXISTS( (user)-[:BOUGHT]->(rec)) AND b2.order_total >= b1.order_total\n",
    "RETURN rec.name, COUNT(*) AS usersWhoAlsoBought\n",
    "ORDER BY usersWhoAlsoBought DESC \n",
    "LIMIT 10\"\"\", user_id=random_user)\n",
    "\n",
    "for row in results:\n",
    "    print(row)"
   ]
  },
  {
   "cell_type": "markdown",
   "metadata": {},
   "source": [
    "Consider the type of food."
   ]
  },
  {
   "cell_type": "code",
   "execution_count": 70,
   "metadata": {},
   "outputs": [
    {
     "name": "stdout",
     "output_type": "stream",
     "text": [
      "Next user is: 157770\n"
     ]
    }
   ],
   "source": [
    "random_user = randint(0, 206210)\n",
    "print(\"Next user is: {}\".format(random_user))"
   ]
  },
  {
   "cell_type": "code",
   "execution_count": 71,
   "metadata": {},
   "outputs": [
    {
     "name": "stdout",
     "output_type": "stream",
     "text": [
      "('recommendation': 'Dark Chocolate Stump Town Coffee', 'productType': ['candy chocolate'], 'sscore': 2)\n",
      "('recommendation': 'Sweet And Savory Thai Rice Crackers', 'productType': ['crackers'], 'sscore': 2)\n",
      "('recommendation': 'Gluten Free Cracklebred Multigrain', 'productType': ['crackers'], 'sscore': 2)\n",
      "('recommendation': 'Milk Chocolate Candies Fun Size Packs', 'productType': ['candy chocolate'], 'sscore': 2)\n",
      "('recommendation': 'Delicate Wafers Layered with Chocolate Creme and Covered in a Milk Chocolatey Coating Milk Chocolate Candy', 'productType': ['candy chocolate'], 'sscore': 2)\n",
      "('recommendation': 'Skinny Cow Dreamy Clusters Dark Chocolate Candy Pouches', 'productType': ['candy chocolate'], 'sscore': 2)\n",
      "('recommendation': 'Feijoas', 'productType': ['fresh fruits'], 'sscore': 2)\n",
      "('recommendation': 'Grape Licorice Twists', 'productType': ['candy chocolate'], 'sscore': 2)\n",
      "('recommendation': 'Whole Seeded Watermelon', 'productType': ['fresh fruits'], 'sscore': 2)\n",
      "('recommendation': 'Goldfish Space Adventures Baked Snack Crackers', 'productType': ['crackers'], 'sscore': 2)\n"
     ]
    }
   ],
   "source": [
    "results = graph.run(\"\"\"\n",
    "MATCH (user:User {id: {user_id}})-[b:BOUGHT]->(p:Product)\n",
    "WITH user, avg(b.order_total) AS mean\n",
    "\n",
    "MATCH (user)-[b:BOUGHT]->(p:Product)-[:FOUND_IN]->(a:Aisle)\n",
    "WHERE b.order_total >= mean\n",
    "\n",
    "WITH user, a, COUNT(*) AS score\n",
    "\n",
    "MATCH (a)<-[:FOUND_IN]-(rec:Product)\n",
    "WHERE NOT EXISTS((user)-[:BOUGHT]->(rec))\n",
    "\n",
    "RETURN rec.name AS recommendation, COLLECT(DISTINCT a.name) AS productType, SUM(score) AS sscore\n",
    "ORDER BY sscore DESC LIMIT 10\n",
    "\"\"\", user_id=random_user)\n",
    "\n",
    "for row in results:\n",
    "    print(row)"
   ]
  },
  {
   "cell_type": "markdown",
   "metadata": {},
   "source": [
    "Not helpful with the same scores...\n",
    "\n",
    "Let's see if similarity metrics will help instead.\n",
    "\n",
    "### 1) Cosine Similarity\n",
    "\n",
    "The cosine similarty of two users will tell us how similar two users' preferences for products are. Users with a high cosine similarity will have similar preferences."
   ]
  },
  {
   "cell_type": "code",
   "execution_count": 46,
   "metadata": {},
   "outputs": [
    {
     "name": "stdout",
     "output_type": "stream",
     "text": [
      "('p2.id': 169980, 'sim': 0.9969876781034773)\n",
      "('p2.id': 172952, 'sim': 0.9801803870196637)\n",
      "('p2.id': 43659, 'sim': 0.9778117301634254)\n",
      "('p2.id': 32373, 'sim': 0.9772545497599154)\n",
      "('p2.id': 23301, 'sim': 0.9763251586321616)\n",
      "('p2.id': 55857, 'sim': 0.9736320448389624)\n",
      "('p2.id': 35072, 'sim': 0.9684002494125045)\n",
      "('p2.id': 95504, 'sim': 0.9682818167765578)\n",
      "('p2.id': 178096, 'sim': 0.9671176244289773)\n",
      "('p2.id': 165458, 'sim': 0.9669875568304563)\n"
     ]
    }
   ],
   "source": [
    "results = graph.run(\"\"\"\n",
    "MATCH (p1:User {id: {user_id}})-[x:BOUGHT]->(p:Product)<-[y:BOUGHT]-(p2:User)\n",
    "WITH COUNT(p) AS numberproducts, SUM(x.order_total * y.order_total) AS xyDotProduct,\n",
    "SQRT(REDUCE(xDot = 0.0, a IN COLLECT(x.order_total) | xDot + a^2)) AS xLength,\n",
    "SQRT(REDUCE(yDot = 0.0, b IN COLLECT(y.order_total) | yDot + b^2)) AS yLength,\n",
    "p1, p2 WHERE numberproducts > 10\n",
    "RETURN p2.id, xyDotProduct / (xLength * yLength) AS cosim\n",
    "ORDER BY cosim DESC \n",
    "LIMIT 10\"\"\", user_id=random_user)\n",
    "\n",
    "for row in results:\n",
    "    print(row)"
   ]
  },
  {
   "cell_type": "markdown",
   "metadata": {},
   "source": [
    "### 2) Pearson Similarity\n",
    "\n",
    "This is particularly well-suited for product recommendations because it takes into account the fact that different users will have different mean total orders: on average some people do buy only from Instacart, while some prefer to go out of their house. Since Pearson similarity considers differences about the mean, this metric will account for these discrepancies."
   ]
  },
  {
   "cell_type": "code",
   "execution_count": 58,
   "metadata": {},
   "outputs": [
    {
     "name": "stdout",
     "output_type": "stream",
     "text": [
      "('u2.id': 35072, 'pearson': 0.9727175394285357)\n",
      "('u2.id': 43659, 'pearson': 0.9637119084411767)\n",
      "('u2.id': 165458, 'pearson': 0.9293957775127478)\n",
      "('u2.id': 95504, 'pearson': 0.9201349269162116)\n",
      "('u2.id': 152404, 'pearson': 0.8765293905143908)\n",
      "('u2.id': 165996, 'pearson': 0.8226642814199816)\n",
      "('u2.id': 194017, 'pearson': 0.787541481037643)\n",
      "('u2.id': 169980, 'pearson': 0.739962078431307)\n",
      "('u2.id': 165005, 'pearson': 0.7358519473824435)\n",
      "('u2.id': 172952, 'pearson': 0.6187372937371)\n"
     ]
    }
   ],
   "source": [
    "results = graph.run(\"\"\"\n",
    "MATCH (u1:User {id: {user_id}})-[r:BOUGHT]->(m:Product)\n",
    "WITH u1, avg(r.order_total) AS u1_mean\n",
    "\n",
    "MATCH (u1)-[r1:BOUGHT]->(m:Product)<-[r2:BOUGHT]-(u2)\n",
    "WITH u1, u1_mean, u2, COLLECT({r1: r1, r2: r2}) AS totalorders WHERE size(totalorders) > 10\n",
    "\n",
    "MATCH (u2)-[r:BOUGHT]->(m:Product)\n",
    "WITH u1, u1_mean, u2, avg(r.order_total) AS u2_mean, totalorders\n",
    "\n",
    "UNWIND totalorders AS r\n",
    "\n",
    "WITH sum( (r.r1.order_total - u1_mean) * (r.r2.order_total - u2_mean) ) AS nom,\n",
    "     sqrt( sum( (r.r1.order_total - u1_mean)^2) * sum( (r.r2.order_total - u2_mean) ^2)) AS denom,\n",
    "     u1, u2 WHERE denom <> 0\n",
    "\n",
    "RETURN u2.id, nom/denom AS pearson\n",
    "ORDER BY pearson DESC \n",
    "LIMIT 10\"\"\", user_id=random_user)\n",
    "\n",
    "for row in results:\n",
    "    print(row)"
   ]
  },
  {
   "cell_type": "markdown",
   "metadata": {},
   "source": [
    "I have a problem with so many 0.90+ scores for the cosine similarity metric. The Pearson scores seems to be a better spread..."
   ]
  },
  {
   "cell_type": "code",
   "execution_count": 63,
   "metadata": {},
   "outputs": [
    {
     "name": "stdout",
     "output_type": "stream",
     "text": [
      "('recommendation': 'Clementines', 'score': 93.32503170845067)\n",
      "('recommendation': 'Strawberries', 'score': 72.32054522971809)\n",
      "('recommendation': '0% Greek Strained Yogurt', 'score': 61.81156358012525)\n",
      "('recommendation': 'Organic Mexican Blend Finely Shredded Cheese', 'score': 56.702986634710285)\n",
      "('recommendation': 'Almonds', 'score': 52.808198036681276)\n",
      "('recommendation': 'Organic Spring Mix', 'score': 48.82757182433385)\n",
      "('recommendation': 'Organic Romaine Leaf', 'score': 45.730714460175)\n",
      "('recommendation': 'Organic Extra Virgin Olive Oil', 'score': 44.19657590190201)\n",
      "('recommendation': 'Vanilla Greek Yogurt 0% Fat', 'score': 40.16461553291979)\n",
      "('recommendation': 'Organic Reduced Fat Milk', 'score': 39.95795223529057)\n"
     ]
    }
   ],
   "source": [
    "results = graph.run(\"\"\"\n",
    "MATCH (u1:User {id: {user_id}})-[r:BOUGHT]->(m:Product)\n",
    "WITH u1, avg(r.order_total) AS u1_mean\n",
    "\n",
    "MATCH (u1)-[r1:BOUGHT]->(m:Product)<-[r2:BOUGHT]-(u2)\n",
    "WITH u1, u1_mean, u2, COLLECT({r1: r1, r2: r2}) AS totalorders WHERE size(totalorders) > 10\n",
    "\n",
    "MATCH (u2)-[r:BOUGHT]->(m:Product)\n",
    "WITH u1, u1_mean, u2, avg(r.order_total) AS u2_mean, totalorders\n",
    "\n",
    "UNWIND totalorders AS r\n",
    "\n",
    "WITH sum( (r.r1.order_total - u1_mean) * (r.r2.order_total - u2_mean) ) AS nom,\n",
    "     sqrt( sum( (r.r1.order_total - u1_mean)^2) * sum( (r.r2.order_total - u2_mean) ^2)) AS denom,\n",
    "     u1, u2 WHERE denom <> 0\n",
    "\n",
    "WITH u1, u2, nom/denom AS pearson\n",
    "ORDER BY pearson DESC LIMIT 10\n",
    "\n",
    "MATCH (u2)-[r:BOUGHT]->(m:Product) WHERE NOT EXISTS( (u1)-[:BOUGHT]->(m) )\n",
    "\n",
    "RETURN m.name AS recommendation, SUM( pearson * r.order_total) AS score\n",
    "ORDER BY score DESC \n",
    "LIMIT 10\"\"\", user_id=random_user)\n",
    "\n",
    "for row in results:\n",
    "    print(row)"
   ]
  },
  {
   "cell_type": "markdown",
   "metadata": {},
   "source": [
    "#### **Conclusion**\n",
    "\n",
    "I am quite happy using the Pearson similarity to find other products from similar users based on the total number of orders for that product in lieu of a ratings system."
   ]
  },
  {
   "cell_type": "markdown",
   "metadata": {},
   "source": [
    "## Content-based filtering\n",
    "\n",
    "What are other products similar to what you are looking at?"
   ]
  },
  {
   "cell_type": "code",
   "execution_count": null,
   "metadata": {},
   "outputs": [],
   "source": [
    "result = graph.run('''\n",
    "MATCH (aisle:Aisle)-[:FOUND_IN]->(product)<-[:FOUND_IN]-(otherproduct)\n",
    "WHERE aisle.name CONTAINS \"Graph Database\"\n",
    "RETURN otherGroup.name, COUNT(topic) AS topicsInCommon,\n",
    "       COLLECT(topic.name) AS topics\n",
    "ORDER BY topicsInCommon DESC, otherGroup.name\n",
    "LIMIT 10\n",
    "''')\n",
    "\n",
    "for row in result:\n",
    "    print(row)"
   ]
  },
  {
   "cell_type": "code",
   "execution_count": null,
   "metadata": {},
   "outputs": [],
   "source": []
  },
  {
   "cell_type": "code",
   "execution_count": null,
   "metadata": {},
   "outputs": [],
   "source": []
  },
  {
   "cell_type": "code",
   "execution_count": null,
   "metadata": {},
   "outputs": [],
   "source": []
  },
  {
   "cell_type": "markdown",
   "metadata": {},
   "source": [
    "## Making recommendations\n",
    "\n",
    "What to buy next? Meat -> Vegetable -> Wine or other way round"
   ]
  },
  {
   "cell_type": "code",
   "execution_count": null,
   "metadata": {},
   "outputs": [],
   "source": []
  },
  {
   "cell_type": "code",
   "execution_count": null,
   "metadata": {},
   "outputs": [],
   "source": []
  },
  {
   "cell_type": "code",
   "execution_count": null,
   "metadata": {},
   "outputs": [],
   "source": []
  }
 ],
 "metadata": {
  "kernelspec": {
   "display_name": "Python 3",
   "language": "python",
   "name": "python3"
  },
  "language_info": {
   "codemirror_mode": {
    "name": "ipython",
    "version": 3
   },
   "file_extension": ".py",
   "mimetype": "text/x-python",
   "name": "python",
   "nbconvert_exporter": "python",
   "pygments_lexer": "ipython3",
   "version": "3.5.5"
  }
 },
 "nbformat": 4,
 "nbformat_minor": 2
}
