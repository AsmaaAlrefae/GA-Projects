{
 "cells": [
  {
   "cell_type": "code",
   "execution_count": 1,
   "metadata": {},
   "outputs": [],
   "source": [
    "# Import-a-thon.\n",
    "\n",
    "import pandas as pd\n",
    "from py2neo import Graph\n",
    "from igraph import Graph as IGraph\n",
    "\n",
    "# Randomizer for user and/or product selection.\n",
    "from random import randint"
   ]
  },
  {
   "cell_type": "code",
   "execution_count": 2,
   "metadata": {},
   "outputs": [],
   "source": [
    "graph = Graph(bolt=True, host=\"localhost\", http_port=7687, user='neo4j', password='pasta')"
   ]
  },
  {
   "cell_type": "code",
   "execution_count": 33,
   "metadata": {},
   "outputs": [
    {
     "data": {
      "text/html": [
       "<div>\n",
       "<style scoped>\n",
       "    .dataframe tbody tr th:only-of-type {\n",
       "        vertical-align: middle;\n",
       "    }\n",
       "\n",
       "    .dataframe tbody tr th {\n",
       "        vertical-align: top;\n",
       "    }\n",
       "\n",
       "    .dataframe thead th {\n",
       "        text-align: right;\n",
       "    }\n",
       "</style>\n",
       "<table border=\"1\" class=\"dataframe\">\n",
       "  <thead>\n",
       "    <tr style=\"text-align: right;\">\n",
       "      <th></th>\n",
       "    </tr>\n",
       "  </thead>\n",
       "  <tbody>\n",
       "  </tbody>\n",
       "</table>\n",
       "</div>"
      ],
      "text/plain": [
       "Empty DataFrame\n",
       "Columns: []\n",
       "Index: []"
      ]
     },
     "execution_count": 33,
     "metadata": {},
     "output_type": "execute_result"
    }
   ],
   "source": [
    "pd.DataFrame(graph.data(\"\"\"\n",
    "MATCH (a:User)<-[b:BOUGHT]-()-[:BOUGHT]->(d:User)\n",
    "WHERE b.order_total > 50\n",
    "RETURN a.id, d.id, COUNT(*) AS weight\n",
    "ORDER BY weight DESC\n",
    "LIMIT 10\"\"\"))"
   ]
  },
  {
   "cell_type": "code",
   "execution_count": 4,
   "metadata": {},
   "outputs": [],
   "source": [
    "cluster = graph.run(\"\"\"\n",
    "MATCH (a:Aisle)<-[:FOUND_IN]-()-[:TYPE_OF]->(d:Department)\n",
    "RETURN a.name AS aisleName, d.name AS departmentName, COUNT(*) AS weight\"\"\")"
   ]
  },
  {
   "cell_type": "code",
   "execution_count": 5,
   "metadata": {},
   "outputs": [
    {
     "data": {
      "text/plain": [
       "<igraph.Graph at 0x1166ff138>"
      ]
     },
     "execution_count": 5,
     "metadata": {},
     "output_type": "execute_result"
    }
   ],
   "source": [
    "ig = IGraph.TupleList(cluster, weights=True)\n",
    "ig"
   ]
  },
  {
   "cell_type": "code",
   "execution_count": 25,
   "metadata": {},
   "outputs": [
    {
     "data": {
      "text/plain": [
       "16"
      ]
     },
     "execution_count": 25,
     "metadata": {},
     "output_type": "execute_result"
    }
   ],
   "source": [
    "clusters = IGraph.community_walktrap(ig, weights='weight')\n",
    "clusters = clusters.as_clustering()\n",
    "len(clusters)"
   ]
  },
  {
   "cell_type": "code",
   "execution_count": 26,
   "metadata": {},
   "outputs": [
    {
     "data": {
      "text/plain": [
       "[{'group': 0,\n",
       "  'id': 'canned fruit applesauce',\n",
       "  'label': 'canned fruit applesauce'},\n",
       " {'group': 0, 'id': 'canned goods', 'label': 'canned goods'},\n",
       " {'group': 1, 'id': 'trail mix snack mix', 'label': 'trail mix snack mix'},\n",
       " {'group': 1, 'id': 'snacks', 'label': 'snacks'},\n",
       " {'group': 1, 'id': 'chips pretzels', 'label': 'chips pretzels'},\n",
       " {'group': 2, 'id': 'fresh herbs', 'label': 'fresh herbs'},\n",
       " {'group': 2, 'id': 'produce', 'label': 'produce'},\n",
       " {'group': 3, 'id': 'prepared soups salads', 'label': 'prepared soups salads'},\n",
       " {'group': 3, 'id': 'deli', 'label': 'deli'},\n",
       " {'group': 4,\n",
       "  'id': 'preserved dips spreads',\n",
       "  'label': 'preserved dips spreads'},\n",
       " {'group': 4, 'id': 'pantry', 'label': 'pantry'},\n",
       " {'group': 5,\n",
       "  'id': 'specialty wines champagnes',\n",
       "  'label': 'specialty wines champagnes'},\n",
       " {'group': 5, 'id': 'alcohol', 'label': 'alcohol'},\n",
       " {'group': 6, 'id': 'eggs', 'label': 'eggs'},\n",
       " {'group': 6, 'id': 'dairy eggs', 'label': 'dairy eggs'},\n",
       " {'group': 7, 'id': 'frozen dessert', 'label': 'frozen dessert'},\n",
       " {'group': 7, 'id': 'frozen', 'label': 'frozen'},\n",
       " {'group': 8, 'id': 'dry pasta', 'label': 'dry pasta'},\n",
       " {'group': 8, 'id': 'dry goods pasta', 'label': 'dry goods pasta'},\n",
       " {'group': 0, 'id': 'canned meals beans', 'label': 'canned meals beans'}]"
      ]
     },
     "execution_count": 26,
     "metadata": {},
     "output_type": "execute_result"
    }
   ],
   "source": [
    "# Let's take a look at the 'clusters'\n",
    "nodes = [node['name'] for node in ig.vs]\n",
    "nodes = [{'id': x, 'label': x} for x in nodes]\n",
    "nodes[:5]\n",
    "\n",
    "for node in nodes:\n",
    "    idx = ig.vs.find(name=node['id']).index\n",
    "    node['group'] = clusters.membership[idx]\n",
    "    \n",
    "nodes[:20]"
   ]
  },
  {
   "cell_type": "code",
   "execution_count": 27,
   "metadata": {},
   "outputs": [
    {
     "name": "stdout",
     "output_type": "stream",
     "text": [
      "fresh herbs\n",
      "fresh herbs\n",
      "2\n",
      "produce\n",
      "produce\n",
      "2\n",
      "packaged produce\n",
      "packaged produce\n",
      "2\n",
      "packaged vegetables fruits\n",
      "packaged vegetables fruits\n",
      "2\n",
      "fresh vegetables\n",
      "fresh vegetables\n",
      "2\n",
      "fresh fruits\n",
      "fresh fruits\n",
      "2\n"
     ]
    }
   ],
   "source": [
    "for i in nodes:\n",
    "    if i['group'] == 2:\n",
    "        for k, v in i.items():\n",
    "            print(v)"
   ]
  },
  {
   "cell_type": "code",
   "execution_count": 30,
   "metadata": {},
   "outputs": [
    {
     "data": {
      "text/plain": [
       "16"
      ]
     },
     "execution_count": 30,
     "metadata": {},
     "output_type": "execute_result"
    }
   ],
   "source": [
    "clusters_ = IGraph.community_walktrap(ig, weights='weight', steps=2)\n",
    "clusters_ = clusters_.as_clustering()\n",
    "len(clusters_)"
   ]
  },
  {
   "cell_type": "code",
   "execution_count": 31,
   "metadata": {},
   "outputs": [
    {
     "data": {
      "text/plain": [
       "[{'group': 0,\n",
       "  'id': 'canned fruit applesauce',\n",
       "  'label': 'canned fruit applesauce'},\n",
       " {'group': 0, 'id': 'canned goods', 'label': 'canned goods'},\n",
       " {'group': 1, 'id': 'trail mix snack mix', 'label': 'trail mix snack mix'},\n",
       " {'group': 1, 'id': 'snacks', 'label': 'snacks'},\n",
       " {'group': 1, 'id': 'chips pretzels', 'label': 'chips pretzels'},\n",
       " {'group': 2, 'id': 'fresh herbs', 'label': 'fresh herbs'},\n",
       " {'group': 2, 'id': 'produce', 'label': 'produce'},\n",
       " {'group': 3, 'id': 'prepared soups salads', 'label': 'prepared soups salads'},\n",
       " {'group': 3, 'id': 'deli', 'label': 'deli'},\n",
       " {'group': 4,\n",
       "  'id': 'preserved dips spreads',\n",
       "  'label': 'preserved dips spreads'},\n",
       " {'group': 4, 'id': 'pantry', 'label': 'pantry'},\n",
       " {'group': 5,\n",
       "  'id': 'specialty wines champagnes',\n",
       "  'label': 'specialty wines champagnes'},\n",
       " {'group': 5, 'id': 'alcohol', 'label': 'alcohol'},\n",
       " {'group': 6, 'id': 'eggs', 'label': 'eggs'},\n",
       " {'group': 6, 'id': 'dairy eggs', 'label': 'dairy eggs'},\n",
       " {'group': 7, 'id': 'frozen dessert', 'label': 'frozen dessert'},\n",
       " {'group': 7, 'id': 'frozen', 'label': 'frozen'},\n",
       " {'group': 8, 'id': 'dry pasta', 'label': 'dry pasta'},\n",
       " {'group': 8, 'id': 'dry goods pasta', 'label': 'dry goods pasta'},\n",
       " {'group': 0, 'id': 'canned meals beans', 'label': 'canned meals beans'}]"
      ]
     },
     "execution_count": 31,
     "metadata": {},
     "output_type": "execute_result"
    }
   ],
   "source": [
    "nodes = [node['name'] for node in ig.vs]\n",
    "nodes = [{'id': x, 'label': x} for x in nodes]\n",
    "nodes[:5]\n",
    "\n",
    "for node in nodes:\n",
    "    idx = ig.vs.find(name=node['id']).index\n",
    "    node['group'] = clusters.membership[idx]\n",
    "    \n",
    "nodes[:20]"
   ]
  },
  {
   "cell_type": "code",
   "execution_count": null,
   "metadata": {},
   "outputs": [],
   "source": []
  },
  {
   "cell_type": "code",
   "execution_count": null,
   "metadata": {},
   "outputs": [],
   "source": []
  },
  {
   "cell_type": "code",
   "execution_count": null,
   "metadata": {},
   "outputs": [],
   "source": []
  },
  {
   "cell_type": "code",
   "execution_count": null,
   "metadata": {},
   "outputs": [],
   "source": []
  }
 ],
 "metadata": {
  "kernelspec": {
   "display_name": "Python 3",
   "language": "python",
   "name": "python3"
  },
  "language_info": {
   "codemirror_mode": {
    "name": "ipython",
    "version": 3
   },
   "file_extension": ".py",
   "mimetype": "text/x-python",
   "name": "python",
   "nbconvert_exporter": "python",
   "pygments_lexer": "ipython3",
   "version": "3.5.5"
  }
 },
 "nbformat": 4,
 "nbformat_minor": 2
}
