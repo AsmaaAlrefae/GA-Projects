{
 "cells": [
  {
   "cell_type": "code",
   "execution_count": 1,
   "metadata": {},
   "outputs": [],
   "source": [
    "# Import-a-thon.\n",
    "\n",
    "import sqlite3\n",
    "import pandas as pd\n",
    "from py2neo import Graph\n",
    "from igraph import Graph as IGraph\n",
    "import matplotlib.pyplot as plt\n",
    "%matplotlib inline\n",
    "\n",
    "# Randomizer for user and/or product selection.\n",
    "from random import randint"
   ]
  },
  {
   "cell_type": "markdown",
   "metadata": {},
   "source": [
    "# Recipe Recommender System\n",
    "\n",
    "## Agenda\n",
    "\n",
    "1. Datasets\n",
    "2. Tech Stack\n",
    "    - Cleaning and preparing the datasets\n",
    "    - Any fun EDAs \n",
    "3. Overview of Recommender Systems\n",
    "    - Collaborative-based Filtering\n",
    "    - Content-based Filtering\n",
    "    - What did not work aka Lessons learnt the hard way\n",
    "4. Cross Polination\n",
    "5. Summary\n",
    "\n",
    "---"
   ]
  },
  {
   "cell_type": "markdown",
   "metadata": {},
   "source": [
    "# 1. Datasets\n",
    "\n",
    "1. Instacart's users and the products they have bought (in the year 2017).\n",
    "2. Epicurous's recipe dataset (from 2017)."
   ]
  },
  {
   "cell_type": "markdown",
   "metadata": {},
   "source": [
    "# 2. Tech Stack\n",
    "\n",
    "List of tools used and their packages:\n",
    "1. Relational Database, SQL (SQLite)\n",
    "2. Graph Database, Neo4j (py2neo)\n",
    "3. iGraph, for clustering (python-igraph)"
   ]
  },
  {
   "cell_type": "markdown",
   "metadata": {},
   "source": [
    "## Cleaning datasets for the database\n",
    "\n",
    "### SQL\n",
    "\n",
    "- Set up SQL.\n",
    "- Load the CSVs into pandas and have a quick look."
   ]
  },
  {
   "cell_type": "markdown",
   "metadata": {},
   "source": [
    "### Instacart"
   ]
  },
  {
   "cell_type": "code",
   "execution_count": 2,
   "metadata": {},
   "outputs": [],
   "source": [
    "connection = sqlite3.connect('../data/interim/instacart.db.sqlite')"
   ]
  },
  {
   "cell_type": "code",
   "execution_count": 3,
   "metadata": {},
   "outputs": [],
   "source": [
    "# Load the orders dataset.\n",
    "orders = '../data/raw/orders.csv'\n",
    "df_order = pd.read_csv(orders, encoding = 'utf8')\n",
    "\n",
    "# Save it to SQL.\n",
    "df_order.to_sql(name='orders',con=connection,if_exists='replace',index=False)"
   ]
  },
  {
   "cell_type": "code",
   "execution_count": 4,
   "metadata": {},
   "outputs": [],
   "source": [
    "# Load the products dataset.\n",
    "products = '../data/raw/products.csv'\n",
    "df_product = pd.read_csv(products, encoding = 'utf8')\n",
    "\n",
    "# Save it to SQL.\n",
    "df_product.to_sql(name='product',con=connection,if_exists='replace',index=False)"
   ]
  },
  {
   "cell_type": "code",
   "execution_count": 5,
   "metadata": {},
   "outputs": [],
   "source": [
    "# Load the order_products dataset.\n",
    "order_products = '../data/raw/order_products.csv'\n",
    "df_main = pd.read_csv(order_products, encoding = 'utf8')\n",
    "\n",
    "# Saving to a SQL file.\n",
    "df_main.to_sql(name='main',con=connection,if_exists='replace',index=False)"
   ]
  },
  {
   "cell_type": "code",
   "execution_count": 6,
   "metadata": {},
   "outputs": [],
   "source": [
    "# Load the aisles dataset.\n",
    "aisles = '../data/raw/aisles.csv'\n",
    "df_aisle = pd.read_csv(aisles, encoding = 'utf8')\n",
    "\n",
    "# Saving to a SQL file.\n",
    "df_aisle.to_sql(name='aisle',con=connection,if_exists='replace',index=False)"
   ]
  },
  {
   "cell_type": "code",
   "execution_count": 7,
   "metadata": {},
   "outputs": [],
   "source": [
    "# Load the departments dataset.\n",
    "departments = '../data/raw/departments.csv'\n",
    "df_department = pd.read_csv(departments, encoding = 'utf8')\n",
    "\n",
    "# Saving to a SQL file.\n",
    "df_department.to_sql(name='department',con=connection,if_exists='replace',index=False)"
   ]
  },
  {
   "cell_type": "markdown",
   "metadata": {},
   "source": [
    "### Preparing the files For Neo4j\n",
    "\n",
    "- Neo4j reads CSV files and JSON files (via a plugin)\n",
    "- Doesn't like duplicates. \n",
    "- Is quite particular ~~annoying~~ about encoding.\n",
    "- Doesn't like strings such as: '9\" Cast Iron Pot'\n",
    "- Condense 5 CSV files into 2:\n",
    "    1. `products_clean.csv`\n",
    "    2. `users_order.csv`"
   ]
  },
  {
   "cell_type": "code",
   "execution_count": 8,
   "metadata": {},
   "outputs": [],
   "source": [
    "# Create products_clean.csv.\n",
    "\n",
    "sql_query = '''\n",
    "SELECT product.product_id, product.product_name, product.aisle_id, product.department_id, aisle.aisle, department.department\n",
    "FROM product\n",
    "INNER JOIN aisle ON product.aisle_id = aisle.aisle_id\n",
    "INNER JOIN department ON product.department_id = department.department_id\n",
    "'''"
   ]
  },
  {
   "cell_type": "code",
   "execution_count": 9,
   "metadata": {},
   "outputs": [
    {
     "data": {
      "text/html": [
       "<div>\n",
       "<style scoped>\n",
       "    .dataframe tbody tr th:only-of-type {\n",
       "        vertical-align: middle;\n",
       "    }\n",
       "\n",
       "    .dataframe tbody tr th {\n",
       "        vertical-align: top;\n",
       "    }\n",
       "\n",
       "    .dataframe thead th {\n",
       "        text-align: right;\n",
       "    }\n",
       "</style>\n",
       "<table border=\"1\" class=\"dataframe\">\n",
       "  <thead>\n",
       "    <tr style=\"text-align: right;\">\n",
       "      <th></th>\n",
       "      <th>product_id</th>\n",
       "      <th>product_name</th>\n",
       "      <th>aisle_id</th>\n",
       "      <th>department_id</th>\n",
       "      <th>aisle</th>\n",
       "      <th>department</th>\n",
       "    </tr>\n",
       "  </thead>\n",
       "  <tbody>\n",
       "    <tr>\n",
       "      <th>0</th>\n",
       "      <td>1</td>\n",
       "      <td>Chocolate Sandwich Cookies</td>\n",
       "      <td>61</td>\n",
       "      <td>19</td>\n",
       "      <td>cookies cakes</td>\n",
       "      <td>snacks</td>\n",
       "    </tr>\n",
       "    <tr>\n",
       "      <th>1</th>\n",
       "      <td>2</td>\n",
       "      <td>All-Seasons Salt</td>\n",
       "      <td>104</td>\n",
       "      <td>13</td>\n",
       "      <td>spices seasonings</td>\n",
       "      <td>pantry</td>\n",
       "    </tr>\n",
       "    <tr>\n",
       "      <th>2</th>\n",
       "      <td>3</td>\n",
       "      <td>Robust Golden Unsweetened Oolong Tea</td>\n",
       "      <td>94</td>\n",
       "      <td>7</td>\n",
       "      <td>tea</td>\n",
       "      <td>beverages</td>\n",
       "    </tr>\n",
       "    <tr>\n",
       "      <th>3</th>\n",
       "      <td>4</td>\n",
       "      <td>Smart Ones Classic Favorites Mini Rigatoni Wit...</td>\n",
       "      <td>38</td>\n",
       "      <td>1</td>\n",
       "      <td>frozen meals</td>\n",
       "      <td>frozen</td>\n",
       "    </tr>\n",
       "    <tr>\n",
       "      <th>4</th>\n",
       "      <td>5</td>\n",
       "      <td>Green Chile Anytime Sauce</td>\n",
       "      <td>5</td>\n",
       "      <td>13</td>\n",
       "      <td>marinades meat preparation</td>\n",
       "      <td>pantry</td>\n",
       "    </tr>\n",
       "  </tbody>\n",
       "</table>\n",
       "</div>"
      ],
      "text/plain": [
       "   product_id                                       product_name  aisle_id  \\\n",
       "0           1                         Chocolate Sandwich Cookies        61   \n",
       "1           2                                   All-Seasons Salt       104   \n",
       "2           3               Robust Golden Unsweetened Oolong Tea        94   \n",
       "3           4  Smart Ones Classic Favorites Mini Rigatoni Wit...        38   \n",
       "4           5                          Green Chile Anytime Sauce         5   \n",
       "\n",
       "   department_id                       aisle department  \n",
       "0             19               cookies cakes     snacks  \n",
       "1             13           spices seasonings     pantry  \n",
       "2              7                         tea  beverages  \n",
       "3              1                frozen meals     frozen  \n",
       "4             13  marinades meat preparation     pantry  "
      ]
     },
     "execution_count": 9,
     "metadata": {},
     "output_type": "execute_result"
    }
   ],
   "source": [
    "# This will take awhile...\n",
    "df = pd.read_sql(sql_query, con=connection)\n",
    "df.head()"
   ]
  },
  {
   "cell_type": "code",
   "execution_count": 10,
   "metadata": {},
   "outputs": [
    {
     "data": {
      "text/plain": [
       "personal care      6563\n",
       "snacks             6264\n",
       "pantry             5371\n",
       "beverages          4365\n",
       "frozen             4007\n",
       "dairy eggs         3449\n",
       "household          3085\n",
       "canned goods       2092\n",
       "dry goods pasta    1858\n",
       "produce            1684\n",
       "bakery             1516\n",
       "deli               1322\n",
       "missing            1258\n",
       "international      1139\n",
       "breakfast          1115\n",
       "babies             1081\n",
       "alcohol            1054\n",
       "pets                972\n",
       "meat seafood        907\n",
       "other               548\n",
       "bulk                 38\n",
       "Name: department, dtype: int64"
      ]
     },
     "execution_count": 10,
     "metadata": {},
     "output_type": "execute_result"
    }
   ],
   "source": [
    "df['department'].value_counts()"
   ]
  },
  {
   "cell_type": "code",
   "execution_count": 11,
   "metadata": {},
   "outputs": [
    {
     "data": {
      "text/html": [
       "<div>\n",
       "<style scoped>\n",
       "    .dataframe tbody tr th:only-of-type {\n",
       "        vertical-align: middle;\n",
       "    }\n",
       "\n",
       "    .dataframe tbody tr th {\n",
       "        vertical-align: top;\n",
       "    }\n",
       "\n",
       "    .dataframe thead th {\n",
       "        text-align: right;\n",
       "    }\n",
       "</style>\n",
       "<table border=\"1\" class=\"dataframe\">\n",
       "  <thead>\n",
       "    <tr style=\"text-align: right;\">\n",
       "      <th></th>\n",
       "      <th>product_id</th>\n",
       "      <th>product_name</th>\n",
       "      <th>aisle_id</th>\n",
       "      <th>department_id</th>\n",
       "      <th>aisle</th>\n",
       "      <th>department</th>\n",
       "    </tr>\n",
       "  </thead>\n",
       "  <tbody>\n",
       "    <tr>\n",
       "      <th>0</th>\n",
       "      <td>1</td>\n",
       "      <td>Chocolate Sandwich Cookies</td>\n",
       "      <td>61</td>\n",
       "      <td>19</td>\n",
       "      <td>cookies cakes</td>\n",
       "      <td>snacks</td>\n",
       "    </tr>\n",
       "    <tr>\n",
       "      <th>1</th>\n",
       "      <td>2</td>\n",
       "      <td>All-Seasons Salt</td>\n",
       "      <td>104</td>\n",
       "      <td>13</td>\n",
       "      <td>spices seasonings</td>\n",
       "      <td>pantry</td>\n",
       "    </tr>\n",
       "    <tr>\n",
       "      <th>2</th>\n",
       "      <td>3</td>\n",
       "      <td>Robust Golden Unsweetened Oolong Tea</td>\n",
       "      <td>94</td>\n",
       "      <td>7</td>\n",
       "      <td>tea</td>\n",
       "      <td>beverages</td>\n",
       "    </tr>\n",
       "    <tr>\n",
       "      <th>3</th>\n",
       "      <td>4</td>\n",
       "      <td>Smart Ones Classic Favorites Mini Rigatoni Wit...</td>\n",
       "      <td>38</td>\n",
       "      <td>1</td>\n",
       "      <td>frozen meals</td>\n",
       "      <td>frozen</td>\n",
       "    </tr>\n",
       "    <tr>\n",
       "      <th>4</th>\n",
       "      <td>5</td>\n",
       "      <td>Green Chile Anytime Sauce</td>\n",
       "      <td>5</td>\n",
       "      <td>13</td>\n",
       "      <td>marinades meat preparation</td>\n",
       "      <td>pantry</td>\n",
       "    </tr>\n",
       "  </tbody>\n",
       "</table>\n",
       "</div>"
      ],
      "text/plain": [
       "   product_id                                       product_name  aisle_id  \\\n",
       "0           1                         Chocolate Sandwich Cookies        61   \n",
       "1           2                                   All-Seasons Salt       104   \n",
       "2           3               Robust Golden Unsweetened Oolong Tea        94   \n",
       "3           4  Smart Ones Classic Favorites Mini Rigatoni Wit...        38   \n",
       "4           5                          Green Chile Anytime Sauce         5   \n",
       "\n",
       "   department_id                       aisle department  \n",
       "0             19               cookies cakes     snacks  \n",
       "1             13           spices seasonings     pantry  \n",
       "2              7                         tea  beverages  \n",
       "3              1                frozen meals     frozen  \n",
       "4             13  marinades meat preparation     pantry  "
      ]
     },
     "execution_count": 11,
     "metadata": {},
     "output_type": "execute_result"
    }
   ],
   "source": [
    "to_delete = ['personal care','household','missing','babies','pets']\n",
    "\n",
    "df_clean = df[~df['department'].isin(to_delete)].copy()\n",
    "df_clean.head()"
   ]
  },
  {
   "cell_type": "code",
   "execution_count": 12,
   "metadata": {},
   "outputs": [],
   "source": [
    "# Remove those with \" in the names.\n",
    "df_clean = df_clean[~df_clean['product_name'].str.contains('\"')]"
   ]
  },
  {
   "cell_type": "code",
   "execution_count": 13,
   "metadata": {},
   "outputs": [],
   "source": [
    "# Remove any weird encodings.\n",
    "df_clean['product_name'] = df_clean['product_name'].apply(lambda x: x.encode('ascii', 'ignore').decode('ascii').strip())"
   ]
  },
  {
   "cell_type": "code",
   "execution_count": 14,
   "metadata": {},
   "outputs": [],
   "source": [
    "# Save to csv.\n",
    "df_clean.to_csv('../data/processed/products_clean.csv', index=False)"
   ]
  },
  {
   "cell_type": "code",
   "execution_count": 15,
   "metadata": {},
   "outputs": [],
   "source": [
    "# Create the users AND orders csv.\n",
    "\n",
    "sql_query = '''\n",
    "SELECT orders.user_id, main.product_id, COUNT(orders.order_id) AS count_orders\n",
    "FROM main\n",
    "INNER JOIN orders ON orders.order_id = main.order_id\n",
    "GROUP BY orders.order_id\n",
    "'''"
   ]
  },
  {
   "cell_type": "code",
   "execution_count": 16,
   "metadata": {},
   "outputs": [],
   "source": [
    "# This will take awhile...\n",
    "df = pd.read_sql(sql_query, con=connection)"
   ]
  },
  {
   "cell_type": "code",
   "execution_count": 17,
   "metadata": {},
   "outputs": [
    {
     "data": {
      "text/html": [
       "<div>\n",
       "<style scoped>\n",
       "    .dataframe tbody tr th:only-of-type {\n",
       "        vertical-align: middle;\n",
       "    }\n",
       "\n",
       "    .dataframe tbody tr th {\n",
       "        vertical-align: top;\n",
       "    }\n",
       "\n",
       "    .dataframe thead th {\n",
       "        text-align: right;\n",
       "    }\n",
       "</style>\n",
       "<table border=\"1\" class=\"dataframe\">\n",
       "  <thead>\n",
       "    <tr style=\"text-align: right;\">\n",
       "      <th></th>\n",
       "      <th>user_id</th>\n",
       "      <th>product_id</th>\n",
       "      <th>count_orders</th>\n",
       "    </tr>\n",
       "  </thead>\n",
       "  <tbody>\n",
       "    <tr>\n",
       "      <th>445008</th>\n",
       "      <td>1</td>\n",
       "      <td>30450</td>\n",
       "      <td>5</td>\n",
       "    </tr>\n",
       "    <tr>\n",
       "      <th>405352</th>\n",
       "      <td>1</td>\n",
       "      <td>13176</td>\n",
       "      <td>8</td>\n",
       "    </tr>\n",
       "    <tr>\n",
       "      <th>2118491</th>\n",
       "      <td>1</td>\n",
       "      <td>26405</td>\n",
       "      <td>5</td>\n",
       "    </tr>\n",
       "    <tr>\n",
       "      <th>2396411</th>\n",
       "      <td>1</td>\n",
       "      <td>12427</td>\n",
       "      <td>9</td>\n",
       "    </tr>\n",
       "    <tr>\n",
       "      <th>2386095</th>\n",
       "      <td>1</td>\n",
       "      <td>26405</td>\n",
       "      <td>5</td>\n",
       "    </tr>\n",
       "    <tr>\n",
       "      <th>2253888</th>\n",
       "      <td>1</td>\n",
       "      <td>13032</td>\n",
       "      <td>6</td>\n",
       "    </tr>\n",
       "    <tr>\n",
       "      <th>516695</th>\n",
       "      <td>1</td>\n",
       "      <td>13032</td>\n",
       "      <td>5</td>\n",
       "    </tr>\n",
       "    <tr>\n",
       "      <th>3164631</th>\n",
       "      <td>1</td>\n",
       "      <td>25133</td>\n",
       "      <td>4</td>\n",
       "    </tr>\n",
       "    <tr>\n",
       "      <th>2156588</th>\n",
       "      <td>1</td>\n",
       "      <td>12427</td>\n",
       "      <td>6</td>\n",
       "    </tr>\n",
       "    <tr>\n",
       "      <th>2921151</th>\n",
       "      <td>1</td>\n",
       "      <td>49235</td>\n",
       "      <td>6</td>\n",
       "    </tr>\n",
       "    <tr>\n",
       "      <th>3001541</th>\n",
       "      <td>2</td>\n",
       "      <td>34688</td>\n",
       "      <td>14</td>\n",
       "    </tr>\n",
       "    <tr>\n",
       "      <th>1317127</th>\n",
       "      <td>2</td>\n",
       "      <td>21227</td>\n",
       "      <td>15</td>\n",
       "    </tr>\n",
       "    <tr>\n",
       "      <th>1572067</th>\n",
       "      <td>2</td>\n",
       "      <td>47766</td>\n",
       "      <td>13</td>\n",
       "    </tr>\n",
       "    <tr>\n",
       "      <th>1410579</th>\n",
       "      <td>2</td>\n",
       "      <td>8138</td>\n",
       "      <td>6</td>\n",
       "    </tr>\n",
       "    <tr>\n",
       "      <th>693452</th>\n",
       "      <td>2</td>\n",
       "      <td>21150</td>\n",
       "      <td>13</td>\n",
       "    </tr>\n",
       "    <tr>\n",
       "      <th>1786486</th>\n",
       "      <td>2</td>\n",
       "      <td>28874</td>\n",
       "      <td>5</td>\n",
       "    </tr>\n",
       "    <tr>\n",
       "      <th>1359770</th>\n",
       "      <td>2</td>\n",
       "      <td>2573</td>\n",
       "      <td>9</td>\n",
       "    </tr>\n",
       "    <tr>\n",
       "      <th>3071555</th>\n",
       "      <td>2</td>\n",
       "      <td>45948</td>\n",
       "      <td>9</td>\n",
       "    </tr>\n",
       "    <tr>\n",
       "      <th>2994519</th>\n",
       "      <td>2</td>\n",
       "      <td>12258</td>\n",
       "      <td>19</td>\n",
       "    </tr>\n",
       "    <tr>\n",
       "      <th>2037238</th>\n",
       "      <td>2</td>\n",
       "      <td>45066</td>\n",
       "      <td>13</td>\n",
       "    </tr>\n",
       "  </tbody>\n",
       "</table>\n",
       "</div>"
      ],
      "text/plain": [
       "         user_id  product_id  count_orders\n",
       "445008         1       30450             5\n",
       "405352         1       13176             8\n",
       "2118491        1       26405             5\n",
       "2396411        1       12427             9\n",
       "2386095        1       26405             5\n",
       "2253888        1       13032             6\n",
       "516695         1       13032             5\n",
       "3164631        1       25133             4\n",
       "2156588        1       12427             6\n",
       "2921151        1       49235             6\n",
       "3001541        2       34688            14\n",
       "1317127        2       21227            15\n",
       "1572067        2       47766            13\n",
       "1410579        2        8138             6\n",
       "693452         2       21150            13\n",
       "1786486        2       28874             5\n",
       "1359770        2        2573             9\n",
       "3071555        2       45948             9\n",
       "2994519        2       12258            19\n",
       "2037238        2       45066            13"
      ]
     },
     "execution_count": 17,
     "metadata": {},
     "output_type": "execute_result"
    }
   ],
   "source": [
    "df.sort_values(by='user_id', inplace=True)\n",
    "df.head(20)"
   ]
  },
  {
   "cell_type": "code",
   "execution_count": 18,
   "metadata": {},
   "outputs": [
    {
     "data": {
      "text/plain": [
       "(3214874, 3)"
      ]
     },
     "execution_count": 18,
     "metadata": {},
     "output_type": "execute_result"
    }
   ],
   "source": [
    "df.shape"
   ]
  },
  {
   "cell_type": "code",
   "execution_count": 19,
   "metadata": {},
   "outputs": [],
   "source": [
    "# Summing the total_orders.\n",
    "# 'Duplicates' created when users buy one item more than once in the same order.\n",
    "df['total_orders'] = df.groupby(['user_id', 'product_id'])['count_orders'].transform('sum')"
   ]
  },
  {
   "cell_type": "code",
   "execution_count": 20,
   "metadata": {},
   "outputs": [
    {
     "data": {
      "text/html": [
       "<div>\n",
       "<style scoped>\n",
       "    .dataframe tbody tr th:only-of-type {\n",
       "        vertical-align: middle;\n",
       "    }\n",
       "\n",
       "    .dataframe tbody tr th {\n",
       "        vertical-align: top;\n",
       "    }\n",
       "\n",
       "    .dataframe thead th {\n",
       "        text-align: right;\n",
       "    }\n",
       "</style>\n",
       "<table border=\"1\" class=\"dataframe\">\n",
       "  <thead>\n",
       "    <tr style=\"text-align: right;\">\n",
       "      <th></th>\n",
       "      <th>user_id</th>\n",
       "      <th>product_id</th>\n",
       "      <th>total_orders</th>\n",
       "    </tr>\n",
       "  </thead>\n",
       "  <tbody>\n",
       "    <tr>\n",
       "      <th>445008</th>\n",
       "      <td>1</td>\n",
       "      <td>30450</td>\n",
       "      <td>5</td>\n",
       "    </tr>\n",
       "    <tr>\n",
       "      <th>405352</th>\n",
       "      <td>1</td>\n",
       "      <td>13176</td>\n",
       "      <td>8</td>\n",
       "    </tr>\n",
       "    <tr>\n",
       "      <th>2118491</th>\n",
       "      <td>1</td>\n",
       "      <td>26405</td>\n",
       "      <td>10</td>\n",
       "    </tr>\n",
       "    <tr>\n",
       "      <th>2396411</th>\n",
       "      <td>1</td>\n",
       "      <td>12427</td>\n",
       "      <td>15</td>\n",
       "    </tr>\n",
       "    <tr>\n",
       "      <th>2253888</th>\n",
       "      <td>1</td>\n",
       "      <td>13032</td>\n",
       "      <td>11</td>\n",
       "    </tr>\n",
       "    <tr>\n",
       "      <th>3164631</th>\n",
       "      <td>1</td>\n",
       "      <td>25133</td>\n",
       "      <td>4</td>\n",
       "    </tr>\n",
       "    <tr>\n",
       "      <th>2921151</th>\n",
       "      <td>1</td>\n",
       "      <td>49235</td>\n",
       "      <td>6</td>\n",
       "    </tr>\n",
       "    <tr>\n",
       "      <th>3001541</th>\n",
       "      <td>2</td>\n",
       "      <td>34688</td>\n",
       "      <td>14</td>\n",
       "    </tr>\n",
       "    <tr>\n",
       "      <th>1317127</th>\n",
       "      <td>2</td>\n",
       "      <td>21227</td>\n",
       "      <td>15</td>\n",
       "    </tr>\n",
       "    <tr>\n",
       "      <th>1572067</th>\n",
       "      <td>2</td>\n",
       "      <td>47766</td>\n",
       "      <td>13</td>\n",
       "    </tr>\n",
       "    <tr>\n",
       "      <th>1410579</th>\n",
       "      <td>2</td>\n",
       "      <td>8138</td>\n",
       "      <td>6</td>\n",
       "    </tr>\n",
       "    <tr>\n",
       "      <th>693452</th>\n",
       "      <td>2</td>\n",
       "      <td>21150</td>\n",
       "      <td>13</td>\n",
       "    </tr>\n",
       "    <tr>\n",
       "      <th>1786486</th>\n",
       "      <td>2</td>\n",
       "      <td>28874</td>\n",
       "      <td>5</td>\n",
       "    </tr>\n",
       "    <tr>\n",
       "      <th>1359770</th>\n",
       "      <td>2</td>\n",
       "      <td>2573</td>\n",
       "      <td>9</td>\n",
       "    </tr>\n",
       "    <tr>\n",
       "      <th>3071555</th>\n",
       "      <td>2</td>\n",
       "      <td>45948</td>\n",
       "      <td>9</td>\n",
       "    </tr>\n",
       "    <tr>\n",
       "      <th>2994519</th>\n",
       "      <td>2</td>\n",
       "      <td>12258</td>\n",
       "      <td>19</td>\n",
       "    </tr>\n",
       "    <tr>\n",
       "      <th>2037238</th>\n",
       "      <td>2</td>\n",
       "      <td>45066</td>\n",
       "      <td>13</td>\n",
       "    </tr>\n",
       "    <tr>\n",
       "      <th>740427</th>\n",
       "      <td>2</td>\n",
       "      <td>14306</td>\n",
       "      <td>16</td>\n",
       "    </tr>\n",
       "    <tr>\n",
       "      <th>1127167</th>\n",
       "      <td>2</td>\n",
       "      <td>33276</td>\n",
       "      <td>21</td>\n",
       "    </tr>\n",
       "    <tr>\n",
       "      <th>788854</th>\n",
       "      <td>2</td>\n",
       "      <td>7963</td>\n",
       "      <td>16</td>\n",
       "    </tr>\n",
       "  </tbody>\n",
       "</table>\n",
       "</div>"
      ],
      "text/plain": [
       "         user_id  product_id  total_orders\n",
       "445008         1       30450             5\n",
       "405352         1       13176             8\n",
       "2118491        1       26405            10\n",
       "2396411        1       12427            15\n",
       "2253888        1       13032            11\n",
       "3164631        1       25133             4\n",
       "2921151        1       49235             6\n",
       "3001541        2       34688            14\n",
       "1317127        2       21227            15\n",
       "1572067        2       47766            13\n",
       "1410579        2        8138             6\n",
       "693452         2       21150            13\n",
       "1786486        2       28874             5\n",
       "1359770        2        2573             9\n",
       "3071555        2       45948             9\n",
       "2994519        2       12258            19\n",
       "2037238        2       45066            13\n",
       "740427         2       14306            16\n",
       "1127167        2       33276            21\n",
       "788854         2        7963            16"
      ]
     },
     "execution_count": 20,
     "metadata": {},
     "output_type": "execute_result"
    }
   ],
   "source": [
    "# Drop row duplicates since we have the total_orders.\n",
    "df.drop_duplicates(subset=['user_id','product_id'], keep='first', inplace=True)\n",
    "\n",
    "# Drop column 'count_order' since we don't need it anymore.\n",
    "df.drop(columns=['count_orders'], inplace=True)\n",
    "\n",
    "df.head(20)"
   ]
  },
  {
   "cell_type": "code",
   "execution_count": 21,
   "metadata": {},
   "outputs": [],
   "source": [
    "# This will take awhile...\n",
    "df.to_csv('../data/processed/users_orders.csv', index=False)"
   ]
  },
  {
   "cell_type": "markdown",
   "metadata": {},
   "source": [
    "### Epicurious\n",
    "\n",
    "Not CSV, but a JSON file!"
   ]
  },
  {
   "cell_type": "code",
   "execution_count": 22,
   "metadata": {},
   "outputs": [
    {
     "data": {
      "text/html": [
       "<div>\n",
       "<style scoped>\n",
       "    .dataframe tbody tr th:only-of-type {\n",
       "        vertical-align: middle;\n",
       "    }\n",
       "\n",
       "    .dataframe tbody tr th {\n",
       "        vertical-align: top;\n",
       "    }\n",
       "\n",
       "    .dataframe thead th {\n",
       "        text-align: right;\n",
       "    }\n",
       "</style>\n",
       "<table border=\"1\" class=\"dataframe\">\n",
       "  <thead>\n",
       "    <tr style=\"text-align: right;\">\n",
       "      <th></th>\n",
       "      <th>calories</th>\n",
       "      <th>categories</th>\n",
       "      <th>date</th>\n",
       "      <th>desc</th>\n",
       "      <th>directions</th>\n",
       "      <th>fat</th>\n",
       "      <th>ingredients</th>\n",
       "      <th>protein</th>\n",
       "      <th>rating</th>\n",
       "      <th>sodium</th>\n",
       "      <th>title</th>\n",
       "    </tr>\n",
       "  </thead>\n",
       "  <tbody>\n",
       "    <tr>\n",
       "      <th>0</th>\n",
       "      <td>426.0</td>\n",
       "      <td>[Sandwich, Bean, Fruit, Tomato, turkey, Vegeta...</td>\n",
       "      <td>2006-09-01 04:00:00</td>\n",
       "      <td>None</td>\n",
       "      <td>[1. Place the stock, lentils, celery, carrot, ...</td>\n",
       "      <td>7.0</td>\n",
       "      <td>[4 cups low-sodium vegetable or chicken stock,...</td>\n",
       "      <td>30.0</td>\n",
       "      <td>2.500</td>\n",
       "      <td>559.0</td>\n",
       "      <td>Lentil, Apple, and Turkey Wrap</td>\n",
       "    </tr>\n",
       "    <tr>\n",
       "      <th>1</th>\n",
       "      <td>403.0</td>\n",
       "      <td>[Food Processor, Onion, Pork, Bake, Bastille D...</td>\n",
       "      <td>2004-08-20 04:00:00</td>\n",
       "      <td>This uses the same ingredients found in boudin...</td>\n",
       "      <td>[Combine first 9 ingredients in heavy medium s...</td>\n",
       "      <td>23.0</td>\n",
       "      <td>[1 1/2 cups whipping cream, 2 medium onions, c...</td>\n",
       "      <td>18.0</td>\n",
       "      <td>4.375</td>\n",
       "      <td>1439.0</td>\n",
       "      <td>Boudin Blanc Terrine with Red Onion Confit</td>\n",
       "    </tr>\n",
       "    <tr>\n",
       "      <th>2</th>\n",
       "      <td>165.0</td>\n",
       "      <td>[Soup/Stew, Dairy, Potato, Vegetable, Fennel, ...</td>\n",
       "      <td>2004-08-20 04:00:00</td>\n",
       "      <td>None</td>\n",
       "      <td>[In a large heavy saucepan cook diced fennel a...</td>\n",
       "      <td>7.0</td>\n",
       "      <td>[1 fennel bulb (sometimes called anise), stalk...</td>\n",
       "      <td>6.0</td>\n",
       "      <td>3.750</td>\n",
       "      <td>165.0</td>\n",
       "      <td>Potato and Fennel Soup Hodge</td>\n",
       "    </tr>\n",
       "    <tr>\n",
       "      <th>3</th>\n",
       "      <td>NaN</td>\n",
       "      <td>[Fish, Olive, Tomato, Sauté, Low Fat, Low Cal,...</td>\n",
       "      <td>2009-03-27 04:00:00</td>\n",
       "      <td>The Sicilian-style tomato sauce has tons of Me...</td>\n",
       "      <td>[Heat oil in heavy large skillet over medium-h...</td>\n",
       "      <td>NaN</td>\n",
       "      <td>[2 tablespoons extra-virgin olive oil, 1 cup c...</td>\n",
       "      <td>NaN</td>\n",
       "      <td>5.000</td>\n",
       "      <td>NaN</td>\n",
       "      <td>Mahi-Mahi in Tomato Olive Sauce</td>\n",
       "    </tr>\n",
       "    <tr>\n",
       "      <th>4</th>\n",
       "      <td>547.0</td>\n",
       "      <td>[Cheese, Dairy, Pasta, Vegetable, Side, Bake, ...</td>\n",
       "      <td>2004-08-20 04:00:00</td>\n",
       "      <td>None</td>\n",
       "      <td>[Preheat oven to 350°F. Lightly grease 8x8x2-i...</td>\n",
       "      <td>32.0</td>\n",
       "      <td>[1 12-ounce package frozen spinach soufflé, th...</td>\n",
       "      <td>20.0</td>\n",
       "      <td>3.125</td>\n",
       "      <td>452.0</td>\n",
       "      <td>Spinach Noodle Casserole</td>\n",
       "    </tr>\n",
       "  </tbody>\n",
       "</table>\n",
       "</div>"
      ],
      "text/plain": [
       "   calories                                         categories  \\\n",
       "0     426.0  [Sandwich, Bean, Fruit, Tomato, turkey, Vegeta...   \n",
       "1     403.0  [Food Processor, Onion, Pork, Bake, Bastille D...   \n",
       "2     165.0  [Soup/Stew, Dairy, Potato, Vegetable, Fennel, ...   \n",
       "3       NaN  [Fish, Olive, Tomato, Sauté, Low Fat, Low Cal,...   \n",
       "4     547.0  [Cheese, Dairy, Pasta, Vegetable, Side, Bake, ...   \n",
       "\n",
       "                 date                                               desc  \\\n",
       "0 2006-09-01 04:00:00                                               None   \n",
       "1 2004-08-20 04:00:00  This uses the same ingredients found in boudin...   \n",
       "2 2004-08-20 04:00:00                                               None   \n",
       "3 2009-03-27 04:00:00  The Sicilian-style tomato sauce has tons of Me...   \n",
       "4 2004-08-20 04:00:00                                               None   \n",
       "\n",
       "                                          directions   fat  \\\n",
       "0  [1. Place the stock, lentils, celery, carrot, ...   7.0   \n",
       "1  [Combine first 9 ingredients in heavy medium s...  23.0   \n",
       "2  [In a large heavy saucepan cook diced fennel a...   7.0   \n",
       "3  [Heat oil in heavy large skillet over medium-h...   NaN   \n",
       "4  [Preheat oven to 350°F. Lightly grease 8x8x2-i...  32.0   \n",
       "\n",
       "                                         ingredients  protein  rating  sodium  \\\n",
       "0  [4 cups low-sodium vegetable or chicken stock,...     30.0   2.500   559.0   \n",
       "1  [1 1/2 cups whipping cream, 2 medium onions, c...     18.0   4.375  1439.0   \n",
       "2  [1 fennel bulb (sometimes called anise), stalk...      6.0   3.750   165.0   \n",
       "3  [2 tablespoons extra-virgin olive oil, 1 cup c...      NaN   5.000     NaN   \n",
       "4  [1 12-ounce package frozen spinach soufflé, th...     20.0   3.125   452.0   \n",
       "\n",
       "                                         title  \n",
       "0              Lentil, Apple, and Turkey Wrap   \n",
       "1  Boudin Blanc Terrine with Red Onion Confit   \n",
       "2                Potato and Fennel Soup Hodge   \n",
       "3             Mahi-Mahi in Tomato Olive Sauce   \n",
       "4                    Spinach Noodle Casserole   "
      ]
     },
     "execution_count": 22,
     "metadata": {},
     "output_type": "execute_result"
    }
   ],
   "source": [
    "epi = pd.read_json('../data/raw/full_format_recipes.json', orient='values', encoding='utf-8')\n",
    "epi.head()"
   ]
  },
  {
   "cell_type": "code",
   "execution_count": 23,
   "metadata": {},
   "outputs": [],
   "source": [
    "epi.drop(columns=['fat','calories','date','protein','sodium','desc'], inplace=True)"
   ]
  },
  {
   "cell_type": "code",
   "execution_count": 24,
   "metadata": {},
   "outputs": [
    {
     "data": {
      "text/plain": [
       "['Sandwich',\n",
       " 'Bean',\n",
       " 'Fruit',\n",
       " 'Tomato',\n",
       " 'turkey',\n",
       " 'Vegetable',\n",
       " 'Kid-Friendly',\n",
       " 'Apple',\n",
       " 'Lentil',\n",
       " 'Lettuce',\n",
       " 'Cookie']"
      ]
     },
     "execution_count": 24,
     "metadata": {},
     "output_type": "execute_result"
    }
   ],
   "source": [
    "epi['categories'][0]"
   ]
  },
  {
   "cell_type": "code",
   "execution_count": 25,
   "metadata": {},
   "outputs": [
    {
     "data": {
      "text/plain": [
       "['1. Place the stock, lentils, celery, carrot, thyme, and salt in a medium saucepan and bring to a boil. Reduce heat to low and simmer until the lentils are tender, about 30 minutes, depending on the lentils. (If they begin to dry out, add water as needed.) Remove and discard the thyme. Drain and transfer the mixture to a bowl; let cool.',\n",
       " '2. Fold in the tomato, apple, lemon juice, and olive oil. Season with the pepper.',\n",
       " '3. To assemble a wrap, place 1 lavash sheet on a clean work surface. Spread some of the lentil mixture on the end nearest you, leaving a 1-inch border. Top with several slices of turkey, then some of the lettuce. Roll up the lavash, slice crosswise, and serve. If using tortillas, spread the lentils in the center, top with the turkey and lettuce, and fold up the bottom, left side, and right side before rolling away from you.']"
      ]
     },
     "execution_count": 25,
     "metadata": {},
     "output_type": "execute_result"
    }
   ],
   "source": [
    "epi['directions'][0]"
   ]
  },
  {
   "cell_type": "code",
   "execution_count": 26,
   "metadata": {},
   "outputs": [
    {
     "data": {
      "text/plain": [
       "['4 cups low-sodium vegetable or chicken stock',\n",
       " '1 cup dried brown lentils',\n",
       " '1/2 cup dried French green lentils',\n",
       " '2 stalks celery, chopped',\n",
       " '1 large carrot, peeled and chopped',\n",
       " '1 sprig fresh thyme',\n",
       " '1 teaspoon kosher salt',\n",
       " '1 medium tomato, cored, seeded, and diced',\n",
       " '1 small Fuji apple, cored and diced',\n",
       " '1 tablespoon freshly squeezed lemon juice',\n",
       " '2 teaspoons extra-virgin olive oil',\n",
       " 'Freshly ground black pepper to taste',\n",
       " '3 sheets whole-wheat lavash, cut in half crosswise, or 6 (12-inch) flour tortillas',\n",
       " '3/4 pound turkey breast, thinly sliced',\n",
       " '1/2 head Bibb lettuce']"
      ]
     },
     "execution_count": 26,
     "metadata": {},
     "output_type": "execute_result"
    }
   ],
   "source": [
    "epi['ingredients'][0]"
   ]
  },
  {
   "cell_type": "code",
   "execution_count": 27,
   "metadata": {},
   "outputs": [
    {
     "data": {
      "text/plain": [
       "'Lentil, Apple, and Turkey Wrap '"
      ]
     },
     "execution_count": 27,
     "metadata": {},
     "output_type": "execute_result"
    }
   ],
   "source": [
    "epi['title'][0]"
   ]
  },
  {
   "cell_type": "code",
   "execution_count": 28,
   "metadata": {},
   "outputs": [],
   "source": [
    "epi['title'] = epi['title'].str.strip()"
   ]
  },
  {
   "cell_type": "code",
   "execution_count": 29,
   "metadata": {},
   "outputs": [
    {
     "data": {
      "text/plain": [
       "(20130, 5)"
      ]
     },
     "execution_count": 29,
     "metadata": {},
     "output_type": "execute_result"
    }
   ],
   "source": [
    "epi.shape"
   ]
  },
  {
   "cell_type": "code",
   "execution_count": 30,
   "metadata": {},
   "outputs": [
    {
     "data": {
      "text/plain": [
       "(17776, 5)"
      ]
     },
     "execution_count": 30,
     "metadata": {},
     "output_type": "execute_result"
    }
   ],
   "source": [
    "epi.drop_duplicates(subset='title', keep='first', inplace=True)\n",
    "epi.shape"
   ]
  },
  {
   "cell_type": "code",
   "execution_count": 31,
   "metadata": {},
   "outputs": [],
   "source": [
    "epi.to_json('../data/processed/epi_recipe_json_cleaned.json', force_ascii=False, orient='records')\n",
    "\n",
    "# After doing this, we still got some encoding errors in Neo4j. \n",
    "# Solution: open the file in Notepad++ and 'convert to UTF-8' and save it again. \n",
    "# Then it works... I am not sure if this is a Neo4j bug or a pandas to_json write bug, or I didn't do it properly."
   ]
  },
  {
   "cell_type": "markdown",
   "metadata": {},
   "source": [
    "#### Any fun EDAs"
   ]
  },
  {
   "cell_type": "markdown",
   "metadata": {},
   "source": [
    "Average number of purchases across all users."
   ]
  },
  {
   "cell_type": "code",
   "execution_count": 32,
   "metadata": {},
   "outputs": [
    {
     "data": {
      "text/html": [
       "<div>\n",
       "<style scoped>\n",
       "    .dataframe tbody tr th:only-of-type {\n",
       "        vertical-align: middle;\n",
       "    }\n",
       "\n",
       "    .dataframe tbody tr th {\n",
       "        vertical-align: top;\n",
       "    }\n",
       "\n",
       "    .dataframe thead th {\n",
       "        text-align: right;\n",
       "    }\n",
       "</style>\n",
       "<table border=\"1\" class=\"dataframe\">\n",
       "  <thead>\n",
       "    <tr style=\"text-align: right;\">\n",
       "      <th></th>\n",
       "      <th>user_id</th>\n",
       "      <th>product_id</th>\n",
       "      <th>total_orders</th>\n",
       "    </tr>\n",
       "  </thead>\n",
       "  <tbody>\n",
       "    <tr>\n",
       "      <th>445008</th>\n",
       "      <td>1</td>\n",
       "      <td>30450</td>\n",
       "      <td>5</td>\n",
       "    </tr>\n",
       "    <tr>\n",
       "      <th>405352</th>\n",
       "      <td>1</td>\n",
       "      <td>13176</td>\n",
       "      <td>8</td>\n",
       "    </tr>\n",
       "    <tr>\n",
       "      <th>2118491</th>\n",
       "      <td>1</td>\n",
       "      <td>26405</td>\n",
       "      <td>10</td>\n",
       "    </tr>\n",
       "    <tr>\n",
       "      <th>2396411</th>\n",
       "      <td>1</td>\n",
       "      <td>12427</td>\n",
       "      <td>15</td>\n",
       "    </tr>\n",
       "    <tr>\n",
       "      <th>2253888</th>\n",
       "      <td>1</td>\n",
       "      <td>13032</td>\n",
       "      <td>11</td>\n",
       "    </tr>\n",
       "  </tbody>\n",
       "</table>\n",
       "</div>"
      ],
      "text/plain": [
       "         user_id  product_id  total_orders\n",
       "445008         1       30450             5\n",
       "405352         1       13176             8\n",
       "2118491        1       26405            10\n",
       "2396411        1       12427            15\n",
       "2253888        1       13032            11"
      ]
     },
     "execution_count": 32,
     "metadata": {},
     "output_type": "execute_result"
    }
   ],
   "source": [
    "df.head()"
   ]
  },
  {
   "cell_type": "code",
   "execution_count": 60,
   "metadata": {},
   "outputs": [],
   "source": [
    "users_total_purchases = df.groupby(['user_id'])['total_orders'].transform('sum').to_frame(name = 'total_purchases').reset_index()"
   ]
  },
  {
   "cell_type": "code",
   "execution_count": 61,
   "metadata": {},
   "outputs": [
    {
     "data": {
      "text/html": [
       "<div>\n",
       "<style scoped>\n",
       "    .dataframe tbody tr th:only-of-type {\n",
       "        vertical-align: middle;\n",
       "    }\n",
       "\n",
       "    .dataframe tbody tr th {\n",
       "        vertical-align: top;\n",
       "    }\n",
       "\n",
       "    .dataframe thead th {\n",
       "        text-align: right;\n",
       "    }\n",
       "</style>\n",
       "<table border=\"1\" class=\"dataframe\">\n",
       "  <thead>\n",
       "    <tr style=\"text-align: right;\">\n",
       "      <th></th>\n",
       "      <th>index</th>\n",
       "      <th>total_purchases</th>\n",
       "    </tr>\n",
       "  </thead>\n",
       "  <tbody>\n",
       "    <tr>\n",
       "      <th>2493775</th>\n",
       "      <td>0</td>\n",
       "      <td>90</td>\n",
       "    </tr>\n",
       "    <tr>\n",
       "      <th>2539452</th>\n",
       "      <td>1</td>\n",
       "      <td>323</td>\n",
       "    </tr>\n",
       "    <tr>\n",
       "      <th>2200215</th>\n",
       "      <td>2</td>\n",
       "      <td>923</td>\n",
       "    </tr>\n",
       "    <tr>\n",
       "      <th>1928606</th>\n",
       "      <td>3</td>\n",
       "      <td>967</td>\n",
       "    </tr>\n",
       "    <tr>\n",
       "      <th>275296</th>\n",
       "      <td>4</td>\n",
       "      <td>91</td>\n",
       "    </tr>\n",
       "  </tbody>\n",
       "</table>\n",
       "</div>"
      ],
      "text/plain": [
       "         index  total_purchases\n",
       "2493775      0               90\n",
       "2539452      1              323\n",
       "2200215      2              923\n",
       "1928606      3              967\n",
       "275296       4               91"
      ]
     },
     "execution_count": 61,
     "metadata": {},
     "output_type": "execute_result"
    }
   ],
   "source": [
    "users_total_purchases.sort_values(by='index', inplace=True)\n",
    "users_total_purchases.head()"
   ]
  },
  {
   "cell_type": "code",
   "execution_count": 62,
   "metadata": {},
   "outputs": [
    {
     "data": {
      "text/plain": [
       "count    2.542333e+06\n",
       "mean     3.226870e+02\n",
       "std      3.172301e+02\n",
       "min      3.000000e+00\n",
       "25%      9.500000e+01\n",
       "50%      2.170000e+02\n",
       "75%      4.500000e+02\n",
       "max      3.725000e+03\n",
       "Name: total_purchases, dtype: float64"
      ]
     },
     "execution_count": 62,
     "metadata": {},
     "output_type": "execute_result"
    }
   ],
   "source": [
    "users_total_purchases['total_purchases'].describe()"
   ]
  },
  {
   "cell_type": "code",
   "execution_count": 63,
   "metadata": {},
   "outputs": [
    {
     "data": {
      "image/png": "[encoded data removed]",
      "text/plain": [
       "<Figure size 720x720 with 1 Axes>"
      ]
     },
     "metadata": {},
     "output_type": "display_data"
    }
   ],
   "source": [
    "users_total_purchases.boxplot(column='total_purchases',figsize=(10,10))\n",
    "plt.show()"
   ]
  },
  {
   "cell_type": "markdown",
   "metadata": {},
   "source": [
    "Products most purchased."
   ]
  },
  {
   "cell_type": "code",
   "execution_count": 35,
   "metadata": {},
   "outputs": [],
   "source": [
    "# just an example, replace with credentials for your own Neo4j instance.\n",
    "graph = Graph(bolt=True, host=\"localhost\", http_port=7687, user='neo4j', password='pasta')"
   ]
  },
  {
   "cell_type": "code",
   "execution_count": 36,
   "metadata": {},
   "outputs": [
    {
     "data": {
      "text/html": [
       "<div>\n",
       "<style scoped>\n",
       "    .dataframe tbody tr th:only-of-type {\n",
       "        vertical-align: middle;\n",
       "    }\n",
       "\n",
       "    .dataframe tbody tr th {\n",
       "        vertical-align: top;\n",
       "    }\n",
       "\n",
       "    .dataframe thead th {\n",
       "        text-align: right;\n",
       "    }\n",
       "</style>\n",
       "<table border=\"1\" class=\"dataframe\">\n",
       "  <thead>\n",
       "    <tr style=\"text-align: right;\">\n",
       "      <th></th>\n",
       "      <th>orders</th>\n",
       "      <th>p.name</th>\n",
       "    </tr>\n",
       "  </thead>\n",
       "  <tbody>\n",
       "    <tr>\n",
       "      <th>0</th>\n",
       "      <td>17649</td>\n",
       "      <td>Banana</td>\n",
       "    </tr>\n",
       "    <tr>\n",
       "      <th>1</th>\n",
       "      <td>17182</td>\n",
       "      <td>Bag of Organic Bananas</td>\n",
       "    </tr>\n",
       "    <tr>\n",
       "      <th>2</th>\n",
       "      <td>15740</td>\n",
       "      <td>Organic Strawberries</td>\n",
       "    </tr>\n",
       "    <tr>\n",
       "      <th>3</th>\n",
       "      <td>14597</td>\n",
       "      <td>Organic Baby Spinach</td>\n",
       "    </tr>\n",
       "    <tr>\n",
       "      <th>4</th>\n",
       "      <td>10660</td>\n",
       "      <td>Strawberries</td>\n",
       "    </tr>\n",
       "    <tr>\n",
       "      <th>5</th>\n",
       "      <td>10097</td>\n",
       "      <td>Organic Hass Avocado</td>\n",
       "    </tr>\n",
       "    <tr>\n",
       "      <th>6</th>\n",
       "      <td>9088</td>\n",
       "      <td>Large Lemon</td>\n",
       "    </tr>\n",
       "    <tr>\n",
       "      <th>7</th>\n",
       "      <td>8573</td>\n",
       "      <td>Organic Blueberries</td>\n",
       "    </tr>\n",
       "    <tr>\n",
       "      <th>8</th>\n",
       "      <td>8555</td>\n",
       "      <td>Organic Avocado</td>\n",
       "    </tr>\n",
       "    <tr>\n",
       "      <th>9</th>\n",
       "      <td>8198</td>\n",
       "      <td>Limes</td>\n",
       "    </tr>\n",
       "  </tbody>\n",
       "</table>\n",
       "</div>"
      ],
      "text/plain": [
       "   orders                  p.name\n",
       "0   17649                  Banana\n",
       "1   17182  Bag of Organic Bananas\n",
       "2   15740    Organic Strawberries\n",
       "3   14597    Organic Baby Spinach\n",
       "4   10660            Strawberries\n",
       "5   10097    Organic Hass Avocado\n",
       "6    9088             Large Lemon\n",
       "7    8573     Organic Blueberries\n",
       "8    8555         Organic Avocado\n",
       "9    8198                   Limes"
      ]
     },
     "execution_count": 36,
     "metadata": {},
     "output_type": "execute_result"
    }
   ],
   "source": [
    "pd.DataFrame(graph.data('''\n",
    "MATCH (u:User)-[b:BOUGHT]->(p:Product)\n",
    "RETURN p.name, COUNT(b) AS orders\n",
    "ORDER BY orders DESC\n",
    "LIMIT 10\n",
    "'''))"
   ]
  },
  {
   "cell_type": "markdown",
   "metadata": {},
   "source": [
    "# Data Stucture\n",
    "\n",
    "![](../reports/assets/data_structure.png)"
   ]
  },
  {
   "cell_type": "markdown",
   "metadata": {},
   "source": [
    "![](../reports/assets/database_schema.png)"
   ]
  },
  {
   "cell_type": "markdown",
   "metadata": {},
   "source": [
    "# 3. Overview of Recommender Systems\n",
    "\n",
    "There are three approaches to recommender systems: \n",
    "1. Collaborative-based Filtering\n",
    "2. Content-based Filtering\n",
    "3. A Hybrid of Both"
   ]
  },
  {
   "cell_type": "markdown",
   "metadata": {},
   "source": [
    "Similarity metrics:\n",
    "1. Cosine similarity scores\n",
    "2. Pearson similarity scores\n",
    "3. Jaccard similarity scores"
   ]
  },
  {
   "cell_type": "markdown",
   "metadata": {},
   "source": [
    "## Collaborative-based Filtering\n",
    "\n",
    "What else do other users buy which is _similar_ to what you have bought?"
   ]
  },
  {
   "cell_type": "code",
   "execution_count": 86,
   "metadata": {},
   "outputs": [
    {
     "name": "stdout",
     "output_type": "stream",
     "text": [
      "The selected user ID is: 105394\n"
     ]
    }
   ],
   "source": [
    "random_user = randint(0, 206210)\n",
    "print(\"The selected user ID is: {}\".format(random_user))"
   ]
  },
  {
   "cell_type": "code",
   "execution_count": 76,
   "metadata": {},
   "outputs": [
    {
     "data": {
      "text/html": [
       "<div>\n",
       "<style scoped>\n",
       "    .dataframe tbody tr th:only-of-type {\n",
       "        vertical-align: middle;\n",
       "    }\n",
       "\n",
       "    .dataframe tbody tr th {\n",
       "        vertical-align: top;\n",
       "    }\n",
       "\n",
       "    .dataframe thead th {\n",
       "        text-align: right;\n",
       "    }\n",
       "</style>\n",
       "<table border=\"1\" class=\"dataframe\">\n",
       "  <thead>\n",
       "    <tr style=\"text-align: right;\">\n",
       "      <th></th>\n",
       "      <th>countUsersWhoAlsoBought</th>\n",
       "      <th>recommendation</th>\n",
       "    </tr>\n",
       "  </thead>\n",
       "  <tbody>\n",
       "    <tr>\n",
       "      <th>0</th>\n",
       "      <td>675</td>\n",
       "      <td>Organic Strawberries</td>\n",
       "    </tr>\n",
       "    <tr>\n",
       "      <th>1</th>\n",
       "      <td>660</td>\n",
       "      <td>Organic Baby Spinach</td>\n",
       "    </tr>\n",
       "    <tr>\n",
       "      <th>2</th>\n",
       "      <td>606</td>\n",
       "      <td>Banana</td>\n",
       "    </tr>\n",
       "    <tr>\n",
       "      <th>3</th>\n",
       "      <td>527</td>\n",
       "      <td>Bag of Organic Bananas</td>\n",
       "    </tr>\n",
       "    <tr>\n",
       "      <th>4</th>\n",
       "      <td>449</td>\n",
       "      <td>Large Lemon</td>\n",
       "    </tr>\n",
       "    <tr>\n",
       "      <th>5</th>\n",
       "      <td>449</td>\n",
       "      <td>Organic Hass Avocado</td>\n",
       "    </tr>\n",
       "    <tr>\n",
       "      <th>6</th>\n",
       "      <td>413</td>\n",
       "      <td>Limes</td>\n",
       "    </tr>\n",
       "    <tr>\n",
       "      <th>7</th>\n",
       "      <td>393</td>\n",
       "      <td>Organic Avocado</td>\n",
       "    </tr>\n",
       "    <tr>\n",
       "      <th>8</th>\n",
       "      <td>373</td>\n",
       "      <td>Organic Zucchini</td>\n",
       "    </tr>\n",
       "    <tr>\n",
       "      <th>9</th>\n",
       "      <td>347</td>\n",
       "      <td>Organic Yellow Onion</td>\n",
       "    </tr>\n",
       "  </tbody>\n",
       "</table>\n",
       "</div>"
      ],
      "text/plain": [
       "   countUsersWhoAlsoBought          recommendation\n",
       "0                      675    Organic Strawberries\n",
       "1                      660    Organic Baby Spinach\n",
       "2                      606                  Banana\n",
       "3                      527  Bag of Organic Bananas\n",
       "4                      449             Large Lemon\n",
       "5                      449    Organic Hass Avocado\n",
       "6                      413                   Limes\n",
       "7                      393         Organic Avocado\n",
       "8                      373        Organic Zucchini\n",
       "9                      347    Organic Yellow Onion"
      ]
     },
     "execution_count": 76,
     "metadata": {},
     "output_type": "execute_result"
    }
   ],
   "source": [
    "pd.DataFrame(graph.data(\"\"\"\n",
    "MATCH (user:User {id: {user_id}})-[b1:BOUGHT]->(:Product)<-[b2:BOUGHT]-(otheruser:User)\n",
    "MATCH (otheruser)-[:BOUGHT]->(rec:Product)\n",
    "WHERE NOT EXISTS( (user)-[:BOUGHT]->(rec)) AND b2.order_total >= b1.order_total\n",
    "RETURN rec.name AS recommendation, COUNT(*) AS countUsersWhoAlsoBought\n",
    "ORDER BY countUsersWhoAlsoBought DESC \n",
    "LIMIT 10\"\"\", user_id=random_user))"
   ]
  },
  {
   "cell_type": "markdown",
   "metadata": {},
   "source": [
    "### Cosine similarity"
   ]
  },
  {
   "cell_type": "code",
   "execution_count": 77,
   "metadata": {},
   "outputs": [
    {
     "data": {
      "text/html": [
       "<div>\n",
       "<style scoped>\n",
       "    .dataframe tbody tr th:only-of-type {\n",
       "        vertical-align: middle;\n",
       "    }\n",
       "\n",
       "    .dataframe tbody tr th {\n",
       "        vertical-align: top;\n",
       "    }\n",
       "\n",
       "    .dataframe thead th {\n",
       "        text-align: right;\n",
       "    }\n",
       "</style>\n",
       "<table border=\"1\" class=\"dataframe\">\n",
       "  <thead>\n",
       "    <tr style=\"text-align: right;\">\n",
       "      <th></th>\n",
       "      <th>cosim</th>\n",
       "      <th>otherUserID</th>\n",
       "    </tr>\n",
       "  </thead>\n",
       "  <tbody>\n",
       "    <tr>\n",
       "      <th>0</th>\n",
       "      <td>1.0</td>\n",
       "      <td>147654</td>\n",
       "    </tr>\n",
       "    <tr>\n",
       "      <th>1</th>\n",
       "      <td>1.0</td>\n",
       "      <td>46475</td>\n",
       "    </tr>\n",
       "    <tr>\n",
       "      <th>2</th>\n",
       "      <td>1.0</td>\n",
       "      <td>136547</td>\n",
       "    </tr>\n",
       "    <tr>\n",
       "      <th>3</th>\n",
       "      <td>1.0</td>\n",
       "      <td>73551</td>\n",
       "    </tr>\n",
       "    <tr>\n",
       "      <th>4</th>\n",
       "      <td>1.0</td>\n",
       "      <td>48514</td>\n",
       "    </tr>\n",
       "    <tr>\n",
       "      <th>5</th>\n",
       "      <td>1.0</td>\n",
       "      <td>165319</td>\n",
       "    </tr>\n",
       "    <tr>\n",
       "      <th>6</th>\n",
       "      <td>1.0</td>\n",
       "      <td>73540</td>\n",
       "    </tr>\n",
       "    <tr>\n",
       "      <th>7</th>\n",
       "      <td>1.0</td>\n",
       "      <td>122798</td>\n",
       "    </tr>\n",
       "    <tr>\n",
       "      <th>8</th>\n",
       "      <td>1.0</td>\n",
       "      <td>105576</td>\n",
       "    </tr>\n",
       "    <tr>\n",
       "      <th>9</th>\n",
       "      <td>1.0</td>\n",
       "      <td>123889</td>\n",
       "    </tr>\n",
       "  </tbody>\n",
       "</table>\n",
       "</div>"
      ],
      "text/plain": [
       "   cosim  otherUserID\n",
       "0    1.0       147654\n",
       "1    1.0        46475\n",
       "2    1.0       136547\n",
       "3    1.0        73551\n",
       "4    1.0        48514\n",
       "5    1.0       165319\n",
       "6    1.0        73540\n",
       "7    1.0       122798\n",
       "8    1.0       105576\n",
       "9    1.0       123889"
      ]
     },
     "execution_count": 77,
     "metadata": {},
     "output_type": "execute_result"
    }
   ],
   "source": [
    "pd.DataFrame(graph.data(\"\"\"\n",
    "MATCH (p1:User {id: {user_id}})-[x:BOUGHT]->(p:Product)<-[y:BOUGHT]-(p2:User)\n",
    "WITH COUNT(p) AS numberproducts, SUM(x.order_total * y.order_total) AS xyDotProduct,\n",
    "SQRT(REDUCE(xDot = 0.0, a IN COLLECT(x.order_total) | xDot + a^2)) AS xLength,\n",
    "SQRT(REDUCE(yDot = 0.0, b IN COLLECT(y.order_total) | yDot + b^2)) AS yLength,\n",
    "p1, p2\n",
    "RETURN p2.id AS otherUserID, xyDotProduct / (xLength * yLength) AS cosim\n",
    "ORDER BY cosim DESC \n",
    "LIMIT 10\"\"\", user_id=random_user))"
   ]
  },
  {
   "cell_type": "markdown",
   "metadata": {},
   "source": [
    "### Pearson similarity\n",
    "\n",
    "This is particularly well-suited for product recommendations because it takes into account the fact that different users will have different mean total orders: on average some people do buy only from Instacart, while some prefer to go out of their house. Since Pearson similarity considers differences about the mean, this metric will account for these discrepancies."
   ]
  },
  {
   "cell_type": "code",
   "execution_count": 78,
   "metadata": {},
   "outputs": [
    {
     "data": {
      "text/html": [
       "<div>\n",
       "<style scoped>\n",
       "    .dataframe tbody tr th:only-of-type {\n",
       "        vertical-align: middle;\n",
       "    }\n",
       "\n",
       "    .dataframe tbody tr th {\n",
       "        vertical-align: top;\n",
       "    }\n",
       "\n",
       "    .dataframe thead th {\n",
       "        text-align: right;\n",
       "    }\n",
       "</style>\n",
       "<table border=\"1\" class=\"dataframe\">\n",
       "  <thead>\n",
       "    <tr style=\"text-align: right;\">\n",
       "      <th></th>\n",
       "      <th>otherUserID</th>\n",
       "      <th>pearson</th>\n",
       "    </tr>\n",
       "  </thead>\n",
       "  <tbody>\n",
       "    <tr>\n",
       "      <th>0</th>\n",
       "      <td>89639</td>\n",
       "      <td>0.999991</td>\n",
       "    </tr>\n",
       "    <tr>\n",
       "      <th>1</th>\n",
       "      <td>65438</td>\n",
       "      <td>0.999949</td>\n",
       "    </tr>\n",
       "    <tr>\n",
       "      <th>2</th>\n",
       "      <td>44149</td>\n",
       "      <td>0.999480</td>\n",
       "    </tr>\n",
       "    <tr>\n",
       "      <th>3</th>\n",
       "      <td>83069</td>\n",
       "      <td>0.998148</td>\n",
       "    </tr>\n",
       "    <tr>\n",
       "      <th>4</th>\n",
       "      <td>200964</td>\n",
       "      <td>0.996778</td>\n",
       "    </tr>\n",
       "    <tr>\n",
       "      <th>5</th>\n",
       "      <td>45284</td>\n",
       "      <td>0.995222</td>\n",
       "    </tr>\n",
       "    <tr>\n",
       "      <th>6</th>\n",
       "      <td>59138</td>\n",
       "      <td>0.993740</td>\n",
       "    </tr>\n",
       "    <tr>\n",
       "      <th>7</th>\n",
       "      <td>142932</td>\n",
       "      <td>0.990725</td>\n",
       "    </tr>\n",
       "    <tr>\n",
       "      <th>8</th>\n",
       "      <td>34466</td>\n",
       "      <td>0.989993</td>\n",
       "    </tr>\n",
       "    <tr>\n",
       "      <th>9</th>\n",
       "      <td>184766</td>\n",
       "      <td>0.988878</td>\n",
       "    </tr>\n",
       "  </tbody>\n",
       "</table>\n",
       "</div>"
      ],
      "text/plain": [
       "   otherUserID   pearson\n",
       "0        89639  0.999991\n",
       "1        65438  0.999949\n",
       "2        44149  0.999480\n",
       "3        83069  0.998148\n",
       "4       200964  0.996778\n",
       "5        45284  0.995222\n",
       "6        59138  0.993740\n",
       "7       142932  0.990725\n",
       "8        34466  0.989993\n",
       "9       184766  0.988878"
      ]
     },
     "execution_count": 78,
     "metadata": {},
     "output_type": "execute_result"
    }
   ],
   "source": [
    "pd.DataFrame(graph.data(\"\"\"\n",
    "MATCH (u1:User {id: {user_id}})-[r:BOUGHT]->(m:Product)\n",
    "WITH u1, avg(r.order_total) AS u1_mean\n",
    "\n",
    "MATCH (u1)-[r1:BOUGHT]->(m:Product)<-[r2:BOUGHT]-(u2)\n",
    "WITH u1, u1_mean, u2, COLLECT({r1: r1, r2: r2}) AS totalorders WHERE size(totalorders) > 1\n",
    "\n",
    "MATCH (u2)-[r:BOUGHT]->(m:Product)\n",
    "WITH u1, u1_mean, u2, avg(r.order_total) AS u2_mean, totalorders\n",
    "\n",
    "UNWIND totalorders AS r\n",
    "\n",
    "WITH sum( (r.r1.order_total - u1_mean) * (r.r2.order_total - u2_mean) ) AS nom,\n",
    "     sqrt( sum( (r.r1.order_total - u1_mean)^2) * sum( (r.r2.order_total - u2_mean) ^2)) AS denom,\n",
    "     u1, u2 WHERE denom <> 0\n",
    "\n",
    "RETURN u2.id AS otherUserID, nom/denom AS pearson\n",
    "ORDER BY pearson DESC \n",
    "LIMIT 10\"\"\", user_id=random_user))"
   ]
  },
  {
   "cell_type": "markdown",
   "metadata": {},
   "source": [
    "### Working algorithm for collaborative-based recommendations\n",
    "\n",
    "Pearson Similiarty and KNN"
   ]
  },
  {
   "cell_type": "code",
   "execution_count": 87,
   "metadata": {},
   "outputs": [
    {
     "data": {
      "text/html": [
       "<div>\n",
       "<style scoped>\n",
       "    .dataframe tbody tr th:only-of-type {\n",
       "        vertical-align: middle;\n",
       "    }\n",
       "\n",
       "    .dataframe tbody tr th {\n",
       "        vertical-align: top;\n",
       "    }\n",
       "\n",
       "    .dataframe thead th {\n",
       "        text-align: right;\n",
       "    }\n",
       "</style>\n",
       "<table border=\"1\" class=\"dataframe\">\n",
       "  <thead>\n",
       "    <tr style=\"text-align: right;\">\n",
       "      <th></th>\n",
       "      <th>recommendation</th>\n",
       "      <th>score</th>\n",
       "    </tr>\n",
       "  </thead>\n",
       "  <tbody>\n",
       "    <tr>\n",
       "      <th>0</th>\n",
       "      <td>Organic Small Curd Cottage Cheese</td>\n",
       "      <td>101.894403</td>\n",
       "    </tr>\n",
       "    <tr>\n",
       "      <th>1</th>\n",
       "      <td>Organic Salted Butter</td>\n",
       "      <td>59.748594</td>\n",
       "    </tr>\n",
       "    <tr>\n",
       "      <th>2</th>\n",
       "      <td>Lime Sparkling Water</td>\n",
       "      <td>38.143570</td>\n",
       "    </tr>\n",
       "    <tr>\n",
       "      <th>3</th>\n",
       "      <td>Honey Wheat Enriched Bread</td>\n",
       "      <td>36.236391</td>\n",
       "    </tr>\n",
       "    <tr>\n",
       "      <th>4</th>\n",
       "      <td>Organic Mini Sandwich Crackers Peanut Butter</td>\n",
       "      <td>32.751773</td>\n",
       "    </tr>\n",
       "    <tr>\n",
       "      <th>5</th>\n",
       "      <td>Limes</td>\n",
       "      <td>30.022458</td>\n",
       "    </tr>\n",
       "    <tr>\n",
       "      <th>6</th>\n",
       "      <td>Sweet Onion</td>\n",
       "      <td>28.202915</td>\n",
       "    </tr>\n",
       "    <tr>\n",
       "      <th>7</th>\n",
       "      <td>Brussels Sprouts</td>\n",
       "      <td>27.293144</td>\n",
       "    </tr>\n",
       "    <tr>\n",
       "      <th>8</th>\n",
       "      <td>Butter Buns Hotdog</td>\n",
       "      <td>25.746910</td>\n",
       "    </tr>\n",
       "    <tr>\n",
       "      <th>9</th>\n",
       "      <td>Roasted Turkey</td>\n",
       "      <td>25.746910</td>\n",
       "    </tr>\n",
       "  </tbody>\n",
       "</table>\n",
       "</div>"
      ],
      "text/plain": [
       "                                 recommendation       score\n",
       "0             Organic Small Curd Cottage Cheese  101.894403\n",
       "1                         Organic Salted Butter   59.748594\n",
       "2                          Lime Sparkling Water   38.143570\n",
       "3                    Honey Wheat Enriched Bread   36.236391\n",
       "4  Organic Mini Sandwich Crackers Peanut Butter   32.751773\n",
       "5                                         Limes   30.022458\n",
       "6                                   Sweet Onion   28.202915\n",
       "7                              Brussels Sprouts   27.293144\n",
       "8                            Butter Buns Hotdog   25.746910\n",
       "9                                Roasted Turkey   25.746910"
      ]
     },
     "execution_count": 87,
     "metadata": {},
     "output_type": "execute_result"
    }
   ],
   "source": [
    "pd.DataFrame(graph.data(\"\"\"\n",
    "MATCH (u1:User {id: {user_id}})-[r:BOUGHT]->(m:Product)\n",
    "WITH u1, avg(r.order_total) AS u1_mean\n",
    "\n",
    "MATCH (u1)-[r1:BOUGHT]->(m:Product)<-[r2:BOUGHT]-(u2)\n",
    "WITH u1, u1_mean, u2, COLLECT({r1: r1, r2: r2}) AS totalorders WHERE size(totalorders) > 2\n",
    "\n",
    "MATCH (u2)-[r:BOUGHT]->(m:Product)\n",
    "WITH u1, u1_mean, u2, avg(r.order_total) AS u2_mean, totalorders\n",
    "\n",
    "UNWIND totalorders AS r\n",
    "\n",
    "WITH sum( (r.r1.order_total - u1_mean) * (r.r2.order_total - u2_mean) ) AS nom,\n",
    "     sqrt( sum( (r.r1.order_total - u1_mean)^2) * sum( (r.r2.order_total - u2_mean) ^2)) AS denom,\n",
    "     u1, u2 WHERE denom <> 0\n",
    "\n",
    "WITH u1, u2, nom/denom AS pearson\n",
    "ORDER BY pearson DESC LIMIT 10\n",
    "\n",
    "MATCH (u2)-[r:BOUGHT]->(m:Product) WHERE NOT EXISTS( (u1)-[:BOUGHT]->(m) )\n",
    "\n",
    "RETURN m.name AS recommendation, SUM(pearson * r.order_total) AS score\n",
    "ORDER BY score DESC \n",
    "LIMIT 10\"\"\", user_id=random_user))"
   ]
  },
  {
   "cell_type": "markdown",
   "metadata": {},
   "source": [
    "## Clustering\n",
    "\n",
    "Deep in the world of Graph Theory, there's `python-igraph` which is a network analysis package. [Github](https://github.com/igraph/python-igraph).\n",
    "\n",
    "Community detection with the Walktrap algorithm, based on work by [Pons and Latapy](https://arxiv.org/abs/physics/0512106), _\"Computing communities in large networks using random walks\"_ (2005). For an overview of Community detection with other algorithms (besides Walktrap), see Yang et. al. _\"A Comparative Analysis of Community Detection Algorithms on Artificial Networks\"_ (2016) [here](https://www.nature.com/articles/srep30750).\n",
    "\n",
    "The basic idea of the algorithm is that short random walks tend to stay in the same community. \n",
    "\n",
    "It utilizes a graph network to find communities (in this case, patterns of Aisles and Deparments) and 'cluster' them together. \n",
    "\n",
    "Find all pairs of aisles and departments. Find how many times they appear together. We'll use this as weight to build a \"virtual graph\" of the form (Aisle)-[:OCCURS_WITH {weight}]-(Department)."
   ]
  },
  {
   "cell_type": "code",
   "execution_count": 88,
   "metadata": {},
   "outputs": [
    {
     "data": {
      "text/html": [
       "<div>\n",
       "<style scoped>\n",
       "    .dataframe tbody tr th:only-of-type {\n",
       "        vertical-align: middle;\n",
       "    }\n",
       "\n",
       "    .dataframe tbody tr th {\n",
       "        vertical-align: top;\n",
       "    }\n",
       "\n",
       "    .dataframe thead th {\n",
       "        text-align: right;\n",
       "    }\n",
       "</style>\n",
       "<table border=\"1\" class=\"dataframe\">\n",
       "  <thead>\n",
       "    <tr style=\"text-align: right;\">\n",
       "      <th></th>\n",
       "      <th>aisleName</th>\n",
       "      <th>departmentName</th>\n",
       "      <th>weight</th>\n",
       "    </tr>\n",
       "  </thead>\n",
       "  <tbody>\n",
       "    <tr>\n",
       "      <th>0</th>\n",
       "      <td>candy chocolate</td>\n",
       "      <td>snacks</td>\n",
       "      <td>1245</td>\n",
       "    </tr>\n",
       "    <tr>\n",
       "      <th>1</th>\n",
       "      <td>ice cream ice</td>\n",
       "      <td>frozen</td>\n",
       "      <td>1089</td>\n",
       "    </tr>\n",
       "    <tr>\n",
       "      <th>2</th>\n",
       "      <td>yogurt</td>\n",
       "      <td>dairy eggs</td>\n",
       "      <td>1026</td>\n",
       "    </tr>\n",
       "    <tr>\n",
       "      <th>3</th>\n",
       "      <td>chips pretzels</td>\n",
       "      <td>snacks</td>\n",
       "      <td>986</td>\n",
       "    </tr>\n",
       "    <tr>\n",
       "      <th>4</th>\n",
       "      <td>tea</td>\n",
       "      <td>beverages</td>\n",
       "      <td>891</td>\n",
       "    </tr>\n",
       "    <tr>\n",
       "      <th>5</th>\n",
       "      <td>packaged cheese</td>\n",
       "      <td>dairy eggs</td>\n",
       "      <td>891</td>\n",
       "    </tr>\n",
       "    <tr>\n",
       "      <th>6</th>\n",
       "      <td>frozen meals</td>\n",
       "      <td>frozen</td>\n",
       "      <td>880</td>\n",
       "    </tr>\n",
       "    <tr>\n",
       "      <th>7</th>\n",
       "      <td>cookies cakes</td>\n",
       "      <td>snacks</td>\n",
       "      <td>874</td>\n",
       "    </tr>\n",
       "    <tr>\n",
       "      <th>8</th>\n",
       "      <td>energy granola bars</td>\n",
       "      <td>snacks</td>\n",
       "      <td>832</td>\n",
       "    </tr>\n",
       "    <tr>\n",
       "      <th>9</th>\n",
       "      <td>spices seasonings</td>\n",
       "      <td>pantry</td>\n",
       "      <td>797</td>\n",
       "    </tr>\n",
       "  </tbody>\n",
       "</table>\n",
       "</div>"
      ],
      "text/plain": [
       "             aisleName departmentName  weight\n",
       "0      candy chocolate         snacks    1245\n",
       "1        ice cream ice         frozen    1089\n",
       "2               yogurt     dairy eggs    1026\n",
       "3       chips pretzels         snacks     986\n",
       "4                  tea      beverages     891\n",
       "5      packaged cheese     dairy eggs     891\n",
       "6         frozen meals         frozen     880\n",
       "7        cookies cakes         snacks     874\n",
       "8  energy granola bars         snacks     832\n",
       "9    spices seasonings         pantry     797"
      ]
     },
     "execution_count": 88,
     "metadata": {},
     "output_type": "execute_result"
    }
   ],
   "source": [
    "pd.DataFrame(graph.data(\"\"\"\n",
    "MATCH (a:Aisle)<-[:FOUND_IN]-()-[:TYPE_OF]->(d:Department)\n",
    "RETURN a.name AS aisleName, d.name AS departmentName, COUNT(*) AS weight\n",
    "ORDER BY weight DESC\n",
    "LIMIT 10\"\"\"))"
   ]
  },
  {
   "cell_type": "code",
   "execution_count": 89,
   "metadata": {},
   "outputs": [],
   "source": [
    "cluster = graph.run(\"\"\"\n",
    "MATCH (a:Aisle)<-[:FOUND_IN]-()-[:TYPE_OF]->(d:Department)\n",
    "RETURN a.name AS aisleName, d.name AS departmentName, COUNT(*) AS weight\"\"\")"
   ]
  },
  {
   "cell_type": "code",
   "execution_count": 90,
   "metadata": {},
   "outputs": [
    {
     "data": {
      "text/plain": [
       "<igraph.Graph at 0x119561b88>"
      ]
     },
     "execution_count": 90,
     "metadata": {},
     "output_type": "execute_result"
    }
   ],
   "source": [
    "ig = IGraph.TupleList(cluster, weights=True)\n",
    "ig"
   ]
  },
  {
   "cell_type": "code",
   "execution_count": 91,
   "metadata": {},
   "outputs": [
    {
     "data": {
      "text/plain": [
       "16"
      ]
     },
     "execution_count": 91,
     "metadata": {},
     "output_type": "execute_result"
    }
   ],
   "source": [
    "clusters = IGraph.community_walktrap(ig, weights='weight')\n",
    "clusters = clusters.as_clustering()\n",
    "len(clusters)"
   ]
  },
  {
   "cell_type": "code",
   "execution_count": 92,
   "metadata": {},
   "outputs": [
    {
     "data": {
      "text/plain": [
       "[{'group': 0,\n",
       "  'id': 'canned fruit applesauce',\n",
       "  'label': 'canned fruit applesauce'},\n",
       " {'group': 0, 'id': 'canned goods', 'label': 'canned goods'},\n",
       " {'group': 1, 'id': 'trail mix snack mix', 'label': 'trail mix snack mix'},\n",
       " {'group': 1, 'id': 'snacks', 'label': 'snacks'},\n",
       " {'group': 1, 'id': 'chips pretzels', 'label': 'chips pretzels'},\n",
       " {'group': 2, 'id': 'fresh herbs', 'label': 'fresh herbs'},\n",
       " {'group': 2, 'id': 'produce', 'label': 'produce'},\n",
       " {'group': 3, 'id': 'prepared soups salads', 'label': 'prepared soups salads'},\n",
       " {'group': 3, 'id': 'deli', 'label': 'deli'},\n",
       " {'group': 4,\n",
       "  'id': 'preserved dips spreads',\n",
       "  'label': 'preserved dips spreads'},\n",
       " {'group': 4, 'id': 'pantry', 'label': 'pantry'},\n",
       " {'group': 5,\n",
       "  'id': 'specialty wines champagnes',\n",
       "  'label': 'specialty wines champagnes'},\n",
       " {'group': 5, 'id': 'alcohol', 'label': 'alcohol'},\n",
       " {'group': 6, 'id': 'eggs', 'label': 'eggs'},\n",
       " {'group': 6, 'id': 'dairy eggs', 'label': 'dairy eggs'},\n",
       " {'group': 7, 'id': 'frozen dessert', 'label': 'frozen dessert'},\n",
       " {'group': 7, 'id': 'frozen', 'label': 'frozen'},\n",
       " {'group': 8, 'id': 'dry pasta', 'label': 'dry pasta'},\n",
       " {'group': 8, 'id': 'dry goods pasta', 'label': 'dry goods pasta'},\n",
       " {'group': 0, 'id': 'canned meals beans', 'label': 'canned meals beans'}]"
      ]
     },
     "execution_count": 92,
     "metadata": {},
     "output_type": "execute_result"
    }
   ],
   "source": [
    "# Let's take a look at the 'clusters'\n",
    "nodes = [node['name'] for node in ig.vs]\n",
    "nodes = [{'id': x, 'label': x} for x in nodes]\n",
    "nodes[:5]\n",
    "\n",
    "for node in nodes:\n",
    "    idx = ig.vs.find(name=node['id']).index\n",
    "    node['group'] = clusters.membership[idx]\n",
    "    \n",
    "nodes[:20]"
   ]
  },
  {
   "cell_type": "code",
   "execution_count": 93,
   "metadata": {},
   "outputs": [
    {
     "data": {
      "text/plain": [
       "<py2neo.graph.Cursor at 0x118555160>"
      ]
     },
     "execution_count": 93,
     "metadata": {},
     "output_type": "execute_result"
    }
   ],
   "source": [
    "# # Write it back into the database\n",
    "# #\n",
    "# # Writing Aisle first\n",
    "\n",
    "# graph.run('''\n",
    "# UNWIND {params} AS p \n",
    "# MATCH (a:Aisle {name: p.id})\n",
    "# MERGE (cluster:Cluster {name: p.group})\n",
    "# MERGE (a)-[:IN_CLUSTER]->(cluster)\n",
    "# ''', params = nodes)"
   ]
  },
  {
   "cell_type": "code",
   "execution_count": 94,
   "metadata": {},
   "outputs": [
    {
     "data": {
      "text/plain": [
       "<py2neo.graph.Cursor at 0x118562358>"
      ]
     },
     "execution_count": 94,
     "metadata": {},
     "output_type": "execute_result"
    }
   ],
   "source": [
    "# # Write it back into the database\n",
    "# #\n",
    "# # Writing Department next\n",
    "\n",
    "# graph.run('''\n",
    "# UNWIND {params} AS p \n",
    "# MATCH (d:Department {name: p.id})\n",
    "# MERGE (cluster:Cluster {name: p.group})\n",
    "# MERGE (d)-[:IN_CLUSTER]->(cluster)\n",
    "# ''', params = nodes)"
   ]
  },
  {
   "cell_type": "markdown",
   "metadata": {},
   "source": [
    "![](../reports/assets/database_schema_with_closeup.png)"
   ]
  },
  {
   "cell_type": "markdown",
   "metadata": {},
   "source": [
    "![](../reports/assets/example_cluster07.png)"
   ]
  },
  {
   "cell_type": "markdown",
   "metadata": {},
   "source": [
    "### Novelty Recommendation\n",
    "\n",
    "New but not foreign.\n",
    "\n",
    "We want to recommend a product that is new but not entirely different from what the person has bought before. "
   ]
  },
  {
   "cell_type": "code",
   "execution_count": 95,
   "metadata": {},
   "outputs": [
    {
     "data": {
      "text/html": [
       "<div>\n",
       "<style scoped>\n",
       "    .dataframe tbody tr th:only-of-type {\n",
       "        vertical-align: middle;\n",
       "    }\n",
       "\n",
       "    .dataframe tbody tr th {\n",
       "        vertical-align: top;\n",
       "    }\n",
       "\n",
       "    .dataframe thead th {\n",
       "        text-align: right;\n",
       "    }\n",
       "</style>\n",
       "<table border=\"1\" class=\"dataframe\">\n",
       "  <thead>\n",
       "    <tr style=\"text-align: right;\">\n",
       "      <th></th>\n",
       "      <th>cluster.name</th>\n",
       "      <th>times</th>\n",
       "    </tr>\n",
       "  </thead>\n",
       "  <tbody>\n",
       "    <tr>\n",
       "      <th>0</th>\n",
       "      <td>2</td>\n",
       "      <td>3</td>\n",
       "    </tr>\n",
       "    <tr>\n",
       "      <th>1</th>\n",
       "      <td>4</td>\n",
       "      <td>1</td>\n",
       "    </tr>\n",
       "    <tr>\n",
       "      <th>2</th>\n",
       "      <td>6</td>\n",
       "      <td>1</td>\n",
       "    </tr>\n",
       "    <tr>\n",
       "      <th>3</th>\n",
       "      <td>0</td>\n",
       "      <td>1</td>\n",
       "    </tr>\n",
       "  </tbody>\n",
       "</table>\n",
       "</div>"
      ],
      "text/plain": [
       "   cluster.name  times\n",
       "0             2      3\n",
       "1             4      1\n",
       "2             6      1\n",
       "3             0      1"
      ]
     },
     "execution_count": 95,
     "metadata": {},
     "output_type": "execute_result"
    }
   ],
   "source": [
    "# Find all items bought by a user; Of all the items bought, count the number of aisles; \n",
    "# Find the clusters that appears most often.\n",
    "\n",
    "pd.DataFrame(graph.data(\"\"\"\n",
    "MATCH (user:User {id: {user_id}})-[:BOUGHT]->(product)-[:FOUND_IN]->(a:Aisle)-[:IN_CLUSTER]->(cluster)\n",
    "RETURN cluster.name, COUNT(*) AS times\n",
    "ORDER BY times DESC\n",
    "LIMIT 10\"\"\", user_id=random_user))"
   ]
  },
  {
   "cell_type": "code",
   "execution_count": 96,
   "metadata": {},
   "outputs": [
    {
     "data": {
      "text/html": [
       "<div>\n",
       "<style scoped>\n",
       "    .dataframe tbody tr th:only-of-type {\n",
       "        vertical-align: middle;\n",
       "    }\n",
       "\n",
       "    .dataframe tbody tr th {\n",
       "        vertical-align: top;\n",
       "    }\n",
       "\n",
       "    .dataframe thead th {\n",
       "        text-align: right;\n",
       "    }\n",
       "</style>\n",
       "<table border=\"1\" class=\"dataframe\">\n",
       "  <thead>\n",
       "    <tr style=\"text-align: right;\">\n",
       "      <th></th>\n",
       "      <th>aisleName</th>\n",
       "      <th>numberOfProducts</th>\n",
       "    </tr>\n",
       "  </thead>\n",
       "  <tbody>\n",
       "    <tr>\n",
       "      <th>0</th>\n",
       "      <td>packaged vegetables fruits</td>\n",
       "      <td>615</td>\n",
       "    </tr>\n",
       "    <tr>\n",
       "      <th>1</th>\n",
       "      <td>fresh vegetables</td>\n",
       "      <td>569</td>\n",
       "    </tr>\n",
       "    <tr>\n",
       "      <th>2</th>\n",
       "      <td>fresh fruits</td>\n",
       "      <td>382</td>\n",
       "    </tr>\n",
       "    <tr>\n",
       "      <th>3</th>\n",
       "      <td>fresh herbs</td>\n",
       "      <td>86</td>\n",
       "    </tr>\n",
       "    <tr>\n",
       "      <th>4</th>\n",
       "      <td>packaged produce</td>\n",
       "      <td>32</td>\n",
       "    </tr>\n",
       "  </tbody>\n",
       "</table>\n",
       "</div>"
      ],
      "text/plain": [
       "                    aisleName  numberOfProducts\n",
       "0  packaged vegetables fruits               615\n",
       "1            fresh vegetables               569\n",
       "2                fresh fruits               382\n",
       "3                 fresh herbs                86\n",
       "4            packaged produce                32"
      ]
     },
     "execution_count": 96,
     "metadata": {},
     "output_type": "execute_result"
    }
   ],
   "source": [
    "# In the top cluster, find me all the other aisles within that same cluster.\n",
    "# Order the table by the number of Products found in that Aisle.\n",
    "\n",
    "pd.DataFrame(graph.data(\"\"\"\n",
    "MATCH (user:User {id: {user_id}})-[:BOUGHT]->(product)-[:FOUND_IN]->(a:Aisle)-[:IN_CLUSTER]->(cluster)\n",
    "WITH user, cluster, COUNT(*) AS times\n",
    "ORDER BY times DESC\n",
    "LIMIT 1\n",
    "WITH cluster\n",
    "MATCH (cluster)<-[:IN_CLUSTER]-(a)<-[:FOUND_IN]-(p)\n",
    "WITH cluster, a.name AS aisleName, COUNT(p) as numberOfProducts\n",
    "RETURN aisleName, numberOfProducts\n",
    "ORDER BY numberOfProducts DESC\n",
    "LIMIT 5\"\"\", user_id=random_user))"
   ]
  },
  {
   "cell_type": "code",
   "execution_count": 97,
   "metadata": {},
   "outputs": [
    {
     "data": {
      "text/html": [
       "<div>\n",
       "<style scoped>\n",
       "    .dataframe tbody tr th:only-of-type {\n",
       "        vertical-align: middle;\n",
       "    }\n",
       "\n",
       "    .dataframe tbody tr th {\n",
       "        vertical-align: top;\n",
       "    }\n",
       "\n",
       "    .dataframe thead th {\n",
       "        text-align: right;\n",
       "    }\n",
       "</style>\n",
       "<table border=\"1\" class=\"dataframe\">\n",
       "  <thead>\n",
       "    <tr style=\"text-align: right;\">\n",
       "      <th></th>\n",
       "      <th>aisleName</th>\n",
       "      <th>numberOfProducts</th>\n",
       "    </tr>\n",
       "  </thead>\n",
       "  <tbody>\n",
       "    <tr>\n",
       "      <th>0</th>\n",
       "      <td>spices seasonings</td>\n",
       "      <td>797</td>\n",
       "    </tr>\n",
       "    <tr>\n",
       "      <th>1</th>\n",
       "      <td>baking ingredients</td>\n",
       "      <td>620</td>\n",
       "    </tr>\n",
       "    <tr>\n",
       "      <th>2</th>\n",
       "      <td>salad dressing toppings</td>\n",
       "      <td>560</td>\n",
       "    </tr>\n",
       "    <tr>\n",
       "      <th>3</th>\n",
       "      <td>spreads</td>\n",
       "      <td>493</td>\n",
       "    </tr>\n",
       "    <tr>\n",
       "      <th>4</th>\n",
       "      <td>condiments</td>\n",
       "      <td>466</td>\n",
       "    </tr>\n",
       "  </tbody>\n",
       "</table>\n",
       "</div>"
      ],
      "text/plain": [
       "                 aisleName  numberOfProducts\n",
       "0        spices seasonings               797\n",
       "1       baking ingredients               620\n",
       "2  salad dressing toppings               560\n",
       "3                  spreads               493\n",
       "4               condiments               466"
      ]
     },
     "execution_count": 97,
     "metadata": {},
     "output_type": "execute_result"
    }
   ],
   "source": [
    "# In the bottom cluster, find me all the other aisles within that same cluster.\n",
    "# Order the table by the number of Products found in that Aisle.\n",
    "\n",
    "pd.DataFrame(graph.data(\"\"\"\n",
    "MATCH (user:User {id: {user_id}})-[:BOUGHT]->(product)-[:FOUND_IN]->(a:Aisle)-[:IN_CLUSTER]->(cluster)\n",
    "WITH user, cluster, COUNT(*) AS times\n",
    "ORDER BY times ASC\n",
    "LIMIT 1\n",
    "WITH cluster\n",
    "MATCH (cluster)<-[:IN_CLUSTER]-(a)<-[:FOUND_IN]-(p)\n",
    "WITH cluster, a.name AS aisleName, COUNT(p) as numberOfProducts\n",
    "RETURN aisleName, numberOfProducts\n",
    "ORDER BY numberOfProducts DESC\n",
    "LIMIT 5\"\"\", user_id=random_user))"
   ]
  },
  {
   "cell_type": "code",
   "execution_count": 98,
   "metadata": {},
   "outputs": [
    {
     "data": {
      "text/html": [
       "<div>\n",
       "<style scoped>\n",
       "    .dataframe tbody tr th:only-of-type {\n",
       "        vertical-align: middle;\n",
       "    }\n",
       "\n",
       "    .dataframe tbody tr th {\n",
       "        vertical-align: top;\n",
       "    }\n",
       "\n",
       "    .dataframe thead th {\n",
       "        text-align: right;\n",
       "    }\n",
       "</style>\n",
       "<table border=\"1\" class=\"dataframe\">\n",
       "  <thead>\n",
       "    <tr style=\"text-align: right;\">\n",
       "      <th></th>\n",
       "      <th>maxOrders</th>\n",
       "      <th>recommendation</th>\n",
       "    </tr>\n",
       "  </thead>\n",
       "  <tbody>\n",
       "    <tr>\n",
       "      <th>0</th>\n",
       "      <td>93</td>\n",
       "      <td>Sea Salt Flakes Original</td>\n",
       "    </tr>\n",
       "    <tr>\n",
       "      <th>1</th>\n",
       "      <td>88</td>\n",
       "      <td>Organic Ground Korintje Cinnamon</td>\n",
       "    </tr>\n",
       "    <tr>\n",
       "      <th>2</th>\n",
       "      <td>87</td>\n",
       "      <td>Coarse Kosher Salt</td>\n",
       "    </tr>\n",
       "    <tr>\n",
       "      <th>3</th>\n",
       "      <td>83</td>\n",
       "      <td>Organic Garlic Powder</td>\n",
       "    </tr>\n",
       "    <tr>\n",
       "      <th>4</th>\n",
       "      <td>80</td>\n",
       "      <td>Crushed Red Pepper</td>\n",
       "    </tr>\n",
       "    <tr>\n",
       "      <th>5</th>\n",
       "      <td>77</td>\n",
       "      <td>Vegetarian Chili Seasoning</td>\n",
       "    </tr>\n",
       "    <tr>\n",
       "      <th>6</th>\n",
       "      <td>72</td>\n",
       "      <td>Organic Ground Black Pepper</td>\n",
       "    </tr>\n",
       "    <tr>\n",
       "      <th>7</th>\n",
       "      <td>71</td>\n",
       "      <td>Curry Powder</td>\n",
       "    </tr>\n",
       "    <tr>\n",
       "      <th>8</th>\n",
       "      <td>69</td>\n",
       "      <td>Ground Ginger</td>\n",
       "    </tr>\n",
       "    <tr>\n",
       "      <th>9</th>\n",
       "      <td>69</td>\n",
       "      <td>Salt</td>\n",
       "    </tr>\n",
       "  </tbody>\n",
       "</table>\n",
       "</div>"
      ],
      "text/plain": [
       "   maxOrders                    recommendation\n",
       "0         93          Sea Salt Flakes Original\n",
       "1         88  Organic Ground Korintje Cinnamon\n",
       "2         87                Coarse Kosher Salt\n",
       "3         83             Organic Garlic Powder\n",
       "4         80                Crushed Red Pepper\n",
       "5         77        Vegetarian Chili Seasoning\n",
       "6         72       Organic Ground Black Pepper\n",
       "7         71                      Curry Powder\n",
       "8         69                     Ground Ginger\n",
       "9         69                              Salt"
      ]
     },
     "execution_count": 98,
     "metadata": {},
     "output_type": "execute_result"
    }
   ],
   "source": [
    "# Great. Now, from the bottom cluster, recommend me products that OTHER users have bought a lot of times.\n",
    "\n",
    "pd.DataFrame(graph.data(\"\"\"\n",
    "MATCH (user:User {id: {user_id}})-[:BOUGHT]->(product)-[:FOUND_IN]->(a:Aisle)-[:IN_CLUSTER]->(cluster)\n",
    "WITH user, cluster, COUNT(*) AS times\n",
    "ORDER BY times ASC\n",
    "LIMIT 1\n",
    "WITH cluster\n",
    "MATCH (cluster)<-[:IN_CLUSTER]-(a)<-[:FOUND_IN]-(p)\n",
    "WITH cluster, a.name AS aisleName, COUNT(p) as numberOfProducts\n",
    "ORDER BY numberOfProducts DESC\n",
    "LIMIT 1\n",
    "WITH aisleName AS x\n",
    "MATCH (Aisle {name: x})<-[:FOUND_IN]-(otherProducts)<-[b:BOUGHT]-()\n",
    "WHERE b.order_total > 10\n",
    "RETURN DISTINCT otherProducts.name AS recommendation, MAX(b.order_total) AS maxOrders\n",
    "ORDER BY maxOrders DESC\n",
    "LIMIT 10\"\"\", user_id=random_user))"
   ]
  },
  {
   "cell_type": "markdown",
   "metadata": {},
   "source": [
    "## Content-based Filtering\n",
    "\n",
    "Content-based filtering didn't work for the groceries dataset. This is because content-based filtering relies on a product to be part of multiple categories. For example:\n",
    "\n",
    "- Movie A -> Crime, Thriller, Adventure, Drama\n",
    "- Movie B -> Crime, Drama, Romance\n",
    "\n",
    "But in the case of groceries, a meat is meat, a vegetable is a vegetable. Frozen vegetables were categorized as \"Frozen\" food not \"Vegetable\" AND \"Frozen\".\n",
    "\n",
    "But for the recipes dataset, it does work."
   ]
  },
  {
   "cell_type": "code",
   "execution_count": 99,
   "metadata": {},
   "outputs": [],
   "source": [
    "pd.set_option('display.max_columns', None)\n",
    "pd.set_option('display.max_colwidth', -1)"
   ]
  },
  {
   "cell_type": "code",
   "execution_count": 100,
   "metadata": {},
   "outputs": [
    {
     "data": {
      "text/html": [
       "<div>\n",
       "<style scoped>\n",
       "    .dataframe tbody tr th:only-of-type {\n",
       "        vertical-align: middle;\n",
       "    }\n",
       "\n",
       "    .dataframe tbody tr th {\n",
       "        vertical-align: top;\n",
       "    }\n",
       "\n",
       "    .dataframe thead th {\n",
       "        text-align: right;\n",
       "    }\n",
       "</style>\n",
       "<table border=\"1\" class=\"dataframe\">\n",
       "  <thead>\n",
       "    <tr style=\"text-align: right;\">\n",
       "      <th></th>\n",
       "      <th>categories</th>\n",
       "      <th>commonCategories</th>\n",
       "      <th>recommendation</th>\n",
       "    </tr>\n",
       "  </thead>\n",
       "  <tbody>\n",
       "    <tr>\n",
       "      <th>0</th>\n",
       "      <td>[Dairy, Potato, Soup/Stew, Vegetable, Fennel]</td>\n",
       "      <td>5</td>\n",
       "      <td>Fresh Fennel Vichyssoise</td>\n",
       "    </tr>\n",
       "    <tr>\n",
       "      <th>1</th>\n",
       "      <td>[Dairy, Potato, Soup/Stew, Gourmet, Vegetable]</td>\n",
       "      <td>5</td>\n",
       "      <td>Salmon Chowder</td>\n",
       "    </tr>\n",
       "    <tr>\n",
       "      <th>2</th>\n",
       "      <td>[Dairy, Soup/Stew, Gourmet, Vegetable, Fennel]</td>\n",
       "      <td>5</td>\n",
       "      <td>Carrot, Fennel, and Orange Soup</td>\n",
       "    </tr>\n",
       "    <tr>\n",
       "      <th>3</th>\n",
       "      <td>[Dairy, Soup/Stew, Gourmet, Vegetable]</td>\n",
       "      <td>4</td>\n",
       "      <td>Chilled Minted Zucchini Soup</td>\n",
       "    </tr>\n",
       "    <tr>\n",
       "      <th>4</th>\n",
       "      <td>[Dairy, Soup/Stew, Gourmet, Vegetable]</td>\n",
       "      <td>4</td>\n",
       "      <td>Lobster Bisque</td>\n",
       "    </tr>\n",
       "    <tr>\n",
       "      <th>5</th>\n",
       "      <td>[Soup/Stew, Gourmet, New York, Fennel]</td>\n",
       "      <td>4</td>\n",
       "      <td>Bouillabaisse Linder</td>\n",
       "    </tr>\n",
       "    <tr>\n",
       "      <th>6</th>\n",
       "      <td>[Potato, Gourmet, Vegetable, Fennel]</td>\n",
       "      <td>4</td>\n",
       "      <td>Steamed Vegetables with Basil Pecan Pesto</td>\n",
       "    </tr>\n",
       "    <tr>\n",
       "      <th>7</th>\n",
       "      <td>[Potato, Soup/Stew, Gourmet, Vegetable]</td>\n",
       "      <td>4</td>\n",
       "      <td>Borscht</td>\n",
       "    </tr>\n",
       "    <tr>\n",
       "      <th>8</th>\n",
       "      <td>[Potato, Soup/Stew, Gourmet, Vegetable]</td>\n",
       "      <td>4</td>\n",
       "      <td>White Bean and Vegetable Soup</td>\n",
       "    </tr>\n",
       "    <tr>\n",
       "      <th>9</th>\n",
       "      <td>[Dairy, Potato, Soup/Stew, Vegetable]</td>\n",
       "      <td>4</td>\n",
       "      <td>Roasted Beet Soup with Potato and Dill Salad</td>\n",
       "    </tr>\n",
       "  </tbody>\n",
       "</table>\n",
       "</div>"
      ],
      "text/plain": [
       "                                       categories  commonCategories  \\\n",
       "0  [Dairy, Potato, Soup/Stew, Vegetable, Fennel]   5                  \n",
       "1  [Dairy, Potato, Soup/Stew, Gourmet, Vegetable]  5                  \n",
       "2  [Dairy, Soup/Stew, Gourmet, Vegetable, Fennel]  5                  \n",
       "3  [Dairy, Soup/Stew, Gourmet, Vegetable]          4                  \n",
       "4  [Dairy, Soup/Stew, Gourmet, Vegetable]          4                  \n",
       "5  [Soup/Stew, Gourmet, New York, Fennel]          4                  \n",
       "6  [Potato, Gourmet, Vegetable, Fennel]            4                  \n",
       "7  [Potato, Soup/Stew, Gourmet, Vegetable]         4                  \n",
       "8  [Potato, Soup/Stew, Gourmet, Vegetable]         4                  \n",
       "9  [Dairy, Potato, Soup/Stew, Vegetable]           4                  \n",
       "\n",
       "                                 recommendation  \n",
       "0  Fresh Fennel Vichyssoise                      \n",
       "1  Salmon Chowder                                \n",
       "2  Carrot, Fennel, and Orange Soup               \n",
       "3  Chilled Minted Zucchini Soup                  \n",
       "4  Lobster Bisque                                \n",
       "5  Bouillabaisse Linder                          \n",
       "6  Steamed Vegetables with Basil Pecan Pesto     \n",
       "7  Borscht                                       \n",
       "8  White Bean and Vegetable Soup                 \n",
       "9  Roasted Beet Soup with Potato and Dill Salad  "
      ]
     },
     "execution_count": 100,
     "metadata": {},
     "output_type": "execute_result"
    }
   ],
   "source": [
    "# Recommend recipes most similar to 'Potato and Fennel Soup Hodge'.\n",
    "\n",
    "pd.DataFrame(graph.data(\"\"\"\n",
    "MATCH (m:Recipe)-[:TAGGED_AS]->(g:Category)<-[:TAGGED_AS]-(rec:Recipe)\n",
    "WHERE m.name = 'Potato and Fennel Soup Hodge'\n",
    "WITH rec, COLLECT(g.name) AS categories, COUNT(*) AS commonCategories\n",
    "RETURN rec.name AS recommendation, categories, commonCategories\n",
    "ORDER BY commonCategories DESC \n",
    "LIMIT 10\"\"\"))"
   ]
  },
  {
   "cell_type": "markdown",
   "metadata": {},
   "source": [
    "### Jaccard similarity\n",
    "\n",
    "The Jaccard index is a number between 0 and 1 that indicates how similar two sets are. The Jaccard index of two identical sets is 1. If two sets do not have a common element, then the Jaccard index is 0. \n",
    "\n",
    "We can calculate the Jaccard index for by comparing the number of categories that each recipe overlaps on."
   ]
  },
  {
   "cell_type": "code",
   "execution_count": 101,
   "metadata": {},
   "outputs": [
    {
     "data": {
      "text/html": [
       "<div>\n",
       "<style scoped>\n",
       "    .dataframe tbody tr th:only-of-type {\n",
       "        vertical-align: middle;\n",
       "    }\n",
       "\n",
       "    .dataframe tbody tr th {\n",
       "        vertical-align: top;\n",
       "    }\n",
       "\n",
       "    .dataframe thead th {\n",
       "        text-align: right;\n",
       "    }\n",
       "</style>\n",
       "<table border=\"1\" class=\"dataframe\">\n",
       "  <thead>\n",
       "    <tr style=\"text-align: right;\">\n",
       "      <th></th>\n",
       "      <th>jaccard</th>\n",
       "      <th>recommendation</th>\n",
       "      <th>s1</th>\n",
       "      <th>s2</th>\n",
       "    </tr>\n",
       "  </thead>\n",
       "  <tbody>\n",
       "    <tr>\n",
       "      <th>0</th>\n",
       "      <td>0.333333</td>\n",
       "      <td>Hainanese Chicken Rice</td>\n",
       "      <td>[Coconut, Breakfast, Pepper, Ginger, Gourmet, Lemongrass, Spring, Shrimp, Peanut Free, Dairy Free, Chicken, Garlic, Soup/Stew]</td>\n",
       "      <td>[Gourmet, Rice, Hot Pepper, Garlic, Ginger, Soup/Stew, Chicken]</td>\n",
       "    </tr>\n",
       "    <tr>\n",
       "      <th>1</th>\n",
       "      <td>0.300000</td>\n",
       "      <td>Aromatic Shrimp And Noodle Medicine Soup</td>\n",
       "      <td>[Coconut, Breakfast, Pepper, Ginger, Gourmet, Lemongrass, Spring, Shrimp, Peanut Free, Dairy Free, Chicken, Garlic, Soup/Stew]</td>\n",
       "      <td>[Bon App�tit, Shrimp, Noodle, Soup/Stew, Lemongrass, Dinner, Healthy, Green Onion/Scallion, Ginger, Peanut Free, Soy Free, Winter, Dairy Free]</td>\n",
       "    </tr>\n",
       "    <tr>\n",
       "      <th>2</th>\n",
       "      <td>0.294118</td>\n",
       "      <td>Coconut Sauce</td>\n",
       "      <td>[Coconut, Breakfast, Pepper, Ginger, Gourmet, Lemongrass, Spring, Shrimp, Peanut Free, Dairy Free, Chicken, Garlic, Soup/Stew]</td>\n",
       "      <td>[Coconut, Quick &amp; Easy, Herb, Ginger, Gourmet, Lemongrass, Sauce, Blender, Chicken]</td>\n",
       "    </tr>\n",
       "    <tr>\n",
       "      <th>3</th>\n",
       "      <td>0.291667</td>\n",
       "      <td>Thai Shrimp Soup with Lemon and Jalapenos</td>\n",
       "      <td>[Coconut, Breakfast, Pepper, Ginger, Gourmet, Lemongrass, Spring, Shrimp, Peanut Free, Dairy Free, Chicken, Garlic, Soup/Stew]</td>\n",
       "      <td>[Dairy Free, Sugar Conscious, Tree Nut Free, Peanut Free, No Sugar Added, Soy Free, Lemon, Coconut, Shellfish, Lunch, Jalape�o, Bon App�tit, Shrimp, Healthy, Ginger, Pork, Soup/Stew, Chicken]</td>\n",
       "    </tr>\n",
       "    <tr>\n",
       "      <th>4</th>\n",
       "      <td>0.285714</td>\n",
       "      <td>Coconut Shrimp with Tamarind Ginger Sauce</td>\n",
       "      <td>[Coconut, Breakfast, Pepper, Ginger, Gourmet, Lemongrass, Spring, Shrimp, Peanut Free, Dairy Free, Chicken, Garlic, Soup/Stew]</td>\n",
       "      <td>[Ginger, Pescatarian, Dairy Free, Peanut Free, Tree Nut Free, Soy Free, Appetizer, Fry, Cocktail Party, Coconut, Shrimp, Summer, Tamarind, Gourmet]</td>\n",
       "    </tr>\n",
       "  </tbody>\n",
       "</table>\n",
       "</div>"
      ],
      "text/plain": [
       "    jaccard                             recommendation  \\\n",
       "0  0.333333  Hainanese Chicken Rice                      \n",
       "1  0.300000  Aromatic Shrimp And Noodle Medicine Soup    \n",
       "2  0.294118  Coconut Sauce                               \n",
       "3  0.291667  Thai Shrimp Soup with Lemon and Jalapenos   \n",
       "4  0.285714  Coconut Shrimp with Tamarind Ginger Sauce   \n",
       "\n",
       "                                                                                                                               s1  \\\n",
       "0  [Coconut, Breakfast, Pepper, Ginger, Gourmet, Lemongrass, Spring, Shrimp, Peanut Free, Dairy Free, Chicken, Garlic, Soup/Stew]   \n",
       "1  [Coconut, Breakfast, Pepper, Ginger, Gourmet, Lemongrass, Spring, Shrimp, Peanut Free, Dairy Free, Chicken, Garlic, Soup/Stew]   \n",
       "2  [Coconut, Breakfast, Pepper, Ginger, Gourmet, Lemongrass, Spring, Shrimp, Peanut Free, Dairy Free, Chicken, Garlic, Soup/Stew]   \n",
       "3  [Coconut, Breakfast, Pepper, Ginger, Gourmet, Lemongrass, Spring, Shrimp, Peanut Free, Dairy Free, Chicken, Garlic, Soup/Stew]   \n",
       "4  [Coconut, Breakfast, Pepper, Ginger, Gourmet, Lemongrass, Spring, Shrimp, Peanut Free, Dairy Free, Chicken, Garlic, Soup/Stew]   \n",
       "\n",
       "                                                                                                                                                                                                s2  \n",
       "0  [Gourmet, Rice, Hot Pepper, Garlic, Ginger, Soup/Stew, Chicken]                                                                                                                                  \n",
       "1  [Bon App�tit, Shrimp, Noodle, Soup/Stew, Lemongrass, Dinner, Healthy, Green Onion/Scallion, Ginger, Peanut Free, Soy Free, Winter, Dairy Free]                                                   \n",
       "2  [Coconut, Quick & Easy, Herb, Ginger, Gourmet, Lemongrass, Sauce, Blender, Chicken]                                                                                                              \n",
       "3  [Dairy Free, Sugar Conscious, Tree Nut Free, Peanut Free, No Sugar Added, Soy Free, Lemon, Coconut, Shellfish, Lunch, Jalape�o, Bon App�tit, Shrimp, Healthy, Ginger, Pork, Soup/Stew, Chicken]  \n",
       "4  [Ginger, Pescatarian, Dairy Free, Peanut Free, Tree Nut Free, Soy Free, Appetizer, Fry, Cocktail Party, Coconut, Shrimp, Summer, Tamarind, Gourmet]                                              "
      ]
     },
     "execution_count": 101,
     "metadata": {},
     "output_type": "execute_result"
    }
   ],
   "source": [
    "# Add one extra layer to the recommendation besides using the Jaccard: the Recommended recipes' rating cannot be\n",
    "# lower than the original recipe that we searched for.\n",
    "\n",
    "pd.DataFrame(graph.data(\"\"\"\n",
    "MATCH (r:Recipe {name: \"Spicy Noodle Soup\"})-[:TAGGED_AS]->(c:Category)<-[:TAGGED_AS]-(other:Recipe)\n",
    "WITH r, other, COUNT(c) AS intersection, COLLECT(c.name) AS i\n",
    "\n",
    "MATCH (r)-[:TAGGED_AS]->(rc:Category)\n",
    "WITH r, other, intersection, i, COLLECT(rc.name) AS s1\n",
    "\n",
    "MATCH (other)-[:TAGGED_AS]->(oc:Category)\n",
    "WITH r, other, intersection, i,  s1, COLLECT(oc.name) AS s2\n",
    "\n",
    "WITH r, other, intersection, s1, s2\n",
    "\n",
    "WITH r, other, intersection, s1+filter(x IN s2 WHERE NOT x IN s1) AS union, s1, s2\n",
    "\n",
    "WHERE other.rating >= r.rating\n",
    "\n",
    "RETURN other.name AS recommendation, s1,s2,((1.0*intersection)/SIZE(union)) AS jaccard \n",
    "ORDER BY jaccard DESC \n",
    "LIMIT 5\"\"\"))"
   ]
  },
  {
   "cell_type": "markdown",
   "metadata": {},
   "source": [
    "# 4. Cross Polination\n",
    "\n",
    "Making the leap from Product to Recipes."
   ]
  },
  {
   "cell_type": "code",
   "execution_count": 102,
   "metadata": {},
   "outputs": [
    {
     "data": {
      "text/plain": [
       "['Organic', 'Large', 'Extra', 'Fancy', 'Fuji', 'Apple']"
      ]
     },
     "execution_count": 102,
     "metadata": {},
     "output_type": "execute_result"
    }
   ],
   "source": [
    "product_name = \"Organic Large Extra Fancy Fuji Apple\"\n",
    "words = product_name.split()\n",
    "words"
   ]
  },
  {
   "cell_type": "code",
   "execution_count": 103,
   "metadata": {},
   "outputs": [
    {
     "data": {
      "text/html": [
       "<div>\n",
       "<style scoped>\n",
       "    .dataframe tbody tr th:only-of-type {\n",
       "        vertical-align: middle;\n",
       "    }\n",
       "\n",
       "    .dataframe tbody tr th {\n",
       "        vertical-align: top;\n",
       "    }\n",
       "\n",
       "    .dataframe thead th {\n",
       "        text-align: right;\n",
       "    }\n",
       "</style>\n",
       "<table border=\"1\" class=\"dataframe\">\n",
       "  <thead>\n",
       "    <tr style=\"text-align: right;\">\n",
       "      <th></th>\n",
       "      <th>categories</th>\n",
       "      <th>commonCategories</th>\n",
       "      <th>recommendation</th>\n",
       "    </tr>\n",
       "  </thead>\n",
       "  <tbody>\n",
       "    <tr>\n",
       "      <th>0</th>\n",
       "      <td>[Breakfast, Pepper, Dessert, Brunch, Fruit Juice, Sauce, Vegan, Vegetarian, Fat Free, Kidney Friendly, Wheat/Gluten-Free, Peanut Free, Pescatarian, Dairy Free, Dried Fruit, Fig, Side, Quick &amp; Easy, Boil, Gourmet, Fall, Kosher, Soy Free, Tree Nut Free]</td>\n",
       "      <td>24</td>\n",
       "      <td>Peppery Fig and Cider Compote</td>\n",
       "    </tr>\n",
       "    <tr>\n",
       "      <th>1</th>\n",
       "      <td>[Vegetarian, Vegetable, Breakfast, Leafy Green, Herb, Juicer, Fruit, Vegan, Pescatarian, Parsley, Drink, Kale, Healthy, Spice, Celery, Non-Alcoholic, Wheat/Gluten-Free, Dairy Free, Tree Nut Free, Peanut Free, No Sugar Added, Soy Free, Kosher]</td>\n",
       "      <td>23</td>\n",
       "      <td>Green Juice</td>\n",
       "    </tr>\n",
       "    <tr>\n",
       "      <th>2</th>\n",
       "      <td>[Kosher, Cashew, Raisin, Lunch, Healthy, Summer, Spring, Carrot, Vegetarian, Bok Choy, Raw, Vegan, No Sugar Added, Peanut Free, Dairy Free, Pescatarian, Kid-Friendly, Low Cal, High Fiber, Wheat/Gluten-Free, Salad, Onion]</td>\n",
       "      <td>22</td>\n",
       "      <td>Apple Bok Choy Salad</td>\n",
       "    </tr>\n",
       "    <tr>\n",
       "      <th>3</th>\n",
       "      <td>[Dairy Free, Wheat/Gluten-Free, Vegan, Pescatarian, Soy Free, Kosher, Peanut Free, Tree Nut Free, Fruit, Dairy, Milk/Cream, Vegetarian, Thanksgiving, Dessert, Ginger, Fall, Spice, Frozen Dessert, Michigan, Bon App�tit, Party, Clove]</td>\n",
       "      <td>22</td>\n",
       "      <td>Spiced Apple-Cider Granita with Ginger Whipped Cream</td>\n",
       "    </tr>\n",
       "    <tr>\n",
       "      <th>4</th>\n",
       "      <td>[Salad, Leafy Green, Nut, Appetizer, Quick &amp; Easy, Tree Nut, Walnut, Fall, Healthy, Endive, Kidney Friendly, Vegan, Kosher, Soy Free, No Sugar Added, Wheat/Gluten-Free, Peanut Free, Paleo, Dairy Free, Vegetarian, Pescatarian]</td>\n",
       "      <td>21</td>\n",
       "      <td>Belgian Endive and Walnut Salad (Insalata Belga e Noci)</td>\n",
       "    </tr>\n",
       "    <tr>\n",
       "      <th>5</th>\n",
       "      <td>[Spice, Fall, Ramekin, Bon App�tit, Vegetarian, Pescatarian, Wheat/Gluten-Free, Peanut Free, Egg, Fruit, Dessert, Bake, Orange, Prune, Fig, Soy Free, Tree Nut Free, Kosher, Milk/Cream, Fruit Juice]</td>\n",
       "      <td>20</td>\n",
       "      <td>White Pepper Cr�me Br�l�e with Fig and Prune Compote</td>\n",
       "    </tr>\n",
       "    <tr>\n",
       "      <th>6</th>\n",
       "      <td>[Bake, Dessert, Fruit, Raisin, Cranberry, Quick &amp; Easy, Low Fat, Winter, Fall, Apricot, Vegetarian, California, Bon App�tit, Healthy, Peanut Free, Tree Nut Free, Pescatarian, Wheat/Gluten-Free, Soy Free, Kosher]</td>\n",
       "      <td>20</td>\n",
       "      <td>Baked Apples with Cranberries, Raisins, and Apricots</td>\n",
       "    </tr>\n",
       "    <tr>\n",
       "      <th>7</th>\n",
       "      <td>[Dairy Free, Wheat/Gluten-Free, Vegetarian, Pescatarian, Fat Free, Kidney Friendly, Vegan, Gourmet, Soy Free, Kosher, Peanut Free, Tree Nut Free, Fall, Plum, Thanksgiving, Dessert, Fruit, Sauce, Condiment/Spread]</td>\n",
       "      <td>19</td>\n",
       "      <td>Plum Applesauce</td>\n",
       "    </tr>\n",
       "    <tr>\n",
       "      <th>8</th>\n",
       "      <td>[Vegetarian, Breakfast, Brunch, Non-Alcoholic, Juicer, Pescatarian, Paleo, Vegan, Drink, Carrot, Healthy, Celery, Beet, Wheat/Gluten-Free, Dairy Free, Soy Free, Peanut Free, Kosher, No Sugar Added]</td>\n",
       "      <td>19</td>\n",
       "      <td>Power-Boosting Beets</td>\n",
       "    </tr>\n",
       "    <tr>\n",
       "      <th>9</th>\n",
       "      <td>[Cake, Dessert, Ginger, Raisin, Spice, Pecan, Thanksgiving, Bake, Dried Fruit, Cranberry, Vegetarian, Pescatarian, Peanut Free, Soy Free, Fall, Cinnamon, Clove, Nutmeg, Kosher]</td>\n",
       "      <td>19</td>\n",
       "      <td>Spiced Apple Cake with Eggnog Sauce</td>\n",
       "    </tr>\n",
       "  </tbody>\n",
       "</table>\n",
       "</div>"
      ],
      "text/plain": [
       "                                                                                                                                                                                                                                                    categories  \\\n",
       "0  [Breakfast, Pepper, Dessert, Brunch, Fruit Juice, Sauce, Vegan, Vegetarian, Fat Free, Kidney Friendly, Wheat/Gluten-Free, Peanut Free, Pescatarian, Dairy Free, Dried Fruit, Fig, Side, Quick & Easy, Boil, Gourmet, Fall, Kosher, Soy Free, Tree Nut Free]   \n",
       "1  [Vegetarian, Vegetable, Breakfast, Leafy Green, Herb, Juicer, Fruit, Vegan, Pescatarian, Parsley, Drink, Kale, Healthy, Spice, Celery, Non-Alcoholic, Wheat/Gluten-Free, Dairy Free, Tree Nut Free, Peanut Free, No Sugar Added, Soy Free, Kosher]            \n",
       "2  [Kosher, Cashew, Raisin, Lunch, Healthy, Summer, Spring, Carrot, Vegetarian, Bok Choy, Raw, Vegan, No Sugar Added, Peanut Free, Dairy Free, Pescatarian, Kid-Friendly, Low Cal, High Fiber, Wheat/Gluten-Free, Salad, Onion]                                  \n",
       "3  [Dairy Free, Wheat/Gluten-Free, Vegan, Pescatarian, Soy Free, Kosher, Peanut Free, Tree Nut Free, Fruit, Dairy, Milk/Cream, Vegetarian, Thanksgiving, Dessert, Ginger, Fall, Spice, Frozen Dessert, Michigan, Bon App�tit, Party, Clove]                      \n",
       "4  [Salad, Leafy Green, Nut, Appetizer, Quick & Easy, Tree Nut, Walnut, Fall, Healthy, Endive, Kidney Friendly, Vegan, Kosher, Soy Free, No Sugar Added, Wheat/Gluten-Free, Peanut Free, Paleo, Dairy Free, Vegetarian, Pescatarian]                             \n",
       "5  [Spice, Fall, Ramekin, Bon App�tit, Vegetarian, Pescatarian, Wheat/Gluten-Free, Peanut Free, Egg, Fruit, Dessert, Bake, Orange, Prune, Fig, Soy Free, Tree Nut Free, Kosher, Milk/Cream, Fruit Juice]                                                         \n",
       "6  [Bake, Dessert, Fruit, Raisin, Cranberry, Quick & Easy, Low Fat, Winter, Fall, Apricot, Vegetarian, California, Bon App�tit, Healthy, Peanut Free, Tree Nut Free, Pescatarian, Wheat/Gluten-Free, Soy Free, Kosher]                                           \n",
       "7  [Dairy Free, Wheat/Gluten-Free, Vegetarian, Pescatarian, Fat Free, Kidney Friendly, Vegan, Gourmet, Soy Free, Kosher, Peanut Free, Tree Nut Free, Fall, Plum, Thanksgiving, Dessert, Fruit, Sauce, Condiment/Spread]                                          \n",
       "8  [Vegetarian, Breakfast, Brunch, Non-Alcoholic, Juicer, Pescatarian, Paleo, Vegan, Drink, Carrot, Healthy, Celery, Beet, Wheat/Gluten-Free, Dairy Free, Soy Free, Peanut Free, Kosher, No Sugar Added]                                                         \n",
       "9  [Cake, Dessert, Ginger, Raisin, Spice, Pecan, Thanksgiving, Bake, Dried Fruit, Cranberry, Vegetarian, Pescatarian, Peanut Free, Soy Free, Fall, Cinnamon, Clove, Nutmeg, Kosher]                                                                              \n",
       "\n",
       "   commonCategories                                           recommendation  \n",
       "0  24                Peppery Fig and Cider Compote                            \n",
       "1  23                Green Juice                                              \n",
       "2  22                Apple Bok Choy Salad                                     \n",
       "3  22                Spiced Apple-Cider Granita with Ginger Whipped Cream     \n",
       "4  21                Belgian Endive and Walnut Salad (Insalata Belga e Noci)  \n",
       "5  20                White Pepper Cr�me Br�l�e with Fig and Prune Compote     \n",
       "6  20                Baked Apples with Cranberries, Raisins, and Apricots     \n",
       "7  19                Plum Applesauce                                          \n",
       "8  19                Power-Boosting Beets                                     \n",
       "9  19                Spiced Apple Cake with Eggnog Sauce                      "
      ]
     },
     "execution_count": 103,
     "metadata": {},
     "output_type": "execute_result"
    }
   ],
   "source": [
    "pd.DataFrame(graph.data(\"\"\"\n",
    "MATCH (c:Category)<-[:TAGGED_AS]-(r:Recipe)-[:TAGGED_AS]->(other:Category)\n",
    "WHERE c.name IN ['Organic', 'Large', 'Extra', 'Fancy', 'Fuji', 'Apple'] AND r.rating >= 4.5\n",
    "WITH r, COLLECT(other.name) AS categories, COUNT(*) AS commonCategories\n",
    "RETURN r.name AS recommendation, categories, commonCategories\n",
    "ORDER BY commonCategories DESC \n",
    "LIMIT 10\"\"\"))"
   ]
  },
  {
   "cell_type": "markdown",
   "metadata": {},
   "source": [
    "However, this meant that the database queries the Category nodes 6 times.\n",
    "\n",
    "Once for 'Organic', for 'Large', for 'Extra'... etc. \n",
    "\n",
    "Until it reaches 'Apple' which had the most number of hits.\n",
    "\n",
    "This is computational expensive. Another way to expand this project, would be to create a **Named Entity Recognition** (NER) model that will parse product names and outputs the relevent keyword that will be the search query for the recipe network.\n"
   ]
  },
  {
   "cell_type": "markdown",
   "metadata": {},
   "source": [
    "![](../reports/assets/recipe_recsys_mockup.png)"
   ]
  },
  {
   "cell_type": "markdown",
   "metadata": {},
   "source": [
    "# 5. Summary\n",
    "\n",
    "What worked and what didn't?\n",
    "- Collaborative filtering works if you have some form of quantitative ranking, i.e. ratings, total number of orders.\n",
    "- Content filtering works if you multiple categories for the same item.\n",
    "- Clustering can help you but like all clustering methods, there's no way to evaluate the outcomes.\n",
    "- Novelty recommendation is still a field studied (how to do it).\n",
    "- Evaluation: the 'laugh' test.\n",
    "\n",
    "What else after this?\n",
    "- Named Entity Recognition layer.\n",
    "- Textblob to create keywords for each recipes, either based on ingredients or description.\n",
    "- Make the Flask app look less...ugly.\n",
    "- Try another clustering algorithm, available in the iGraph [package](http://igraph.org/python/doc/igraph.Graph-class.html)."
   ]
  }
 ],
 "metadata": {
  "kernelspec": {
   "display_name": "Python 3",
   "language": "python",
   "name": "python3"
  },
  "language_info": {
   "codemirror_mode": {
    "name": "ipython",
    "version": 3
   },
   "file_extension": ".py",
   "mimetype": "text/x-python",
   "name": "python",
   "nbconvert_exporter": "python",
   "pygments_lexer": "ipython3",
   "version": "3.5.5"
  }
 },
 "nbformat": 4,
 "nbformat_minor": 2
}
