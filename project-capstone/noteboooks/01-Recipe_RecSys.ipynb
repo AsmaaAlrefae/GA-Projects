{
 "cells": [
  {
   "cell_type": "code",
   "execution_count": 1,
   "metadata": {},
   "outputs": [],
   "source": [
    "# Import-a-thon.\n",
    "\n",
    "import sqlite3\n",
    "import pandas as pd\n",
    "from py2neo import Graph\n",
    "from igraph import Graph as IGraph\n",
    "import matplotlib.pyplot as plt\n",
    "%matplotlib inline\n",
    "\n",
    "# Randomizer for user and/or product selection.\n",
    "from random import randint"
   ]
  },
  {
   "cell_type": "markdown",
   "metadata": {},
   "source": [
    "# Recipe Recommender System\n",
    "\n",
    "## Agenda\n",
    "\n",
    "1. Datasets\n",
    "2. Tech Stack\n",
    "    - Cleaning and preparing the datasets\n",
    "    - Any fun EDAs \n",
    "3. Overview of Recommender Systems\n",
    "    - Collaborative-based Filtering\n",
    "    - Content-based Filtering\n",
    "    - What did not work aka Lessons learnt the hard way\n",
    "4. Cross Polination\n",
    "5. Summary\n",
    "\n",
    "---"
   ]
  },
  {
   "cell_type": "markdown",
   "metadata": {},
   "source": [
    "# 1. Datasets\n",
    "\n",
    "1. Instacart's users and the products they have bought (in the year 2017).\n",
    "2. Epicurous's recipe dataset (from 2017). "
   ]
  },
  {
   "cell_type": "markdown",
   "metadata": {},
   "source": [
    "# 2. Tech Stack\n",
    "\n",
    "List of non-standard tools used and their packages:\n",
    "1. Relational Database, SQL (SQLite)\n",
    "2. Graph Database, Neo4j (py2neo)\n",
    "3. iGraph, for clustering (python-igraph)"
   ]
  },
  {
   "cell_type": "markdown",
   "metadata": {},
   "source": [
    "## Cleaning datasets for the database\n",
    "\n",
    "### SQL\n",
    "\n",
    "- Set up SQL.\n",
    "- Load the CSVs into pandas and have a quick look."
   ]
  },
  {
   "cell_type": "markdown",
   "metadata": {},
   "source": [
    "### Instacart"
   ]
  },
  {
   "cell_type": "code",
   "execution_count": 2,
   "metadata": {},
   "outputs": [],
   "source": [
    "connection = sqlite3.connect('../data/interim/instacart.db.sqlite')"
   ]
  },
  {
   "cell_type": "code",
   "execution_count": 3,
   "metadata": {},
   "outputs": [],
   "source": [
    "# Load the orders dataset.\n",
    "orders = '../data/raw/orders.csv'\n",
    "df_order = pd.read_csv(orders, encoding = 'utf8')\n",
    "\n",
    "# Save it to SQL.\n",
    "df_order.to_sql(name='orders',con=connection,if_exists='replace',index=False)"
   ]
  },
  {
   "cell_type": "code",
   "execution_count": 4,
   "metadata": {},
   "outputs": [],
   "source": [
    "# Load the products dataset.\n",
    "products = '../data/raw/products.csv'\n",
    "df_product = pd.read_csv(products, encoding = 'utf8')\n",
    "\n",
    "# Save it to SQL.\n",
    "df_product.to_sql(name='product',con=connection,if_exists='replace',index=False)"
   ]
  },
  {
   "cell_type": "code",
   "execution_count": 5,
   "metadata": {},
   "outputs": [],
   "source": [
    "# Load the order_products dataset.\n",
    "order_products = '../data/raw/order_products.csv'\n",
    "df_main = pd.read_csv(order_products, encoding = 'utf8')\n",
    "\n",
    "# Saving to a SQL file.\n",
    "df_main.to_sql(name='main',con=connection,if_exists='replace',index=False)"
   ]
  },
  {
   "cell_type": "code",
   "execution_count": 6,
   "metadata": {},
   "outputs": [],
   "source": [
    "# Load the aisles dataset.\n",
    "aisles = '../data/raw/aisles.csv'\n",
    "df_aisle = pd.read_csv(aisles, encoding = 'utf8')\n",
    "\n",
    "# Saving to a SQL file.\n",
    "df_aisle.to_sql(name='aisle',con=connection,if_exists='replace',index=False)"
   ]
  },
  {
   "cell_type": "code",
   "execution_count": 7,
   "metadata": {},
   "outputs": [],
   "source": [
    "# Load the departments dataset.\n",
    "departments = '../data/raw/departments.csv'\n",
    "df_department = pd.read_csv(departments, encoding = 'utf8')\n",
    "\n",
    "# Saving to a SQL file.\n",
    "df_department.to_sql(name='department',con=connection,if_exists='replace',index=False)"
   ]
  },
  {
   "cell_type": "markdown",
   "metadata": {},
   "source": [
    "### Preparing the files For Neo4j\n",
    "\n",
    "- Neo4j reads CSV files and JSON files (via a plugin)\n",
    "- Doesn't like duplicates. \n",
    "- Is quite particular ~~annoying~~ about encoding.\n",
    "- Doesn't like strings such as: '9\" Cast Iron Pot'\n",
    "- Condense 5 CSV files into 2:\n",
    "    1. `products_clean.csv`\n",
    "    2. `users_order.csv`"
   ]
  },
  {
   "cell_type": "code",
   "execution_count": 8,
   "metadata": {},
   "outputs": [],
   "source": [
    "# Create products_clean.csv.\n",
    "\n",
    "sql_query = '''\n",
    "SELECT product.product_id, product.product_name, product.aisle_id, product.department_id, aisle.aisle, department.department\n",
    "FROM product\n",
    "INNER JOIN aisle ON product.aisle_id = aisle.aisle_id\n",
    "INNER JOIN department ON product.department_id = department.department_id\n",
    "'''"
   ]
  },
  {
   "cell_type": "code",
   "execution_count": 9,
   "metadata": {},
   "outputs": [
    {
     "data": {
      "text/html": [
       "<div>\n",
       "<style scoped>\n",
       "    .dataframe tbody tr th:only-of-type {\n",
       "        vertical-align: middle;\n",
       "    }\n",
       "\n",
       "    .dataframe tbody tr th {\n",
       "        vertical-align: top;\n",
       "    }\n",
       "\n",
       "    .dataframe thead th {\n",
       "        text-align: right;\n",
       "    }\n",
       "</style>\n",
       "<table border=\"1\" class=\"dataframe\">\n",
       "  <thead>\n",
       "    <tr style=\"text-align: right;\">\n",
       "      <th></th>\n",
       "      <th>product_id</th>\n",
       "      <th>product_name</th>\n",
       "      <th>aisle_id</th>\n",
       "      <th>department_id</th>\n",
       "      <th>aisle</th>\n",
       "      <th>department</th>\n",
       "    </tr>\n",
       "  </thead>\n",
       "  <tbody>\n",
       "    <tr>\n",
       "      <th>0</th>\n",
       "      <td>1</td>\n",
       "      <td>Chocolate Sandwich Cookies</td>\n",
       "      <td>61</td>\n",
       "      <td>19</td>\n",
       "      <td>cookies cakes</td>\n",
       "      <td>snacks</td>\n",
       "    </tr>\n",
       "    <tr>\n",
       "      <th>1</th>\n",
       "      <td>2</td>\n",
       "      <td>All-Seasons Salt</td>\n",
       "      <td>104</td>\n",
       "      <td>13</td>\n",
       "      <td>spices seasonings</td>\n",
       "      <td>pantry</td>\n",
       "    </tr>\n",
       "    <tr>\n",
       "      <th>2</th>\n",
       "      <td>3</td>\n",
       "      <td>Robust Golden Unsweetened Oolong Tea</td>\n",
       "      <td>94</td>\n",
       "      <td>7</td>\n",
       "      <td>tea</td>\n",
       "      <td>beverages</td>\n",
       "    </tr>\n",
       "    <tr>\n",
       "      <th>3</th>\n",
       "      <td>4</td>\n",
       "      <td>Smart Ones Classic Favorites Mini Rigatoni Wit...</td>\n",
       "      <td>38</td>\n",
       "      <td>1</td>\n",
       "      <td>frozen meals</td>\n",
       "      <td>frozen</td>\n",
       "    </tr>\n",
       "    <tr>\n",
       "      <th>4</th>\n",
       "      <td>5</td>\n",
       "      <td>Green Chile Anytime Sauce</td>\n",
       "      <td>5</td>\n",
       "      <td>13</td>\n",
       "      <td>marinades meat preparation</td>\n",
       "      <td>pantry</td>\n",
       "    </tr>\n",
       "  </tbody>\n",
       "</table>\n",
       "</div>"
      ],
      "text/plain": [
       "   product_id                                       product_name  aisle_id  \\\n",
       "0           1                         Chocolate Sandwich Cookies        61   \n",
       "1           2                                   All-Seasons Salt       104   \n",
       "2           3               Robust Golden Unsweetened Oolong Tea        94   \n",
       "3           4  Smart Ones Classic Favorites Mini Rigatoni Wit...        38   \n",
       "4           5                          Green Chile Anytime Sauce         5   \n",
       "\n",
       "   department_id                       aisle department  \n",
       "0             19               cookies cakes     snacks  \n",
       "1             13           spices seasonings     pantry  \n",
       "2              7                         tea  beverages  \n",
       "3              1                frozen meals     frozen  \n",
       "4             13  marinades meat preparation     pantry  "
      ]
     },
     "execution_count": 9,
     "metadata": {},
     "output_type": "execute_result"
    }
   ],
   "source": [
    "# This will take awhile...\n",
    "df = pd.read_sql(sql_query, con=connection)\n",
    "df.head()"
   ]
  },
  {
   "cell_type": "code",
   "execution_count": 10,
   "metadata": {},
   "outputs": [
    {
     "data": {
      "text/plain": [
       "personal care      6563\n",
       "snacks             6264\n",
       "pantry             5371\n",
       "beverages          4365\n",
       "frozen             4007\n",
       "dairy eggs         3449\n",
       "household          3085\n",
       "canned goods       2092\n",
       "dry goods pasta    1858\n",
       "produce            1684\n",
       "bakery             1516\n",
       "deli               1322\n",
       "missing            1258\n",
       "international      1139\n",
       "breakfast          1115\n",
       "babies             1081\n",
       "alcohol            1054\n",
       "pets                972\n",
       "meat seafood        907\n",
       "other               548\n",
       "bulk                 38\n",
       "Name: department, dtype: int64"
      ]
     },
     "execution_count": 10,
     "metadata": {},
     "output_type": "execute_result"
    }
   ],
   "source": [
    "df['department'].value_counts()"
   ]
  },
  {
   "cell_type": "code",
   "execution_count": 11,
   "metadata": {},
   "outputs": [
    {
     "data": {
      "text/html": [
       "<div>\n",
       "<style scoped>\n",
       "    .dataframe tbody tr th:only-of-type {\n",
       "        vertical-align: middle;\n",
       "    }\n",
       "\n",
       "    .dataframe tbody tr th {\n",
       "        vertical-align: top;\n",
       "    }\n",
       "\n",
       "    .dataframe thead th {\n",
       "        text-align: right;\n",
       "    }\n",
       "</style>\n",
       "<table border=\"1\" class=\"dataframe\">\n",
       "  <thead>\n",
       "    <tr style=\"text-align: right;\">\n",
       "      <th></th>\n",
       "      <th>product_id</th>\n",
       "      <th>product_name</th>\n",
       "      <th>aisle_id</th>\n",
       "      <th>department_id</th>\n",
       "      <th>aisle</th>\n",
       "      <th>department</th>\n",
       "    </tr>\n",
       "  </thead>\n",
       "  <tbody>\n",
       "    <tr>\n",
       "      <th>0</th>\n",
       "      <td>1</td>\n",
       "      <td>Chocolate Sandwich Cookies</td>\n",
       "      <td>61</td>\n",
       "      <td>19</td>\n",
       "      <td>cookies cakes</td>\n",
       "      <td>snacks</td>\n",
       "    </tr>\n",
       "    <tr>\n",
       "      <th>1</th>\n",
       "      <td>2</td>\n",
       "      <td>All-Seasons Salt</td>\n",
       "      <td>104</td>\n",
       "      <td>13</td>\n",
       "      <td>spices seasonings</td>\n",
       "      <td>pantry</td>\n",
       "    </tr>\n",
       "    <tr>\n",
       "      <th>2</th>\n",
       "      <td>3</td>\n",
       "      <td>Robust Golden Unsweetened Oolong Tea</td>\n",
       "      <td>94</td>\n",
       "      <td>7</td>\n",
       "      <td>tea</td>\n",
       "      <td>beverages</td>\n",
       "    </tr>\n",
       "    <tr>\n",
       "      <th>3</th>\n",
       "      <td>4</td>\n",
       "      <td>Smart Ones Classic Favorites Mini Rigatoni Wit...</td>\n",
       "      <td>38</td>\n",
       "      <td>1</td>\n",
       "      <td>frozen meals</td>\n",
       "      <td>frozen</td>\n",
       "    </tr>\n",
       "    <tr>\n",
       "      <th>4</th>\n",
       "      <td>5</td>\n",
       "      <td>Green Chile Anytime Sauce</td>\n",
       "      <td>5</td>\n",
       "      <td>13</td>\n",
       "      <td>marinades meat preparation</td>\n",
       "      <td>pantry</td>\n",
       "    </tr>\n",
       "  </tbody>\n",
       "</table>\n",
       "</div>"
      ],
      "text/plain": [
       "   product_id                                       product_name  aisle_id  \\\n",
       "0           1                         Chocolate Sandwich Cookies        61   \n",
       "1           2                                   All-Seasons Salt       104   \n",
       "2           3               Robust Golden Unsweetened Oolong Tea        94   \n",
       "3           4  Smart Ones Classic Favorites Mini Rigatoni Wit...        38   \n",
       "4           5                          Green Chile Anytime Sauce         5   \n",
       "\n",
       "   department_id                       aisle department  \n",
       "0             19               cookies cakes     snacks  \n",
       "1             13           spices seasonings     pantry  \n",
       "2              7                         tea  beverages  \n",
       "3              1                frozen meals     frozen  \n",
       "4             13  marinades meat preparation     pantry  "
      ]
     },
     "execution_count": 11,
     "metadata": {},
     "output_type": "execute_result"
    }
   ],
   "source": [
    "to_delete = ['personal care','household','missing','babies','pets']\n",
    "\n",
    "df_clean = df[~df['department'].isin(to_delete)].copy()\n",
    "df_clean.head()"
   ]
  },
  {
   "cell_type": "code",
   "execution_count": 12,
   "metadata": {},
   "outputs": [],
   "source": [
    "# Remove those with \" in the names.\n",
    "df_clean = df_clean[~df_clean['product_name'].str.contains('\"')]"
   ]
  },
  {
   "cell_type": "code",
   "execution_count": 13,
   "metadata": {},
   "outputs": [],
   "source": [
    "# Remove any weird encodings.\n",
    "df_clean['product_name'] = df_clean['product_name'].apply(lambda x: x.encode('ascii', 'ignore').decode('ascii').strip())"
   ]
  },
  {
   "cell_type": "code",
   "execution_count": 14,
   "metadata": {},
   "outputs": [],
   "source": [
    "# Save to csv.\n",
    "df_clean.to_csv('../data/processed/products_clean.csv', index=False)"
   ]
  },
  {
   "cell_type": "code",
   "execution_count": 15,
   "metadata": {},
   "outputs": [],
   "source": [
    "# Create the users AND orders csv.\n",
    "\n",
    "sql_query = '''\n",
    "SELECT orders.user_id, main.product_id, orders.order_hour_of_day, COUNT(orders.order_id) AS total_orders\n",
    "FROM main\n",
    "INNER JOIN product ON product.product_id = main.product_id\n",
    "INNER JOIN orders ON orders.order_id = main.order_id\n",
    "GROUP BY orders.order_id\n",
    "'''"
   ]
  },
  {
   "cell_type": "code",
   "execution_count": 16,
   "metadata": {},
   "outputs": [],
   "source": [
    "# This will take awhile...\n",
    "df = pd.read_sql(sql_query, con=connection)"
   ]
  },
  {
   "cell_type": "code",
   "execution_count": 17,
   "metadata": {},
   "outputs": [
    {
     "data": {
      "text/html": [
       "<div>\n",
       "<style scoped>\n",
       "    .dataframe tbody tr th:only-of-type {\n",
       "        vertical-align: middle;\n",
       "    }\n",
       "\n",
       "    .dataframe tbody tr th {\n",
       "        vertical-align: top;\n",
       "    }\n",
       "\n",
       "    .dataframe thead th {\n",
       "        text-align: right;\n",
       "    }\n",
       "</style>\n",
       "<table border=\"1\" class=\"dataframe\">\n",
       "  <thead>\n",
       "    <tr style=\"text-align: right;\">\n",
       "      <th></th>\n",
       "      <th>user_id</th>\n",
       "      <th>product_id</th>\n",
       "      <th>order_hour_of_day</th>\n",
       "      <th>total_orders</th>\n",
       "    </tr>\n",
       "  </thead>\n",
       "  <tbody>\n",
       "    <tr>\n",
       "      <th>445008</th>\n",
       "      <td>1</td>\n",
       "      <td>30450</td>\n",
       "      <td>12</td>\n",
       "      <td>5</td>\n",
       "    </tr>\n",
       "    <tr>\n",
       "      <th>405352</th>\n",
       "      <td>1</td>\n",
       "      <td>13176</td>\n",
       "      <td>15</td>\n",
       "      <td>8</td>\n",
       "    </tr>\n",
       "    <tr>\n",
       "      <th>2118491</th>\n",
       "      <td>1</td>\n",
       "      <td>26405</td>\n",
       "      <td>7</td>\n",
       "      <td>5</td>\n",
       "    </tr>\n",
       "    <tr>\n",
       "      <th>2396411</th>\n",
       "      <td>1</td>\n",
       "      <td>12427</td>\n",
       "      <td>8</td>\n",
       "      <td>9</td>\n",
       "    </tr>\n",
       "    <tr>\n",
       "      <th>2386095</th>\n",
       "      <td>1</td>\n",
       "      <td>26405</td>\n",
       "      <td>8</td>\n",
       "      <td>5</td>\n",
       "    </tr>\n",
       "    <tr>\n",
       "      <th>2253888</th>\n",
       "      <td>1</td>\n",
       "      <td>13032</td>\n",
       "      <td>7</td>\n",
       "      <td>6</td>\n",
       "    </tr>\n",
       "    <tr>\n",
       "      <th>516695</th>\n",
       "      <td>1</td>\n",
       "      <td>13032</td>\n",
       "      <td>9</td>\n",
       "      <td>5</td>\n",
       "    </tr>\n",
       "    <tr>\n",
       "      <th>3164631</th>\n",
       "      <td>1</td>\n",
       "      <td>25133</td>\n",
       "      <td>7</td>\n",
       "      <td>4</td>\n",
       "    </tr>\n",
       "    <tr>\n",
       "      <th>2156588</th>\n",
       "      <td>1</td>\n",
       "      <td>12427</td>\n",
       "      <td>16</td>\n",
       "      <td>6</td>\n",
       "    </tr>\n",
       "    <tr>\n",
       "      <th>2921151</th>\n",
       "      <td>1</td>\n",
       "      <td>49235</td>\n",
       "      <td>14</td>\n",
       "      <td>6</td>\n",
       "    </tr>\n",
       "    <tr>\n",
       "      <th>3001541</th>\n",
       "      <td>2</td>\n",
       "      <td>34688</td>\n",
       "      <td>12</td>\n",
       "      <td>14</td>\n",
       "    </tr>\n",
       "    <tr>\n",
       "      <th>1317127</th>\n",
       "      <td>2</td>\n",
       "      <td>21227</td>\n",
       "      <td>10</td>\n",
       "      <td>15</td>\n",
       "    </tr>\n",
       "    <tr>\n",
       "      <th>1572067</th>\n",
       "      <td>2</td>\n",
       "      <td>47766</td>\n",
       "      <td>11</td>\n",
       "      <td>13</td>\n",
       "    </tr>\n",
       "    <tr>\n",
       "      <th>1410579</th>\n",
       "      <td>2</td>\n",
       "      <td>8138</td>\n",
       "      <td>10</td>\n",
       "      <td>6</td>\n",
       "    </tr>\n",
       "    <tr>\n",
       "      <th>693452</th>\n",
       "      <td>2</td>\n",
       "      <td>21150</td>\n",
       "      <td>10</td>\n",
       "      <td>13</td>\n",
       "    </tr>\n",
       "    <tr>\n",
       "      <th>1786486</th>\n",
       "      <td>2</td>\n",
       "      <td>28874</td>\n",
       "      <td>10</td>\n",
       "      <td>5</td>\n",
       "    </tr>\n",
       "    <tr>\n",
       "      <th>1359770</th>\n",
       "      <td>2</td>\n",
       "      <td>2573</td>\n",
       "      <td>11</td>\n",
       "      <td>9</td>\n",
       "    </tr>\n",
       "    <tr>\n",
       "      <th>3071555</th>\n",
       "      <td>2</td>\n",
       "      <td>45948</td>\n",
       "      <td>11</td>\n",
       "      <td>9</td>\n",
       "    </tr>\n",
       "    <tr>\n",
       "      <th>2994519</th>\n",
       "      <td>2</td>\n",
       "      <td>12258</td>\n",
       "      <td>9</td>\n",
       "      <td>19</td>\n",
       "    </tr>\n",
       "    <tr>\n",
       "      <th>2037238</th>\n",
       "      <td>2</td>\n",
       "      <td>45066</td>\n",
       "      <td>11</td>\n",
       "      <td>13</td>\n",
       "    </tr>\n",
       "  </tbody>\n",
       "</table>\n",
       "</div>"
      ],
      "text/plain": [
       "         user_id  product_id  order_hour_of_day  total_orders\n",
       "445008         1       30450                 12             5\n",
       "405352         1       13176                 15             8\n",
       "2118491        1       26405                  7             5\n",
       "2396411        1       12427                  8             9\n",
       "2386095        1       26405                  8             5\n",
       "2253888        1       13032                  7             6\n",
       "516695         1       13032                  9             5\n",
       "3164631        1       25133                  7             4\n",
       "2156588        1       12427                 16             6\n",
       "2921151        1       49235                 14             6\n",
       "3001541        2       34688                 12            14\n",
       "1317127        2       21227                 10            15\n",
       "1572067        2       47766                 11            13\n",
       "1410579        2        8138                 10             6\n",
       "693452         2       21150                 10            13\n",
       "1786486        2       28874                 10             5\n",
       "1359770        2        2573                 11             9\n",
       "3071555        2       45948                 11             9\n",
       "2994519        2       12258                  9            19\n",
       "2037238        2       45066                 11            13"
      ]
     },
     "execution_count": 17,
     "metadata": {},
     "output_type": "execute_result"
    }
   ],
   "source": [
    "df.sort_values(by='user_id', inplace=True)\n",
    "df.head(20)"
   ]
  },
  {
   "cell_type": "code",
   "execution_count": 18,
   "metadata": {},
   "outputs": [],
   "source": [
    "# This will take awhile...\n",
    "df.to_csv('../data/processed/users_orders.csv', index=False)"
   ]
  },
  {
   "cell_type": "markdown",
   "metadata": {},
   "source": [
    "### Epicurious\n",
    "\n",
    "Not CSV, but a JSON file!"
   ]
  },
  {
   "cell_type": "code",
   "execution_count": 19,
   "metadata": {},
   "outputs": [
    {
     "data": {
      "text/html": [
       "<div>\n",
       "<style scoped>\n",
       "    .dataframe tbody tr th:only-of-type {\n",
       "        vertical-align: middle;\n",
       "    }\n",
       "\n",
       "    .dataframe tbody tr th {\n",
       "        vertical-align: top;\n",
       "    }\n",
       "\n",
       "    .dataframe thead th {\n",
       "        text-align: right;\n",
       "    }\n",
       "</style>\n",
       "<table border=\"1\" class=\"dataframe\">\n",
       "  <thead>\n",
       "    <tr style=\"text-align: right;\">\n",
       "      <th></th>\n",
       "      <th>calories</th>\n",
       "      <th>categories</th>\n",
       "      <th>date</th>\n",
       "      <th>desc</th>\n",
       "      <th>directions</th>\n",
       "      <th>fat</th>\n",
       "      <th>ingredients</th>\n",
       "      <th>protein</th>\n",
       "      <th>rating</th>\n",
       "      <th>sodium</th>\n",
       "      <th>title</th>\n",
       "    </tr>\n",
       "  </thead>\n",
       "  <tbody>\n",
       "    <tr>\n",
       "      <th>0</th>\n",
       "      <td>426.0</td>\n",
       "      <td>[Sandwich, Bean, Fruit, Tomato, turkey, Vegeta...</td>\n",
       "      <td>2006-09-01 04:00:00</td>\n",
       "      <td>None</td>\n",
       "      <td>[1. Place the stock, lentils, celery, carrot, ...</td>\n",
       "      <td>7.0</td>\n",
       "      <td>[4 cups low-sodium vegetable or chicken stock,...</td>\n",
       "      <td>30.0</td>\n",
       "      <td>2.500</td>\n",
       "      <td>559.0</td>\n",
       "      <td>Lentil, Apple, and Turkey Wrap</td>\n",
       "    </tr>\n",
       "    <tr>\n",
       "      <th>1</th>\n",
       "      <td>403.0</td>\n",
       "      <td>[Food Processor, Onion, Pork, Bake, Bastille D...</td>\n",
       "      <td>2004-08-20 04:00:00</td>\n",
       "      <td>This uses the same ingredients found in boudin...</td>\n",
       "      <td>[Combine first 9 ingredients in heavy medium s...</td>\n",
       "      <td>23.0</td>\n",
       "      <td>[1 1/2 cups whipping cream, 2 medium onions, c...</td>\n",
       "      <td>18.0</td>\n",
       "      <td>4.375</td>\n",
       "      <td>1439.0</td>\n",
       "      <td>Boudin Blanc Terrine with Red Onion Confit</td>\n",
       "    </tr>\n",
       "    <tr>\n",
       "      <th>2</th>\n",
       "      <td>165.0</td>\n",
       "      <td>[Soup/Stew, Dairy, Potato, Vegetable, Fennel, ...</td>\n",
       "      <td>2004-08-20 04:00:00</td>\n",
       "      <td>None</td>\n",
       "      <td>[In a large heavy saucepan cook diced fennel a...</td>\n",
       "      <td>7.0</td>\n",
       "      <td>[1 fennel bulb (sometimes called anise), stalk...</td>\n",
       "      <td>6.0</td>\n",
       "      <td>3.750</td>\n",
       "      <td>165.0</td>\n",
       "      <td>Potato and Fennel Soup Hodge</td>\n",
       "    </tr>\n",
       "    <tr>\n",
       "      <th>3</th>\n",
       "      <td>NaN</td>\n",
       "      <td>[Fish, Olive, Tomato, Sauté, Low Fat, Low Cal,...</td>\n",
       "      <td>2009-03-27 04:00:00</td>\n",
       "      <td>The Sicilian-style tomato sauce has tons of Me...</td>\n",
       "      <td>[Heat oil in heavy large skillet over medium-h...</td>\n",
       "      <td>NaN</td>\n",
       "      <td>[2 tablespoons extra-virgin olive oil, 1 cup c...</td>\n",
       "      <td>NaN</td>\n",
       "      <td>5.000</td>\n",
       "      <td>NaN</td>\n",
       "      <td>Mahi-Mahi in Tomato Olive Sauce</td>\n",
       "    </tr>\n",
       "    <tr>\n",
       "      <th>4</th>\n",
       "      <td>547.0</td>\n",
       "      <td>[Cheese, Dairy, Pasta, Vegetable, Side, Bake, ...</td>\n",
       "      <td>2004-08-20 04:00:00</td>\n",
       "      <td>None</td>\n",
       "      <td>[Preheat oven to 350°F. Lightly grease 8x8x2-i...</td>\n",
       "      <td>32.0</td>\n",
       "      <td>[1 12-ounce package frozen spinach soufflé, th...</td>\n",
       "      <td>20.0</td>\n",
       "      <td>3.125</td>\n",
       "      <td>452.0</td>\n",
       "      <td>Spinach Noodle Casserole</td>\n",
       "    </tr>\n",
       "  </tbody>\n",
       "</table>\n",
       "</div>"
      ],
      "text/plain": [
       "   calories                                         categories  \\\n",
       "0     426.0  [Sandwich, Bean, Fruit, Tomato, turkey, Vegeta...   \n",
       "1     403.0  [Food Processor, Onion, Pork, Bake, Bastille D...   \n",
       "2     165.0  [Soup/Stew, Dairy, Potato, Vegetable, Fennel, ...   \n",
       "3       NaN  [Fish, Olive, Tomato, Sauté, Low Fat, Low Cal,...   \n",
       "4     547.0  [Cheese, Dairy, Pasta, Vegetable, Side, Bake, ...   \n",
       "\n",
       "                 date                                               desc  \\\n",
       "0 2006-09-01 04:00:00                                               None   \n",
       "1 2004-08-20 04:00:00  This uses the same ingredients found in boudin...   \n",
       "2 2004-08-20 04:00:00                                               None   \n",
       "3 2009-03-27 04:00:00  The Sicilian-style tomato sauce has tons of Me...   \n",
       "4 2004-08-20 04:00:00                                               None   \n",
       "\n",
       "                                          directions   fat  \\\n",
       "0  [1. Place the stock, lentils, celery, carrot, ...   7.0   \n",
       "1  [Combine first 9 ingredients in heavy medium s...  23.0   \n",
       "2  [In a large heavy saucepan cook diced fennel a...   7.0   \n",
       "3  [Heat oil in heavy large skillet over medium-h...   NaN   \n",
       "4  [Preheat oven to 350°F. Lightly grease 8x8x2-i...  32.0   \n",
       "\n",
       "                                         ingredients  protein  rating  sodium  \\\n",
       "0  [4 cups low-sodium vegetable or chicken stock,...     30.0   2.500   559.0   \n",
       "1  [1 1/2 cups whipping cream, 2 medium onions, c...     18.0   4.375  1439.0   \n",
       "2  [1 fennel bulb (sometimes called anise), stalk...      6.0   3.750   165.0   \n",
       "3  [2 tablespoons extra-virgin olive oil, 1 cup c...      NaN   5.000     NaN   \n",
       "4  [1 12-ounce package frozen spinach soufflé, th...     20.0   3.125   452.0   \n",
       "\n",
       "                                         title  \n",
       "0              Lentil, Apple, and Turkey Wrap   \n",
       "1  Boudin Blanc Terrine with Red Onion Confit   \n",
       "2                Potato and Fennel Soup Hodge   \n",
       "3             Mahi-Mahi in Tomato Olive Sauce   \n",
       "4                    Spinach Noodle Casserole   "
      ]
     },
     "execution_count": 19,
     "metadata": {},
     "output_type": "execute_result"
    }
   ],
   "source": [
    "epi = pd.read_json('../data/raw/full_format_recipes.json', orient='values', encoding='utf-8')\n",
    "epi.head()"
   ]
  },
  {
   "cell_type": "code",
   "execution_count": 20,
   "metadata": {},
   "outputs": [],
   "source": [
    "epi.drop(columns=['fat','calories','date','protein','sodium','desc'], inplace=True)"
   ]
  },
  {
   "cell_type": "code",
   "execution_count": 21,
   "metadata": {},
   "outputs": [
    {
     "data": {
      "text/plain": [
       "['Sandwich',\n",
       " 'Bean',\n",
       " 'Fruit',\n",
       " 'Tomato',\n",
       " 'turkey',\n",
       " 'Vegetable',\n",
       " 'Kid-Friendly',\n",
       " 'Apple',\n",
       " 'Lentil',\n",
       " 'Lettuce',\n",
       " 'Cookie']"
      ]
     },
     "execution_count": 21,
     "metadata": {},
     "output_type": "execute_result"
    }
   ],
   "source": [
    "epi['categories'][0]"
   ]
  },
  {
   "cell_type": "code",
   "execution_count": 22,
   "metadata": {},
   "outputs": [
    {
     "data": {
      "text/plain": [
       "['1. Place the stock, lentils, celery, carrot, thyme, and salt in a medium saucepan and bring to a boil. Reduce heat to low and simmer until the lentils are tender, about 30 minutes, depending on the lentils. (If they begin to dry out, add water as needed.) Remove and discard the thyme. Drain and transfer the mixture to a bowl; let cool.',\n",
       " '2. Fold in the tomato, apple, lemon juice, and olive oil. Season with the pepper.',\n",
       " '3. To assemble a wrap, place 1 lavash sheet on a clean work surface. Spread some of the lentil mixture on the end nearest you, leaving a 1-inch border. Top with several slices of turkey, then some of the lettuce. Roll up the lavash, slice crosswise, and serve. If using tortillas, spread the lentils in the center, top with the turkey and lettuce, and fold up the bottom, left side, and right side before rolling away from you.']"
      ]
     },
     "execution_count": 22,
     "metadata": {},
     "output_type": "execute_result"
    }
   ],
   "source": [
    "epi['directions'][0]"
   ]
  },
  {
   "cell_type": "code",
   "execution_count": 23,
   "metadata": {},
   "outputs": [
    {
     "data": {
      "text/plain": [
       "['4 cups low-sodium vegetable or chicken stock',\n",
       " '1 cup dried brown lentils',\n",
       " '1/2 cup dried French green lentils',\n",
       " '2 stalks celery, chopped',\n",
       " '1 large carrot, peeled and chopped',\n",
       " '1 sprig fresh thyme',\n",
       " '1 teaspoon kosher salt',\n",
       " '1 medium tomato, cored, seeded, and diced',\n",
       " '1 small Fuji apple, cored and diced',\n",
       " '1 tablespoon freshly squeezed lemon juice',\n",
       " '2 teaspoons extra-virgin olive oil',\n",
       " 'Freshly ground black pepper to taste',\n",
       " '3 sheets whole-wheat lavash, cut in half crosswise, or 6 (12-inch) flour tortillas',\n",
       " '3/4 pound turkey breast, thinly sliced',\n",
       " '1/2 head Bibb lettuce']"
      ]
     },
     "execution_count": 23,
     "metadata": {},
     "output_type": "execute_result"
    }
   ],
   "source": [
    "epi['ingredients'][0]"
   ]
  },
  {
   "cell_type": "code",
   "execution_count": 24,
   "metadata": {},
   "outputs": [
    {
     "data": {
      "text/plain": [
       "'Lentil, Apple, and Turkey Wrap '"
      ]
     },
     "execution_count": 24,
     "metadata": {},
     "output_type": "execute_result"
    }
   ],
   "source": [
    "epi['title'][0]"
   ]
  },
  {
   "cell_type": "code",
   "execution_count": 25,
   "metadata": {},
   "outputs": [],
   "source": [
    "epi['title'] = epi['title'].str.strip()"
   ]
  },
  {
   "cell_type": "code",
   "execution_count": 26,
   "metadata": {},
   "outputs": [
    {
     "data": {
      "text/plain": [
       "(20130, 5)"
      ]
     },
     "execution_count": 26,
     "metadata": {},
     "output_type": "execute_result"
    }
   ],
   "source": [
    "epi.shape"
   ]
  },
  {
   "cell_type": "code",
   "execution_count": 27,
   "metadata": {},
   "outputs": [
    {
     "data": {
      "text/plain": [
       "(17776, 5)"
      ]
     },
     "execution_count": 27,
     "metadata": {},
     "output_type": "execute_result"
    }
   ],
   "source": [
    "epi.drop_duplicates(subset='title', keep='first', inplace=True)\n",
    "epi.shape"
   ]
  },
  {
   "cell_type": "code",
   "execution_count": 28,
   "metadata": {},
   "outputs": [],
   "source": [
    "epi.to_json('../data/processed/epi_recipe_json_cleaned.json', force_ascii=False, orient='records')\n",
    "\n",
    "# After doing this, we still got some encoding errors in Neo4j. \n",
    "# Solution: open the file in Notepad++ and 'convert to UTF-8' and save it again. \n",
    "# Then it works... I am not sure if this is a Neo4j bug or a pandas to_json write bug, or I didn't do it properly."
   ]
  },
  {
   "cell_type": "markdown",
   "metadata": {},
   "source": [
    "#### Any fun EDAs"
   ]
  },
  {
   "cell_type": "markdown",
   "metadata": {},
   "source": [
    "Average number of orders across all users."
   ]
  },
  {
   "cell_type": "code",
   "execution_count": 29,
   "metadata": {},
   "outputs": [
    {
     "data": {
      "text/html": [
       "<div>\n",
       "<style scoped>\n",
       "    .dataframe tbody tr th:only-of-type {\n",
       "        vertical-align: middle;\n",
       "    }\n",
       "\n",
       "    .dataframe tbody tr th {\n",
       "        vertical-align: top;\n",
       "    }\n",
       "\n",
       "    .dataframe thead th {\n",
       "        text-align: right;\n",
       "    }\n",
       "</style>\n",
       "<table border=\"1\" class=\"dataframe\">\n",
       "  <thead>\n",
       "    <tr style=\"text-align: right;\">\n",
       "      <th></th>\n",
       "      <th>user_id</th>\n",
       "      <th>product_id</th>\n",
       "      <th>order_hour_of_day</th>\n",
       "      <th>total_orders</th>\n",
       "    </tr>\n",
       "  </thead>\n",
       "  <tbody>\n",
       "    <tr>\n",
       "      <th>445008</th>\n",
       "      <td>1</td>\n",
       "      <td>30450</td>\n",
       "      <td>12</td>\n",
       "      <td>5</td>\n",
       "    </tr>\n",
       "    <tr>\n",
       "      <th>405352</th>\n",
       "      <td>1</td>\n",
       "      <td>13176</td>\n",
       "      <td>15</td>\n",
       "      <td>8</td>\n",
       "    </tr>\n",
       "    <tr>\n",
       "      <th>2118491</th>\n",
       "      <td>1</td>\n",
       "      <td>26405</td>\n",
       "      <td>7</td>\n",
       "      <td>5</td>\n",
       "    </tr>\n",
       "    <tr>\n",
       "      <th>2396411</th>\n",
       "      <td>1</td>\n",
       "      <td>12427</td>\n",
       "      <td>8</td>\n",
       "      <td>9</td>\n",
       "    </tr>\n",
       "    <tr>\n",
       "      <th>2386095</th>\n",
       "      <td>1</td>\n",
       "      <td>26405</td>\n",
       "      <td>8</td>\n",
       "      <td>5</td>\n",
       "    </tr>\n",
       "  </tbody>\n",
       "</table>\n",
       "</div>"
      ],
      "text/plain": [
       "         user_id  product_id  order_hour_of_day  total_orders\n",
       "445008         1       30450                 12             5\n",
       "405352         1       13176                 15             8\n",
       "2118491        1       26405                  7             5\n",
       "2396411        1       12427                  8             9\n",
       "2386095        1       26405                  8             5"
      ]
     },
     "execution_count": 29,
     "metadata": {},
     "output_type": "execute_result"
    }
   ],
   "source": [
    "df.head()"
   ]
  },
  {
   "cell_type": "code",
   "execution_count": 30,
   "metadata": {},
   "outputs": [
    {
     "data": {
      "text/plain": [
       "count    3.214874e+06\n",
       "mean     1.008888e+01\n",
       "std      7.525398e+00\n",
       "min      1.000000e+00\n",
       "25%      5.000000e+00\n",
       "50%      8.000000e+00\n",
       "75%      1.400000e+01\n",
       "max      1.450000e+02\n",
       "Name: total_orders, dtype: float64"
      ]
     },
     "execution_count": 30,
     "metadata": {},
     "output_type": "execute_result"
    }
   ],
   "source": [
    "df['total_orders'].describe()"
   ]
  },
  {
   "cell_type": "code",
   "execution_count": 31,
   "metadata": {},
   "outputs": [
    {
     "data": {
      "image/png": "[encoded data removed]",
      "text/plain": [
       "<Figure size 720x720 with 1 Axes>"
      ]
     },
     "metadata": {},
     "output_type": "display_data"
    }
   ],
   "source": [
    "df.boxplot(column='total_orders',figsize=(10,10))\n",
    "plt.show()"
   ]
  },
  {
   "cell_type": "markdown",
   "metadata": {},
   "source": [
    "Products most purchased."
   ]
  },
  {
   "cell_type": "code",
   "execution_count": 33,
   "metadata": {},
   "outputs": [],
   "source": [
    "# just an example, replace with credentials for your own Neo4j instance.\n",
    "graph = Graph(bolt=True, host=\"localhost\", http_port=7687, user='neo4j', password='pasta')"
   ]
  },
  {
   "cell_type": "code",
   "execution_count": 34,
   "metadata": {},
   "outputs": [
    {
     "data": {
      "text/html": [
       "<div>\n",
       "<style scoped>\n",
       "    .dataframe tbody tr th:only-of-type {\n",
       "        vertical-align: middle;\n",
       "    }\n",
       "\n",
       "    .dataframe tbody tr th {\n",
       "        vertical-align: top;\n",
       "    }\n",
       "\n",
       "    .dataframe thead th {\n",
       "        text-align: right;\n",
       "    }\n",
       "</style>\n",
       "<table border=\"1\" class=\"dataframe\">\n",
       "  <thead>\n",
       "    <tr style=\"text-align: right;\">\n",
       "      <th></th>\n",
       "      <th>orders</th>\n",
       "      <th>p.name</th>\n",
       "    </tr>\n",
       "  </thead>\n",
       "  <tbody>\n",
       "    <tr>\n",
       "      <th>0</th>\n",
       "      <td>30098</td>\n",
       "      <td>Banana</td>\n",
       "    </tr>\n",
       "    <tr>\n",
       "      <th>1</th>\n",
       "      <td>29826</td>\n",
       "      <td>Bag of Organic Bananas</td>\n",
       "    </tr>\n",
       "    <tr>\n",
       "      <th>2</th>\n",
       "      <td>23477</td>\n",
       "      <td>Organic Strawberries</td>\n",
       "    </tr>\n",
       "    <tr>\n",
       "      <th>3</th>\n",
       "      <td>21733</td>\n",
       "      <td>Organic Baby Spinach</td>\n",
       "    </tr>\n",
       "    <tr>\n",
       "      <th>4</th>\n",
       "      <td>15544</td>\n",
       "      <td>Organic Hass Avocado</td>\n",
       "    </tr>\n",
       "    <tr>\n",
       "      <th>5</th>\n",
       "      <td>15529</td>\n",
       "      <td>Strawberries</td>\n",
       "    </tr>\n",
       "    <tr>\n",
       "      <th>6</th>\n",
       "      <td>12546</td>\n",
       "      <td>Organic Avocado</td>\n",
       "    </tr>\n",
       "    <tr>\n",
       "      <th>7</th>\n",
       "      <td>11883</td>\n",
       "      <td>Large Lemon</td>\n",
       "    </tr>\n",
       "    <tr>\n",
       "      <th>8</th>\n",
       "      <td>11347</td>\n",
       "      <td>Organic Blueberries</td>\n",
       "    </tr>\n",
       "    <tr>\n",
       "      <th>9</th>\n",
       "      <td>11003</td>\n",
       "      <td>Organic Whole Milk</td>\n",
       "    </tr>\n",
       "  </tbody>\n",
       "</table>\n",
       "</div>"
      ],
      "text/plain": [
       "   orders                  p.name\n",
       "0   30098                  Banana\n",
       "1   29826  Bag of Organic Bananas\n",
       "2   23477    Organic Strawberries\n",
       "3   21733    Organic Baby Spinach\n",
       "4   15544    Organic Hass Avocado\n",
       "5   15529            Strawberries\n",
       "6   12546         Organic Avocado\n",
       "7   11883             Large Lemon\n",
       "8   11347     Organic Blueberries\n",
       "9   11003      Organic Whole Milk"
      ]
     },
     "execution_count": 34,
     "metadata": {},
     "output_type": "execute_result"
    }
   ],
   "source": [
    "pd.DataFrame(graph.data('''\n",
    "MATCH (u:User)-[b:BOUGHT]->(p:Product)\n",
    "RETURN p.name, COUNT(b) AS orders\n",
    "ORDER BY orders DESC\n",
    "LIMIT 10\n",
    "'''))"
   ]
  },
  {
   "cell_type": "markdown",
   "metadata": {},
   "source": [
    "# Data Stucture\n",
    "\n",
    "aka Time to Make Excuses.\n",
    "\n",
    "![](../reports/assets/data_structure.png)"
   ]
  },
  {
   "cell_type": "markdown",
   "metadata": {},
   "source": [
    "![](../reports/assets/database_schema.png)"
   ]
  },
  {
   "cell_type": "markdown",
   "metadata": {},
   "source": [
    "# 3. Overview of Recommender Systems\n",
    "\n",
    "There are three approaches to recommender systems: \n",
    "1. Collaborative-based Filtering\n",
    "2. Content-based Filtering\n",
    "3. A Hybrid of Both"
   ]
  },
  {
   "cell_type": "markdown",
   "metadata": {},
   "source": [
    "Similarity metrics:\n",
    "1. Cosine similarity scores\n",
    "2. Pearson similarity scores\n",
    "3. Jaccard similarity scores"
   ]
  },
  {
   "cell_type": "markdown",
   "metadata": {},
   "source": [
    "## Collaborative-based Filtering\n",
    "\n",
    "What else do other users buy which is _similar_ to what you have bought?"
   ]
  },
  {
   "cell_type": "code",
   "execution_count": 35,
   "metadata": {},
   "outputs": [
    {
     "name": "stdout",
     "output_type": "stream",
     "text": [
      "The selected user ID is: 13258\n"
     ]
    }
   ],
   "source": [
    "random_user = randint(0, 206210)\n",
    "print(\"The selected user ID is: {}\".format(random_user))"
   ]
  },
  {
   "cell_type": "code",
   "execution_count": 36,
   "metadata": {},
   "outputs": [
    {
     "data": {
      "text/html": [
       "<div>\n",
       "<style scoped>\n",
       "    .dataframe tbody tr th:only-of-type {\n",
       "        vertical-align: middle;\n",
       "    }\n",
       "\n",
       "    .dataframe tbody tr th {\n",
       "        vertical-align: top;\n",
       "    }\n",
       "\n",
       "    .dataframe thead th {\n",
       "        text-align: right;\n",
       "    }\n",
       "</style>\n",
       "<table border=\"1\" class=\"dataframe\">\n",
       "  <thead>\n",
       "    <tr style=\"text-align: right;\">\n",
       "      <th></th>\n",
       "      <th>countUsersWhoAlsoBought</th>\n",
       "      <th>recommendation</th>\n",
       "    </tr>\n",
       "  </thead>\n",
       "  <tbody>\n",
       "    <tr>\n",
       "      <th>0</th>\n",
       "      <td>67</td>\n",
       "      <td>Organic Strawberries</td>\n",
       "    </tr>\n",
       "    <tr>\n",
       "      <th>1</th>\n",
       "      <td>50</td>\n",
       "      <td>Organic Hass Avocado</td>\n",
       "    </tr>\n",
       "    <tr>\n",
       "      <th>2</th>\n",
       "      <td>42</td>\n",
       "      <td>Organic Baby Spinach</td>\n",
       "    </tr>\n",
       "    <tr>\n",
       "      <th>3</th>\n",
       "      <td>41</td>\n",
       "      <td>Bag of Organic Bananas</td>\n",
       "    </tr>\n",
       "    <tr>\n",
       "      <th>4</th>\n",
       "      <td>40</td>\n",
       "      <td>Banana</td>\n",
       "    </tr>\n",
       "    <tr>\n",
       "      <th>5</th>\n",
       "      <td>36</td>\n",
       "      <td>Large Lemon</td>\n",
       "    </tr>\n",
       "    <tr>\n",
       "      <th>6</th>\n",
       "      <td>35</td>\n",
       "      <td>Strawberries</td>\n",
       "    </tr>\n",
       "    <tr>\n",
       "      <th>7</th>\n",
       "      <td>35</td>\n",
       "      <td>Organic Avocado</td>\n",
       "    </tr>\n",
       "    <tr>\n",
       "      <th>8</th>\n",
       "      <td>33</td>\n",
       "      <td>Organic Raspberries</td>\n",
       "    </tr>\n",
       "    <tr>\n",
       "      <th>9</th>\n",
       "      <td>29</td>\n",
       "      <td>100% Raw Coconut Water</td>\n",
       "    </tr>\n",
       "  </tbody>\n",
       "</table>\n",
       "</div>"
      ],
      "text/plain": [
       "   countUsersWhoAlsoBought          recommendation\n",
       "0                       67    Organic Strawberries\n",
       "1                       50    Organic Hass Avocado\n",
       "2                       42    Organic Baby Spinach\n",
       "3                       41  Bag of Organic Bananas\n",
       "4                       40                  Banana\n",
       "5                       36             Large Lemon\n",
       "6                       35            Strawberries\n",
       "7                       35         Organic Avocado\n",
       "8                       33     Organic Raspberries\n",
       "9                       29  100% Raw Coconut Water"
      ]
     },
     "execution_count": 36,
     "metadata": {},
     "output_type": "execute_result"
    }
   ],
   "source": [
    "pd.DataFrame(graph.data(\"\"\"\n",
    "MATCH (user:User {id: {user_id}})-[b1:BOUGHT]->(:Product)<-[b2:BOUGHT]-(otheruser:User)\n",
    "MATCH (otheruser)-[:BOUGHT]->(rec:Product)\n",
    "WHERE NOT EXISTS( (user)-[:BOUGHT]->(rec)) AND b2.order_total >= b1.order_total\n",
    "RETURN rec.name AS recommendation, COUNT(*) AS countUsersWhoAlsoBought\n",
    "ORDER BY countUsersWhoAlsoBought DESC \n",
    "LIMIT 10\"\"\", user_id=random_user))"
   ]
  },
  {
   "cell_type": "markdown",
   "metadata": {},
   "source": [
    "### Cosine similarity"
   ]
  },
  {
   "cell_type": "code",
   "execution_count": 37,
   "metadata": {},
   "outputs": [
    {
     "data": {
      "text/html": [
       "<div>\n",
       "<style scoped>\n",
       "    .dataframe tbody tr th:only-of-type {\n",
       "        vertical-align: middle;\n",
       "    }\n",
       "\n",
       "    .dataframe tbody tr th {\n",
       "        vertical-align: top;\n",
       "    }\n",
       "\n",
       "    .dataframe thead th {\n",
       "        text-align: right;\n",
       "    }\n",
       "</style>\n",
       "<table border=\"1\" class=\"dataframe\">\n",
       "  <thead>\n",
       "    <tr style=\"text-align: right;\">\n",
       "      <th></th>\n",
       "      <th>cosim</th>\n",
       "      <th>otherUserID</th>\n",
       "    </tr>\n",
       "  </thead>\n",
       "  <tbody>\n",
       "    <tr>\n",
       "      <th>0</th>\n",
       "      <td>1.000000</td>\n",
       "      <td>106510</td>\n",
       "    </tr>\n",
       "    <tr>\n",
       "      <th>1</th>\n",
       "      <td>0.972306</td>\n",
       "      <td>53842</td>\n",
       "    </tr>\n",
       "    <tr>\n",
       "      <th>2</th>\n",
       "      <td>0.961951</td>\n",
       "      <td>175139</td>\n",
       "    </tr>\n",
       "    <tr>\n",
       "      <th>3</th>\n",
       "      <td>0.954786</td>\n",
       "      <td>55132</td>\n",
       "    </tr>\n",
       "    <tr>\n",
       "      <th>4</th>\n",
       "      <td>0.943569</td>\n",
       "      <td>93419</td>\n",
       "    </tr>\n",
       "    <tr>\n",
       "      <th>5</th>\n",
       "      <td>0.916889</td>\n",
       "      <td>32211</td>\n",
       "    </tr>\n",
       "    <tr>\n",
       "      <th>6</th>\n",
       "      <td>0.894427</td>\n",
       "      <td>91133</td>\n",
       "    </tr>\n",
       "    <tr>\n",
       "      <th>7</th>\n",
       "      <td>0.846589</td>\n",
       "      <td>94163</td>\n",
       "    </tr>\n",
       "    <tr>\n",
       "      <th>8</th>\n",
       "      <td>0.813117</td>\n",
       "      <td>46328</td>\n",
       "    </tr>\n",
       "    <tr>\n",
       "      <th>9</th>\n",
       "      <td>0.779334</td>\n",
       "      <td>142286</td>\n",
       "    </tr>\n",
       "  </tbody>\n",
       "</table>\n",
       "</div>"
      ],
      "text/plain": [
       "      cosim  otherUserID\n",
       "0  1.000000       106510\n",
       "1  0.972306        53842\n",
       "2  0.961951       175139\n",
       "3  0.954786        55132\n",
       "4  0.943569        93419\n",
       "5  0.916889        32211\n",
       "6  0.894427        91133\n",
       "7  0.846589        94163\n",
       "8  0.813117        46328\n",
       "9  0.779334       142286"
      ]
     },
     "execution_count": 37,
     "metadata": {},
     "output_type": "execute_result"
    }
   ],
   "source": [
    "pd.DataFrame(graph.data(\"\"\"\n",
    "MATCH (p1:User {id: {user_id}})-[x:BOUGHT]->(p:Product)<-[y:BOUGHT]-(p2:User)\n",
    "WITH COUNT(p) AS numberproducts, SUM(x.order_total * y.order_total) AS xyDotProduct,\n",
    "SQRT(REDUCE(xDot = 0.0, a IN COLLECT(x.order_total) | xDot + a^2)) AS xLength,\n",
    "SQRT(REDUCE(yDot = 0.0, b IN COLLECT(y.order_total) | yDot + b^2)) AS yLength,\n",
    "p1, p2 WHERE numberproducts > 10\n",
    "RETURN p2.id AS otherUserID, xyDotProduct / (xLength * yLength) AS cosim\n",
    "ORDER BY cosim DESC \n",
    "LIMIT 10\"\"\", user_id=random_user))"
   ]
  },
  {
   "cell_type": "markdown",
   "metadata": {},
   "source": [
    "### Pearson similarity\n",
    "\n",
    "This is particularly well-suited for product recommendations because it takes into account the fact that different users will have different mean total orders: on average some people do buy only from Instacart, while some prefer to go out of their house. Since Pearson similarity considers differences about the mean, this metric will account for these discrepancies."
   ]
  },
  {
   "cell_type": "code",
   "execution_count": 38,
   "metadata": {},
   "outputs": [
    {
     "data": {
      "text/html": [
       "<div>\n",
       "<style scoped>\n",
       "    .dataframe tbody tr th:only-of-type {\n",
       "        vertical-align: middle;\n",
       "    }\n",
       "\n",
       "    .dataframe tbody tr th {\n",
       "        vertical-align: top;\n",
       "    }\n",
       "\n",
       "    .dataframe thead th {\n",
       "        text-align: right;\n",
       "    }\n",
       "</style>\n",
       "<table border=\"1\" class=\"dataframe\">\n",
       "  <thead>\n",
       "    <tr style=\"text-align: right;\">\n",
       "      <th></th>\n",
       "      <th>otherUserID</th>\n",
       "      <th>pearson</th>\n",
       "    </tr>\n",
       "  </thead>\n",
       "  <tbody>\n",
       "    <tr>\n",
       "      <th>0</th>\n",
       "      <td>53842</td>\n",
       "      <td>0.446663</td>\n",
       "    </tr>\n",
       "    <tr>\n",
       "      <th>1</th>\n",
       "      <td>55132</td>\n",
       "      <td>0.421521</td>\n",
       "    </tr>\n",
       "    <tr>\n",
       "      <th>2</th>\n",
       "      <td>32211</td>\n",
       "      <td>0.001116</td>\n",
       "    </tr>\n",
       "    <tr>\n",
       "      <th>3</th>\n",
       "      <td>94163</td>\n",
       "      <td>-0.008416</td>\n",
       "    </tr>\n",
       "    <tr>\n",
       "      <th>4</th>\n",
       "      <td>46328</td>\n",
       "      <td>-0.087645</td>\n",
       "    </tr>\n",
       "    <tr>\n",
       "      <th>5</th>\n",
       "      <td>142286</td>\n",
       "      <td>-0.255094</td>\n",
       "    </tr>\n",
       "    <tr>\n",
       "      <th>6</th>\n",
       "      <td>175139</td>\n",
       "      <td>-0.339809</td>\n",
       "    </tr>\n",
       "    <tr>\n",
       "      <th>7</th>\n",
       "      <td>93419</td>\n",
       "      <td>-0.351011</td>\n",
       "    </tr>\n",
       "    <tr>\n",
       "      <th>8</th>\n",
       "      <td>124254</td>\n",
       "      <td>-0.547049</td>\n",
       "    </tr>\n",
       "    <tr>\n",
       "      <th>9</th>\n",
       "      <td>91133</td>\n",
       "      <td>-0.833214</td>\n",
       "    </tr>\n",
       "  </tbody>\n",
       "</table>\n",
       "</div>"
      ],
      "text/plain": [
       "   otherUserID   pearson\n",
       "0        53842  0.446663\n",
       "1        55132  0.421521\n",
       "2        32211  0.001116\n",
       "3        94163 -0.008416\n",
       "4        46328 -0.087645\n",
       "5       142286 -0.255094\n",
       "6       175139 -0.339809\n",
       "7        93419 -0.351011\n",
       "8       124254 -0.547049\n",
       "9        91133 -0.833214"
      ]
     },
     "execution_count": 38,
     "metadata": {},
     "output_type": "execute_result"
    }
   ],
   "source": [
    "pd.DataFrame(graph.data(\"\"\"\n",
    "MATCH (u1:User {id: {user_id}})-[r:BOUGHT]->(m:Product)\n",
    "WITH u1, avg(r.order_total) AS u1_mean\n",
    "\n",
    "MATCH (u1)-[r1:BOUGHT]->(m:Product)<-[r2:BOUGHT]-(u2)\n",
    "WITH u1, u1_mean, u2, COLLECT({r1: r1, r2: r2}) AS totalorders WHERE size(totalorders) > 10\n",
    "\n",
    "MATCH (u2)-[r:BOUGHT]->(m:Product)\n",
    "WITH u1, u1_mean, u2, avg(r.order_total) AS u2_mean, totalorders\n",
    "\n",
    "UNWIND totalorders AS r\n",
    "\n",
    "WITH sum( (r.r1.order_total - u1_mean) * (r.r2.order_total - u2_mean) ) AS nom,\n",
    "     sqrt( sum( (r.r1.order_total - u1_mean)^2) * sum( (r.r2.order_total - u2_mean) ^2)) AS denom,\n",
    "     u1, u2 WHERE denom <> 0\n",
    "\n",
    "RETURN u2.id AS otherUserID, nom/denom AS pearson\n",
    "ORDER BY pearson DESC \n",
    "LIMIT 10\"\"\", user_id=random_user))"
   ]
  },
  {
   "cell_type": "markdown",
   "metadata": {},
   "source": [
    "### Working algorithm for collaborative-based recommendations\n",
    "\n",
    "Pearson Similiarty and KNN"
   ]
  },
  {
   "cell_type": "code",
   "execution_count": 39,
   "metadata": {},
   "outputs": [
    {
     "data": {
      "text/html": [
       "<div>\n",
       "<style scoped>\n",
       "    .dataframe tbody tr th:only-of-type {\n",
       "        vertical-align: middle;\n",
       "    }\n",
       "\n",
       "    .dataframe tbody tr th {\n",
       "        vertical-align: top;\n",
       "    }\n",
       "\n",
       "    .dataframe thead th {\n",
       "        text-align: right;\n",
       "    }\n",
       "</style>\n",
       "<table border=\"1\" class=\"dataframe\">\n",
       "  <thead>\n",
       "    <tr style=\"text-align: right;\">\n",
       "      <th></th>\n",
       "      <th>recommendation</th>\n",
       "      <th>score</th>\n",
       "    </tr>\n",
       "  </thead>\n",
       "  <tbody>\n",
       "    <tr>\n",
       "      <th>0</th>\n",
       "      <td>Arancita Rossa</td>\n",
       "      <td>2.107605</td>\n",
       "    </tr>\n",
       "    <tr>\n",
       "      <th>1</th>\n",
       "      <td>Granny Smith Apples</td>\n",
       "      <td>1.686084</td>\n",
       "    </tr>\n",
       "    <tr>\n",
       "      <th>2</th>\n",
       "      <td>Turbinado Cane Sugar</td>\n",
       "      <td>1.339988</td>\n",
       "    </tr>\n",
       "    <tr>\n",
       "      <th>3</th>\n",
       "      <td>Tuna, Solid Pack Light</td>\n",
       "      <td>1.264563</td>\n",
       "    </tr>\n",
       "    <tr>\n",
       "      <th>4</th>\n",
       "      <td>Organic Blueberries</td>\n",
       "      <td>1.264563</td>\n",
       "    </tr>\n",
       "    <tr>\n",
       "      <th>5</th>\n",
       "      <td>Low Fat Coffee Ice Cream Bars</td>\n",
       "      <td>0.843042</td>\n",
       "    </tr>\n",
       "    <tr>\n",
       "      <th>6</th>\n",
       "      <td>Total 0% Greek Yogurt</td>\n",
       "      <td>0.016743</td>\n",
       "    </tr>\n",
       "    <tr>\n",
       "      <th>7</th>\n",
       "      <td>Almond Meal/Flour</td>\n",
       "      <td>0.005581</td>\n",
       "    </tr>\n",
       "    <tr>\n",
       "      <th>8</th>\n",
       "      <td>Shallot</td>\n",
       "      <td>0.002232</td>\n",
       "    </tr>\n",
       "    <tr>\n",
       "      <th>9</th>\n",
       "      <td>Organic Baby Carrots</td>\n",
       "      <td>0.001116</td>\n",
       "    </tr>\n",
       "  </tbody>\n",
       "</table>\n",
       "</div>"
      ],
      "text/plain": [
       "                  recommendation     score\n",
       "0                 Arancita Rossa  2.107605\n",
       "1            Granny Smith Apples  1.686084\n",
       "2           Turbinado Cane Sugar  1.339988\n",
       "3         Tuna, Solid Pack Light  1.264563\n",
       "4            Organic Blueberries  1.264563\n",
       "5  Low Fat Coffee Ice Cream Bars  0.843042\n",
       "6          Total 0% Greek Yogurt  0.016743\n",
       "7              Almond Meal/Flour  0.005581\n",
       "8                        Shallot  0.002232\n",
       "9           Organic Baby Carrots  0.001116"
      ]
     },
     "execution_count": 39,
     "metadata": {},
     "output_type": "execute_result"
    }
   ],
   "source": [
    "pd.DataFrame(graph.data(\"\"\"\n",
    "MATCH (u1:User {id: {user_id}})-[r:BOUGHT]->(m:Product)\n",
    "WITH u1, avg(r.order_total) AS u1_mean\n",
    "\n",
    "MATCH (u1)-[r1:BOUGHT]->(m:Product)<-[r2:BOUGHT]-(u2)\n",
    "WITH u1, u1_mean, u2, COLLECT({r1: r1, r2: r2}) AS totalorders WHERE size(totalorders) > 10\n",
    "\n",
    "MATCH (u2)-[r:BOUGHT]->(m:Product)\n",
    "WITH u1, u1_mean, u2, avg(r.order_total) AS u2_mean, totalorders\n",
    "\n",
    "UNWIND totalorders AS r\n",
    "\n",
    "WITH sum( (r.r1.order_total - u1_mean) * (r.r2.order_total - u2_mean) ) AS nom,\n",
    "     sqrt( sum( (r.r1.order_total - u1_mean)^2) * sum( (r.r2.order_total - u2_mean) ^2)) AS denom,\n",
    "     u1, u2 WHERE denom <> 0\n",
    "\n",
    "WITH u1, u2, nom/denom AS pearson\n",
    "ORDER BY pearson DESC LIMIT 10\n",
    "\n",
    "MATCH (u2)-[r:BOUGHT]->(m:Product) WHERE NOT EXISTS( (u1)-[:BOUGHT]->(m) )\n",
    "\n",
    "RETURN m.name AS recommendation, SUM(pearson * r.order_total) AS score\n",
    "ORDER BY score DESC \n",
    "LIMIT 10\"\"\", user_id=random_user))"
   ]
  },
  {
   "cell_type": "markdown",
   "metadata": {},
   "source": [
    "## Clustering\n",
    "\n",
    "Deep in the world of Graph Theory, there's `python-igraph` which is a network analysis package. [Github](https://github.com/igraph/python-igraph).\n",
    "\n",
    "Community detection algoritm, based on work by [Pons and Latapy](https://arxiv.org/abs/physics/0512106), _\"Computing communities in large networks using random walks\"_ (2005). \n",
    "\n",
    "The basic idea of the algorithm is that short random walks tend to stay in the same community. \n",
    "\n",
    "It utilizes a graph network to find communities (in this case, patterns of Aisles and Deparments) and 'cluster' them together."
   ]
  },
  {
   "cell_type": "code",
   "execution_count": 40,
   "metadata": {},
   "outputs": [
    {
     "data": {
      "text/html": [
       "<div>\n",
       "<style scoped>\n",
       "    .dataframe tbody tr th:only-of-type {\n",
       "        vertical-align: middle;\n",
       "    }\n",
       "\n",
       "    .dataframe tbody tr th {\n",
       "        vertical-align: top;\n",
       "    }\n",
       "\n",
       "    .dataframe thead th {\n",
       "        text-align: right;\n",
       "    }\n",
       "</style>\n",
       "<table border=\"1\" class=\"dataframe\">\n",
       "  <thead>\n",
       "    <tr style=\"text-align: right;\">\n",
       "      <th></th>\n",
       "      <th>aisleName</th>\n",
       "      <th>departmentName</th>\n",
       "      <th>weight</th>\n",
       "    </tr>\n",
       "  </thead>\n",
       "  <tbody>\n",
       "    <tr>\n",
       "      <th>0</th>\n",
       "      <td>candy chocolate</td>\n",
       "      <td>snacks</td>\n",
       "      <td>1245</td>\n",
       "    </tr>\n",
       "    <tr>\n",
       "      <th>1</th>\n",
       "      <td>ice cream ice</td>\n",
       "      <td>frozen</td>\n",
       "      <td>1089</td>\n",
       "    </tr>\n",
       "    <tr>\n",
       "      <th>2</th>\n",
       "      <td>yogurt</td>\n",
       "      <td>dairy eggs</td>\n",
       "      <td>1026</td>\n",
       "    </tr>\n",
       "    <tr>\n",
       "      <th>3</th>\n",
       "      <td>chips pretzels</td>\n",
       "      <td>snacks</td>\n",
       "      <td>986</td>\n",
       "    </tr>\n",
       "    <tr>\n",
       "      <th>4</th>\n",
       "      <td>tea</td>\n",
       "      <td>beverages</td>\n",
       "      <td>891</td>\n",
       "    </tr>\n",
       "    <tr>\n",
       "      <th>5</th>\n",
       "      <td>packaged cheese</td>\n",
       "      <td>dairy eggs</td>\n",
       "      <td>891</td>\n",
       "    </tr>\n",
       "    <tr>\n",
       "      <th>6</th>\n",
       "      <td>frozen meals</td>\n",
       "      <td>frozen</td>\n",
       "      <td>880</td>\n",
       "    </tr>\n",
       "    <tr>\n",
       "      <th>7</th>\n",
       "      <td>cookies cakes</td>\n",
       "      <td>snacks</td>\n",
       "      <td>874</td>\n",
       "    </tr>\n",
       "    <tr>\n",
       "      <th>8</th>\n",
       "      <td>energy granola bars</td>\n",
       "      <td>snacks</td>\n",
       "      <td>832</td>\n",
       "    </tr>\n",
       "    <tr>\n",
       "      <th>9</th>\n",
       "      <td>spices seasonings</td>\n",
       "      <td>pantry</td>\n",
       "      <td>797</td>\n",
       "    </tr>\n",
       "  </tbody>\n",
       "</table>\n",
       "</div>"
      ],
      "text/plain": [
       "             aisleName departmentName  weight\n",
       "0      candy chocolate         snacks    1245\n",
       "1        ice cream ice         frozen    1089\n",
       "2               yogurt     dairy eggs    1026\n",
       "3       chips pretzels         snacks     986\n",
       "4                  tea      beverages     891\n",
       "5      packaged cheese     dairy eggs     891\n",
       "6         frozen meals         frozen     880\n",
       "7        cookies cakes         snacks     874\n",
       "8  energy granola bars         snacks     832\n",
       "9    spices seasonings         pantry     797"
      ]
     },
     "execution_count": 40,
     "metadata": {},
     "output_type": "execute_result"
    }
   ],
   "source": [
    "pd.DataFrame(graph.data(\"\"\"\n",
    "MATCH (a:Aisle)<-[:FOUND_IN]-()-[:TYPE_OF]->(d:Department)\n",
    "RETURN a.name AS aisleName, d.name AS departmentName, COUNT(*) AS weight\n",
    "ORDER BY weight DESC\n",
    "LIMIT 10\"\"\"))"
   ]
  },
  {
   "cell_type": "code",
   "execution_count": 41,
   "metadata": {},
   "outputs": [],
   "source": [
    "cluster = graph.run(\"\"\"\n",
    "MATCH (a:Aisle)<-[:FOUND_IN]-()-[:TYPE_OF]->(d:Department)\n",
    "RETURN a.name AS aisleName, d.name AS departmentName, COUNT(*) AS weight\"\"\")"
   ]
  },
  {
   "cell_type": "code",
   "execution_count": 42,
   "metadata": {},
   "outputs": [
    {
     "data": {
      "text/plain": [
       "<igraph.Graph at 0x1678164a318>"
      ]
     },
     "execution_count": 42,
     "metadata": {},
     "output_type": "execute_result"
    }
   ],
   "source": [
    "ig = IGraph.TupleList(cluster, weights=True)\n",
    "ig"
   ]
  },
  {
   "cell_type": "code",
   "execution_count": 43,
   "metadata": {},
   "outputs": [
    {
     "data": {
      "text/plain": [
       "16"
      ]
     },
     "execution_count": 43,
     "metadata": {},
     "output_type": "execute_result"
    }
   ],
   "source": [
    "clusters = IGraph.community_walktrap(ig, weights='weight')\n",
    "clusters = clusters.as_clustering()\n",
    "len(clusters)"
   ]
  },
  {
   "cell_type": "code",
   "execution_count": 44,
   "metadata": {},
   "outputs": [
    {
     "data": {
      "text/plain": [
       "[{'group': 0,\n",
       "  'id': 'canned fruit applesauce',\n",
       "  'label': 'canned fruit applesauce'},\n",
       " {'group': 0, 'id': 'canned goods', 'label': 'canned goods'},\n",
       " {'group': 1, 'id': 'trail mix snack mix', 'label': 'trail mix snack mix'},\n",
       " {'group': 1, 'id': 'snacks', 'label': 'snacks'},\n",
       " {'group': 1, 'id': 'chips pretzels', 'label': 'chips pretzels'},\n",
       " {'group': 2, 'id': 'fresh herbs', 'label': 'fresh herbs'},\n",
       " {'group': 2, 'id': 'produce', 'label': 'produce'},\n",
       " {'group': 3, 'id': 'prepared soups salads', 'label': 'prepared soups salads'},\n",
       " {'group': 3, 'id': 'deli', 'label': 'deli'},\n",
       " {'group': 4,\n",
       "  'id': 'preserved dips spreads',\n",
       "  'label': 'preserved dips spreads'},\n",
       " {'group': 4, 'id': 'pantry', 'label': 'pantry'},\n",
       " {'group': 5,\n",
       "  'id': 'specialty wines champagnes',\n",
       "  'label': 'specialty wines champagnes'},\n",
       " {'group': 5, 'id': 'alcohol', 'label': 'alcohol'},\n",
       " {'group': 6, 'id': 'eggs', 'label': 'eggs'},\n",
       " {'group': 6, 'id': 'dairy eggs', 'label': 'dairy eggs'},\n",
       " {'group': 7, 'id': 'frozen dessert', 'label': 'frozen dessert'},\n",
       " {'group': 7, 'id': 'frozen', 'label': 'frozen'},\n",
       " {'group': 8, 'id': 'dry pasta', 'label': 'dry pasta'},\n",
       " {'group': 8, 'id': 'dry goods pasta', 'label': 'dry goods pasta'},\n",
       " {'group': 0, 'id': 'canned meals beans', 'label': 'canned meals beans'}]"
      ]
     },
     "execution_count": 44,
     "metadata": {},
     "output_type": "execute_result"
    }
   ],
   "source": [
    "# Let's take a look at the 'clusters'\n",
    "nodes = [node['name'] for node in ig.vs]\n",
    "nodes = [{'id': x, 'label': x} for x in nodes]\n",
    "nodes[:5]\n",
    "\n",
    "for node in nodes:\n",
    "    idx = ig.vs.find(name=node['id']).index\n",
    "    node['group'] = clusters.membership[idx]\n",
    "    \n",
    "nodes[:20]"
   ]
  },
  {
   "cell_type": "code",
   "execution_count": 45,
   "metadata": {},
   "outputs": [],
   "source": [
    "# # Write it back into the database\n",
    "# #\n",
    "# # Writing Aisle first\n",
    "\n",
    "# graph.run('''\n",
    "# UNWIND {params} AS p \n",
    "# MATCH (a:Aisle {name: p.id})\n",
    "# MERGE (cluster:Cluster {name: p.group})\n",
    "# MERGE (a)-[:IN_CLUSTER]->(cluster)\n",
    "# ''', params = nodes)"
   ]
  },
  {
   "cell_type": "code",
   "execution_count": 46,
   "metadata": {},
   "outputs": [],
   "source": [
    "# # Write it back into the database\n",
    "# #\n",
    "# # Writing Department next\n",
    "\n",
    "# graph.run('''\n",
    "# UNWIND {params} AS p \n",
    "# MATCH (d:Department {name: p.id})\n",
    "# MERGE (cluster:Cluster {name: p.group})\n",
    "# MERGE (d)-[:IN_CLUSTER]->(cluster)\n",
    "# ''', params = nodes)"
   ]
  },
  {
   "cell_type": "markdown",
   "metadata": {},
   "source": [
    "![](../reports/assets/database_schema_with_clustering.png)"
   ]
  },
  {
   "cell_type": "markdown",
   "metadata": {},
   "source": [
    "![](../reports/assets/example_cluster10.png)"
   ]
  },
  {
   "cell_type": "markdown",
   "metadata": {},
   "source": [
    "### Novelty Recommendation\n",
    "\n",
    "New but not foreign.\n",
    "\n",
    "We want to recommend a product that is new but not entirely different from what the person has bought before. "
   ]
  },
  {
   "cell_type": "code",
   "execution_count": 47,
   "metadata": {},
   "outputs": [
    {
     "data": {
      "text/html": [
       "<div>\n",
       "<style scoped>\n",
       "    .dataframe tbody tr th:only-of-type {\n",
       "        vertical-align: middle;\n",
       "    }\n",
       "\n",
       "    .dataframe tbody tr th {\n",
       "        vertical-align: top;\n",
       "    }\n",
       "\n",
       "    .dataframe thead th {\n",
       "        text-align: right;\n",
       "    }\n",
       "</style>\n",
       "<table border=\"1\" class=\"dataframe\">\n",
       "  <thead>\n",
       "    <tr style=\"text-align: right;\">\n",
       "      <th></th>\n",
       "      <th>cluster.name</th>\n",
       "      <th>times</th>\n",
       "    </tr>\n",
       "  </thead>\n",
       "  <tbody>\n",
       "    <tr>\n",
       "      <th>0</th>\n",
       "      <td>0</td>\n",
       "      <td>2</td>\n",
       "    </tr>\n",
       "    <tr>\n",
       "      <th>1</th>\n",
       "      <td>2</td>\n",
       "      <td>1</td>\n",
       "    </tr>\n",
       "  </tbody>\n",
       "</table>\n",
       "</div>"
      ],
      "text/plain": [
       "   cluster.name  times\n",
       "0             0      2\n",
       "1             2      1"
      ]
     },
     "execution_count": 47,
     "metadata": {},
     "output_type": "execute_result"
    }
   ],
   "source": [
    "# Find all items bought by a user; Of all the items bought, count the number of aisles; \n",
    "# Find the clusters that appears most often.\n",
    "\n",
    "pd.DataFrame(graph.data(\"\"\"\n",
    "MATCH (user:User {id: {user_id}})-[:BOUGHT]->(product)-[:FOUND_IN]->(a:Aisle)-[:IN_CLUSTER]->(cluster)\n",
    "RETURN cluster.name, COUNT(*) AS times\n",
    "ORDER BY times DESC\n",
    "LIMIT 10\"\"\", user_id=random_user))"
   ]
  },
  {
   "cell_type": "code",
   "execution_count": 48,
   "metadata": {},
   "outputs": [
    {
     "data": {
      "text/html": [
       "<div>\n",
       "<style scoped>\n",
       "    .dataframe tbody tr th:only-of-type {\n",
       "        vertical-align: middle;\n",
       "    }\n",
       "\n",
       "    .dataframe tbody tr th {\n",
       "        vertical-align: top;\n",
       "    }\n",
       "\n",
       "    .dataframe thead th {\n",
       "        text-align: right;\n",
       "    }\n",
       "</style>\n",
       "<table border=\"1\" class=\"dataframe\">\n",
       "  <thead>\n",
       "    <tr style=\"text-align: right;\">\n",
       "      <th></th>\n",
       "      <th>aisleName</th>\n",
       "      <th>numberOfProducts</th>\n",
       "    </tr>\n",
       "  </thead>\n",
       "  <tbody>\n",
       "    <tr>\n",
       "      <th>0</th>\n",
       "      <td>soup broth bouillon</td>\n",
       "      <td>736</td>\n",
       "    </tr>\n",
       "    <tr>\n",
       "      <th>1</th>\n",
       "      <td>canned jarred vegetables</td>\n",
       "      <td>487</td>\n",
       "    </tr>\n",
       "    <tr>\n",
       "      <th>2</th>\n",
       "      <td>canned meals beans</td>\n",
       "      <td>342</td>\n",
       "    </tr>\n",
       "    <tr>\n",
       "      <th>3</th>\n",
       "      <td>canned meat seafood</td>\n",
       "      <td>283</td>\n",
       "    </tr>\n",
       "    <tr>\n",
       "      <th>4</th>\n",
       "      <td>canned fruit applesauce</td>\n",
       "      <td>243</td>\n",
       "    </tr>\n",
       "  </tbody>\n",
       "</table>\n",
       "</div>"
      ],
      "text/plain": [
       "                  aisleName  numberOfProducts\n",
       "0       soup broth bouillon               736\n",
       "1  canned jarred vegetables               487\n",
       "2        canned meals beans               342\n",
       "3       canned meat seafood               283\n",
       "4   canned fruit applesauce               243"
      ]
     },
     "execution_count": 48,
     "metadata": {},
     "output_type": "execute_result"
    }
   ],
   "source": [
    "# In the top cluster, find me all the other aisles within that same cluster.\n",
    "# Order the table by the number of Products found in that Aisle.\n",
    "\n",
    "pd.DataFrame(graph.data(\"\"\"\n",
    "MATCH (user:User {id: {user_id}})-[:BOUGHT]->(product)-[:FOUND_IN]->(a:Aisle)-[:IN_CLUSTER]->(cluster)\n",
    "WITH user, cluster, COUNT(*) AS times\n",
    "ORDER BY times DESC\n",
    "LIMIT 1\n",
    "WITH cluster\n",
    "MATCH (cluster)<-[:IN_CLUSTER]-(a)<-[:FOUND_IN]-(p)\n",
    "WITH cluster, a.name AS aisleName, COUNT(p) as numberOfProducts\n",
    "RETURN aisleName, numberOfProducts\n",
    "ORDER BY numberOfProducts DESC\n",
    "LIMIT 5\"\"\", user_id=random_user))"
   ]
  },
  {
   "cell_type": "code",
   "execution_count": 49,
   "metadata": {},
   "outputs": [
    {
     "data": {
      "text/html": [
       "<div>\n",
       "<style scoped>\n",
       "    .dataframe tbody tr th:only-of-type {\n",
       "        vertical-align: middle;\n",
       "    }\n",
       "\n",
       "    .dataframe tbody tr th {\n",
       "        vertical-align: top;\n",
       "    }\n",
       "\n",
       "    .dataframe thead th {\n",
       "        text-align: right;\n",
       "    }\n",
       "</style>\n",
       "<table border=\"1\" class=\"dataframe\">\n",
       "  <thead>\n",
       "    <tr style=\"text-align: right;\">\n",
       "      <th></th>\n",
       "      <th>aisleName</th>\n",
       "      <th>numberOfProducts</th>\n",
       "    </tr>\n",
       "  </thead>\n",
       "  <tbody>\n",
       "    <tr>\n",
       "      <th>0</th>\n",
       "      <td>packaged vegetables fruits</td>\n",
       "      <td>615</td>\n",
       "    </tr>\n",
       "    <tr>\n",
       "      <th>1</th>\n",
       "      <td>fresh vegetables</td>\n",
       "      <td>569</td>\n",
       "    </tr>\n",
       "    <tr>\n",
       "      <th>2</th>\n",
       "      <td>fresh fruits</td>\n",
       "      <td>382</td>\n",
       "    </tr>\n",
       "    <tr>\n",
       "      <th>3</th>\n",
       "      <td>fresh herbs</td>\n",
       "      <td>86</td>\n",
       "    </tr>\n",
       "    <tr>\n",
       "      <th>4</th>\n",
       "      <td>packaged produce</td>\n",
       "      <td>32</td>\n",
       "    </tr>\n",
       "  </tbody>\n",
       "</table>\n",
       "</div>"
      ],
      "text/plain": [
       "                    aisleName  numberOfProducts\n",
       "0  packaged vegetables fruits               615\n",
       "1            fresh vegetables               569\n",
       "2                fresh fruits               382\n",
       "3                 fresh herbs                86\n",
       "4            packaged produce                32"
      ]
     },
     "execution_count": 49,
     "metadata": {},
     "output_type": "execute_result"
    }
   ],
   "source": [
    "# In the bottom cluster, find me all the other aisles within that same cluster.\n",
    "# Order the table by the number of Products found in that Aisle.\n",
    "\n",
    "pd.DataFrame(graph.data(\"\"\"\n",
    "MATCH (user:User {id: {user_id}})-[:BOUGHT]->(product)-[:FOUND_IN]->(a:Aisle)-[:IN_CLUSTER]->(cluster)\n",
    "WITH user, cluster, COUNT(*) AS times\n",
    "ORDER BY times ASC\n",
    "LIMIT 1\n",
    "WITH cluster\n",
    "MATCH (cluster)<-[:IN_CLUSTER]-(a)<-[:FOUND_IN]-(p)\n",
    "WITH cluster, a.name AS aisleName, COUNT(p) as numberOfProducts\n",
    "RETURN aisleName, numberOfProducts\n",
    "ORDER BY numberOfProducts DESC\n",
    "LIMIT 5\"\"\", user_id=random_user))"
   ]
  },
  {
   "cell_type": "code",
   "execution_count": 50,
   "metadata": {},
   "outputs": [
    {
     "data": {
      "text/html": [
       "<div>\n",
       "<style scoped>\n",
       "    .dataframe tbody tr th:only-of-type {\n",
       "        vertical-align: middle;\n",
       "    }\n",
       "\n",
       "    .dataframe tbody tr th {\n",
       "        vertical-align: top;\n",
       "    }\n",
       "\n",
       "    .dataframe thead th {\n",
       "        text-align: right;\n",
       "    }\n",
       "</style>\n",
       "<table border=\"1\" class=\"dataframe\">\n",
       "  <thead>\n",
       "    <tr style=\"text-align: right;\">\n",
       "      <th></th>\n",
       "      <th>maxOrders</th>\n",
       "      <th>recommendation</th>\n",
       "    </tr>\n",
       "  </thead>\n",
       "  <tbody>\n",
       "    <tr>\n",
       "      <th>0</th>\n",
       "      <td>89</td>\n",
       "      <td>3 lb Clementines</td>\n",
       "    </tr>\n",
       "    <tr>\n",
       "      <th>1</th>\n",
       "      <td>86</td>\n",
       "      <td>Organic Sliced White Mushrooms</td>\n",
       "    </tr>\n",
       "    <tr>\n",
       "      <th>2</th>\n",
       "      <td>79</td>\n",
       "      <td>Organic Spring Mix</td>\n",
       "    </tr>\n",
       "    <tr>\n",
       "      <th>3</th>\n",
       "      <td>74</td>\n",
       "      <td>Romaine Hearts</td>\n",
       "    </tr>\n",
       "    <tr>\n",
       "      <th>4</th>\n",
       "      <td>74</td>\n",
       "      <td>Garden Salad Mix</td>\n",
       "    </tr>\n",
       "    <tr>\n",
       "      <th>5</th>\n",
       "      <td>72</td>\n",
       "      <td>Organic Raspberries</td>\n",
       "    </tr>\n",
       "    <tr>\n",
       "      <th>6</th>\n",
       "      <td>71</td>\n",
       "      <td>Organic Sweet 100 Cherry Tomatoes</td>\n",
       "    </tr>\n",
       "    <tr>\n",
       "      <th>7</th>\n",
       "      <td>71</td>\n",
       "      <td>Organic Grape Tomatoes</td>\n",
       "    </tr>\n",
       "    <tr>\n",
       "      <th>8</th>\n",
       "      <td>68</td>\n",
       "      <td>Bolthouse Baby Carrots</td>\n",
       "    </tr>\n",
       "    <tr>\n",
       "      <th>9</th>\n",
       "      <td>68</td>\n",
       "      <td>Ultimate Caesar Salad Kit</td>\n",
       "    </tr>\n",
       "  </tbody>\n",
       "</table>\n",
       "</div>"
      ],
      "text/plain": [
       "   maxOrders                     recommendation\n",
       "0         89                   3 lb Clementines\n",
       "1         86     Organic Sliced White Mushrooms\n",
       "2         79                 Organic Spring Mix\n",
       "3         74                     Romaine Hearts\n",
       "4         74                   Garden Salad Mix\n",
       "5         72                Organic Raspberries\n",
       "6         71  Organic Sweet 100 Cherry Tomatoes\n",
       "7         71             Organic Grape Tomatoes\n",
       "8         68             Bolthouse Baby Carrots\n",
       "9         68          Ultimate Caesar Salad Kit"
      ]
     },
     "execution_count": 50,
     "metadata": {},
     "output_type": "execute_result"
    }
   ],
   "source": [
    "# Great. Now, from the bottom cluster, recommend me products that OTHER users have bought a lot of times.\n",
    "\n",
    "pd.DataFrame(graph.data(\"\"\"\n",
    "MATCH (user:User {id: {user_id}})-[:BOUGHT]->(product)-[:FOUND_IN]->(a:Aisle)-[:IN_CLUSTER]->(cluster)\n",
    "WITH user, cluster, COUNT(*) AS times\n",
    "ORDER BY times ASC\n",
    "LIMIT 1\n",
    "WITH cluster\n",
    "MATCH (cluster)<-[:IN_CLUSTER]-(a)<-[:FOUND_IN]-(p)\n",
    "WITH cluster, a.name AS aisleName, COUNT(p) as numberOfProducts\n",
    "ORDER BY numberOfProducts DESC\n",
    "LIMIT 1\n",
    "WITH aisleName AS x\n",
    "MATCH (Aisle {name: x})<-[:FOUND_IN]-(otherProducts)<-[b:BOUGHT]-()\n",
    "WHERE b.order_total > 10\n",
    "RETURN DISTINCT otherProducts.name AS recommendation, MAX(b.order_total) AS maxOrders\n",
    "ORDER BY maxOrders DESC\n",
    "LIMIT 10\"\"\", user_id=random_user))"
   ]
  },
  {
   "cell_type": "markdown",
   "metadata": {},
   "source": [
    "## Content-based Filtering\n",
    "\n",
    "Content-based filtering didn't work for the groceries dataset. This is because content-based filtering relies on a product to be part of multiple categories. For example:\n",
    "\n",
    "- Movie A -> Crime, Thriller, Adventure, Drama\n",
    "- Movie B -> Crime, Drama, Romance\n",
    "\n",
    "But in the case of groceries, a meat is meat, a vegetable is a vegetable. Frozen vegetables were categorized as \"Frozen\" food not \"Vegetable\" AND \"Frozen\".\n",
    "\n",
    "But for the recipes dataset, it does work."
   ]
  },
  {
   "cell_type": "code",
   "execution_count": 51,
   "metadata": {},
   "outputs": [],
   "source": [
    "pd.set_option('display.max_columns', None)\n",
    "pd.set_option('display.max_colwidth', -1)"
   ]
  },
  {
   "cell_type": "code",
   "execution_count": 52,
   "metadata": {},
   "outputs": [
    {
     "data": {
      "text/html": [
       "<div>\n",
       "<style scoped>\n",
       "    .dataframe tbody tr th:only-of-type {\n",
       "        vertical-align: middle;\n",
       "    }\n",
       "\n",
       "    .dataframe tbody tr th {\n",
       "        vertical-align: top;\n",
       "    }\n",
       "\n",
       "    .dataframe thead th {\n",
       "        text-align: right;\n",
       "    }\n",
       "</style>\n",
       "<table border=\"1\" class=\"dataframe\">\n",
       "  <thead>\n",
       "    <tr style=\"text-align: right;\">\n",
       "      <th></th>\n",
       "      <th>categories</th>\n",
       "      <th>commonCategories</th>\n",
       "      <th>recommendation</th>\n",
       "    </tr>\n",
       "  </thead>\n",
       "  <tbody>\n",
       "    <tr>\n",
       "      <th>0</th>\n",
       "      <td>[Dairy, Potato, Soup/Stew, Vegetable, Fennel]</td>\n",
       "      <td>5</td>\n",
       "      <td>Fresh Fennel Vichyssoise</td>\n",
       "    </tr>\n",
       "    <tr>\n",
       "      <th>1</th>\n",
       "      <td>[Dairy, Potato, Soup/Stew, Gourmet, Vegetable]</td>\n",
       "      <td>5</td>\n",
       "      <td>Salmon Chowder</td>\n",
       "    </tr>\n",
       "    <tr>\n",
       "      <th>2</th>\n",
       "      <td>[Dairy, Soup/Stew, Gourmet, Vegetable, Fennel]</td>\n",
       "      <td>5</td>\n",
       "      <td>Carrot, Fennel, and Orange Soup</td>\n",
       "    </tr>\n",
       "    <tr>\n",
       "      <th>3</th>\n",
       "      <td>[Dairy, Soup/Stew, Gourmet, Vegetable]</td>\n",
       "      <td>4</td>\n",
       "      <td>Chilled Minted Zucchini Soup</td>\n",
       "    </tr>\n",
       "    <tr>\n",
       "      <th>4</th>\n",
       "      <td>[Dairy, Soup/Stew, Gourmet, Vegetable]</td>\n",
       "      <td>4</td>\n",
       "      <td>Lobster Bisque</td>\n",
       "    </tr>\n",
       "    <tr>\n",
       "      <th>5</th>\n",
       "      <td>[Soup/Stew, Gourmet, New York, Fennel]</td>\n",
       "      <td>4</td>\n",
       "      <td>Bouillabaisse Linder</td>\n",
       "    </tr>\n",
       "    <tr>\n",
       "      <th>6</th>\n",
       "      <td>[Potato, Gourmet, Vegetable, Fennel]</td>\n",
       "      <td>4</td>\n",
       "      <td>Steamed Vegetables with Basil Pecan Pesto</td>\n",
       "    </tr>\n",
       "    <tr>\n",
       "      <th>7</th>\n",
       "      <td>[Potato, Soup/Stew, Gourmet, Vegetable]</td>\n",
       "      <td>4</td>\n",
       "      <td>Borscht</td>\n",
       "    </tr>\n",
       "    <tr>\n",
       "      <th>8</th>\n",
       "      <td>[Potato, Soup/Stew, Gourmet, Vegetable]</td>\n",
       "      <td>4</td>\n",
       "      <td>White Bean and Vegetable Soup</td>\n",
       "    </tr>\n",
       "    <tr>\n",
       "      <th>9</th>\n",
       "      <td>[Dairy, Potato, Soup/Stew, Vegetable]</td>\n",
       "      <td>4</td>\n",
       "      <td>Roasted Beet Soup with Potato and Dill Salad</td>\n",
       "    </tr>\n",
       "  </tbody>\n",
       "</table>\n",
       "</div>"
      ],
      "text/plain": [
       "                                       categories  commonCategories  \\\n",
       "0  [Dairy, Potato, Soup/Stew, Vegetable, Fennel]   5                  \n",
       "1  [Dairy, Potato, Soup/Stew, Gourmet, Vegetable]  5                  \n",
       "2  [Dairy, Soup/Stew, Gourmet, Vegetable, Fennel]  5                  \n",
       "3  [Dairy, Soup/Stew, Gourmet, Vegetable]          4                  \n",
       "4  [Dairy, Soup/Stew, Gourmet, Vegetable]          4                  \n",
       "5  [Soup/Stew, Gourmet, New York, Fennel]          4                  \n",
       "6  [Potato, Gourmet, Vegetable, Fennel]            4                  \n",
       "7  [Potato, Soup/Stew, Gourmet, Vegetable]         4                  \n",
       "8  [Potato, Soup/Stew, Gourmet, Vegetable]         4                  \n",
       "9  [Dairy, Potato, Soup/Stew, Vegetable]           4                  \n",
       "\n",
       "                                 recommendation  \n",
       "0  Fresh Fennel Vichyssoise                      \n",
       "1  Salmon Chowder                                \n",
       "2  Carrot, Fennel, and Orange Soup               \n",
       "3  Chilled Minted Zucchini Soup                  \n",
       "4  Lobster Bisque                                \n",
       "5  Bouillabaisse Linder                          \n",
       "6  Steamed Vegetables with Basil Pecan Pesto     \n",
       "7  Borscht                                       \n",
       "8  White Bean and Vegetable Soup                 \n",
       "9  Roasted Beet Soup with Potato and Dill Salad  "
      ]
     },
     "execution_count": 52,
     "metadata": {},
     "output_type": "execute_result"
    }
   ],
   "source": [
    "# Recommend recipes most similar to 'Potato and Fennel Soup Hodge'.\n",
    "\n",
    "pd.DataFrame(graph.data(\"\"\"\n",
    "MATCH (m:Recipe)-[:TAGGED_AS]->(g:Category)<-[:TAGGED_AS]-(rec:Recipe)\n",
    "WHERE m.name = 'Potato and Fennel Soup Hodge'\n",
    "WITH rec, COLLECT(g.name) AS categories, COUNT(*) AS commonCategories\n",
    "RETURN rec.name AS recommendation, categories, commonCategories\n",
    "ORDER BY commonCategories DESC \n",
    "LIMIT 10\"\"\"))"
   ]
  },
  {
   "cell_type": "markdown",
   "metadata": {},
   "source": [
    "### Jaccard similarity\n",
    "\n",
    "The Jaccard index is a number between 0 and 1 that indicates how similar two sets are. The Jaccard index of two identical sets is 1. If two sets do not have a common element, then the Jaccard index is 0. \n",
    "\n",
    "We can calculate the Jaccard index for by comparing the number of categories that each recipe overlaps on."
   ]
  },
  {
   "cell_type": "code",
   "execution_count": 53,
   "metadata": {},
   "outputs": [
    {
     "data": {
      "text/html": [
       "<div>\n",
       "<style scoped>\n",
       "    .dataframe tbody tr th:only-of-type {\n",
       "        vertical-align: middle;\n",
       "    }\n",
       "\n",
       "    .dataframe tbody tr th {\n",
       "        vertical-align: top;\n",
       "    }\n",
       "\n",
       "    .dataframe thead th {\n",
       "        text-align: right;\n",
       "    }\n",
       "</style>\n",
       "<table border=\"1\" class=\"dataframe\">\n",
       "  <thead>\n",
       "    <tr style=\"text-align: right;\">\n",
       "      <th></th>\n",
       "      <th>jaccard</th>\n",
       "      <th>recommendation</th>\n",
       "      <th>s1</th>\n",
       "      <th>s2</th>\n",
       "    </tr>\n",
       "  </thead>\n",
       "  <tbody>\n",
       "    <tr>\n",
       "      <th>0</th>\n",
       "      <td>0.333333</td>\n",
       "      <td>Hainanese Chicken Rice</td>\n",
       "      <td>[Soup/Stew, Dairy Free, Peanut Free, Lemongrass, Gourmet, Ginger, Pepper, Chicken, Garlic, Shrimp, Spring, Breakfast, Coconut]</td>\n",
       "      <td>[Soup/Stew, Chicken, Garlic, Ginger, Rice, Hot Pepper, Gourmet]</td>\n",
       "    </tr>\n",
       "    <tr>\n",
       "      <th>1</th>\n",
       "      <td>0.300000</td>\n",
       "      <td>Aromatic Shrimp And Noodle Medicine Soup</td>\n",
       "      <td>[Soup/Stew, Dairy Free, Peanut Free, Lemongrass, Gourmet, Ginger, Pepper, Chicken, Garlic, Shrimp, Spring, Breakfast, Coconut]</td>\n",
       "      <td>[Bon Appétit, Lemongrass, Soup/Stew, Noodle, Shrimp, Ginger, Green Onion/Scallion, Healthy, Dinner, Dairy Free, Winter, Peanut Free, Soy Free]</td>\n",
       "    </tr>\n",
       "    <tr>\n",
       "      <th>2</th>\n",
       "      <td>0.294118</td>\n",
       "      <td>Coconut Sauce</td>\n",
       "      <td>[Soup/Stew, Dairy Free, Peanut Free, Lemongrass, Gourmet, Ginger, Pepper, Chicken, Garlic, Shrimp, Spring, Breakfast, Coconut]</td>\n",
       "      <td>[Herb, Ginger, Chicken, Blender, Gourmet, Lemongrass, Coconut, Quick &amp; Easy, Sauce]</td>\n",
       "    </tr>\n",
       "    <tr>\n",
       "      <th>3</th>\n",
       "      <td>0.291667</td>\n",
       "      <td>Thai Shrimp Soup with Lemon and Jalapenos</td>\n",
       "      <td>[Soup/Stew, Dairy Free, Peanut Free, Lemongrass, Gourmet, Ginger, Pepper, Chicken, Garlic, Shrimp, Spring, Breakfast, Coconut]</td>\n",
       "      <td>[Soup/Stew, Chicken, Shrimp, Healthy, Lemon, Coconut, Shellfish, Lunch, Ginger, Pork, Sugar Conscious, Dairy Free, Jalapeño, Bon Appétit, Soy Free, No Sugar Added, Peanut Free, Tree Nut Free]</td>\n",
       "    </tr>\n",
       "    <tr>\n",
       "      <th>4</th>\n",
       "      <td>0.285714</td>\n",
       "      <td>Coconut Shrimp with Tamarind Ginger Sauce</td>\n",
       "      <td>[Soup/Stew, Dairy Free, Peanut Free, Lemongrass, Gourmet, Ginger, Pepper, Chicken, Garlic, Shrimp, Spring, Breakfast, Coconut]</td>\n",
       "      <td>[Summer, Shrimp, Coconut, Cocktail Party, Fry, Appetizer, Ginger, Soy Free, Tree Nut Free, Peanut Free, Dairy Free, Pescatarian, Gourmet, Tamarind]</td>\n",
       "    </tr>\n",
       "  </tbody>\n",
       "</table>\n",
       "</div>"
      ],
      "text/plain": [
       "    jaccard                             recommendation  \\\n",
       "0  0.333333  Hainanese Chicken Rice                      \n",
       "1  0.300000  Aromatic Shrimp And Noodle Medicine Soup    \n",
       "2  0.294118  Coconut Sauce                               \n",
       "3  0.291667  Thai Shrimp Soup with Lemon and Jalapenos   \n",
       "4  0.285714  Coconut Shrimp with Tamarind Ginger Sauce   \n",
       "\n",
       "                                                                                                                               s1  \\\n",
       "0  [Soup/Stew, Dairy Free, Peanut Free, Lemongrass, Gourmet, Ginger, Pepper, Chicken, Garlic, Shrimp, Spring, Breakfast, Coconut]   \n",
       "1  [Soup/Stew, Dairy Free, Peanut Free, Lemongrass, Gourmet, Ginger, Pepper, Chicken, Garlic, Shrimp, Spring, Breakfast, Coconut]   \n",
       "2  [Soup/Stew, Dairy Free, Peanut Free, Lemongrass, Gourmet, Ginger, Pepper, Chicken, Garlic, Shrimp, Spring, Breakfast, Coconut]   \n",
       "3  [Soup/Stew, Dairy Free, Peanut Free, Lemongrass, Gourmet, Ginger, Pepper, Chicken, Garlic, Shrimp, Spring, Breakfast, Coconut]   \n",
       "4  [Soup/Stew, Dairy Free, Peanut Free, Lemongrass, Gourmet, Ginger, Pepper, Chicken, Garlic, Shrimp, Spring, Breakfast, Coconut]   \n",
       "\n",
       "                                                                                                                                                                                                s2  \n",
       "0  [Soup/Stew, Chicken, Garlic, Ginger, Rice, Hot Pepper, Gourmet]                                                                                                                                  \n",
       "1  [Bon Appétit, Lemongrass, Soup/Stew, Noodle, Shrimp, Ginger, Green Onion/Scallion, Healthy, Dinner, Dairy Free, Winter, Peanut Free, Soy Free]                                                   \n",
       "2  [Herb, Ginger, Chicken, Blender, Gourmet, Lemongrass, Coconut, Quick & Easy, Sauce]                                                                                                              \n",
       "3  [Soup/Stew, Chicken, Shrimp, Healthy, Lemon, Coconut, Shellfish, Lunch, Ginger, Pork, Sugar Conscious, Dairy Free, Jalapeño, Bon Appétit, Soy Free, No Sugar Added, Peanut Free, Tree Nut Free]  \n",
       "4  [Summer, Shrimp, Coconut, Cocktail Party, Fry, Appetizer, Ginger, Soy Free, Tree Nut Free, Peanut Free, Dairy Free, Pescatarian, Gourmet, Tamarind]                                              "
      ]
     },
     "execution_count": 53,
     "metadata": {},
     "output_type": "execute_result"
    }
   ],
   "source": [
    "# Add one extra layer to the recommendation besides using the Jaccard: the Recommended recipes' rating cannot be\n",
    "# lower than the original recipe that we searched for.\n",
    "\n",
    "pd.DataFrame(graph.data(\"\"\"\n",
    "MATCH (r:Recipe {name: \"Spicy Noodle Soup\"})-[:TAGGED_AS]->(c:Category)<-[:TAGGED_AS]-(other:Recipe)\n",
    "WITH r, other, COUNT(c) AS intersection, COLLECT(c.name) AS i\n",
    "\n",
    "MATCH (r)-[:TAGGED_AS]->(rc:Category)\n",
    "WITH r, other, intersection, i, COLLECT(rc.name) AS s1\n",
    "\n",
    "MATCH (other)-[:TAGGED_AS]->(oc:Category)\n",
    "WITH r, other, intersection, i,  s1, COLLECT(oc.name) AS s2\n",
    "\n",
    "WITH r, other, intersection, s1, s2\n",
    "\n",
    "WITH r, other, intersection, s1+filter(x IN s2 WHERE NOT x IN s1) AS union, s1, s2\n",
    "\n",
    "WHERE other.rating >= r.rating\n",
    "\n",
    "RETURN other.name AS recommendation, s1,s2,((1.0*intersection)/SIZE(union)) AS jaccard \n",
    "ORDER BY jaccard DESC \n",
    "LIMIT 5\"\"\"))"
   ]
  },
  {
   "cell_type": "markdown",
   "metadata": {},
   "source": [
    "# 4. Cross Polination\n",
    "\n",
    "Making the leap from Product to Recipes."
   ]
  },
  {
   "cell_type": "code",
   "execution_count": 54,
   "metadata": {},
   "outputs": [
    {
     "data": {
      "text/plain": [
       "['Organic', 'Large', 'Extra', 'Fancy', 'Fuji', 'Apple']"
      ]
     },
     "execution_count": 54,
     "metadata": {},
     "output_type": "execute_result"
    }
   ],
   "source": [
    "product_name = \"Organic Large Extra Fancy Fuji Apple\"\n",
    "words = product_name.split()\n",
    "words"
   ]
  },
  {
   "cell_type": "code",
   "execution_count": 55,
   "metadata": {},
   "outputs": [
    {
     "data": {
      "text/html": [
       "<div>\n",
       "<style scoped>\n",
       "    .dataframe tbody tr th:only-of-type {\n",
       "        vertical-align: middle;\n",
       "    }\n",
       "\n",
       "    .dataframe tbody tr th {\n",
       "        vertical-align: top;\n",
       "    }\n",
       "\n",
       "    .dataframe thead th {\n",
       "        text-align: right;\n",
       "    }\n",
       "</style>\n",
       "<table border=\"1\" class=\"dataframe\">\n",
       "  <thead>\n",
       "    <tr style=\"text-align: right;\">\n",
       "      <th></th>\n",
       "      <th>categories</th>\n",
       "      <th>commonCategories</th>\n",
       "      <th>recommendation</th>\n",
       "    </tr>\n",
       "  </thead>\n",
       "  <tbody>\n",
       "    <tr>\n",
       "      <th>0</th>\n",
       "      <td>[Breakfast, Pepper, Fruit Juice, Sauce, Dried Fruit, Fig, Fall, Brunch, Dessert, Side, Quick &amp; Easy, Vegan, Vegetarian, Pescatarian, Dairy Free, Boil, Gourmet, Fat Free, Kidney Friendly, Kosher, Peanut Free, Wheat/Gluten-Free, Soy Free, Tree Nut Free]</td>\n",
       "      <td>24</td>\n",
       "      <td>Peppery Fig and Cider Compote</td>\n",
       "    </tr>\n",
       "    <tr>\n",
       "      <th>1</th>\n",
       "      <td>[Kosher, No Sugar Added, Soy Free, Tree Nut Free, Peanut Free, Wheat/Gluten-Free, Dairy Free, Pescatarian, Vegan, Kale, Healthy, Parsley, Drink, Vegetarian, Spice, Celery, Leafy Green, Herb, Vegetable, Breakfast, Non-Alcoholic, Juicer, Fruit]</td>\n",
       "      <td>23</td>\n",
       "      <td>Green Juice</td>\n",
       "    </tr>\n",
       "    <tr>\n",
       "      <th>2</th>\n",
       "      <td>[Lunch, Raisin, High Fiber, Wheat/Gluten-Free, Carrot, Spring, Cashew, Vegan, Raw, Summer, Healthy, Pescatarian, Dairy Free, Bok Choy, Vegetarian, Kosher, No Sugar Added, Peanut Free, Onion, Salad, Low Cal, Kid-Friendly]</td>\n",
       "      <td>22</td>\n",
       "      <td>Apple Bok Choy Salad</td>\n",
       "    </tr>\n",
       "    <tr>\n",
       "      <th>3</th>\n",
       "      <td>[Frozen Dessert, Thanksgiving, Vegetarian, Clove, Party, Spice, Fall, Milk/Cream, Ginger, Dessert, Dairy, Fruit, Kosher, Soy Free, Pescatarian, Vegan, Michigan, Bon Appétit, Tree Nut Free, Peanut Free, Wheat/Gluten-Free, Dairy Free]</td>\n",
       "      <td>22</td>\n",
       "      <td>Spiced Apple-Cider Granita with Ginger Whipped Cream</td>\n",
       "    </tr>\n",
       "    <tr>\n",
       "      <th>4</th>\n",
       "      <td>[Salad, Nut, Leafy Green, Fall, Walnut, Endive, Healthy, Quick &amp; Easy, Appetizer, Tree Nut, Wheat/Gluten-Free, Peanut Free, Paleo, Dairy Free, Vegetarian, Pescatarian, Kidney Friendly, Vegan, Kosher, Soy Free, No Sugar Added]</td>\n",
       "      <td>21</td>\n",
       "      <td>Belgian Endive and Walnut Salad (Insalata Belga e Noci)</td>\n",
       "    </tr>\n",
       "    <tr>\n",
       "      <th>5</th>\n",
       "      <td>[Kosher, Tree Nut Free, Soy Free, Wheat/Gluten-Free, Peanut Free, Pescatarian, Vegetarian, Bon Appétit, Ramekin, Fall, Spice, Fig, Prune, Orange, Bake, Dessert, Fruit, Egg, Milk/Cream, Fruit Juice]</td>\n",
       "      <td>20</td>\n",
       "      <td>White Pepper Crème Brûlée with Fig and Prune Compote</td>\n",
       "    </tr>\n",
       "    <tr>\n",
       "      <th>6</th>\n",
       "      <td>[Bon Appétit, Healthy, Winter, Fall, Apricot, Raisin, Cranberry, Quick &amp; Easy, Low Fat, Bake, Dessert, Fruit, Soy Free, Kosher, Peanut Free, Tree Nut Free, Pescatarian, Wheat/Gluten-Free, California, Vegetarian]</td>\n",
       "      <td>20</td>\n",
       "      <td>Baked Apples with Cranberries, Raisins, and Apricots</td>\n",
       "    </tr>\n",
       "    <tr>\n",
       "      <th>7</th>\n",
       "      <td>[Sauce, Condiment/Spread, Dessert, Fruit, Thanksgiving, Plum, Fall, Vegan, Gourmet, Fat Free, Kidney Friendly, Vegetarian, Pescatarian, Dairy Free, Wheat/Gluten-Free, Peanut Free, Tree Nut Free, Soy Free, Kosher]</td>\n",
       "      <td>19</td>\n",
       "      <td>Plum Applesauce</td>\n",
       "    </tr>\n",
       "    <tr>\n",
       "      <th>8</th>\n",
       "      <td>[Pescatarian, Paleo, Dairy Free, Wheat/Gluten-Free, Peanut Free, Soy Free, No Sugar Added, Kosher, Brunch, Breakfast, Juicer, Non-Alcoholic, Beet, Celery, Vegetarian, Drink, Vegan, Healthy, Carrot]</td>\n",
       "      <td>19</td>\n",
       "      <td>Power-Boosting Beets</td>\n",
       "    </tr>\n",
       "    <tr>\n",
       "      <th>9</th>\n",
       "      <td>[Bake, Thanksgiving, Ginger, Dessert, Raisin, Cranberry, Dried Fruit, Cake, Kosher, Soy Free, Peanut Free, Cinnamon, Fall, Spice, Pecan, Pescatarian, Vegetarian, Nutmeg, Clove]</td>\n",
       "      <td>19</td>\n",
       "      <td>Spiced Apple Cake with Eggnog Sauce</td>\n",
       "    </tr>\n",
       "  </tbody>\n",
       "</table>\n",
       "</div>"
      ],
      "text/plain": [
       "                                                                                                                                                                                                                                                    categories  \\\n",
       "0  [Breakfast, Pepper, Fruit Juice, Sauce, Dried Fruit, Fig, Fall, Brunch, Dessert, Side, Quick & Easy, Vegan, Vegetarian, Pescatarian, Dairy Free, Boil, Gourmet, Fat Free, Kidney Friendly, Kosher, Peanut Free, Wheat/Gluten-Free, Soy Free, Tree Nut Free]   \n",
       "1  [Kosher, No Sugar Added, Soy Free, Tree Nut Free, Peanut Free, Wheat/Gluten-Free, Dairy Free, Pescatarian, Vegan, Kale, Healthy, Parsley, Drink, Vegetarian, Spice, Celery, Leafy Green, Herb, Vegetable, Breakfast, Non-Alcoholic, Juicer, Fruit]            \n",
       "2  [Lunch, Raisin, High Fiber, Wheat/Gluten-Free, Carrot, Spring, Cashew, Vegan, Raw, Summer, Healthy, Pescatarian, Dairy Free, Bok Choy, Vegetarian, Kosher, No Sugar Added, Peanut Free, Onion, Salad, Low Cal, Kid-Friendly]                                  \n",
       "3  [Frozen Dessert, Thanksgiving, Vegetarian, Clove, Party, Spice, Fall, Milk/Cream, Ginger, Dessert, Dairy, Fruit, Kosher, Soy Free, Pescatarian, Vegan, Michigan, Bon Appétit, Tree Nut Free, Peanut Free, Wheat/Gluten-Free, Dairy Free]                      \n",
       "4  [Salad, Nut, Leafy Green, Fall, Walnut, Endive, Healthy, Quick & Easy, Appetizer, Tree Nut, Wheat/Gluten-Free, Peanut Free, Paleo, Dairy Free, Vegetarian, Pescatarian, Kidney Friendly, Vegan, Kosher, Soy Free, No Sugar Added]                             \n",
       "5  [Kosher, Tree Nut Free, Soy Free, Wheat/Gluten-Free, Peanut Free, Pescatarian, Vegetarian, Bon Appétit, Ramekin, Fall, Spice, Fig, Prune, Orange, Bake, Dessert, Fruit, Egg, Milk/Cream, Fruit Juice]                                                         \n",
       "6  [Bon Appétit, Healthy, Winter, Fall, Apricot, Raisin, Cranberry, Quick & Easy, Low Fat, Bake, Dessert, Fruit, Soy Free, Kosher, Peanut Free, Tree Nut Free, Pescatarian, Wheat/Gluten-Free, California, Vegetarian]                                           \n",
       "7  [Sauce, Condiment/Spread, Dessert, Fruit, Thanksgiving, Plum, Fall, Vegan, Gourmet, Fat Free, Kidney Friendly, Vegetarian, Pescatarian, Dairy Free, Wheat/Gluten-Free, Peanut Free, Tree Nut Free, Soy Free, Kosher]                                          \n",
       "8  [Pescatarian, Paleo, Dairy Free, Wheat/Gluten-Free, Peanut Free, Soy Free, No Sugar Added, Kosher, Brunch, Breakfast, Juicer, Non-Alcoholic, Beet, Celery, Vegetarian, Drink, Vegan, Healthy, Carrot]                                                         \n",
       "9  [Bake, Thanksgiving, Ginger, Dessert, Raisin, Cranberry, Dried Fruit, Cake, Kosher, Soy Free, Peanut Free, Cinnamon, Fall, Spice, Pecan, Pescatarian, Vegetarian, Nutmeg, Clove]                                                                              \n",
       "\n",
       "   commonCategories                                           recommendation  \n",
       "0  24                Peppery Fig and Cider Compote                            \n",
       "1  23                Green Juice                                              \n",
       "2  22                Apple Bok Choy Salad                                     \n",
       "3  22                Spiced Apple-Cider Granita with Ginger Whipped Cream     \n",
       "4  21                Belgian Endive and Walnut Salad (Insalata Belga e Noci)  \n",
       "5  20                White Pepper Crème Brûlée with Fig and Prune Compote     \n",
       "6  20                Baked Apples with Cranberries, Raisins, and Apricots     \n",
       "7  19                Plum Applesauce                                          \n",
       "8  19                Power-Boosting Beets                                     \n",
       "9  19                Spiced Apple Cake with Eggnog Sauce                      "
      ]
     },
     "execution_count": 55,
     "metadata": {},
     "output_type": "execute_result"
    }
   ],
   "source": [
    "pd.DataFrame(graph.data(\"\"\"\n",
    "MATCH (c:Category)<-[:TAGGED_AS]-(r:Recipe)-[:TAGGED_AS]->(other:Category)\n",
    "WHERE c.name IN ['Organic', 'Large', 'Extra', 'Fancy', 'Fuji', 'Apple'] AND r.rating >= 4.5\n",
    "WITH r, COLLECT(other.name) AS categories, COUNT(*) AS commonCategories\n",
    "RETURN r.name AS recommendation, categories, commonCategories\n",
    "ORDER BY commonCategories DESC \n",
    "LIMIT 10\"\"\"))"
   ]
  },
  {
   "cell_type": "markdown",
   "metadata": {},
   "source": [
    "However, this meant that the database queries the Category nodes 6 times.\n",
    "\n",
    "Once for 'Organic', for 'Large', for 'Extra'... etc. \n",
    "\n",
    "Until it reaches 'Apple' which had the most number of hits.\n",
    "\n",
    "This is computational expensive. Another way to expand this project, would be to create a **Named Entity Recognition** (NER) model that will parse product names and outputs the relevent keyword that will be the search query for the recipe network.\n"
   ]
  },
  {
   "cell_type": "markdown",
   "metadata": {},
   "source": [
    "![](../reports/assets/recipe_recsys_mockup.png)"
   ]
  },
  {
   "cell_type": "markdown",
   "metadata": {},
   "source": [
    "# 5. Summary\n",
    "\n",
    "What worked and what didn't?\n",
    "- Collaborative filtering works if you have some form of quantitative ranking, i.e. ratings, total number of orders.\n",
    "- Content filtering works if you multiple categories for the same item.\n",
    "- Clustering can help you but like all clustering methods, there's no way to evaluate the outcomes.\n",
    "- Novelty recommendation is still a field studied (how to do it).\n",
    "- Evaluation: the 'laugh' test.\n",
    "\n",
    "What else after this?\n",
    "- Named Entity Recognition layer.\n",
    "- Textblob to create keywords for each recipes, either based on ingredients or description.\n",
    "- Make the Flask app look less...ugly.\n",
    "- Try another clustering algorithm, available in the iGraph [package](http://igraph.org/python/doc/igraph.Graph-class.html)."
   ]
  }
 ],
 "metadata": {
  "kernelspec": {
   "display_name": "Python 3",
   "language": "python",
   "name": "python3"
  },
  "language_info": {
   "codemirror_mode": {
    "name": "ipython",
    "version": 3
   },
   "file_extension": ".py",
   "mimetype": "text/x-python",
   "name": "python",
   "nbconvert_exporter": "python",
   "pygments_lexer": "ipython3",
   "version": "3.5.5"
  }
 },
 "nbformat": 4,
 "nbformat_minor": 2
}
