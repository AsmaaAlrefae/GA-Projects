{
 "cells": [
  {
   "cell_type": "code",
   "execution_count": 1,
   "metadata": {},
   "outputs": [],
   "source": [
    "import pandas as pd\n",
    "import sqlite3\n",
    "import re\n",
    "import matplotlib.pyplot as plt\n",
    "import numpy as np\n",
    "import pickle\n",
    "import string\n",
    "import itertools\n",
    "\n",
    "from nltk.corpus import stopwords\n",
    "\n",
    "from sklearn.feature_extraction.text import CountVectorizer, TfidfVectorizer, ENGLISH_STOP_WORDS\n",
    "\n",
    "from sklearn.model_selection import train_test_split, cross_val_predict\n",
    "\n",
    "from sklearn.linear_model import SGDClassifier, LogisticRegressionCV\n",
    "from sklearn.ensemble import GradientBoostingClassifier\n",
    "\n",
    "from sklearn.pipeline import Pipeline\n",
    "\n",
    "from sklearn import metrics\n",
    "\n",
    "import matplotlib.pyplot as plt\n",
    "%matplotlib inline"
   ]
  },
  {
   "cell_type": "code",
   "execution_count": 2,
   "metadata": {},
   "outputs": [],
   "source": [
    "############# Helper functions #############\n",
    "\n",
    "############################################\n",
    "######### From the documentation ###########\n",
    "############ CONFUSION MATRIX ##############\n",
    "############################################\n",
    "\n",
    "def plot_confusion_matrix(cm, classes,\n",
    "                          normalize=False,\n",
    "                          title='Confusion matrix',\n",
    "                          cmap=plt.cm.Blues):\n",
    "    \"\"\"\n",
    "    This function prints and plots the confusion matrix.\n",
    "    Normalization can be applied by setting `normalize=True`.\n",
    "    \"\"\"\n",
    "    if normalize:\n",
    "        cm = cm.astype('float') / cm.sum(axis=1)[:, np.newaxis]\n",
    "        print(\"Normalized confusion matrix\")\n",
    "    else:\n",
    "        print('Confusion matrix, without normalization')\n",
    "\n",
    "    print(cm)\n",
    "\n",
    "    plt.imshow(cm, interpolation='nearest', cmap=cmap)\n",
    "    plt.title(title)\n",
    "    plt.colorbar()\n",
    "    tick_marks = np.arange(len(classes))\n",
    "    plt.xticks(tick_marks, classes, rotation=45)\n",
    "    plt.yticks(tick_marks, classes)\n",
    "\n",
    "    fmt = '.2f' if normalize else 'd'\n",
    "    thresh = cm.max() / 2.\n",
    "    for i, j in itertools.product(range(cm.shape[0]), range(cm.shape[1])):\n",
    "        plt.text(j, i, format(cm[i, j], fmt),\n",
    "                 horizontalalignment=\"center\",\n",
    "                 color=\"white\" if cm[i, j] > thresh else \"black\")\n",
    "\n",
    "    plt.tight_layout()\n",
    "    plt.ylabel('True label')\n",
    "    plt.xlabel('Predicted label')\n",
    "    plt.show()\n",
    "\n",
    "#######################################\n",
    "##### top10keywords from pipeline #####\n",
    "#######################################\n",
    "\n",
    "def top10keys(pipe_model, classes):\n",
    "    vectorizer = pipe_model.named_steps['vectorizer']\n",
    "    clf = pipe_model.named_steps['clf']\n",
    "    \n",
    "    features_names = vectorizer.get_feature_names()\n",
    "    features_names = np.asarray(features_names)\n",
    "    \n",
    "    print('Number of features: {} \\n'.format(len(features_names)))\n",
    "    \n",
    "    try:\n",
    "        if len(classes) > 2:\n",
    "            for i, label in enumerate(classes):\n",
    "                top10 = np.argsort(clf.coef_[i])[-10:]\n",
    "                print('%s: %s' % (label,', '.join(features_names[top10])))\n",
    "        else:\n",
    "            top10 = np.argsort(clf.coef_[0])[-10:] \n",
    "            print('Top 10 features found in %s:' % (classes[1]))\n",
    "            print('%s' % (', '.join(features_names[top10])))\n",
    "    except AttributeError:\n",
    "        top10 = np.argsort(clf.feature_importances_)[-10:]\n",
    "        print('Top 10 features found in %s:' % (classes[1]))\n",
    "        print('%s' % (', '.join(features_names[top10])))\n",
    "\n",
    "#######################################\n",
    "### predict and print all the stuff ###\n",
    "#######################################\n",
    "\n",
    "def predict_and_win(classes_names):\n",
    "    \n",
    "    y_pred = pipe.predict(X_test) \n",
    "    \n",
    "    # OR cross_val_predict(pipe, X, y, cv=3) to combine cros_val with prediction here but that would mean make_pipeline instead of pipeline\n",
    "    \n",
    "    print('Classification Report: \\n')\n",
    "    print(metrics.classification_report(y_test, y_pred))\n",
    "    print('='*60)\n",
    "    print('Accuracy: {}'.format(metrics.accuracy_score(y_test,y_pred)))\n",
    "    print('='*60)\n",
    "    plot_confusion_matrix(metrics.confusion_matrix(y_test, y_pred), classes=classes_names, title='Confusion matrix')\n"
   ]
  },
  {
   "cell_type": "markdown",
   "metadata": {},
   "source": [
    "# Project 4: NLP, NLP, NLP\n",
    "\n",
    "We will be doing all classification models and attempt to kill two ~~birds~~ questions with one ~~stone~~ classification model - which is Section 1 and the bonus section. However, I would require the answers to Section 2 before I am able to do Section 1 So, I won't be going through the project in the same order as the README file. Sorry...and yes, there's not a lot of cross validation here. :P except for Logistic Regression here. Mainly because... I technically don't have labels, so I have engineered my own labels most of the time."
   ]
  },
  {
   "cell_type": "markdown",
   "metadata": {},
   "source": [
    "## Bringing in my tables from SQL"
   ]
  },
  {
   "cell_type": "code",
   "execution_count": 3,
   "metadata": {},
   "outputs": [],
   "source": [
    "connection = sqlite3.connect('job_scraped.db.sqlite')"
   ]
  },
  {
   "cell_type": "code",
   "execution_count": 4,
   "metadata": {},
   "outputs": [],
   "source": [
    "sql_query = '''\n",
    "SELECT *\n",
    "FROM jobs\n",
    "'''"
   ]
  },
  {
   "cell_type": "code",
   "execution_count": 5,
   "metadata": {},
   "outputs": [],
   "source": [
    "df = pd.read_sql(sql_query, con=connection)"
   ]
  },
  {
   "cell_type": "code",
   "execution_count": 6,
   "metadata": {},
   "outputs": [
    {
     "data": {
      "text/html": [
       "<div>\n",
       "<style scoped>\n",
       "    .dataframe tbody tr th:only-of-type {\n",
       "        vertical-align: middle;\n",
       "    }\n",
       "\n",
       "    .dataframe tbody tr th {\n",
       "        vertical-align: top;\n",
       "    }\n",
       "\n",
       "    .dataframe thead th {\n",
       "        text-align: right;\n",
       "    }\n",
       "</style>\n",
       "<table border=\"1\" class=\"dataframe\">\n",
       "  <thead>\n",
       "    <tr style=\"text-align: right;\">\n",
       "      <th></th>\n",
       "      <th>description</th>\n",
       "      <th>id</th>\n",
       "      <th>title</th>\n",
       "    </tr>\n",
       "  </thead>\n",
       "  <tbody>\n",
       "    <tr>\n",
       "      <th>0</th>\n",
       "      <td>Dubbed “The Most Innovative Streaming Video Se...</td>\n",
       "      <td>2abc0718a6987824</td>\n",
       "      <td>Data Analyst</td>\n",
       "    </tr>\n",
       "    <tr>\n",
       "      <th>1</th>\n",
       "      <td>Title: Data Analyst\\n\\nRole:\\n\\nReporting to t...</td>\n",
       "      <td>c95dd846041ca1c5</td>\n",
       "      <td>Data Analyst</td>\n",
       "    </tr>\n",
       "    <tr>\n",
       "      <th>2</th>\n",
       "      <td>What is the job ?\\n\\n\\nThe role will involve m...</td>\n",
       "      <td>59df81c8a00dc826</td>\n",
       "      <td>Junior Data Analyst</td>\n",
       "    </tr>\n",
       "    <tr>\n",
       "      <th>3</th>\n",
       "      <td>Data Analyst - (180000E0)\\nDescription\\n\\nUnde...</td>\n",
       "      <td>6d9971d09cb788a6</td>\n",
       "      <td>Data Analyst</td>\n",
       "    </tr>\n",
       "    <tr>\n",
       "      <th>4</th>\n",
       "      <td>Your Responsibilities :\\n\\nThe Role\\n\\n\\nIn th...</td>\n",
       "      <td>b4c4860763098784</td>\n",
       "      <td>Data Insights Analyst</td>\n",
       "    </tr>\n",
       "  </tbody>\n",
       "</table>\n",
       "</div>"
      ],
      "text/plain": [
       "                                         description                id  \\\n",
       "0  Dubbed “The Most Innovative Streaming Video Se...  2abc0718a6987824   \n",
       "1  Title: Data Analyst\\n\\nRole:\\n\\nReporting to t...  c95dd846041ca1c5   \n",
       "2  What is the job ?\\n\\n\\nThe role will involve m...  59df81c8a00dc826   \n",
       "3  Data Analyst - (180000E0)\\nDescription\\n\\nUnde...  6d9971d09cb788a6   \n",
       "4  Your Responsibilities :\\n\\nThe Role\\n\\n\\nIn th...  b4c4860763098784   \n",
       "\n",
       "                   title  \n",
       "0           Data Analyst  \n",
       "1           Data Analyst  \n",
       "2    Junior Data Analyst  \n",
       "3           Data Analyst  \n",
       "4  Data Insights Analyst  "
      ]
     },
     "execution_count": 6,
     "metadata": {},
     "output_type": "execute_result"
    }
   ],
   "source": [
    "df.head()"
   ]
  },
  {
   "cell_type": "code",
   "execution_count": 7,
   "metadata": {},
   "outputs": [
    {
     "data": {
      "text/plain": [
       "0"
      ]
     },
     "execution_count": 7,
     "metadata": {},
     "output_type": "execute_result"
    }
   ],
   "source": [
    "# Check for duplicates\n",
    "df['id'].duplicated(keep='first').sum()"
   ]
  },
  {
   "cell_type": "code",
   "execution_count": 8,
   "metadata": {},
   "outputs": [
    {
     "data": {
      "text/html": [
       "<div>\n",
       "<style scoped>\n",
       "    .dataframe tbody tr th:only-of-type {\n",
       "        vertical-align: middle;\n",
       "    }\n",
       "\n",
       "    .dataframe tbody tr th {\n",
       "        vertical-align: top;\n",
       "    }\n",
       "\n",
       "    .dataframe thead th {\n",
       "        text-align: right;\n",
       "    }\n",
       "</style>\n",
       "<table border=\"1\" class=\"dataframe\">\n",
       "  <thead>\n",
       "    <tr style=\"text-align: right;\">\n",
       "      <th></th>\n",
       "      <th>description</th>\n",
       "      <th>id</th>\n",
       "      <th>title</th>\n",
       "    </tr>\n",
       "  </thead>\n",
       "  <tbody>\n",
       "  </tbody>\n",
       "</table>\n",
       "</div>"
      ],
      "text/plain": [
       "Empty DataFrame\n",
       "Columns: [description, id, title]\n",
       "Index: []"
      ]
     },
     "execution_count": 8,
     "metadata": {},
     "output_type": "execute_result"
    }
   ],
   "source": [
    "# Check for data entry jobs\n",
    "df[df['title'].str.contains('Data Entry')]"
   ]
  },
  {
   "cell_type": "code",
   "execution_count": 9,
   "metadata": {},
   "outputs": [
    {
     "data": {
      "text/html": [
       "<div>\n",
       "<style scoped>\n",
       "    .dataframe tbody tr th:only-of-type {\n",
       "        vertical-align: middle;\n",
       "    }\n",
       "\n",
       "    .dataframe tbody tr th {\n",
       "        vertical-align: top;\n",
       "    }\n",
       "\n",
       "    .dataframe thead th {\n",
       "        text-align: right;\n",
       "    }\n",
       "</style>\n",
       "<table border=\"1\" class=\"dataframe\">\n",
       "  <thead>\n",
       "    <tr style=\"text-align: right;\">\n",
       "      <th></th>\n",
       "      <th>description</th>\n",
       "      <th>id</th>\n",
       "      <th>title</th>\n",
       "    </tr>\n",
       "  </thead>\n",
       "  <tbody>\n",
       "    <tr>\n",
       "      <th>17</th>\n",
       "      <td>Expedia\\n\\nIf you are seeking a collaborative,...</td>\n",
       "      <td>b4360fcd5896614c</td>\n",
       "      <td>Internship – Singapore – Data Growth Analyst I...</td>\n",
       "    </tr>\n",
       "    <tr>\n",
       "      <th>19</th>\n",
       "      <td>In your new role you will:\\nAssist analytics t...</td>\n",
       "      <td>7ea2500e814e660b</td>\n",
       "      <td>Internship - Data Analyst</td>\n",
       "    </tr>\n",
       "    <tr>\n",
       "      <th>169</th>\n",
       "      <td>Job Summary\\n\\nJob Title: Summer Internship 20...</td>\n",
       "      <td>a4be9d6531a5fd98</td>\n",
       "      <td>Summer Internship 2018</td>\n",
       "    </tr>\n",
       "    <tr>\n",
       "      <th>258</th>\n",
       "      <td>About Us:\\nGE is the world's Digital Industria...</td>\n",
       "      <td>bf54a0408db5e412</td>\n",
       "      <td>Internship -Business Analyst- Healthcare (Jul ...</td>\n",
       "    </tr>\n",
       "    <tr>\n",
       "      <th>478</th>\n",
       "      <td>About Us:\\nGE is the world's Digital Industria...</td>\n",
       "      <td>14533e4fd58270cf</td>\n",
       "      <td>Internship - Service Operations</td>\n",
       "    </tr>\n",
       "    <tr>\n",
       "      <th>497</th>\n",
       "      <td>About Us:\\nGE is the world’s Digital Industria...</td>\n",
       "      <td>055cb0d9d8aa982c</td>\n",
       "      <td>GE Aviation Internship</td>\n",
       "    </tr>\n",
       "    <tr>\n",
       "      <th>521</th>\n",
       "      <td>In your role you will:\\nBe involved in key pro...</td>\n",
       "      <td>207475703e8d5f08</td>\n",
       "      <td>Internship - Test Automation</td>\n",
       "    </tr>\n",
       "    <tr>\n",
       "      <th>534</th>\n",
       "      <td>In your new role you will\\nBe involved in lots...</td>\n",
       "      <td>67081fd9c763ba0f</td>\n",
       "      <td>Internship - Product Test Engineering (Automat...</td>\n",
       "    </tr>\n",
       "    <tr>\n",
       "      <th>902</th>\n",
       "      <td>About the Role\\n\\n\\nInformation Technology at ...</td>\n",
       "      <td>86b371ee515b345c</td>\n",
       "      <td>Artificial Intelligent Bot Engineer - Internship</td>\n",
       "    </tr>\n",
       "    <tr>\n",
       "      <th>1101</th>\n",
       "      <td>In your new role you will:\\nStudy and assess c...</td>\n",
       "      <td>93c36bce0027be71</td>\n",
       "      <td>Internship - R&amp;D Big Data Analysis using AI/ML</td>\n",
       "    </tr>\n",
       "  </tbody>\n",
       "</table>\n",
       "</div>"
      ],
      "text/plain": [
       "                                            description                id  \\\n",
       "17    Expedia\\n\\nIf you are seeking a collaborative,...  b4360fcd5896614c   \n",
       "19    In your new role you will:\\nAssist analytics t...  7ea2500e814e660b   \n",
       "169   Job Summary\\n\\nJob Title: Summer Internship 20...  a4be9d6531a5fd98   \n",
       "258   About Us:\\nGE is the world's Digital Industria...  bf54a0408db5e412   \n",
       "478   About Us:\\nGE is the world's Digital Industria...  14533e4fd58270cf   \n",
       "497   About Us:\\nGE is the world’s Digital Industria...  055cb0d9d8aa982c   \n",
       "521   In your role you will:\\nBe involved in key pro...  207475703e8d5f08   \n",
       "534   In your new role you will\\nBe involved in lots...  67081fd9c763ba0f   \n",
       "902   About the Role\\n\\n\\nInformation Technology at ...  86b371ee515b345c   \n",
       "1101  In your new role you will:\\nStudy and assess c...  93c36bce0027be71   \n",
       "\n",
       "                                                  title  \n",
       "17    Internship – Singapore – Data Growth Analyst I...  \n",
       "19                            Internship - Data Analyst  \n",
       "169                              Summer Internship 2018  \n",
       "258   Internship -Business Analyst- Healthcare (Jul ...  \n",
       "478                     Internship - Service Operations  \n",
       "497                              GE Aviation Internship  \n",
       "521                        Internship - Test Automation  \n",
       "534   Internship - Product Test Engineering (Automat...  \n",
       "902    Artificial Intelligent Bot Engineer - Internship  \n",
       "1101     Internship - R&D Big Data Analysis using AI/ML  "
      ]
     },
     "execution_count": 9,
     "metadata": {},
     "output_type": "execute_result"
    }
   ],
   "source": [
    "# Check for Internships\n",
    "df[df['title'].str.contains('Internship')]"
   ]
  },
  {
   "cell_type": "markdown",
   "metadata": {},
   "source": [
    "Hurray! No duplicates (!) and no data entry jobs. There are some internships, but let's leave them in and see what happens.\n",
    "\n",
    "## 1) Data Scientists versus others\n",
    "What components of a job posting distinguish data scientists from other data jobs?\n",
    "\n",
    "### Data Scientist vs Data Analyst vs Data Engineer"
   ]
  },
  {
   "cell_type": "code",
   "execution_count": 10,
   "metadata": {},
   "outputs": [],
   "source": [
    "# Extracting all jobs with \"Data Science\" in the title\n",
    "\n",
    "only_ds = df[df['title'].isin(['Data Scientist','Junior Data Scientist','Senior Data Scientist'])].copy()\n",
    "only_ds['label'] = 'DS'"
   ]
  },
  {
   "cell_type": "code",
   "execution_count": 11,
   "metadata": {},
   "outputs": [],
   "source": [
    "only_da = df[df['title'].isin(['Data Analyst','Junior Data Analyst','Senior Data Analyst'])].copy()\n",
    "only_da['label'] = 'DA'"
   ]
  },
  {
   "cell_type": "code",
   "execution_count": 12,
   "metadata": {},
   "outputs": [],
   "source": [
    "only_de = df[df['title'].isin(['Data Engineer','Junior Data Engineer','Senior Data Engineer'])].copy()\n",
    "only_de['label'] = 'DE'"
   ]
  },
  {
   "cell_type": "code",
   "execution_count": 13,
   "metadata": {},
   "outputs": [],
   "source": [
    "ds_vs_others = pd.concat([only_ds,only_da,only_de], ignore_index=True)"
   ]
  },
  {
   "cell_type": "code",
   "execution_count": 14,
   "metadata": {},
   "outputs": [
    {
     "data": {
      "text/html": [
       "<div>\n",
       "<style scoped>\n",
       "    .dataframe tbody tr th:only-of-type {\n",
       "        vertical-align: middle;\n",
       "    }\n",
       "\n",
       "    .dataframe tbody tr th {\n",
       "        vertical-align: top;\n",
       "    }\n",
       "\n",
       "    .dataframe thead th {\n",
       "        text-align: right;\n",
       "    }\n",
       "</style>\n",
       "<table border=\"1\" class=\"dataframe\">\n",
       "  <thead>\n",
       "    <tr style=\"text-align: right;\">\n",
       "      <th></th>\n",
       "      <th>description</th>\n",
       "      <th>id</th>\n",
       "      <th>title</th>\n",
       "      <th>label</th>\n",
       "    </tr>\n",
       "  </thead>\n",
       "  <tbody>\n",
       "    <tr>\n",
       "      <th>0</th>\n",
       "      <td>PURPOSE OF THE ROLE\\nThis role of a data scien...</td>\n",
       "      <td>21a0e80107ccbbc3</td>\n",
       "      <td>Data Scientist</td>\n",
       "      <td>DS</td>\n",
       "    </tr>\n",
       "    <tr>\n",
       "      <th>1</th>\n",
       "      <td>Work cross-functionally with business managers...</td>\n",
       "      <td>95a6064e4ea39071</td>\n",
       "      <td>Data Scientist</td>\n",
       "      <td>DS</td>\n",
       "    </tr>\n",
       "    <tr>\n",
       "      <th>2</th>\n",
       "      <td>Serve as primary source of data insights suppo...</td>\n",
       "      <td>dc9137eaa6d7040a</td>\n",
       "      <td>Data Scientist</td>\n",
       "      <td>DS</td>\n",
       "    </tr>\n",
       "    <tr>\n",
       "      <th>3</th>\n",
       "      <td>Big data, artificial intelligence and advanced...</td>\n",
       "      <td>8401de1b34480359</td>\n",
       "      <td>Data Scientist</td>\n",
       "      <td>DS</td>\n",
       "    </tr>\n",
       "    <tr>\n",
       "      <th>4</th>\n",
       "      <td>As the innovation leader in the logistics indu...</td>\n",
       "      <td>eb0952cd8bad461b</td>\n",
       "      <td>Data Scientist</td>\n",
       "      <td>DS</td>\n",
       "    </tr>\n",
       "  </tbody>\n",
       "</table>\n",
       "</div>"
      ],
      "text/plain": [
       "                                         description                id  \\\n",
       "0  PURPOSE OF THE ROLE\\nThis role of a data scien...  21a0e80107ccbbc3   \n",
       "1  Work cross-functionally with business managers...  95a6064e4ea39071   \n",
       "2  Serve as primary source of data insights suppo...  dc9137eaa6d7040a   \n",
       "3  Big data, artificial intelligence and advanced...  8401de1b34480359   \n",
       "4  As the innovation leader in the logistics indu...  eb0952cd8bad461b   \n",
       "\n",
       "            title label  \n",
       "0  Data Scientist    DS  \n",
       "1  Data Scientist    DS  \n",
       "2  Data Scientist    DS  \n",
       "3  Data Scientist    DS  \n",
       "4  Data Scientist    DS  "
      ]
     },
     "execution_count": 14,
     "metadata": {},
     "output_type": "execute_result"
    }
   ],
   "source": [
    "ds_vs_others.head()"
   ]
  },
  {
   "cell_type": "code",
   "execution_count": 15,
   "metadata": {},
   "outputs": [
    {
     "data": {
      "text/plain": [
       "DS    33\n",
       "DE    25\n",
       "DA    21\n",
       "Name: label, dtype: int64"
      ]
     },
     "execution_count": 15,
     "metadata": {},
     "output_type": "execute_result"
    }
   ],
   "source": [
    "ds_vs_others['label'].value_counts()"
   ]
  },
  {
   "cell_type": "code",
   "execution_count": 16,
   "metadata": {},
   "outputs": [
    {
     "name": "stdout",
     "output_type": "stream",
     "text": [
      "Baseline: 0.582278481013\n"
     ]
    }
   ],
   "source": [
    "print('Baseline: {}'.format(1.0-(float(33)/float(33+25+21))))"
   ]
  },
  {
   "cell_type": "markdown",
   "metadata": {},
   "source": [
    "WOOT! I have a balanced dataset :) albeit small.... but let's see if we can infer anything from it using NLP.\n",
    "\n",
    "### Simple cleaning, no stemming or lemmitization because it is so small (rows = 60+)."
   ]
  },
  {
   "cell_type": "code",
   "execution_count": 17,
   "metadata": {},
   "outputs": [],
   "source": [
    "# Removing punctuation, numbers and lowercase all\n",
    "ds_vs_others['clean'] = ds_vs_others['description'].apply(lambda x: re.sub(\"[^a-zA-Z]\", \" \", x).lower())"
   ]
  },
  {
   "cell_type": "code",
   "execution_count": 18,
   "metadata": {},
   "outputs": [
    {
     "data": {
      "text/html": [
       "<div>\n",
       "<style scoped>\n",
       "    .dataframe tbody tr th:only-of-type {\n",
       "        vertical-align: middle;\n",
       "    }\n",
       "\n",
       "    .dataframe tbody tr th {\n",
       "        vertical-align: top;\n",
       "    }\n",
       "\n",
       "    .dataframe thead th {\n",
       "        text-align: right;\n",
       "    }\n",
       "</style>\n",
       "<table border=\"1\" class=\"dataframe\">\n",
       "  <thead>\n",
       "    <tr style=\"text-align: right;\">\n",
       "      <th></th>\n",
       "      <th>description</th>\n",
       "      <th>id</th>\n",
       "      <th>title</th>\n",
       "      <th>label</th>\n",
       "      <th>clean</th>\n",
       "    </tr>\n",
       "  </thead>\n",
       "  <tbody>\n",
       "    <tr>\n",
       "      <th>0</th>\n",
       "      <td>PURPOSE OF THE ROLE\\nThis role of a data scien...</td>\n",
       "      <td>21a0e80107ccbbc3</td>\n",
       "      <td>Data Scientist</td>\n",
       "      <td>DS</td>\n",
       "      <td>purpose of the role this role of a data scient...</td>\n",
       "    </tr>\n",
       "    <tr>\n",
       "      <th>1</th>\n",
       "      <td>Work cross-functionally with business managers...</td>\n",
       "      <td>95a6064e4ea39071</td>\n",
       "      <td>Data Scientist</td>\n",
       "      <td>DS</td>\n",
       "      <td>work cross functionally with business managers...</td>\n",
       "    </tr>\n",
       "    <tr>\n",
       "      <th>2</th>\n",
       "      <td>Serve as primary source of data insights suppo...</td>\n",
       "      <td>dc9137eaa6d7040a</td>\n",
       "      <td>Data Scientist</td>\n",
       "      <td>DS</td>\n",
       "      <td>serve as primary source of data insights suppo...</td>\n",
       "    </tr>\n",
       "    <tr>\n",
       "      <th>3</th>\n",
       "      <td>Big data, artificial intelligence and advanced...</td>\n",
       "      <td>8401de1b34480359</td>\n",
       "      <td>Data Scientist</td>\n",
       "      <td>DS</td>\n",
       "      <td>big data  artificial intelligence and advanced...</td>\n",
       "    </tr>\n",
       "    <tr>\n",
       "      <th>4</th>\n",
       "      <td>As the innovation leader in the logistics indu...</td>\n",
       "      <td>eb0952cd8bad461b</td>\n",
       "      <td>Data Scientist</td>\n",
       "      <td>DS</td>\n",
       "      <td>as the innovation leader in the logistics indu...</td>\n",
       "    </tr>\n",
       "  </tbody>\n",
       "</table>\n",
       "</div>"
      ],
      "text/plain": [
       "                                         description                id  \\\n",
       "0  PURPOSE OF THE ROLE\\nThis role of a data scien...  21a0e80107ccbbc3   \n",
       "1  Work cross-functionally with business managers...  95a6064e4ea39071   \n",
       "2  Serve as primary source of data insights suppo...  dc9137eaa6d7040a   \n",
       "3  Big data, artificial intelligence and advanced...  8401de1b34480359   \n",
       "4  As the innovation leader in the logistics indu...  eb0952cd8bad461b   \n",
       "\n",
       "            title label                                              clean  \n",
       "0  Data Scientist    DS  purpose of the role this role of a data scient...  \n",
       "1  Data Scientist    DS  work cross functionally with business managers...  \n",
       "2  Data Scientist    DS  serve as primary source of data insights suppo...  \n",
       "3  Data Scientist    DS  big data  artificial intelligence and advanced...  \n",
       "4  Data Scientist    DS  as the innovation leader in the logistics indu...  "
      ]
     },
     "execution_count": 18,
     "metadata": {},
     "output_type": "execute_result"
    }
   ],
   "source": [
    "ds_vs_others.head()"
   ]
  },
  {
   "cell_type": "code",
   "execution_count": 19,
   "metadata": {},
   "outputs": [],
   "source": [
    "X = ds_vs_others['clean']\n",
    "y = ds_vs_others['label']"
   ]
  },
  {
   "cell_type": "code",
   "execution_count": 20,
   "metadata": {},
   "outputs": [],
   "source": [
    "X_train, X_test, y_train, y_test = train_test_split(X, y, test_size=0.3, random_state=42)"
   ]
  },
  {
   "cell_type": "code",
   "execution_count": 21,
   "metadata": {},
   "outputs": [],
   "source": [
    "pipe = Pipeline([\n",
    "    ('vectorizer', CountVectorizer()),\n",
    "    ('clf', LogisticRegressionCV(cv=3, random_state=42))\n",
    "])\n",
    "\n",
    "model = pipe.fit(X_train, y_train)"
   ]
  },
  {
   "cell_type": "code",
   "execution_count": 22,
   "metadata": {},
   "outputs": [
    {
     "name": "stdout",
     "output_type": "stream",
     "text": [
      "Number of features: 2696 \n",
      "\n",
      "DA: analysis, skills, strong, and, reports, business, clients, requirements, reporting, analyst\n",
      "DE: skill, is, pipelines, number, infrastructure, building, you, of, data, engineer\n",
      "DS: problems, scientist, in, business, research, analytics, science, models, machine, learning\n"
     ]
    }
   ],
   "source": [
    "top10keys(model, classes=['DA', 'DE', 'DS'])"
   ]
  },
  {
   "cell_type": "code",
   "execution_count": 23,
   "metadata": {},
   "outputs": [
    {
     "name": "stdout",
     "output_type": "stream",
     "text": [
      "Classification Report: \n",
      "\n",
      "             precision    recall  f1-score   support\n",
      "\n",
      "         DA       0.67      0.67      0.67         6\n",
      "         DE       1.00      0.57      0.73         7\n",
      "         DS       0.71      0.91      0.80        11\n",
      "\n",
      "avg / total       0.79      0.75      0.75        24\n",
      "\n",
      "============================================================\n",
      "Accuracy: 0.75\n",
      "============================================================\n",
      "Confusion matrix, without normalization\n",
      "[[ 4  0  2]\n",
      " [ 1  4  2]\n",
      " [ 1  0 10]]\n"
     ]
    },
    {
     "data": {
      "image/png": "[encoded data removed]",
      "text/plain": [
       "<Figure size 432x288 with 2 Axes>"
      ]
     },
     "metadata": {},
     "output_type": "display_data"
    }
   ],
   "source": [
    "predict_and_win(['DA', 'DE', 'DS'])"
   ]
  },
  {
   "cell_type": "markdown",
   "metadata": {},
   "source": [
    "Not bad... DEs are not misclassified at all or much."
   ]
  },
  {
   "cell_type": "code",
   "execution_count": 24,
   "metadata": {},
   "outputs": [
    {
     "name": "stdout",
     "output_type": "stream",
     "text": [
      "Number of features: 11268 \n",
      "\n",
      "DA: planning, microsoft, reports, audit, clients, sales, customer, reporting, data analyst, analyst\n",
      "DE: end, data, data warehousing, infrastructure, skill, warehousing, aws, pipelines, data engineer, engineer\n",
      "DS: stakeholders, data scientist, scientist, data analytics, learning, machine learning, machine, models, research, analytics\n"
     ]
    },
    {
     "name": "stderr",
     "output_type": "stream",
     "text": [
      "/usr/local/anaconda3/envs/py27/lib/python2.7/site-packages/sklearn/linear_model/stochastic_gradient.py:128: FutureWarning: max_iter and tol parameters have been added in <class 'sklearn.linear_model.stochastic_gradient.SGDClassifier'> in 0.19. If both are left unset, they default to max_iter=5 and tol=None. If tol is not None, max_iter defaults to max_iter=1000. From 0.21, default max_iter will be 1000, and default tol will be 1e-3.\n",
      "  \"and default tol will be 1e-3.\" % type(self), FutureWarning)\n"
     ]
    }
   ],
   "source": [
    "pipe = Pipeline([\n",
    "    ('vectorizer', TfidfVectorizer(stop_words='english', ngram_range=(1,2))),\n",
    "    ('clf', SGDClassifier(random_state=42))\n",
    "])\n",
    "\n",
    "model = pipe.fit(X_train, y_train)\n",
    "\n",
    "top10keys(model, classes=['DA', 'DE', 'DS'])"
   ]
  },
  {
   "cell_type": "code",
   "execution_count": 25,
   "metadata": {},
   "outputs": [
    {
     "name": "stdout",
     "output_type": "stream",
     "text": [
      "Classification Report: \n",
      "\n",
      "             precision    recall  f1-score   support\n",
      "\n",
      "         DA       0.60      0.50      0.55         6\n",
      "         DE       1.00      0.71      0.83         7\n",
      "         DS       0.71      0.91      0.80        11\n",
      "\n",
      "avg / total       0.77      0.75      0.75        24\n",
      "\n",
      "============================================================\n",
      "Accuracy: 0.75\n",
      "============================================================\n",
      "Confusion matrix, without normalization\n",
      "[[ 3  0  3]\n",
      " [ 1  5  1]\n",
      " [ 1  0 10]]\n"
     ]
    },
    {
     "data": {
      "image/png": "[encoded data removed]",
      "text/plain": [
       "<Figure size 432x288 with 2 Axes>"
      ]
     },
     "metadata": {},
     "output_type": "display_data"
    }
   ],
   "source": [
    "predict_and_win(['DA', 'DE', 'DS'])"
   ]
  },
  {
   "cell_type": "markdown",
   "metadata": {},
   "source": [
    "I felt that company names in the job description would be a factor. Removing them might make my improve my model. At this point, I went back and scraped for company names. I just needed enough to add as stop words."
   ]
  },
  {
   "cell_type": "code",
   "execution_count": 26,
   "metadata": {},
   "outputs": [],
   "source": [
    "# Load in the pickled list of company names\n",
    "with open('company_names.p','rb') as f:\n",
    "    company_names = pickle.load(f)"
   ]
  },
  {
   "cell_type": "code",
   "execution_count": 27,
   "metadata": {},
   "outputs": [],
   "source": [
    "# Remove duplicates\n",
    "company_names = list(set(company_names))\n",
    "\n",
    "# Turn into dataframe for easy removal of punctuation and lowercasing\n",
    "company_df = pd.DataFrame({'companies': company_names})"
   ]
  },
  {
   "cell_type": "code",
   "execution_count": 28,
   "metadata": {},
   "outputs": [],
   "source": [
    "company_names = company_df['companies'].apply(lambda x: re.sub(\"[^a-zA-Z]\", \" \", x).lower().split()).tolist()\n",
    "company_names = [y for x in company_names for y in x]"
   ]
  },
  {
   "cell_type": "code",
   "execution_count": 29,
   "metadata": {},
   "outputs": [],
   "source": [
    "# Remove duplicates\n",
    "company_names = list(set(company_names))\n",
    "\n",
    "# Add 'jll' because it is a real estate company and microsoft because .... microsoft\n",
    "company_names.extend(['jll','microsoft'])"
   ]
  },
  {
   "cell_type": "code",
   "execution_count": 30,
   "metadata": {},
   "outputs": [],
   "source": [
    "# Add to the stopwords list\n",
    "stop_words1 = ENGLISH_STOP_WORDS.union(company_names)"
   ]
  },
  {
   "cell_type": "code",
   "execution_count": 31,
   "metadata": {},
   "outputs": [
    {
     "name": "stdout",
     "output_type": "stream",
     "text": [
      "Number of features: 10478 \n",
      "\n",
      "DA: report, great work, ability, audit, planning, reporting, clients, sales, data analyst, analyst\n",
      "DE: infrastructure, engineering, end, data warehousing, skill, aws, warehousing, pipelines, data engineer, engineer\n",
      "DS: fraud, algorithms, machine learning, stakeholders, learning, data scientist, scientist, machine, models, research\n"
     ]
    }
   ],
   "source": [
    "pipe = Pipeline([\n",
    "    ('vectorizer', TfidfVectorizer(stop_words=stop_words1, ngram_range=(1,2))),\n",
    "    ('clf', SGDClassifier(random_state=42))\n",
    "])\n",
    "\n",
    "model = pipe.fit(X_train, y_train)\n",
    "\n",
    "top10keys(model, classes=['DA', 'DE', 'DS'])"
   ]
  },
  {
   "cell_type": "code",
   "execution_count": 32,
   "metadata": {},
   "outputs": [
    {
     "name": "stdout",
     "output_type": "stream",
     "text": [
      "Classification Report: \n",
      "\n",
      "             precision    recall  f1-score   support\n",
      "\n",
      "         DA       0.80      0.67      0.73         6\n",
      "         DE       1.00      0.86      0.92         7\n",
      "         DS       0.77      0.91      0.83        11\n",
      "\n",
      "avg / total       0.84      0.83      0.83        24\n",
      "\n",
      "============================================================\n",
      "Accuracy: 0.833333333333\n",
      "============================================================\n",
      "Confusion matrix, without normalization\n",
      "[[ 4  0  2]\n",
      " [ 0  6  1]\n",
      " [ 1  0 10]]\n"
     ]
    },
    {
     "data": {
      "image/png": "[encoded data removed]",
      "text/plain": [
       "<Figure size 432x288 with 2 Axes>"
      ]
     },
     "metadata": {},
     "output_type": "display_data"
    }
   ],
   "source": [
    "predict_and_win(['DA', 'DE', 'DS'])"
   ]
  },
  {
   "cell_type": "code",
   "execution_count": 33,
   "metadata": {},
   "outputs": [],
   "source": [
    "# Let's do this with the ensemble method of the boosting family: GradientBoostingClassifier which is quite similar to the SGDClassifier \n",
    "\n",
    "pipe = Pipeline([\n",
    "    ('vectorizer', TfidfVectorizer(stop_words=stop_words1, ngram_range=(1,2))),\n",
    "    ('clf', GradientBoostingClassifier(random_state=42))\n",
    "])\n",
    "\n",
    "model = pipe.fit(X_train, y_train)"
   ]
  },
  {
   "cell_type": "code",
   "execution_count": 34,
   "metadata": {},
   "outputs": [
    {
     "name": "stdout",
     "output_type": "stream",
     "text": [
      "Classification Report: \n",
      "\n",
      "             precision    recall  f1-score   support\n",
      "\n",
      "         DA       1.00      0.67      0.80         6\n",
      "         DE       1.00      1.00      1.00         7\n",
      "         DS       0.85      1.00      0.92        11\n",
      "\n",
      "avg / total       0.93      0.92      0.91        24\n",
      "\n",
      "============================================================\n",
      "Accuracy: 0.916666666667\n",
      "============================================================\n",
      "Confusion matrix, without normalization\n",
      "[[ 4  0  2]\n",
      " [ 0  7  0]\n",
      " [ 0  0 11]]\n"
     ]
    },
    {
     "data": {
      "image/png": "[encoded data removed]",
      "text/plain": [
       "<Figure size 432x288 with 2 Axes>"
      ]
     },
     "metadata": {},
     "output_type": "display_data"
    }
   ],
   "source": [
    "predict_and_win(['DA', 'DE', 'DS'])"
   ]
  },
  {
   "cell_type": "markdown",
   "metadata": {},
   "source": [
    "### Conclusion\n",
    "\n",
    "Removing company names (as much as possible) resulted in more mis-classifications of Data Analysts as Data Scientist, but less for the other way round. Without company names in the mix, the job description are close enough that there's a higher chance of mis-classification. This leads me to the following:\n",
    "\n",
    "1. Some companies posts Data Scientists job titles but the job descriptions reads closer to a Data Analyst title.\n",
    "2. Because I added Junior Data Scientists in the Data Scientist pool, perhaps that caused the mix of job description as Jr. Data Scientists tend to be Data Analysts.\n",
    "3. Data Analyst did have the lowerest number of samples, so not too surprised that it wasn't able to catch them all. \n",
    "4. One can argue that Data Analysts and Data Scientist are in the same cluster as each other, as compared to Data Engineers. Throughout all iterations, DEs were well classified and accurately so, with one wrong one (each)\n",
    "\n",
    "**Lesson:** It is possible to derive some insights from a small dataset, it is just very important to clean the data as much as possible and be mindful of the top10 words in both categories (don't remove too much and/or don't remove too little).\n",
    "\n",
    "**Choosing models:** A combination of simple models, or a simple model is better than a single complicated model. LogisticRegression did quite well on its own, unoptimized. GradientBoostingClassifier, which is a combination of weaker models also did very well. SGDClassifier needed a lot of work (added more stop words) to even meet LogisticRegression's first attempt.\n",
    "\n"
   ]
  },
  {
   "cell_type": "markdown",
   "metadata": {},
   "source": [
    "## 2) What features are important for distinguishing junior vs. senior positions?\n",
    "\n",
    "Salary numbers: https://www.techinasia.com/data-scientist-salaries-singapore-revealed and https://www.payscale.com/ "
   ]
  },
  {
   "cell_type": "code",
   "execution_count": 35,
   "metadata": {},
   "outputs": [],
   "source": [
    "only_jr = df[df['title'].str.contains('Junior|Jr|Associate|Assoc|Executive|Exec|Entry')].copy()\n",
    "only_jr['label'] = 'Jr'"
   ]
  },
  {
   "cell_type": "code",
   "execution_count": 36,
   "metadata": {},
   "outputs": [],
   "source": [
    "only_sr = df[df['title'].str.contains('Senior|Sr')].copy()\n",
    "only_sr['label'] = 'Sr'"
   ]
  },
  {
   "cell_type": "code",
   "execution_count": 37,
   "metadata": {},
   "outputs": [],
   "source": [
    "jr_vs_sr = pd.concat([only_jr,only_sr], ignore_index=True)"
   ]
  },
  {
   "cell_type": "code",
   "execution_count": 38,
   "metadata": {},
   "outputs": [
    {
     "data": {
      "text/plain": [
       "Sr    196\n",
       "Jr    103\n",
       "Name: label, dtype: int64"
      ]
     },
     "execution_count": 38,
     "metadata": {},
     "output_type": "execute_result"
    }
   ],
   "source": [
    "jr_vs_sr['label'].value_counts()"
   ]
  },
  {
   "cell_type": "code",
   "execution_count": 39,
   "metadata": {},
   "outputs": [
    {
     "name": "stdout",
     "output_type": "stream",
     "text": [
      "Baseline: 0.655518394649\n"
     ]
    }
   ],
   "source": [
    "print('Baseline: {}'.format(float(196)/float(103+196)))"
   ]
  },
  {
   "cell_type": "code",
   "execution_count": 40,
   "metadata": {},
   "outputs": [
    {
     "data": {
      "text/html": [
       "<div>\n",
       "<style scoped>\n",
       "    .dataframe tbody tr th:only-of-type {\n",
       "        vertical-align: middle;\n",
       "    }\n",
       "\n",
       "    .dataframe tbody tr th {\n",
       "        vertical-align: top;\n",
       "    }\n",
       "\n",
       "    .dataframe thead th {\n",
       "        text-align: right;\n",
       "    }\n",
       "</style>\n",
       "<table border=\"1\" class=\"dataframe\">\n",
       "  <thead>\n",
       "    <tr style=\"text-align: right;\">\n",
       "      <th></th>\n",
       "      <th>description</th>\n",
       "      <th>id</th>\n",
       "      <th>title</th>\n",
       "      <th>label</th>\n",
       "    </tr>\n",
       "  </thead>\n",
       "  <tbody>\n",
       "    <tr>\n",
       "      <th>0</th>\n",
       "      <td>What is the job ?\\n\\n\\nThe role will involve m...</td>\n",
       "      <td>59df81c8a00dc826</td>\n",
       "      <td>Junior Data Analyst</td>\n",
       "      <td>Jr</td>\n",
       "    </tr>\n",
       "    <tr>\n",
       "      <th>1</th>\n",
       "      <td>About the Business Analyst position\\n\\nWe are ...</td>\n",
       "      <td>97326f6a06a4d7dc</td>\n",
       "      <td>Business Analyst/Junior PM</td>\n",
       "      <td>Jr</td>\n",
       "    </tr>\n",
       "    <tr>\n",
       "      <th>2</th>\n",
       "      <td>Contribute to the Revenue Optimization departm...</td>\n",
       "      <td>b3410677f90d5db2</td>\n",
       "      <td>Associate Analyst/Analyst, Analytics</td>\n",
       "      <td>Jr</td>\n",
       "    </tr>\n",
       "    <tr>\n",
       "      <th>3</th>\n",
       "      <td>BlackRock helps investors build better financi...</td>\n",
       "      <td>d40e45e6c5c014ad</td>\n",
       "      <td>Data Implementation, Associate</td>\n",
       "      <td>Jr</td>\n",
       "    </tr>\n",
       "    <tr>\n",
       "      <th>4</th>\n",
       "      <td>The Company\\nWillis Towers Watson is a leading...</td>\n",
       "      <td>ea2518a4ebd725fd</td>\n",
       "      <td>Analyst - Executive Compensation, Singapore</td>\n",
       "      <td>Jr</td>\n",
       "    </tr>\n",
       "  </tbody>\n",
       "</table>\n",
       "</div>"
      ],
      "text/plain": [
       "                                         description                id  \\\n",
       "0  What is the job ?\\n\\n\\nThe role will involve m...  59df81c8a00dc826   \n",
       "1  About the Business Analyst position\\n\\nWe are ...  97326f6a06a4d7dc   \n",
       "2  Contribute to the Revenue Optimization departm...  b3410677f90d5db2   \n",
       "3  BlackRock helps investors build better financi...  d40e45e6c5c014ad   \n",
       "4  The Company\\nWillis Towers Watson is a leading...  ea2518a4ebd725fd   \n",
       "\n",
       "                                         title label  \n",
       "0                          Junior Data Analyst    Jr  \n",
       "1                   Business Analyst/Junior PM    Jr  \n",
       "2         Associate Analyst/Analyst, Analytics    Jr  \n",
       "3               Data Implementation, Associate    Jr  \n",
       "4  Analyst - Executive Compensation, Singapore    Jr  "
      ]
     },
     "execution_count": 40,
     "metadata": {},
     "output_type": "execute_result"
    }
   ],
   "source": [
    "jr_vs_sr.head()"
   ]
  },
  {
   "cell_type": "code",
   "execution_count": 41,
   "metadata": {},
   "outputs": [],
   "source": [
    "jr_vs_sr['clean'] = jr_vs_sr['description'].apply(lambda x: re.sub(\"[^a-zA-Z]\", \" \", x).lower())"
   ]
  },
  {
   "cell_type": "code",
   "execution_count": 42,
   "metadata": {},
   "outputs": [],
   "source": [
    "X = jr_vs_sr['clean']\n",
    "y = jr_vs_sr['label']"
   ]
  },
  {
   "cell_type": "code",
   "execution_count": 43,
   "metadata": {},
   "outputs": [],
   "source": [
    "X_train, X_test, y_train, y_test = train_test_split(X, y, test_size=0.3, random_state=42)"
   ]
  },
  {
   "cell_type": "code",
   "execution_count": 44,
   "metadata": {},
   "outputs": [],
   "source": [
    "pipe = Pipeline([\n",
    "    ('vectorizer', TfidfVectorizer(stop_words='english')),\n",
    "    ('clf', LogisticRegressionCV(cv=3, random_state=42, class_weight='balanced'))\n",
    "])\n",
    "\n",
    "model = pipe.fit(X_train, y_train)"
   ]
  },
  {
   "cell_type": "code",
   "execution_count": 45,
   "metadata": {},
   "outputs": [
    {
     "name": "stdout",
     "output_type": "stream",
     "text": [
      "Number of features: 5862 \n",
      "\n",
      "Top 10 features found in Senior:\n",
      "technical, lead, architecture, product, oracle, science, project, senior, experience, business\n"
     ]
    }
   ],
   "source": [
    "top10keys(model, ['Junior','Senior'])"
   ]
  },
  {
   "cell_type": "code",
   "execution_count": 46,
   "metadata": {},
   "outputs": [
    {
     "name": "stdout",
     "output_type": "stream",
     "text": [
      "Classification Report: \n",
      "\n",
      "             precision    recall  f1-score   support\n",
      "\n",
      "         Jr       0.73      0.54      0.62        35\n",
      "         Sr       0.75      0.87      0.81        55\n",
      "\n",
      "avg / total       0.74      0.74      0.74        90\n",
      "\n",
      "============================================================\n",
      "Accuracy: 0.744444444444\n",
      "============================================================\n",
      "Confusion matrix, without normalization\n",
      "[[19 16]\n",
      " [ 7 48]]\n"
     ]
    },
    {
     "data": {
      "image/png": "[encoded data removed]",
      "text/plain": [
       "<Figure size 432x288 with 2 Axes>"
      ]
     },
     "metadata": {},
     "output_type": "display_data"
    }
   ],
   "source": [
    "predict_and_win(['Junior','Senior'])"
   ]
  },
  {
   "cell_type": "code",
   "execution_count": 47,
   "metadata": {},
   "outputs": [],
   "source": [
    "# Add 'responsibilities','requirements','relevant','years' and others to stop words\n",
    "stop_words2 = stop_words1.union(['oracle','axa','edb','responsibilities','requirements','relevant','years','science','experience','advantage','phd','senior'])"
   ]
  },
  {
   "cell_type": "code",
   "execution_count": 48,
   "metadata": {},
   "outputs": [],
   "source": [
    "pipe = Pipeline([\n",
    "    ('vectorizer', TfidfVectorizer(stop_words=stop_words2, ngram_range=(2,2), max_df=0.8)),\n",
    "    ('clf', SGDClassifier(random_state=42, class_weight='balanced'))\n",
    "])\n",
    "\n",
    "model = pipe.fit(X_train, y_train)"
   ]
  },
  {
   "cell_type": "code",
   "execution_count": 49,
   "metadata": {},
   "outputs": [
    {
     "name": "stdout",
     "output_type": "stream",
     "text": [
      "Number of features: 32562 \n",
      "\n",
      "Top 10 features found in Senior:\n",
      "possess strong, roles utilizing, business analyst, sql server, degree computer, business problems, business process, ms sql, working knowledge, best practices\n"
     ]
    }
   ],
   "source": [
    "top10keys(model, ['Junior','Senior'])"
   ]
  },
  {
   "cell_type": "code",
   "execution_count": 50,
   "metadata": {},
   "outputs": [
    {
     "name": "stdout",
     "output_type": "stream",
     "text": [
      "Classification Report: \n",
      "\n",
      "             precision    recall  f1-score   support\n",
      "\n",
      "         Jr       0.63      0.63      0.63        35\n",
      "         Sr       0.76      0.76      0.76        55\n",
      "\n",
      "avg / total       0.71      0.71      0.71        90\n",
      "\n",
      "============================================================\n",
      "Accuracy: 0.711111111111\n",
      "============================================================\n",
      "Confusion matrix, without normalization\n",
      "[[22 13]\n",
      " [13 42]]\n"
     ]
    },
    {
     "data": {
      "image/png": "[encoded data removed]",
      "text/plain": [
       "<Figure size 432x288 with 2 Axes>"
      ]
     },
     "metadata": {},
     "output_type": "display_data"
    }
   ],
   "source": [
    "predict_and_win(['Junior','Senior'])"
   ]
  },
  {
   "cell_type": "code",
   "execution_count": 51,
   "metadata": {},
   "outputs": [],
   "source": [
    "# Ensemble method here:\n",
    "\n",
    "pipe = Pipeline([\n",
    "    ('vectorizer', TfidfVectorizer(stop_words=stop_words2, ngram_range=(2,2), max_df=0.8)),\n",
    "    ('clf', GradientBoostingClassifier(random_state=42))\n",
    "])\n",
    "\n",
    "model = pipe.fit(X_train, y_train)"
   ]
  },
  {
   "cell_type": "code",
   "execution_count": 52,
   "metadata": {},
   "outputs": [
    {
     "name": "stdout",
     "output_type": "stream",
     "text": [
      "Number of features: 32562 \n",
      "\n",
      "Top 10 features found in Senior:\n",
      "operations team, welcome apply, corporate institutional, successful applicant, competitive job, ms office, looking suitable, data collection, oral written, interpersonal skills\n"
     ]
    }
   ],
   "source": [
    "top10keys(model, ['Junior','Senior'])"
   ]
  },
  {
   "cell_type": "code",
   "execution_count": 53,
   "metadata": {},
   "outputs": [
    {
     "name": "stdout",
     "output_type": "stream",
     "text": [
      "Classification Report: \n",
      "\n",
      "             precision    recall  f1-score   support\n",
      "\n",
      "         Jr       0.60      0.51      0.55        35\n",
      "         Sr       0.72      0.78      0.75        55\n",
      "\n",
      "avg / total       0.67      0.68      0.67        90\n",
      "\n",
      "============================================================\n",
      "Accuracy: 0.677777777778\n",
      "============================================================\n",
      "Confusion matrix, without normalization\n",
      "[[18 17]\n",
      " [12 43]]\n"
     ]
    },
    {
     "data": {
      "image/png": "[encoded data removed]",
      "text/plain": [
       "<Figure size 432x288 with 2 Axes>"
      ]
     },
     "metadata": {},
     "output_type": "display_data"
    }
   ],
   "source": [
    "predict_and_win(['Junior','Senior'])"
   ]
  },
  {
   "cell_type": "markdown",
   "metadata": {},
   "source": [
    "### Conclusion\n",
    "\n",
    "One can argue that most of today's Junior roles in Data Science share a lot of key terms with Senior roles (models overall did better once 'PhD' was removed). `max_df` had to be set at a precise 0.60 in order to produce a better predictions. This means that it removed all terms that appeared more than 60% in all documents. There are two reasons to this:\n",
    "1. Job adverts tend to sound kinda the same anyway.\n",
    "2. A Senior role can be defined as someone with a Junior role AND 40% more. Pinpoining the terms down to these few, would need a lot more tuning.\n",
    "\n",
    "I am quite happy with 0.70+ accuracy score here as I don't want it to overfit on this and it is an imbalanced dataset to start with. LogisticRegression didn't do so well this time, but could be due to the imbalanced classes.\n"
   ]
  },
  {
   "cell_type": "markdown",
   "metadata": {},
   "source": [
    "### For Boss\n",
    "\n",
    "Junior and Senior a 'good' model is not really what the boss wants. Since he/she would like to inform a candidate that they would receive a lower salary that they would, in reality, get. With this, this means that we would need to find a model that would optimise for lower False Negatives (lower Senior predictions)."
   ]
  },
  {
   "cell_type": "code",
   "execution_count": 54,
   "metadata": {},
   "outputs": [
    {
     "name": "stdout",
     "output_type": "stream",
     "text": [
      "Number of features: 38241 \n",
      "\n",
      "Top 10 features found in Senior:\n",
      "ensure, insights, leadership, best, ai, security, problems, product, lead, business\n"
     ]
    }
   ],
   "source": [
    "# Boss, you would use this model instead\n",
    "\n",
    "pipe = Pipeline([\n",
    "    ('vectorizer', TfidfVectorizer(stop_words=stop_words2, ngram_range=(1,2))),\n",
    "    ('clf', SGDClassifier(random_state=42, class_weight='balanced'))\n",
    "])\n",
    "\n",
    "model = pipe.fit(X_train, y_train)\n",
    "top10keys(model, ['Junior','Senior'])"
   ]
  },
  {
   "cell_type": "code",
   "execution_count": 55,
   "metadata": {},
   "outputs": [
    {
     "name": "stdout",
     "output_type": "stream",
     "text": [
      "Classification Report: \n",
      "\n",
      "             precision    recall  f1-score   support\n",
      "\n",
      "         Jr       0.64      0.77      0.70        35\n",
      "         Sr       0.83      0.73      0.78        55\n",
      "\n",
      "avg / total       0.76      0.74      0.75        90\n",
      "\n",
      "============================================================\n",
      "Accuracy: 0.744444444444\n",
      "============================================================\n",
      "Confusion matrix, without normalization\n",
      "[[27  8]\n",
      " [15 40]]\n"
     ]
    },
    {
     "data": {
      "image/png": "[encoded data removed]",
      "text/plain": [
       "<Figure size 432x288 with 2 Axes>"
      ]
     },
     "metadata": {},
     "output_type": "display_data"
    }
   ],
   "source": [
    "predict_and_win(['Junior','Senior'])"
   ]
  },
  {
   "cell_type": "markdown",
   "metadata": {},
   "source": [
    "Essentially, this model is not a good classification model. In fact, it is quite a bad one with the high rate of Junior-but-actually-Senior predictions. But since that is what we will use to manage the expectation of the candidate, \"This is a junior role so it is only so-so in salary.\""
   ]
  },
  {
   "cell_type": "markdown",
   "metadata": {},
   "source": [
    "# 3) Do the requirements for titles vary significantly with industry (e.g. healthcare vs. government)?"
   ]
  },
  {
   "cell_type": "code",
   "execution_count": 56,
   "metadata": {},
   "outputs": [
    {
     "data": {
      "text/html": [
       "<div>\n",
       "<style scoped>\n",
       "    .dataframe tbody tr th:only-of-type {\n",
       "        vertical-align: middle;\n",
       "    }\n",
       "\n",
       "    .dataframe tbody tr th {\n",
       "        vertical-align: top;\n",
       "    }\n",
       "\n",
       "    .dataframe thead th {\n",
       "        text-align: right;\n",
       "    }\n",
       "</style>\n",
       "<table border=\"1\" class=\"dataframe\">\n",
       "  <thead>\n",
       "    <tr style=\"text-align: right;\">\n",
       "      <th></th>\n",
       "      <th>description</th>\n",
       "      <th>id</th>\n",
       "      <th>title</th>\n",
       "    </tr>\n",
       "  </thead>\n",
       "  <tbody>\n",
       "    <tr>\n",
       "      <th>0</th>\n",
       "      <td>Dubbed “The Most Innovative Streaming Video Se...</td>\n",
       "      <td>2abc0718a6987824</td>\n",
       "      <td>Data Analyst</td>\n",
       "    </tr>\n",
       "    <tr>\n",
       "      <th>1</th>\n",
       "      <td>Title: Data Analyst\\n\\nRole:\\n\\nReporting to t...</td>\n",
       "      <td>c95dd846041ca1c5</td>\n",
       "      <td>Data Analyst</td>\n",
       "    </tr>\n",
       "    <tr>\n",
       "      <th>2</th>\n",
       "      <td>What is the job ?\\n\\n\\nThe role will involve m...</td>\n",
       "      <td>59df81c8a00dc826</td>\n",
       "      <td>Junior Data Analyst</td>\n",
       "    </tr>\n",
       "    <tr>\n",
       "      <th>3</th>\n",
       "      <td>Data Analyst - (180000E0)\\nDescription\\n\\nUnde...</td>\n",
       "      <td>6d9971d09cb788a6</td>\n",
       "      <td>Data Analyst</td>\n",
       "    </tr>\n",
       "    <tr>\n",
       "      <th>4</th>\n",
       "      <td>Your Responsibilities :\\n\\nThe Role\\n\\n\\nIn th...</td>\n",
       "      <td>b4c4860763098784</td>\n",
       "      <td>Data Insights Analyst</td>\n",
       "    </tr>\n",
       "  </tbody>\n",
       "</table>\n",
       "</div>"
      ],
      "text/plain": [
       "                                         description                id  \\\n",
       "0  Dubbed “The Most Innovative Streaming Video Se...  2abc0718a6987824   \n",
       "1  Title: Data Analyst\\n\\nRole:\\n\\nReporting to t...  c95dd846041ca1c5   \n",
       "2  What is the job ?\\n\\n\\nThe role will involve m...  59df81c8a00dc826   \n",
       "3  Data Analyst - (180000E0)\\nDescription\\n\\nUnde...  6d9971d09cb788a6   \n",
       "4  Your Responsibilities :\\n\\nThe Role\\n\\n\\nIn th...  b4c4860763098784   \n",
       "\n",
       "                   title  \n",
       "0           Data Analyst  \n",
       "1           Data Analyst  \n",
       "2    Junior Data Analyst  \n",
       "3           Data Analyst  \n",
       "4  Data Insights Analyst  "
      ]
     },
     "execution_count": 56,
     "metadata": {},
     "output_type": "execute_result"
    }
   ],
   "source": [
    "df.head()"
   ]
  },
  {
   "cell_type": "code",
   "execution_count": 57,
   "metadata": {},
   "outputs": [
    {
     "data": {
      "text/plain": [
       "description    453\n",
       "id             453\n",
       "title          453\n",
       "dtype: int64"
      ]
     },
     "execution_count": 57,
     "metadata": {},
     "output_type": "execute_result"
    }
   ],
   "source": [
    "df[df['description'].str.contains('industry')].count()"
   ]
  },
  {
   "cell_type": "markdown",
   "metadata": {},
   "source": [
    "I am not going to kill myself and the model trying to sieve through finance vs banking. So I will choose two opposite industries that also _happens_ to have a balanced class count: Manufacturing and Finance."
   ]
  },
  {
   "cell_type": "code",
   "execution_count": 58,
   "metadata": {},
   "outputs": [],
   "source": [
    "only_fin = df[df['description'].str.contains('finance')].copy()\n",
    "only_fin['label'] = 'Finance'"
   ]
  },
  {
   "cell_type": "code",
   "execution_count": 59,
   "metadata": {},
   "outputs": [],
   "source": [
    "only_mfg = df[df['description'].str.contains('manufacturing')].copy()\n",
    "only_mfg['label'] = 'Manufacturing'"
   ]
  },
  {
   "cell_type": "code",
   "execution_count": 60,
   "metadata": {},
   "outputs": [],
   "source": [
    "industry = pd.concat([only_fin,only_mfg], ignore_index=True)\n",
    "\n",
    "# Dropping ID because we don't need it anymore, but we want Title later :D\n",
    "industry.drop(columns=['id'], inplace=True)"
   ]
  },
  {
   "cell_type": "code",
   "execution_count": 61,
   "metadata": {},
   "outputs": [
    {
     "data": {
      "text/html": [
       "<div>\n",
       "<style scoped>\n",
       "    .dataframe tbody tr th:only-of-type {\n",
       "        vertical-align: middle;\n",
       "    }\n",
       "\n",
       "    .dataframe tbody tr th {\n",
       "        vertical-align: top;\n",
       "    }\n",
       "\n",
       "    .dataframe thead th {\n",
       "        text-align: right;\n",
       "    }\n",
       "</style>\n",
       "<table border=\"1\" class=\"dataframe\">\n",
       "  <thead>\n",
       "    <tr style=\"text-align: right;\">\n",
       "      <th></th>\n",
       "      <th>description</th>\n",
       "      <th>title</th>\n",
       "      <th>label</th>\n",
       "    </tr>\n",
       "  </thead>\n",
       "  <tbody>\n",
       "    <tr>\n",
       "      <th>0</th>\n",
       "      <td>Your Responsibilities :\\n\\nThe Role\\n\\n\\nIn th...</td>\n",
       "      <td>Data Insights Analyst</td>\n",
       "      <td>Finance</td>\n",
       "    </tr>\n",
       "    <tr>\n",
       "      <th>1</th>\n",
       "      <td>Risk Data Analyst, Group Portfolio Analytics &amp;...</td>\n",
       "      <td>Risk Data Analyst, Group Portfolio Analytics &amp;...</td>\n",
       "      <td>Finance</td>\n",
       "    </tr>\n",
       "    <tr>\n",
       "      <th>2</th>\n",
       "      <td>Businesses that partner with Google come in al...</td>\n",
       "      <td>Strategy and Insights Analyst, Agency Business...</td>\n",
       "      <td>Finance</td>\n",
       "    </tr>\n",
       "    <tr>\n",
       "      <th>3</th>\n",
       "      <td>The Analyst/Developer role is a delivery focus...</td>\n",
       "      <td>Front Office Analyst</td>\n",
       "      <td>Finance</td>\n",
       "    </tr>\n",
       "    <tr>\n",
       "      <th>4</th>\n",
       "      <td>Business Analyst (Corporate Banking) - (180000...</td>\n",
       "      <td>Business Analyst (Corporate Banking)</td>\n",
       "      <td>Finance</td>\n",
       "    </tr>\n",
       "  </tbody>\n",
       "</table>\n",
       "</div>"
      ],
      "text/plain": [
       "                                         description  \\\n",
       "0  Your Responsibilities :\\n\\nThe Role\\n\\n\\nIn th...   \n",
       "1  Risk Data Analyst, Group Portfolio Analytics &...   \n",
       "2  Businesses that partner with Google come in al...   \n",
       "3  The Analyst/Developer role is a delivery focus...   \n",
       "4  Business Analyst (Corporate Banking) - (180000...   \n",
       "\n",
       "                                               title    label  \n",
       "0                              Data Insights Analyst  Finance  \n",
       "1  Risk Data Analyst, Group Portfolio Analytics &...  Finance  \n",
       "2  Strategy and Insights Analyst, Agency Business...  Finance  \n",
       "3                               Front Office Analyst  Finance  \n",
       "4               Business Analyst (Corporate Banking)  Finance  "
      ]
     },
     "execution_count": 61,
     "metadata": {},
     "output_type": "execute_result"
    }
   ],
   "source": [
    "industry.head()"
   ]
  },
  {
   "cell_type": "code",
   "execution_count": 62,
   "metadata": {},
   "outputs": [
    {
     "data": {
      "text/plain": [
       "Manufacturing    93\n",
       "Finance          92\n",
       "Name: label, dtype: int64"
      ]
     },
     "execution_count": 62,
     "metadata": {},
     "output_type": "execute_result"
    }
   ],
   "source": [
    "industry['label'].value_counts()"
   ]
  },
  {
   "cell_type": "code",
   "execution_count": 63,
   "metadata": {},
   "outputs": [],
   "source": [
    "industry['clean'] = industry['description'].apply(lambda x: re.sub(\"[^a-zA-Z]\", \" \", x).lower())"
   ]
  },
  {
   "cell_type": "code",
   "execution_count": 64,
   "metadata": {},
   "outputs": [],
   "source": [
    "X = industry['clean']\n",
    "y = industry['label']"
   ]
  },
  {
   "cell_type": "code",
   "execution_count": 65,
   "metadata": {},
   "outputs": [],
   "source": [
    "X_train, X_test, y_train, y_test = train_test_split(X, y, test_size=0.7, random_state=42)"
   ]
  },
  {
   "cell_type": "code",
   "execution_count": 66,
   "metadata": {},
   "outputs": [],
   "source": [
    "pipe = Pipeline([\n",
    "    ('vectorizer', TfidfVectorizer(stop_words='english')),\n",
    "    ('clf', LogisticRegressionCV(cv=3, random_state=42))\n",
    "])\n",
    "\n",
    "model = pipe.fit(X_train, y_train)"
   ]
  },
  {
   "cell_type": "code",
   "execution_count": 67,
   "metadata": {},
   "outputs": [
    {
     "name": "stdout",
     "output_type": "stream",
     "text": [
      "Number of features: 3122 \n",
      "\n",
      "Top 10 features found in Manufacturing:\n",
      "formulation, software, sciex, procurement, hana, equipment, process, engineering, technical, manufacturing\n"
     ]
    }
   ],
   "source": [
    "top10keys(model, ['Finance','Manufacturing'])"
   ]
  },
  {
   "cell_type": "code",
   "execution_count": 68,
   "metadata": {},
   "outputs": [
    {
     "name": "stdout",
     "output_type": "stream",
     "text": [
      "Classification Report: \n",
      "\n",
      "               precision    recall  f1-score   support\n",
      "\n",
      "      Finance       0.90      0.97      0.93        65\n",
      "Manufacturing       0.97      0.89      0.93        65\n",
      "\n",
      "  avg / total       0.93      0.93      0.93       130\n",
      "\n",
      "============================================================\n",
      "Accuracy: 0.930769230769\n",
      "============================================================\n",
      "Confusion matrix, without normalization\n",
      "[[63  2]\n",
      " [ 7 58]]\n"
     ]
    },
    {
     "data": {
      "image/png": "[encoded data removed]",
      "text/plain": [
       "<Figure size 432x288 with 2 Axes>"
      ]
     },
     "metadata": {},
     "output_type": "display_data"
    }
   ],
   "source": [
    "predict_and_win(['Finance','Manufacturing'])"
   ]
  },
  {
   "cell_type": "markdown",
   "metadata": {},
   "source": [
    "I fear something might be amiss. "
   ]
  },
  {
   "cell_type": "code",
   "execution_count": 69,
   "metadata": {},
   "outputs": [],
   "source": [
    "# Add 'manufacturing' and 'finance' to stop words\n",
    "stop_words3 = stop_words1.union(['manufacturing','finance'])"
   ]
  },
  {
   "cell_type": "code",
   "execution_count": 70,
   "metadata": {},
   "outputs": [],
   "source": [
    "pipe = Pipeline([\n",
    "    ('vectorizer', TfidfVectorizer(stop_words=stop_words3)),\n",
    "    ('clf', LogisticRegressionCV(cv=3, random_state=42))\n",
    "])\n",
    "\n",
    "model = pipe.fit(X_train, y_train)"
   ]
  },
  {
   "cell_type": "code",
   "execution_count": 71,
   "metadata": {},
   "outputs": [
    {
     "name": "stdout",
     "output_type": "stream",
     "text": [
      "Number of features: 3012 \n",
      "\n",
      "Top 10 features found in Manufacturing:\n",
      "supplier, production, status, procurement, formulation, hana, equipment, process, engineering, technical\n"
     ]
    }
   ],
   "source": [
    "top10keys(model, ['Finance','Manufacturing'])"
   ]
  },
  {
   "cell_type": "code",
   "execution_count": 72,
   "metadata": {},
   "outputs": [
    {
     "name": "stdout",
     "output_type": "stream",
     "text": [
      "Classification Report: \n",
      "\n",
      "               precision    recall  f1-score   support\n",
      "\n",
      "      Finance       0.82      0.97      0.89        65\n",
      "Manufacturing       0.96      0.78      0.86        65\n",
      "\n",
      "  avg / total       0.89      0.88      0.88       130\n",
      "\n",
      "============================================================\n",
      "Accuracy: 0.876923076923\n",
      "============================================================\n",
      "Confusion matrix, without normalization\n",
      "[[63  2]\n",
      " [14 51]]\n"
     ]
    },
    {
     "data": {
      "image/png": "[encoded data removed]",
      "text/plain": [
       "<Figure size 432x288 with 2 Axes>"
      ]
     },
     "metadata": {},
     "output_type": "display_data"
    }
   ],
   "source": [
    "predict_and_win(['Finance','Manufacturing'])"
   ]
  },
  {
   "cell_type": "code",
   "execution_count": 73,
   "metadata": {},
   "outputs": [],
   "source": [
    "pipe = Pipeline([\n",
    "    ('vectorizer', TfidfVectorizer(stop_words=stop_words3, ngram_range=(1,4))),\n",
    "    ('clf', SGDClassifier(random_state=42))\n",
    "])\n",
    "\n",
    "model = pipe.fit(X_train, y_train)"
   ]
  },
  {
   "cell_type": "code",
   "execution_count": 74,
   "metadata": {},
   "outputs": [
    {
     "name": "stdout",
     "output_type": "stream",
     "text": [
      "Number of features: 37574 \n",
      "\n",
      "Top 10 features found in Manufacturing:\n",
      "production, cell culture, chemistry, cell, chemical, formulation, equipment, process, engineering, technical\n"
     ]
    }
   ],
   "source": [
    "top10keys(model, ['Finance','Manufacturing'])"
   ]
  },
  {
   "cell_type": "code",
   "execution_count": 75,
   "metadata": {},
   "outputs": [
    {
     "name": "stdout",
     "output_type": "stream",
     "text": [
      "Classification Report: \n",
      "\n",
      "               precision    recall  f1-score   support\n",
      "\n",
      "      Finance       0.88      0.97      0.92        65\n",
      "Manufacturing       0.97      0.86      0.91        65\n",
      "\n",
      "  avg / total       0.92      0.92      0.92       130\n",
      "\n",
      "============================================================\n",
      "Accuracy: 0.915384615385\n",
      "============================================================\n",
      "Confusion matrix, without normalization\n",
      "[[63  2]\n",
      " [ 9 56]]\n"
     ]
    },
    {
     "data": {
      "image/png": "[encoded data removed]",
      "text/plain": [
       "<Figure size 432x288 with 2 Axes>"
      ]
     },
     "metadata": {},
     "output_type": "display_data"
    }
   ],
   "source": [
    "predict_and_win(['Finance','Manufacturing'])"
   ]
  },
  {
   "cell_type": "code",
   "execution_count": 76,
   "metadata": {},
   "outputs": [],
   "source": [
    "# Let's see if our GradientBoostingClassifier can make it even better\n",
    "\n",
    "pipe = Pipeline([\n",
    "    ('vectorizer', TfidfVectorizer(stop_words=stop_words3, ngram_range=(1,4))),\n",
    "    ('clf', GradientBoostingClassifier(random_state=42))\n",
    "])\n",
    "\n",
    "model = pipe.fit(X_train, y_train)"
   ]
  },
  {
   "cell_type": "code",
   "execution_count": 77,
   "metadata": {},
   "outputs": [
    {
     "name": "stdout",
     "output_type": "stream",
     "text": [
      "Number of features: 37574 \n",
      "\n",
      "Top 10 features found in Manufacturing:\n",
      "background, mechanical, equipment, process, institutions, experience, qualifications, manages, operating, business\n"
     ]
    }
   ],
   "source": [
    "top10keys(model, ['Finance','Manufacturing'])"
   ]
  },
  {
   "cell_type": "code",
   "execution_count": 78,
   "metadata": {},
   "outputs": [
    {
     "name": "stdout",
     "output_type": "stream",
     "text": [
      "Classification Report: \n",
      "\n",
      "               precision    recall  f1-score   support\n",
      "\n",
      "      Finance       0.64      0.77      0.70        65\n",
      "Manufacturing       0.71      0.57      0.63        65\n",
      "\n",
      "  avg / total       0.68      0.67      0.67       130\n",
      "\n",
      "============================================================\n",
      "Accuracy: 0.669230769231\n",
      "============================================================\n",
      "Confusion matrix, without normalization\n",
      "[[50 15]\n",
      " [28 37]]\n"
     ]
    },
    {
     "data": {
      "image/png": "[encoded data removed]",
      "text/plain": [
       "<Figure size 432x288 with 2 Axes>"
      ]
     },
     "metadata": {},
     "output_type": "display_data"
    }
   ],
   "source": [
    "predict_and_win(['Finance','Manufacturing'])"
   ]
  },
  {
   "cell_type": "markdown",
   "metadata": {},
   "source": [
    "### Conclusion\n",
    "\n",
    "KISS wins the day. Keep it Simple, Stupid. LogisticRegression performed the best."
   ]
  },
  {
   "cell_type": "markdown",
   "metadata": {},
   "source": [
    "# 4) Salary Prediction\n",
    "\n",
    "My original dataset did not have any salary column. And it also contained search results that are not entirely related. I plan to solve it this way:\n",
    "1. Predict if the role is either DS/DA, DE or DArch, or others. \n",
    "2. Predict if the role is either Jr. or Sr.\n",
    "3. Sort accordingly.\n",
    "\n",
    "I wonder if I can do some clustering..."
   ]
  },
  {
   "cell_type": "markdown",
   "metadata": {},
   "source": [
    "https://stackoverflow.com/questions/8897593/similarity-between-two-text-documents and http://brandonrose.org/clustering"
   ]
  },
  {
   "cell_type": "code",
   "execution_count": 79,
   "metadata": {},
   "outputs": [
    {
     "data": {
      "text/html": [
       "<div>\n",
       "<style scoped>\n",
       "    .dataframe tbody tr th:only-of-type {\n",
       "        vertical-align: middle;\n",
       "    }\n",
       "\n",
       "    .dataframe tbody tr th {\n",
       "        vertical-align: top;\n",
       "    }\n",
       "\n",
       "    .dataframe thead th {\n",
       "        text-align: right;\n",
       "    }\n",
       "</style>\n",
       "<table border=\"1\" class=\"dataframe\">\n",
       "  <thead>\n",
       "    <tr style=\"text-align: right;\">\n",
       "      <th></th>\n",
       "      <th>description</th>\n",
       "      <th>id</th>\n",
       "      <th>title</th>\n",
       "      <th>label</th>\n",
       "      <th>clean</th>\n",
       "    </tr>\n",
       "  </thead>\n",
       "  <tbody>\n",
       "    <tr>\n",
       "      <th>0</th>\n",
       "      <td>PURPOSE OF THE ROLE\\nThis role of a data scien...</td>\n",
       "      <td>21a0e80107ccbbc3</td>\n",
       "      <td>Data Scientist</td>\n",
       "      <td>DS</td>\n",
       "      <td>purpose of the role this role of a data scient...</td>\n",
       "    </tr>\n",
       "    <tr>\n",
       "      <th>1</th>\n",
       "      <td>Work cross-functionally with business managers...</td>\n",
       "      <td>95a6064e4ea39071</td>\n",
       "      <td>Data Scientist</td>\n",
       "      <td>DS</td>\n",
       "      <td>work cross functionally with business managers...</td>\n",
       "    </tr>\n",
       "    <tr>\n",
       "      <th>2</th>\n",
       "      <td>Serve as primary source of data insights suppo...</td>\n",
       "      <td>dc9137eaa6d7040a</td>\n",
       "      <td>Data Scientist</td>\n",
       "      <td>DS</td>\n",
       "      <td>serve as primary source of data insights suppo...</td>\n",
       "    </tr>\n",
       "    <tr>\n",
       "      <th>3</th>\n",
       "      <td>Big data, artificial intelligence and advanced...</td>\n",
       "      <td>8401de1b34480359</td>\n",
       "      <td>Data Scientist</td>\n",
       "      <td>DS</td>\n",
       "      <td>big data  artificial intelligence and advanced...</td>\n",
       "    </tr>\n",
       "    <tr>\n",
       "      <th>4</th>\n",
       "      <td>As the innovation leader in the logistics indu...</td>\n",
       "      <td>eb0952cd8bad461b</td>\n",
       "      <td>Data Scientist</td>\n",
       "      <td>DS</td>\n",
       "      <td>as the innovation leader in the logistics indu...</td>\n",
       "    </tr>\n",
       "  </tbody>\n",
       "</table>\n",
       "</div>"
      ],
      "text/plain": [
       "                                         description                id  \\\n",
       "0  PURPOSE OF THE ROLE\\nThis role of a data scien...  21a0e80107ccbbc3   \n",
       "1  Work cross-functionally with business managers...  95a6064e4ea39071   \n",
       "2  Serve as primary source of data insights suppo...  dc9137eaa6d7040a   \n",
       "3  Big data, artificial intelligence and advanced...  8401de1b34480359   \n",
       "4  As the innovation leader in the logistics indu...  eb0952cd8bad461b   \n",
       "\n",
       "            title label                                              clean  \n",
       "0  Data Scientist    DS  purpose of the role this role of a data scient...  \n",
       "1  Data Scientist    DS  work cross functionally with business managers...  \n",
       "2  Data Scientist    DS  serve as primary source of data insights suppo...  \n",
       "3  Data Scientist    DS  big data  artificial intelligence and advanced...  \n",
       "4  Data Scientist    DS  as the innovation leader in the logistics indu...  "
      ]
     },
     "execution_count": 79,
     "metadata": {},
     "output_type": "execute_result"
    }
   ],
   "source": [
    "ds_vs_others.head()"
   ]
  },
  {
   "cell_type": "code",
   "execution_count": 80,
   "metadata": {},
   "outputs": [
    {
     "data": {
      "text/html": [
       "<div>\n",
       "<style scoped>\n",
       "    .dataframe tbody tr th:only-of-type {\n",
       "        vertical-align: middle;\n",
       "    }\n",
       "\n",
       "    .dataframe tbody tr th {\n",
       "        vertical-align: top;\n",
       "    }\n",
       "\n",
       "    .dataframe thead th {\n",
       "        text-align: right;\n",
       "    }\n",
       "</style>\n",
       "<table border=\"1\" class=\"dataframe\">\n",
       "  <thead>\n",
       "    <tr style=\"text-align: right;\">\n",
       "      <th></th>\n",
       "      <th>description</th>\n",
       "      <th>id</th>\n",
       "      <th>title</th>\n",
       "      <th>label</th>\n",
       "      <th>clean</th>\n",
       "    </tr>\n",
       "  </thead>\n",
       "  <tbody>\n",
       "    <tr>\n",
       "      <th>0</th>\n",
       "      <td>What is the job ?\\n\\n\\nThe role will involve m...</td>\n",
       "      <td>59df81c8a00dc826</td>\n",
       "      <td>Junior Data Analyst</td>\n",
       "      <td>Jr</td>\n",
       "      <td>what is the job     the role will involve main...</td>\n",
       "    </tr>\n",
       "    <tr>\n",
       "      <th>1</th>\n",
       "      <td>About the Business Analyst position\\n\\nWe are ...</td>\n",
       "      <td>97326f6a06a4d7dc</td>\n",
       "      <td>Business Analyst/Junior PM</td>\n",
       "      <td>Jr</td>\n",
       "      <td>about the business analyst position  we are lo...</td>\n",
       "    </tr>\n",
       "    <tr>\n",
       "      <th>2</th>\n",
       "      <td>Contribute to the Revenue Optimization departm...</td>\n",
       "      <td>b3410677f90d5db2</td>\n",
       "      <td>Associate Analyst/Analyst, Analytics</td>\n",
       "      <td>Jr</td>\n",
       "      <td>contribute to the revenue optimization departm...</td>\n",
       "    </tr>\n",
       "    <tr>\n",
       "      <th>3</th>\n",
       "      <td>BlackRock helps investors build better financi...</td>\n",
       "      <td>d40e45e6c5c014ad</td>\n",
       "      <td>Data Implementation, Associate</td>\n",
       "      <td>Jr</td>\n",
       "      <td>blackrock helps investors build better financi...</td>\n",
       "    </tr>\n",
       "    <tr>\n",
       "      <th>4</th>\n",
       "      <td>The Company\\nWillis Towers Watson is a leading...</td>\n",
       "      <td>ea2518a4ebd725fd</td>\n",
       "      <td>Analyst - Executive Compensation, Singapore</td>\n",
       "      <td>Jr</td>\n",
       "      <td>the company willis towers watson is a leading ...</td>\n",
       "    </tr>\n",
       "  </tbody>\n",
       "</table>\n",
       "</div>"
      ],
      "text/plain": [
       "                                         description                id  \\\n",
       "0  What is the job ?\\n\\n\\nThe role will involve m...  59df81c8a00dc826   \n",
       "1  About the Business Analyst position\\n\\nWe are ...  97326f6a06a4d7dc   \n",
       "2  Contribute to the Revenue Optimization departm...  b3410677f90d5db2   \n",
       "3  BlackRock helps investors build better financi...  d40e45e6c5c014ad   \n",
       "4  The Company\\nWillis Towers Watson is a leading...  ea2518a4ebd725fd   \n",
       "\n",
       "                                         title label  \\\n",
       "0                          Junior Data Analyst    Jr   \n",
       "1                   Business Analyst/Junior PM    Jr   \n",
       "2         Associate Analyst/Analyst, Analytics    Jr   \n",
       "3               Data Implementation, Associate    Jr   \n",
       "4  Analyst - Executive Compensation, Singapore    Jr   \n",
       "\n",
       "                                               clean  \n",
       "0  what is the job     the role will involve main...  \n",
       "1  about the business analyst position  we are lo...  \n",
       "2  contribute to the revenue optimization departm...  \n",
       "3  blackrock helps investors build better financi...  \n",
       "4  the company willis towers watson is a leading ...  "
      ]
     },
     "execution_count": 80,
     "metadata": {},
     "output_type": "execute_result"
    }
   ],
   "source": [
    "jr_vs_sr.head()"
   ]
  },
  {
   "cell_type": "code",
   "execution_count": 81,
   "metadata": {},
   "outputs": [
    {
     "name": "stdout",
     "output_type": "stream",
     "text": [
      "<class 'pandas.core.frame.DataFrame'>\n",
      "RangeIndex: 79 entries, 0 to 78\n",
      "Data columns (total 5 columns):\n",
      "description    79 non-null object\n",
      "id             79 non-null object\n",
      "title          79 non-null object\n",
      "label          79 non-null object\n",
      "clean          79 non-null object\n",
      "dtypes: object(5)\n",
      "memory usage: 3.2+ KB\n"
     ]
    }
   ],
   "source": [
    "ds_vs_others.info()"
   ]
  },
  {
   "cell_type": "code",
   "execution_count": 82,
   "metadata": {},
   "outputs": [
    {
     "name": "stdout",
     "output_type": "stream",
     "text": [
      "<class 'pandas.core.frame.DataFrame'>\n",
      "RangeIndex: 299 entries, 0 to 298\n",
      "Data columns (total 5 columns):\n",
      "description    299 non-null object\n",
      "id             299 non-null object\n",
      "title          299 non-null object\n",
      "label          299 non-null object\n",
      "clean          299 non-null object\n",
      "dtypes: object(5)\n",
      "memory usage: 11.8+ KB\n"
     ]
    }
   ],
   "source": [
    "jr_vs_sr.info()"
   ]
  },
  {
   "cell_type": "markdown",
   "metadata": {},
   "source": [
    "In total I have 79 data points to train my first randomforest classifier. I then have 299 to classify senior vs junior. Bearing in mind that there might be overlaps in these two datasets even, I will assume there aren't any, and this means that I will be training on 79+299 = 378 data points. Which leaves me about 1000 rows to test on. "
   ]
  },
  {
   "cell_type": "code",
   "execution_count": 83,
   "metadata": {},
   "outputs": [],
   "source": [
    "# Remove all those ids not in either jr_vs_sr or ds_vs_others tables\n",
    "\n",
    "Xsalary_test = df[~df['id'].isin(ds_vs_others['id'])].copy()\n",
    "Xsalary_test = df[~df['id'].isin(jr_vs_sr['id'])].copy()"
   ]
  },
  {
   "cell_type": "code",
   "execution_count": 84,
   "metadata": {},
   "outputs": [
    {
     "name": "stdout",
     "output_type": "stream",
     "text": [
      "<class 'pandas.core.frame.DataFrame'>\n",
      "Int64Index: 1086 entries, 0 to 1372\n",
      "Data columns (total 3 columns):\n",
      "description    1086 non-null object\n",
      "id             1086 non-null object\n",
      "title          1086 non-null object\n",
      "dtypes: object(3)\n",
      "memory usage: 33.9+ KB\n"
     ]
    }
   ],
   "source": [
    "Xsalary_test.info()"
   ]
  },
  {
   "cell_type": "code",
   "execution_count": 85,
   "metadata": {},
   "outputs": [
    {
     "data": {
      "text/html": [
       "<div>\n",
       "<style scoped>\n",
       "    .dataframe tbody tr th:only-of-type {\n",
       "        vertical-align: middle;\n",
       "    }\n",
       "\n",
       "    .dataframe tbody tr th {\n",
       "        vertical-align: top;\n",
       "    }\n",
       "\n",
       "    .dataframe thead th {\n",
       "        text-align: right;\n",
       "    }\n",
       "</style>\n",
       "<table border=\"1\" class=\"dataframe\">\n",
       "  <thead>\n",
       "    <tr style=\"text-align: right;\">\n",
       "      <th></th>\n",
       "      <th>description</th>\n",
       "      <th>id</th>\n",
       "      <th>title</th>\n",
       "    </tr>\n",
       "  </thead>\n",
       "  <tbody>\n",
       "    <tr>\n",
       "      <th>0</th>\n",
       "      <td>Dubbed “The Most Innovative Streaming Video Se...</td>\n",
       "      <td>2abc0718a6987824</td>\n",
       "      <td>Data Analyst</td>\n",
       "    </tr>\n",
       "    <tr>\n",
       "      <th>1</th>\n",
       "      <td>Title: Data Analyst\\n\\nRole:\\n\\nReporting to t...</td>\n",
       "      <td>c95dd846041ca1c5</td>\n",
       "      <td>Data Analyst</td>\n",
       "    </tr>\n",
       "    <tr>\n",
       "      <th>3</th>\n",
       "      <td>Data Analyst - (180000E0)\\nDescription\\n\\nUnde...</td>\n",
       "      <td>6d9971d09cb788a6</td>\n",
       "      <td>Data Analyst</td>\n",
       "    </tr>\n",
       "    <tr>\n",
       "      <th>4</th>\n",
       "      <td>Your Responsibilities :\\n\\nThe Role\\n\\n\\nIn th...</td>\n",
       "      <td>b4c4860763098784</td>\n",
       "      <td>Data Insights Analyst</td>\n",
       "    </tr>\n",
       "    <tr>\n",
       "      <th>5</th>\n",
       "      <td>Mastercard is continuing our growth momentum i...</td>\n",
       "      <td>4fa8672c4820336f</td>\n",
       "      <td>Strategy and Operations Analyst</td>\n",
       "    </tr>\n",
       "  </tbody>\n",
       "</table>\n",
       "</div>"
      ],
      "text/plain": [
       "                                         description                id  \\\n",
       "0  Dubbed “The Most Innovative Streaming Video Se...  2abc0718a6987824   \n",
       "1  Title: Data Analyst\\n\\nRole:\\n\\nReporting to t...  c95dd846041ca1c5   \n",
       "3  Data Analyst - (180000E0)\\nDescription\\n\\nUnde...  6d9971d09cb788a6   \n",
       "4  Your Responsibilities :\\n\\nThe Role\\n\\n\\nIn th...  b4c4860763098784   \n",
       "5  Mastercard is continuing our growth momentum i...  4fa8672c4820336f   \n",
       "\n",
       "                             title  \n",
       "0                     Data Analyst  \n",
       "1                     Data Analyst  \n",
       "3                     Data Analyst  \n",
       "4            Data Insights Analyst  \n",
       "5  Strategy and Operations Analyst  "
      ]
     },
     "execution_count": 85,
     "metadata": {},
     "output_type": "execute_result"
    }
   ],
   "source": [
    "Xsalary_test.head()"
   ]
  },
  {
   "cell_type": "code",
   "execution_count": 86,
   "metadata": {},
   "outputs": [],
   "source": [
    "Xsalary_test['clean'] = Xsalary_test['description'].apply(lambda x: re.sub(\"[^a-zA-Z]\", \" \", x).lower())"
   ]
  },
  {
   "cell_type": "code",
   "execution_count": 87,
   "metadata": {},
   "outputs": [
    {
     "data": {
      "text/html": [
       "<div>\n",
       "<style scoped>\n",
       "    .dataframe tbody tr th:only-of-type {\n",
       "        vertical-align: middle;\n",
       "    }\n",
       "\n",
       "    .dataframe tbody tr th {\n",
       "        vertical-align: top;\n",
       "    }\n",
       "\n",
       "    .dataframe thead th {\n",
       "        text-align: right;\n",
       "    }\n",
       "</style>\n",
       "<table border=\"1\" class=\"dataframe\">\n",
       "  <thead>\n",
       "    <tr style=\"text-align: right;\">\n",
       "      <th></th>\n",
       "      <th>description</th>\n",
       "      <th>id</th>\n",
       "      <th>title</th>\n",
       "      <th>clean</th>\n",
       "    </tr>\n",
       "  </thead>\n",
       "  <tbody>\n",
       "    <tr>\n",
       "      <th>0</th>\n",
       "      <td>Dubbed “The Most Innovative Streaming Video Se...</td>\n",
       "      <td>2abc0718a6987824</td>\n",
       "      <td>Data Analyst</td>\n",
       "      <td>dubbed  the most innovative streaming video se...</td>\n",
       "    </tr>\n",
       "    <tr>\n",
       "      <th>1</th>\n",
       "      <td>Title: Data Analyst\\n\\nRole:\\n\\nReporting to t...</td>\n",
       "      <td>c95dd846041ca1c5</td>\n",
       "      <td>Data Analyst</td>\n",
       "      <td>title  data analyst  role   reporting to the d...</td>\n",
       "    </tr>\n",
       "    <tr>\n",
       "      <th>3</th>\n",
       "      <td>Data Analyst - (180000E0)\\nDescription\\n\\nUnde...</td>\n",
       "      <td>6d9971d09cb788a6</td>\n",
       "      <td>Data Analyst</td>\n",
       "      <td>data analyst          e   description  underst...</td>\n",
       "    </tr>\n",
       "    <tr>\n",
       "      <th>4</th>\n",
       "      <td>Your Responsibilities :\\n\\nThe Role\\n\\n\\nIn th...</td>\n",
       "      <td>b4c4860763098784</td>\n",
       "      <td>Data Insights Analyst</td>\n",
       "      <td>your responsibilities    the role   in this ne...</td>\n",
       "    </tr>\n",
       "    <tr>\n",
       "      <th>5</th>\n",
       "      <td>Mastercard is continuing our growth momentum i...</td>\n",
       "      <td>4fa8672c4820336f</td>\n",
       "      <td>Strategy and Operations Analyst</td>\n",
       "      <td>mastercard is continuing our growth momentum i...</td>\n",
       "    </tr>\n",
       "  </tbody>\n",
       "</table>\n",
       "</div>"
      ],
      "text/plain": [
       "                                         description                id  \\\n",
       "0  Dubbed “The Most Innovative Streaming Video Se...  2abc0718a6987824   \n",
       "1  Title: Data Analyst\\n\\nRole:\\n\\nReporting to t...  c95dd846041ca1c5   \n",
       "3  Data Analyst - (180000E0)\\nDescription\\n\\nUnde...  6d9971d09cb788a6   \n",
       "4  Your Responsibilities :\\n\\nThe Role\\n\\n\\nIn th...  b4c4860763098784   \n",
       "5  Mastercard is continuing our growth momentum i...  4fa8672c4820336f   \n",
       "\n",
       "                             title  \\\n",
       "0                     Data Analyst   \n",
       "1                     Data Analyst   \n",
       "3                     Data Analyst   \n",
       "4            Data Insights Analyst   \n",
       "5  Strategy and Operations Analyst   \n",
       "\n",
       "                                               clean  \n",
       "0  dubbed  the most innovative streaming video se...  \n",
       "1  title  data analyst  role   reporting to the d...  \n",
       "3  data analyst          e   description  underst...  \n",
       "4  your responsibilities    the role   in this ne...  \n",
       "5  mastercard is continuing our growth momentum i...  "
      ]
     },
     "execution_count": 87,
     "metadata": {},
     "output_type": "execute_result"
    }
   ],
   "source": [
    "Xsalary_test.head()"
   ]
  },
  {
   "cell_type": "code",
   "execution_count": 88,
   "metadata": {},
   "outputs": [],
   "source": [
    "X_ds = ds_vs_others['clean']\n",
    "y_ds = ds_vs_others['label']\n",
    "\n",
    "X_sr = jr_vs_sr['clean']\n",
    "y_sr = jr_vs_sr['label']"
   ]
  },
  {
   "cell_type": "code",
   "execution_count": 89,
   "metadata": {},
   "outputs": [],
   "source": [
    "# Bring in the best model for DS vs others.\n",
    "pipe = Pipeline([\n",
    "    ('vectorizer', TfidfVectorizer(stop_words=stop_words1, ngram_range=(1,2))),\n",
    "    ('clf', GradientBoostingClassifier(random_state=42))\n",
    "])\n",
    "\n",
    "model = pipe.fit(X_ds, y_ds)"
   ]
  },
  {
   "cell_type": "code",
   "execution_count": 90,
   "metadata": {},
   "outputs": [],
   "source": [
    "ds_pred = model.predict(Xsalary_test['clean'])\n",
    "Xsalary_test['is_DS'] = ds_pred"
   ]
  },
  {
   "cell_type": "code",
   "execution_count": 91,
   "metadata": {},
   "outputs": [
    {
     "data": {
      "text/html": [
       "<div>\n",
       "<style scoped>\n",
       "    .dataframe tbody tr th:only-of-type {\n",
       "        vertical-align: middle;\n",
       "    }\n",
       "\n",
       "    .dataframe tbody tr th {\n",
       "        vertical-align: top;\n",
       "    }\n",
       "\n",
       "    .dataframe thead th {\n",
       "        text-align: right;\n",
       "    }\n",
       "</style>\n",
       "<table border=\"1\" class=\"dataframe\">\n",
       "  <thead>\n",
       "    <tr style=\"text-align: right;\">\n",
       "      <th></th>\n",
       "      <th>description</th>\n",
       "      <th>id</th>\n",
       "      <th>title</th>\n",
       "      <th>clean</th>\n",
       "      <th>is_DS</th>\n",
       "    </tr>\n",
       "  </thead>\n",
       "  <tbody>\n",
       "    <tr>\n",
       "      <th>0</th>\n",
       "      <td>Dubbed “The Most Innovative Streaming Video Se...</td>\n",
       "      <td>2abc0718a6987824</td>\n",
       "      <td>Data Analyst</td>\n",
       "      <td>dubbed  the most innovative streaming video se...</td>\n",
       "      <td>DA</td>\n",
       "    </tr>\n",
       "    <tr>\n",
       "      <th>1</th>\n",
       "      <td>Title: Data Analyst\\n\\nRole:\\n\\nReporting to t...</td>\n",
       "      <td>c95dd846041ca1c5</td>\n",
       "      <td>Data Analyst</td>\n",
       "      <td>title  data analyst  role   reporting to the d...</td>\n",
       "      <td>DA</td>\n",
       "    </tr>\n",
       "    <tr>\n",
       "      <th>3</th>\n",
       "      <td>Data Analyst - (180000E0)\\nDescription\\n\\nUnde...</td>\n",
       "      <td>6d9971d09cb788a6</td>\n",
       "      <td>Data Analyst</td>\n",
       "      <td>data analyst          e   description  underst...</td>\n",
       "      <td>DA</td>\n",
       "    </tr>\n",
       "    <tr>\n",
       "      <th>4</th>\n",
       "      <td>Your Responsibilities :\\n\\nThe Role\\n\\n\\nIn th...</td>\n",
       "      <td>b4c4860763098784</td>\n",
       "      <td>Data Insights Analyst</td>\n",
       "      <td>your responsibilities    the role   in this ne...</td>\n",
       "      <td>DS</td>\n",
       "    </tr>\n",
       "    <tr>\n",
       "      <th>5</th>\n",
       "      <td>Mastercard is continuing our growth momentum i...</td>\n",
       "      <td>4fa8672c4820336f</td>\n",
       "      <td>Strategy and Operations Analyst</td>\n",
       "      <td>mastercard is continuing our growth momentum i...</td>\n",
       "      <td>DA</td>\n",
       "    </tr>\n",
       "  </tbody>\n",
       "</table>\n",
       "</div>"
      ],
      "text/plain": [
       "                                         description                id  \\\n",
       "0  Dubbed “The Most Innovative Streaming Video Se...  2abc0718a6987824   \n",
       "1  Title: Data Analyst\\n\\nRole:\\n\\nReporting to t...  c95dd846041ca1c5   \n",
       "3  Data Analyst - (180000E0)\\nDescription\\n\\nUnde...  6d9971d09cb788a6   \n",
       "4  Your Responsibilities :\\n\\nThe Role\\n\\n\\nIn th...  b4c4860763098784   \n",
       "5  Mastercard is continuing our growth momentum i...  4fa8672c4820336f   \n",
       "\n",
       "                             title  \\\n",
       "0                     Data Analyst   \n",
       "1                     Data Analyst   \n",
       "3                     Data Analyst   \n",
       "4            Data Insights Analyst   \n",
       "5  Strategy and Operations Analyst   \n",
       "\n",
       "                                               clean is_DS  \n",
       "0  dubbed  the most innovative streaming video se...    DA  \n",
       "1  title  data analyst  role   reporting to the d...    DA  \n",
       "3  data analyst          e   description  underst...    DA  \n",
       "4  your responsibilities    the role   in this ne...    DS  \n",
       "5  mastercard is continuing our growth momentum i...    DA  "
      ]
     },
     "execution_count": 91,
     "metadata": {},
     "output_type": "execute_result"
    }
   ],
   "source": [
    "Xsalary_test.head()"
   ]
  },
  {
   "cell_type": "code",
   "execution_count": 92,
   "metadata": {},
   "outputs": [],
   "source": [
    "# Best model for Jr vs Sr\n",
    "\n",
    "pipe = Pipeline([\n",
    "    ('vectorizer', TfidfVectorizer(stop_words=stop_words2, ngram_range=(1,2), max_df=0.6)),\n",
    "    ('clf', GradientBoostingClassifier(random_state=42))\n",
    "])\n",
    "\n",
    "model = pipe.fit(X_sr, y_sr)"
   ]
  },
  {
   "cell_type": "code",
   "execution_count": 93,
   "metadata": {},
   "outputs": [],
   "source": [
    "sr_pred = model.predict(Xsalary_test['clean'])\n",
    "Xsalary_test['is_Sr'] = sr_pred"
   ]
  },
  {
   "cell_type": "code",
   "execution_count": 94,
   "metadata": {},
   "outputs": [
    {
     "data": {
      "text/html": [
       "<div>\n",
       "<style scoped>\n",
       "    .dataframe tbody tr th:only-of-type {\n",
       "        vertical-align: middle;\n",
       "    }\n",
       "\n",
       "    .dataframe tbody tr th {\n",
       "        vertical-align: top;\n",
       "    }\n",
       "\n",
       "    .dataframe thead th {\n",
       "        text-align: right;\n",
       "    }\n",
       "</style>\n",
       "<table border=\"1\" class=\"dataframe\">\n",
       "  <thead>\n",
       "    <tr style=\"text-align: right;\">\n",
       "      <th></th>\n",
       "      <th>description</th>\n",
       "      <th>id</th>\n",
       "      <th>title</th>\n",
       "      <th>clean</th>\n",
       "      <th>is_DS</th>\n",
       "      <th>is_Sr</th>\n",
       "    </tr>\n",
       "  </thead>\n",
       "  <tbody>\n",
       "    <tr>\n",
       "      <th>0</th>\n",
       "      <td>Dubbed “The Most Innovative Streaming Video Se...</td>\n",
       "      <td>2abc0718a6987824</td>\n",
       "      <td>Data Analyst</td>\n",
       "      <td>dubbed  the most innovative streaming video se...</td>\n",
       "      <td>DA</td>\n",
       "      <td>Jr</td>\n",
       "    </tr>\n",
       "    <tr>\n",
       "      <th>1</th>\n",
       "      <td>Title: Data Analyst\\n\\nRole:\\n\\nReporting to t...</td>\n",
       "      <td>c95dd846041ca1c5</td>\n",
       "      <td>Data Analyst</td>\n",
       "      <td>title  data analyst  role   reporting to the d...</td>\n",
       "      <td>DA</td>\n",
       "      <td>Sr</td>\n",
       "    </tr>\n",
       "    <tr>\n",
       "      <th>3</th>\n",
       "      <td>Data Analyst - (180000E0)\\nDescription\\n\\nUnde...</td>\n",
       "      <td>6d9971d09cb788a6</td>\n",
       "      <td>Data Analyst</td>\n",
       "      <td>data analyst          e   description  underst...</td>\n",
       "      <td>DA</td>\n",
       "      <td>Sr</td>\n",
       "    </tr>\n",
       "    <tr>\n",
       "      <th>4</th>\n",
       "      <td>Your Responsibilities :\\n\\nThe Role\\n\\n\\nIn th...</td>\n",
       "      <td>b4c4860763098784</td>\n",
       "      <td>Data Insights Analyst</td>\n",
       "      <td>your responsibilities    the role   in this ne...</td>\n",
       "      <td>DS</td>\n",
       "      <td>Jr</td>\n",
       "    </tr>\n",
       "    <tr>\n",
       "      <th>5</th>\n",
       "      <td>Mastercard is continuing our growth momentum i...</td>\n",
       "      <td>4fa8672c4820336f</td>\n",
       "      <td>Strategy and Operations Analyst</td>\n",
       "      <td>mastercard is continuing our growth momentum i...</td>\n",
       "      <td>DA</td>\n",
       "      <td>Sr</td>\n",
       "    </tr>\n",
       "  </tbody>\n",
       "</table>\n",
       "</div>"
      ],
      "text/plain": [
       "                                         description                id  \\\n",
       "0  Dubbed “The Most Innovative Streaming Video Se...  2abc0718a6987824   \n",
       "1  Title: Data Analyst\\n\\nRole:\\n\\nReporting to t...  c95dd846041ca1c5   \n",
       "3  Data Analyst - (180000E0)\\nDescription\\n\\nUnde...  6d9971d09cb788a6   \n",
       "4  Your Responsibilities :\\n\\nThe Role\\n\\n\\nIn th...  b4c4860763098784   \n",
       "5  Mastercard is continuing our growth momentum i...  4fa8672c4820336f   \n",
       "\n",
       "                             title  \\\n",
       "0                     Data Analyst   \n",
       "1                     Data Analyst   \n",
       "3                     Data Analyst   \n",
       "4            Data Insights Analyst   \n",
       "5  Strategy and Operations Analyst   \n",
       "\n",
       "                                               clean is_DS is_Sr  \n",
       "0  dubbed  the most innovative streaming video se...    DA    Jr  \n",
       "1  title  data analyst  role   reporting to the d...    DA    Sr  \n",
       "3  data analyst          e   description  underst...    DA    Sr  \n",
       "4  your responsibilities    the role   in this ne...    DS    Jr  \n",
       "5  mastercard is continuing our growth momentum i...    DA    Sr  "
      ]
     },
     "execution_count": 94,
     "metadata": {},
     "output_type": "execute_result"
    }
   ],
   "source": [
    "Xsalary_test.head()"
   ]
  },
  {
   "cell_type": "code",
   "execution_count": 95,
   "metadata": {},
   "outputs": [
    {
     "data": {
      "text/plain": [
       "DA    744\n",
       "DS    246\n",
       "DE     96\n",
       "Name: is_DS, dtype: int64"
      ]
     },
     "execution_count": 95,
     "metadata": {},
     "output_type": "execute_result"
    }
   ],
   "source": [
    "Xsalary_test['is_DS'].value_counts()"
   ]
  },
  {
   "cell_type": "code",
   "execution_count": 96,
   "metadata": {},
   "outputs": [
    {
     "data": {
      "text/plain": [
       "Sr    850\n",
       "Jr    236\n",
       "Name: is_Sr, dtype: int64"
      ]
     },
     "execution_count": 96,
     "metadata": {},
     "output_type": "execute_result"
    }
   ],
   "source": [
    "Xsalary_test['is_Sr'].value_counts()"
   ]
  },
  {
   "cell_type": "code",
   "execution_count": 97,
   "metadata": {},
   "outputs": [
    {
     "data": {
      "text/plain": [
       "Sr    78\n",
       "Jr    18\n",
       "Name: is_Sr, dtype: int64"
      ]
     },
     "execution_count": 97,
     "metadata": {},
     "output_type": "execute_result"
    }
   ],
   "source": [
    "Xsalary_test[(Xsalary_test['is_DS']=='DE')]['is_Sr'].value_counts()"
   ]
  },
  {
   "cell_type": "code",
   "execution_count": 98,
   "metadata": {},
   "outputs": [],
   "source": [
    "m1 = Xsalary_test['is_DS'] == 'DS'\n",
    "m2 = Xsalary_test['is_DS'] == 'DA'\n",
    "m3 = Xsalary_test['is_DS'] == 'DE'\n",
    "\n",
    "m4 = Xsalary_test['is_Sr'] == 'Sr'\n",
    "m5 = Xsalary_test['is_Sr'] == 'Jr'"
   ]
  },
  {
   "cell_type": "code",
   "execution_count": 99,
   "metadata": {},
   "outputs": [],
   "source": [
    "Xsalary_test['salary'] = 0"
   ]
  },
  {
   "cell_type": "code",
   "execution_count": 100,
   "metadata": {},
   "outputs": [],
   "source": [
    "Xsalary_test.loc[m1 & m4, 'salary'] = 136783 # Senior DS roles\n",
    "Xsalary_test.loc[m1 & m5, 'salary'] = 59480 # Junior DS roles\n",
    "\n",
    "Xsalary_test.loc[m2 & m4, 'salary'] = 59480 # Senior DA roles\n",
    "Xsalary_test.loc[m2 & m5, 'salary'] = 77998 # Junior DA roles\n",
    "\n",
    "Xsalary_test.loc[m3 & m4, 'salary'] = 100000 # Senior DE roles\n",
    "Xsalary_test.loc[m3 & m5, 'salary'] = 60606 # Junior DE roles"
   ]
  },
  {
   "cell_type": "code",
   "execution_count": 101,
   "metadata": {},
   "outputs": [
    {
     "data": {
      "text/html": [
       "<div>\n",
       "<style scoped>\n",
       "    .dataframe tbody tr th:only-of-type {\n",
       "        vertical-align: middle;\n",
       "    }\n",
       "\n",
       "    .dataframe tbody tr th {\n",
       "        vertical-align: top;\n",
       "    }\n",
       "\n",
       "    .dataframe thead th {\n",
       "        text-align: right;\n",
       "    }\n",
       "</style>\n",
       "<table border=\"1\" class=\"dataframe\">\n",
       "  <thead>\n",
       "    <tr style=\"text-align: right;\">\n",
       "      <th></th>\n",
       "      <th>description</th>\n",
       "      <th>id</th>\n",
       "      <th>title</th>\n",
       "      <th>clean</th>\n",
       "      <th>is_DS</th>\n",
       "      <th>is_Sr</th>\n",
       "      <th>salary</th>\n",
       "    </tr>\n",
       "  </thead>\n",
       "  <tbody>\n",
       "    <tr>\n",
       "      <th>0</th>\n",
       "      <td>Dubbed “The Most Innovative Streaming Video Se...</td>\n",
       "      <td>2abc0718a6987824</td>\n",
       "      <td>Data Analyst</td>\n",
       "      <td>dubbed  the most innovative streaming video se...</td>\n",
       "      <td>DA</td>\n",
       "      <td>Jr</td>\n",
       "      <td>77998</td>\n",
       "    </tr>\n",
       "    <tr>\n",
       "      <th>1</th>\n",
       "      <td>Title: Data Analyst\\n\\nRole:\\n\\nReporting to t...</td>\n",
       "      <td>c95dd846041ca1c5</td>\n",
       "      <td>Data Analyst</td>\n",
       "      <td>title  data analyst  role   reporting to the d...</td>\n",
       "      <td>DA</td>\n",
       "      <td>Sr</td>\n",
       "      <td>59480</td>\n",
       "    </tr>\n",
       "    <tr>\n",
       "      <th>3</th>\n",
       "      <td>Data Analyst - (180000E0)\\nDescription\\n\\nUnde...</td>\n",
       "      <td>6d9971d09cb788a6</td>\n",
       "      <td>Data Analyst</td>\n",
       "      <td>data analyst          e   description  underst...</td>\n",
       "      <td>DA</td>\n",
       "      <td>Sr</td>\n",
       "      <td>59480</td>\n",
       "    </tr>\n",
       "    <tr>\n",
       "      <th>4</th>\n",
       "      <td>Your Responsibilities :\\n\\nThe Role\\n\\n\\nIn th...</td>\n",
       "      <td>b4c4860763098784</td>\n",
       "      <td>Data Insights Analyst</td>\n",
       "      <td>your responsibilities    the role   in this ne...</td>\n",
       "      <td>DS</td>\n",
       "      <td>Jr</td>\n",
       "      <td>59480</td>\n",
       "    </tr>\n",
       "    <tr>\n",
       "      <th>5</th>\n",
       "      <td>Mastercard is continuing our growth momentum i...</td>\n",
       "      <td>4fa8672c4820336f</td>\n",
       "      <td>Strategy and Operations Analyst</td>\n",
       "      <td>mastercard is continuing our growth momentum i...</td>\n",
       "      <td>DA</td>\n",
       "      <td>Sr</td>\n",
       "      <td>59480</td>\n",
       "    </tr>\n",
       "  </tbody>\n",
       "</table>\n",
       "</div>"
      ],
      "text/plain": [
       "                                         description                id  \\\n",
       "0  Dubbed “The Most Innovative Streaming Video Se...  2abc0718a6987824   \n",
       "1  Title: Data Analyst\\n\\nRole:\\n\\nReporting to t...  c95dd846041ca1c5   \n",
       "3  Data Analyst - (180000E0)\\nDescription\\n\\nUnde...  6d9971d09cb788a6   \n",
       "4  Your Responsibilities :\\n\\nThe Role\\n\\n\\nIn th...  b4c4860763098784   \n",
       "5  Mastercard is continuing our growth momentum i...  4fa8672c4820336f   \n",
       "\n",
       "                             title  \\\n",
       "0                     Data Analyst   \n",
       "1                     Data Analyst   \n",
       "3                     Data Analyst   \n",
       "4            Data Insights Analyst   \n",
       "5  Strategy and Operations Analyst   \n",
       "\n",
       "                                               clean is_DS is_Sr  salary  \n",
       "0  dubbed  the most innovative streaming video se...    DA    Jr   77998  \n",
       "1  title  data analyst  role   reporting to the d...    DA    Sr   59480  \n",
       "3  data analyst          e   description  underst...    DA    Sr   59480  \n",
       "4  your responsibilities    the role   in this ne...    DS    Jr   59480  \n",
       "5  mastercard is continuing our growth momentum i...    DA    Sr   59480  "
      ]
     },
     "execution_count": 101,
     "metadata": {},
     "output_type": "execute_result"
    }
   ],
   "source": [
    "Xsalary_test.head()"
   ]
  },
  {
   "cell_type": "code",
   "execution_count": 102,
   "metadata": {},
   "outputs": [
    {
     "data": {
      "text/html": [
       "<div>\n",
       "<style scoped>\n",
       "    .dataframe tbody tr th:only-of-type {\n",
       "        vertical-align: middle;\n",
       "    }\n",
       "\n",
       "    .dataframe tbody tr th {\n",
       "        vertical-align: top;\n",
       "    }\n",
       "\n",
       "    .dataframe thead th {\n",
       "        text-align: right;\n",
       "    }\n",
       "</style>\n",
       "<table border=\"1\" class=\"dataframe\">\n",
       "  <thead>\n",
       "    <tr style=\"text-align: right;\">\n",
       "      <th></th>\n",
       "      <th>description</th>\n",
       "      <th>id</th>\n",
       "      <th>title</th>\n",
       "      <th>clean</th>\n",
       "      <th>is_DS</th>\n",
       "      <th>is_Sr</th>\n",
       "      <th>salary</th>\n",
       "    </tr>\n",
       "  </thead>\n",
       "  <tbody>\n",
       "    <tr>\n",
       "      <th>33</th>\n",
       "      <td>Job Description:\\nWork with business analysts ...</td>\n",
       "      <td>5d896e46d99cf956</td>\n",
       "      <td>Data Quality Developer</td>\n",
       "      <td>job description  work with business analysts a...</td>\n",
       "      <td>DE</td>\n",
       "      <td>Jr</td>\n",
       "      <td>60606</td>\n",
       "    </tr>\n",
       "    <tr>\n",
       "      <th>160</th>\n",
       "      <td>About J.P. Morgan Chase &amp; Co.\\nJPMorgan Chase ...</td>\n",
       "      <td>e3f8cd00426f8d9e</td>\n",
       "      <td>Corporate - Reference Data Operations - Asset ...</td>\n",
       "      <td>about j p  morgan chase   co  jpmorgan chase  ...</td>\n",
       "      <td>DE</td>\n",
       "      <td>Jr</td>\n",
       "      <td>60606</td>\n",
       "    </tr>\n",
       "    <tr>\n",
       "      <th>182</th>\n",
       "      <td>General information\\n\\nEntity\\nCrédit Agricole...</td>\n",
       "      <td>2518ec0a12e66466</td>\n",
       "      <td>Business Analyst cum Project Manager Referenti...</td>\n",
       "      <td>general information  entity cr dit agricole ci...</td>\n",
       "      <td>DE</td>\n",
       "      <td>Jr</td>\n",
       "      <td>60606</td>\n",
       "    </tr>\n",
       "    <tr>\n",
       "      <th>185</th>\n",
       "      <td>General information\\n\\nEntity\\nCrédit Agricole...</td>\n",
       "      <td>ade5e8a1f51719bf</td>\n",
       "      <td>Project Manager cum Business Analyst</td>\n",
       "      <td>general information  entity cr dit agricole ci...</td>\n",
       "      <td>DE</td>\n",
       "      <td>Jr</td>\n",
       "      <td>60606</td>\n",
       "    </tr>\n",
       "    <tr>\n",
       "      <th>244</th>\n",
       "      <td>General information\\n\\nEntity\\nCrédit Agricole...</td>\n",
       "      <td>fbbbd02a51eb1441</td>\n",
       "      <td>Trainee Officer - Risk and Permanent Control</td>\n",
       "      <td>general information  entity cr dit agricole ci...</td>\n",
       "      <td>DE</td>\n",
       "      <td>Jr</td>\n",
       "      <td>60606</td>\n",
       "    </tr>\n",
       "    <tr>\n",
       "      <th>313</th>\n",
       "      <td>Implement state-of-the-art deep learning and m...</td>\n",
       "      <td>b949489fc780e20f</td>\n",
       "      <td>Deep Learning Scientist</td>\n",
       "      <td>implement state of the art deep learning and m...</td>\n",
       "      <td>DE</td>\n",
       "      <td>Jr</td>\n",
       "      <td>60606</td>\n",
       "    </tr>\n",
       "    <tr>\n",
       "      <th>387</th>\n",
       "      <td>JOB DESCRIPTION:\\n\\n\\nAs a Manufacturing Centr...</td>\n",
       "      <td>3c00795c0798846a</td>\n",
       "      <td>BE Data and Systems Engineer</td>\n",
       "      <td>job description    as a manufacturing central ...</td>\n",
       "      <td>DE</td>\n",
       "      <td>Jr</td>\n",
       "      <td>60606</td>\n",
       "    </tr>\n",
       "    <tr>\n",
       "      <th>450</th>\n",
       "      <td>Role Purpose\\n\\n\\nThe role of the Data Enginee...</td>\n",
       "      <td>212f0cbcd29544f6</td>\n",
       "      <td>Data Engineer</td>\n",
       "      <td>role purpose   the role of the data engineer i...</td>\n",
       "      <td>DE</td>\n",
       "      <td>Jr</td>\n",
       "      <td>60606</td>\n",
       "    </tr>\n",
       "    <tr>\n",
       "      <th>451</th>\n",
       "      <td>We are looking for a highly-energetic Data Pla...</td>\n",
       "      <td>af9ecb25d2444b68</td>\n",
       "      <td>Data Platform Engineer - Deep Learning</td>\n",
       "      <td>we are looking for a highly energetic data pla...</td>\n",
       "      <td>DE</td>\n",
       "      <td>Jr</td>\n",
       "      <td>60606</td>\n",
       "    </tr>\n",
       "    <tr>\n",
       "      <th>462</th>\n",
       "      <td>Sephora South East Asia seeks to hire a Lead D...</td>\n",
       "      <td>9af3295860a68dab</td>\n",
       "      <td>Lead Data Engineer</td>\n",
       "      <td>sephora south east asia seeks to hire a lead d...</td>\n",
       "      <td>DE</td>\n",
       "      <td>Jr</td>\n",
       "      <td>60606</td>\n",
       "    </tr>\n",
       "    <tr>\n",
       "      <th>559</th>\n",
       "      <td>Here at Prudential, we understand that success...</td>\n",
       "      <td>61b54cbfbd1f42e2</td>\n",
       "      <td>Data Architect, Application Management</td>\n",
       "      <td>here at prudential  we understand that success...</td>\n",
       "      <td>DE</td>\n",
       "      <td>Jr</td>\n",
       "      <td>60606</td>\n",
       "    </tr>\n",
       "    <tr>\n",
       "      <th>853</th>\n",
       "      <td>Job Description\\nRole Overview\\nAs a customer-...</td>\n",
       "      <td>fcd5910bf9089aa8</td>\n",
       "      <td>Platform Developer - Big Data Engineer</td>\n",
       "      <td>job description role overview as a customer ce...</td>\n",
       "      <td>DE</td>\n",
       "      <td>Jr</td>\n",
       "      <td>60606</td>\n",
       "    </tr>\n",
       "    <tr>\n",
       "      <th>897</th>\n",
       "      <td>This project includes human comfort modelling,...</td>\n",
       "      <td>30abd93714b66588</td>\n",
       "      <td>Research Engineer</td>\n",
       "      <td>this project includes human comfort modelling ...</td>\n",
       "      <td>DE</td>\n",
       "      <td>Jr</td>\n",
       "      <td>60606</td>\n",
       "    </tr>\n",
       "    <tr>\n",
       "      <th>1072</th>\n",
       "      <td>Help empower Cloud platform adoption worldwide...</td>\n",
       "      <td>464968b4986acb66</td>\n",
       "      <td>Cloud Platform Technical Solution Specialist</td>\n",
       "      <td>help empower cloud platform adoption worldwide...</td>\n",
       "      <td>DE</td>\n",
       "      <td>Jr</td>\n",
       "      <td>60606</td>\n",
       "    </tr>\n",
       "    <tr>\n",
       "      <th>1137</th>\n",
       "      <td>Roles &amp; Responsibilities\\nJob Description:\\n\\n...</td>\n",
       "      <td>310ec3eff2064210</td>\n",
       "      <td>Business Analyst - Regulatory Reporting Produc...</td>\n",
       "      <td>roles   responsibilities job description      ...</td>\n",
       "      <td>DE</td>\n",
       "      <td>Jr</td>\n",
       "      <td>60606</td>\n",
       "    </tr>\n",
       "    <tr>\n",
       "      <th>1236</th>\n",
       "      <td>A fast-growing regional online brand in the fi...</td>\n",
       "      <td>a40bc0dd362c54e3</td>\n",
       "      <td>Data Science Engineer</td>\n",
       "      <td>a fast growing regional online brand in the fi...</td>\n",
       "      <td>DE</td>\n",
       "      <td>Jr</td>\n",
       "      <td>60606</td>\n",
       "    </tr>\n",
       "    <tr>\n",
       "      <th>1327</th>\n",
       "      <td>We are looking for a Big Data Engineer happy t...</td>\n",
       "      <td>aa01d33c370665f0</td>\n",
       "      <td>Data Engineer</td>\n",
       "      <td>we are looking for a big data engineer happy t...</td>\n",
       "      <td>DE</td>\n",
       "      <td>Jr</td>\n",
       "      <td>60606</td>\n",
       "    </tr>\n",
       "    <tr>\n",
       "      <th>1368</th>\n",
       "      <td>Roles &amp; Responsibilities\\nHelp empower Cloud p...</td>\n",
       "      <td>d0e5050e00d904d3</td>\n",
       "      <td>Cloud Platform Technical Solution Specialist</td>\n",
       "      <td>roles   responsibilities help empower cloud pl...</td>\n",
       "      <td>DE</td>\n",
       "      <td>Jr</td>\n",
       "      <td>60606</td>\n",
       "    </tr>\n",
       "  </tbody>\n",
       "</table>\n",
       "</div>"
      ],
      "text/plain": [
       "                                            description                id  \\\n",
       "33    Job Description:\\nWork with business analysts ...  5d896e46d99cf956   \n",
       "160   About J.P. Morgan Chase & Co.\\nJPMorgan Chase ...  e3f8cd00426f8d9e   \n",
       "182   General information\\n\\nEntity\\nCrédit Agricole...  2518ec0a12e66466   \n",
       "185   General information\\n\\nEntity\\nCrédit Agricole...  ade5e8a1f51719bf   \n",
       "244   General information\\n\\nEntity\\nCrédit Agricole...  fbbbd02a51eb1441   \n",
       "313   Implement state-of-the-art deep learning and m...  b949489fc780e20f   \n",
       "387   JOB DESCRIPTION:\\n\\n\\nAs a Manufacturing Centr...  3c00795c0798846a   \n",
       "450   Role Purpose\\n\\n\\nThe role of the Data Enginee...  212f0cbcd29544f6   \n",
       "451   We are looking for a highly-energetic Data Pla...  af9ecb25d2444b68   \n",
       "462   Sephora South East Asia seeks to hire a Lead D...  9af3295860a68dab   \n",
       "559   Here at Prudential, we understand that success...  61b54cbfbd1f42e2   \n",
       "853   Job Description\\nRole Overview\\nAs a customer-...  fcd5910bf9089aa8   \n",
       "897   This project includes human comfort modelling,...  30abd93714b66588   \n",
       "1072  Help empower Cloud platform adoption worldwide...  464968b4986acb66   \n",
       "1137  Roles & Responsibilities\\nJob Description:\\n\\n...  310ec3eff2064210   \n",
       "1236  A fast-growing regional online brand in the fi...  a40bc0dd362c54e3   \n",
       "1327  We are looking for a Big Data Engineer happy t...  aa01d33c370665f0   \n",
       "1368  Roles & Responsibilities\\nHelp empower Cloud p...  d0e5050e00d904d3   \n",
       "\n",
       "                                                  title  \\\n",
       "33                               Data Quality Developer   \n",
       "160   Corporate - Reference Data Operations - Asset ...   \n",
       "182   Business Analyst cum Project Manager Referenti...   \n",
       "185                Project Manager cum Business Analyst   \n",
       "244        Trainee Officer - Risk and Permanent Control   \n",
       "313                             Deep Learning Scientist   \n",
       "387                        BE Data and Systems Engineer   \n",
       "450                                       Data Engineer   \n",
       "451              Data Platform Engineer - Deep Learning   \n",
       "462                                  Lead Data Engineer   \n",
       "559              Data Architect, Application Management   \n",
       "853              Platform Developer - Big Data Engineer   \n",
       "897                                   Research Engineer   \n",
       "1072       Cloud Platform Technical Solution Specialist   \n",
       "1137  Business Analyst - Regulatory Reporting Produc...   \n",
       "1236                              Data Science Engineer   \n",
       "1327                                      Data Engineer   \n",
       "1368       Cloud Platform Technical Solution Specialist   \n",
       "\n",
       "                                                  clean is_DS is_Sr  salary  \n",
       "33    job description  work with business analysts a...    DE    Jr   60606  \n",
       "160   about j p  morgan chase   co  jpmorgan chase  ...    DE    Jr   60606  \n",
       "182   general information  entity cr dit agricole ci...    DE    Jr   60606  \n",
       "185   general information  entity cr dit agricole ci...    DE    Jr   60606  \n",
       "244   general information  entity cr dit agricole ci...    DE    Jr   60606  \n",
       "313   implement state of the art deep learning and m...    DE    Jr   60606  \n",
       "387   job description    as a manufacturing central ...    DE    Jr   60606  \n",
       "450   role purpose   the role of the data engineer i...    DE    Jr   60606  \n",
       "451   we are looking for a highly energetic data pla...    DE    Jr   60606  \n",
       "462   sephora south east asia seeks to hire a lead d...    DE    Jr   60606  \n",
       "559   here at prudential  we understand that success...    DE    Jr   60606  \n",
       "853   job description role overview as a customer ce...    DE    Jr   60606  \n",
       "897   this project includes human comfort modelling ...    DE    Jr   60606  \n",
       "1072  help empower cloud platform adoption worldwide...    DE    Jr   60606  \n",
       "1137  roles   responsibilities job description      ...    DE    Jr   60606  \n",
       "1236  a fast growing regional online brand in the fi...    DE    Jr   60606  \n",
       "1327  we are looking for a big data engineer happy t...    DE    Jr   60606  \n",
       "1368  roles   responsibilities help empower cloud pl...    DE    Jr   60606  "
      ]
     },
     "execution_count": 102,
     "metadata": {},
     "output_type": "execute_result"
    }
   ],
   "source": [
    "# Check out the smallest group: Junior DEs\n",
    "\n",
    "Xsalary_test[(m3 & m5)]"
   ]
  },
  {
   "cell_type": "markdown",
   "metadata": {},
   "source": [
    "Let's check out a potential mis-classification..."
   ]
  },
  {
   "cell_type": "code",
   "execution_count": 103,
   "metadata": {},
   "outputs": [
    {
     "name": "stdout",
     "output_type": "stream",
     "text": [
      "Sephora South East Asia seeks to hire a Lead Data Engineer to lead the small, talented team which drives much of the innovation that underpins our market leading performance marketing, CRM, Onsite and Business intelligence activities. He or she will replace the incumbent who is returning to France to join the LVMH Digital Team. This is a critical hire for the company as the evolution of our omni-channel vision is dependent on driving data driven decision making throughout our business across both the retail and ecommerce channels.\n",
      "\n",
      "If you are the right candidate, you will bring outstanding technical skills built on a strong academic foundation and honed in a company that prizes data driven decision making, excellent business acumen, and the ability to both understand business problems and to see solutions. You will be a creative engineer with a track record of building innovative tools that solve problems and are “future-proof”. This is a challenging role and to be successful you will need excellent communication skills, be adept at building relationships with stakeholders and comfortable allocating scare resources. It is an opportunity to make a significant impact within a fast growing business, and you will be excited and determined to do so. You may not currently be based in Singapore, but you will have experience working internationally, and an ability to work effectively with people from many different countries and background.\n",
      "Sephora Digital has the one of the few standalone engineering teams within LVMH, and thus this represents a unique entry point into a world leading luxury group which is increasingly investing in digital and data. As Lead Data Engineer you will be expected to both lead a team and to be an active engineer. You have a track record of mentoring & developing others, and are a sought after guide for emerging talent. You will demonstrate the ability to build robust solutions and to guide others in doing the same. You are solutions orientated, commercial, and making a demonstrable business impact is critical to your happiness at work! You enjoy working with your business partners and being part of stimulating and challenging conversations which inform your Engineering activity - you push your team to do the same.\n",
      "\n",
      "Requirements:\n",
      "Experience & attributes\n",
      "\n",
      "Degree in Computer Science from a leading academic institution is strongly preferred\n",
      "Excellent engineer with a demonstrated facility for learning new coding languages\n",
      "Track record of building products which are used in commercial environments – you’re a consultant, a designer, and a builder\n",
      "Demonstrated familiarity with data stacks\n",
      "Ability to architect and maintain a data warehouse - and experience of integrating a wide variety of data sources whilst maintain data integrity and delivering robust performance\n",
      "You’re an SQL guru - experience with BigQuery is a plus but not required\n",
      "Prior experience with cloud computing technologies\n",
      "Work experience gained in both big and small company environments – you appreciate the complexity and demands of a big company, and operate with the nimbleness and agility of a small company. Commercial experience is important and previous ecommerce experience is preferred\n",
      "Strong project management skills\n",
      "Excellent mentorship and people development skills\n",
      "Team player who enjoys seeing their products impact business performance\n",
      "Strong communications skills\n"
     ]
    }
   ],
   "source": [
    "print(Xsalary_test.loc[462, 'description'])"
   ]
  },
  {
   "cell_type": "code",
   "execution_count": 104,
   "metadata": {},
   "outputs": [
    {
     "data": {
      "text/plain": [
       "Sr    189\n",
       "Jr     57\n",
       "Name: is_Sr, dtype: int64"
      ]
     },
     "execution_count": 104,
     "metadata": {},
     "output_type": "execute_result"
    }
   ],
   "source": [
    "Xsalary_test[(Xsalary_test['is_DS']=='DS')]['is_Sr'].value_counts()"
   ]
  },
  {
   "cell_type": "code",
   "execution_count": 105,
   "metadata": {},
   "outputs": [
    {
     "data": {
      "text/html": [
       "<div>\n",
       "<style scoped>\n",
       "    .dataframe tbody tr th:only-of-type {\n",
       "        vertical-align: middle;\n",
       "    }\n",
       "\n",
       "    .dataframe tbody tr th {\n",
       "        vertical-align: top;\n",
       "    }\n",
       "\n",
       "    .dataframe thead th {\n",
       "        text-align: right;\n",
       "    }\n",
       "</style>\n",
       "<table border=\"1\" class=\"dataframe\">\n",
       "  <thead>\n",
       "    <tr style=\"text-align: right;\">\n",
       "      <th></th>\n",
       "      <th>description</th>\n",
       "      <th>id</th>\n",
       "      <th>title</th>\n",
       "      <th>clean</th>\n",
       "      <th>is_DS</th>\n",
       "      <th>is_Sr</th>\n",
       "      <th>salary</th>\n",
       "    </tr>\n",
       "  </thead>\n",
       "  <tbody>\n",
       "    <tr>\n",
       "      <th>555</th>\n",
       "      <td>Lazada Internship Program for Tech Hub\\nThe In...</td>\n",
       "      <td>f6fc50e8649d8837</td>\n",
       "      <td>Intern, Performance Engineering</td>\n",
       "      <td>lazada internship program for tech hub the int...</td>\n",
       "      <td>DS</td>\n",
       "      <td>Jr</td>\n",
       "      <td>59480</td>\n",
       "    </tr>\n",
       "    <tr>\n",
       "      <th>1013</th>\n",
       "      <td>Job Description\\nWe are hiring Product Support...</td>\n",
       "      <td>80aad0cc03895645</td>\n",
       "      <td>Product Support Engineer</td>\n",
       "      <td>job description we are hiring product support ...</td>\n",
       "      <td>DS</td>\n",
       "      <td>Jr</td>\n",
       "      <td>59480</td>\n",
       "    </tr>\n",
       "    <tr>\n",
       "      <th>173</th>\n",
       "      <td>Review and ensure integrity of data collection...</td>\n",
       "      <td>66b04d95d0ce8dcf</td>\n",
       "      <td>Business Intelligence Analyst - Singapore Full...</td>\n",
       "      <td>review and ensure integrity of data collection...</td>\n",
       "      <td>DS</td>\n",
       "      <td>Jr</td>\n",
       "      <td>59480</td>\n",
       "    </tr>\n",
       "    <tr>\n",
       "      <th>392</th>\n",
       "      <td>To work with research scientists/clinicians wi...</td>\n",
       "      <td>372b3bb88edff9d0</td>\n",
       "      <td>Mobile Apps Developer</td>\n",
       "      <td>to work with research scientists clinicians wi...</td>\n",
       "      <td>DS</td>\n",
       "      <td>Jr</td>\n",
       "      <td>59480</td>\n",
       "    </tr>\n",
       "    <tr>\n",
       "      <th>4</th>\n",
       "      <td>Your Responsibilities :\\n\\nThe Role\\n\\n\\nIn th...</td>\n",
       "      <td>b4c4860763098784</td>\n",
       "      <td>Data Insights Analyst</td>\n",
       "      <td>your responsibilities    the role   in this ne...</td>\n",
       "      <td>DS</td>\n",
       "      <td>Jr</td>\n",
       "      <td>59480</td>\n",
       "    </tr>\n",
       "  </tbody>\n",
       "</table>\n",
       "</div>"
      ],
      "text/plain": [
       "                                            description                id  \\\n",
       "555   Lazada Internship Program for Tech Hub\\nThe In...  f6fc50e8649d8837   \n",
       "1013  Job Description\\nWe are hiring Product Support...  80aad0cc03895645   \n",
       "173   Review and ensure integrity of data collection...  66b04d95d0ce8dcf   \n",
       "392   To work with research scientists/clinicians wi...  372b3bb88edff9d0   \n",
       "4     Your Responsibilities :\\n\\nThe Role\\n\\n\\nIn th...  b4c4860763098784   \n",
       "\n",
       "                                                  title  \\\n",
       "555                     Intern, Performance Engineering   \n",
       "1013                           Product Support Engineer   \n",
       "173   Business Intelligence Analyst - Singapore Full...   \n",
       "392                               Mobile Apps Developer   \n",
       "4                                 Data Insights Analyst   \n",
       "\n",
       "                                                  clean is_DS is_Sr  salary  \n",
       "555   lazada internship program for tech hub the int...    DS    Jr   59480  \n",
       "1013  job description we are hiring product support ...    DS    Jr   59480  \n",
       "173   review and ensure integrity of data collection...    DS    Jr   59480  \n",
       "392   to work with research scientists clinicians wi...    DS    Jr   59480  \n",
       "4     your responsibilities    the role   in this ne...    DS    Jr   59480  "
      ]
     },
     "execution_count": 105,
     "metadata": {},
     "output_type": "execute_result"
    }
   ],
   "source": [
    "Xsalary_test[(m1 & m5)].sample(5)"
   ]
  },
  {
   "cell_type": "code",
   "execution_count": 106,
   "metadata": {},
   "outputs": [
    {
     "name": "stdout",
     "output_type": "stream",
     "text": [
      "To work with research scientists/clinicians within the research programme and develop relevant mobile apps which will be used by research team and subjects in order to meet project objectives.\n",
      "Duties & Responsibilities:\n",
      "Develop functional mobile-based applications (both iOS and Android) based on usability\n",
      "Good experience with Android SDK, Frameworks and tools to create mobile web\n",
      "Working directly with research scientists and/or users to conceptualize, build and test mobile/web applications\n",
      "Participate in ad hoc software projects and assignments as required\n",
      "Debugging and optimization skills\n",
      "Qualifications\n",
      "\n",
      "Polytechnic specialist diploma in Mobile Apps development with some working experience in mobile iOS and Android development\n",
      "Bachelor degree in software engineering, computer science or related discipline\n",
      "Strong knowledge in native Ios and Android development using Objective-C/Swift and Java\n",
      "Experience and knowledge of data structure and alogrithms\n",
      "Strong analystical and problem-solving skills\n",
      "Job\n",
      ": Executive and Professional\n",
      "Primary Location\n",
      ": Kent Ridge\n",
      "Organization\n",
      ": Obstetrics & Gynaecology\n",
      "Schedule\n",
      ": Full-time - Fixed Term (Contract)\n",
      "\n",
      "Job Posting\n",
      ": 09/02/2018, 8:37:19 AM\n",
      ":\n"
     ]
    }
   ],
   "source": [
    "print(Xsalary_test.loc[392, 'description'])"
   ]
  },
  {
   "cell_type": "code",
   "execution_count": 107,
   "metadata": {},
   "outputs": [
    {
     "data": {
      "text/html": [
       "<div>\n",
       "<style scoped>\n",
       "    .dataframe tbody tr th:only-of-type {\n",
       "        vertical-align: middle;\n",
       "    }\n",
       "\n",
       "    .dataframe tbody tr th {\n",
       "        vertical-align: top;\n",
       "    }\n",
       "\n",
       "    .dataframe thead th {\n",
       "        text-align: right;\n",
       "    }\n",
       "</style>\n",
       "<table border=\"1\" class=\"dataframe\">\n",
       "  <thead>\n",
       "    <tr style=\"text-align: right;\">\n",
       "      <th></th>\n",
       "      <th>description</th>\n",
       "      <th>id</th>\n",
       "      <th>title</th>\n",
       "      <th>clean</th>\n",
       "      <th>is_DS</th>\n",
       "      <th>is_Sr</th>\n",
       "      <th>salary</th>\n",
       "    </tr>\n",
       "  </thead>\n",
       "  <tbody>\n",
       "    <tr>\n",
       "      <th>547</th>\n",
       "      <td>ABOUT GOLDMAN SACHS\\nThe Goldman Sachs Group, ...</td>\n",
       "      <td>9b53b8c164e8b086</td>\n",
       "      <td>2018 Full Time Campus Analyst - Engineering Di...</td>\n",
       "      <td>about goldman sachs the goldman sachs group  i...</td>\n",
       "      <td>DA</td>\n",
       "      <td>Sr</td>\n",
       "      <td>59480</td>\n",
       "    </tr>\n",
       "    <tr>\n",
       "      <th>244</th>\n",
       "      <td>General information\\n\\nEntity\\nCrédit Agricole...</td>\n",
       "      <td>fbbbd02a51eb1441</td>\n",
       "      <td>Trainee Officer - Risk and Permanent Control</td>\n",
       "      <td>general information  entity cr dit agricole ci...</td>\n",
       "      <td>DE</td>\n",
       "      <td>Jr</td>\n",
       "      <td>60606</td>\n",
       "    </tr>\n",
       "    <tr>\n",
       "      <th>1336</th>\n",
       "      <td>Roles &amp; Responsibilities\\ntalentguru (www.tale...</td>\n",
       "      <td>ced347f0dee7ac39</td>\n",
       "      <td>information technology</td>\n",
       "      <td>roles   responsibilities talentguru  www talen...</td>\n",
       "      <td>DA</td>\n",
       "      <td>Jr</td>\n",
       "      <td>77998</td>\n",
       "    </tr>\n",
       "    <tr>\n",
       "      <th>340</th>\n",
       "      <td>Job responsibilities\\nProvide analytical suppo...</td>\n",
       "      <td>47c51f51705e7fbf</td>\n",
       "      <td>Analytical Chemist</td>\n",
       "      <td>job responsibilities provide analytical suppor...</td>\n",
       "      <td>DS</td>\n",
       "      <td>Sr</td>\n",
       "      <td>136783</td>\n",
       "    </tr>\n",
       "    <tr>\n",
       "      <th>169</th>\n",
       "      <td>Job Summary\\n\\nJob Title: Summer Internship 20...</td>\n",
       "      <td>a4be9d6531a5fd98</td>\n",
       "      <td>Summer Internship 2018</td>\n",
       "      <td>job summary  job title  summer internship     ...</td>\n",
       "      <td>DA</td>\n",
       "      <td>Sr</td>\n",
       "      <td>59480</td>\n",
       "    </tr>\n",
       "  </tbody>\n",
       "</table>\n",
       "</div>"
      ],
      "text/plain": [
       "                                            description                id  \\\n",
       "547   ABOUT GOLDMAN SACHS\\nThe Goldman Sachs Group, ...  9b53b8c164e8b086   \n",
       "244   General information\\n\\nEntity\\nCrédit Agricole...  fbbbd02a51eb1441   \n",
       "1336  Roles & Responsibilities\\ntalentguru (www.tale...  ced347f0dee7ac39   \n",
       "340   Job responsibilities\\nProvide analytical suppo...  47c51f51705e7fbf   \n",
       "169   Job Summary\\n\\nJob Title: Summer Internship 20...  a4be9d6531a5fd98   \n",
       "\n",
       "                                                  title  \\\n",
       "547   2018 Full Time Campus Analyst - Engineering Di...   \n",
       "244        Trainee Officer - Risk and Permanent Control   \n",
       "1336                             information technology   \n",
       "340                                  Analytical Chemist   \n",
       "169                              Summer Internship 2018   \n",
       "\n",
       "                                                  clean is_DS is_Sr  salary  \n",
       "547   about goldman sachs the goldman sachs group  i...    DA    Sr   59480  \n",
       "244   general information  entity cr dit agricole ci...    DE    Jr   60606  \n",
       "1336  roles   responsibilities talentguru  www talen...    DA    Jr   77998  \n",
       "340   job responsibilities provide analytical suppor...    DS    Sr  136783  \n",
       "169   job summary  job title  summer internship     ...    DA    Sr   59480  "
      ]
     },
     "execution_count": 107,
     "metadata": {},
     "output_type": "execute_result"
    }
   ],
   "source": [
    "# I know there are internships in the titles. Let's look at those...\n",
    "\n",
    "Xsalary_test[Xsalary_test['description'].str.contains('internship')].sample(5)"
   ]
  },
  {
   "cell_type": "code",
   "execution_count": 108,
   "metadata": {},
   "outputs": [
    {
     "name": "stdout",
     "output_type": "stream",
     "text": [
      "About Us:\n",
      "GE is the world's Digital Industrial Company, transforming industry with software-defined machines and solutions that are connected, responsive and predictive. Through our people, leadership development, services, technology and scale, GE delivers better outcomes for global customers by speaking the language of industry.\n",
      "\n",
      "Role Summary:\n",
      "GE’s internships offer a unique opportunity to gain hands-on experience through challenging projects, learn from some of the brightest and most innovative minds in the business and network with a variety of talented professionals.\n",
      "\n",
      "Essential Responsibilities:\n",
      "The interns will support our leaders in their projects and day to day work. Interns will have project(s) assigned to be completed within the given time frame and content.\n",
      "We will be hiring across our various businesses in Singapore & for various functions including:\n",
      "\n",
      "Functions:\n",
      "\n",
      "Production Planning & Analytics\n",
      "\n",
      "GE Businesses:\n",
      "Aviation\n",
      "\n",
      "Project:\n",
      "Working together with Business Analytics and Capacity Engineer in developing various business analytics models, capacity model and facility layout management.\n",
      "\n",
      "Successful candidates will be given opportunity to handle the followings:\n",
      "\n",
      "Business analytics project – Footprint Analysis to analyse the efficiency of space utilisation – from data mining to identify findings through data analysis which may involve extensive use of Microsoft excel.\n",
      "Capacity modelling project to analyse the capacity utilisation performance. This requires good understanding on the nature of production and logical thinking to formulate a robust capacity model.\n",
      "Facility layout management project to handle facility layout change to meet the evolving business need. This requires high standard facility layout drafting and comprehensive planning with cross-functional collaboration to ensure seamless execution.\n",
      "\n",
      "Qualifications/Requirements:\n",
      "\n",
      "Currently studying undergrad only with strong academic performance\n",
      "Major in related Engineering disciplines such as Industrial/ Aerospace/ Mechanical Engineering\n",
      "Fluent in English\n",
      "GPA above 3.5 preferred\n",
      "Proficient in programming preferred\n",
      "Proficient in Autocad or equivalent preferred\n",
      "\n",
      "Desired Characteristics:\n",
      "\n",
      "We are looking for energetic, intelligent, driven candidates with a high level of integrity, who enjoy working towards common goals in a global team environment.\n",
      "Strong logical and analytical thinking.\n",
      "Strong organizational skills with high attention to detail.\n",
      "Self-Starter, proactive, able to work independently with minimal direction.\n",
      "Ability to quickly identify and prioritize issues, create solutions and meet deadlines.\n",
      "Team player with strong interpersonal skills, capable of working within a globally diverse team\n",
      "\n",
      "Locations: Singapore; Singapore\n"
     ]
    }
   ],
   "source": [
    "print(Xsalary_test.loc[541, 'description'])"
   ]
  },
  {
   "cell_type": "markdown",
   "metadata": {},
   "source": [
    "HAHAHAHAHA.....\n",
    "\n",
    "Another one..."
   ]
  },
  {
   "cell_type": "code",
   "execution_count": 109,
   "metadata": {},
   "outputs": [
    {
     "name": "stdout",
     "output_type": "stream",
     "text": [
      "About the Role\n",
      "\n",
      "\n",
      "Information Technology at Seagate Singapore International Headquarters Pte Ltd has a unique opportunity for a summer intern to develop an intelligent bot to help the Manufacturing System Users Community.\n",
      "\n",
      "\n",
      "The goal of this project is to develop a bot using artificial intelligence (AI) and language understanding Intelligent service (LUIS) along with Google Home and Amazon Alexa (and other digital agents) to help the Seagate community find the information they need quickly and easily. This will enable individuals to quickly find information regarding commonly asked questions or issues without having to dig through a web site, submit a support ticket or try to find the right person.\n",
      "\n",
      "\n",
      "Creative contributors apply! You will be work closely with the Global Operation IT development team. Skills acquired: team collaboration, developing and deploying to the cloud, working with version control, exposed to an agile environment for project management, Amazan/Google chatbot framework, LUIS skill set.\n",
      "\n",
      "Utilize innovative ideas and approaches to assist in the development of working models to serve the needs of our executive, manager, engineer and users\n",
      "Complete a project from start to finish and write-up and present the work product to the Seagate IT\n",
      "Conduct online research\n",
      "Perform other duties as required\n",
      "\n",
      "Internship Period: May to August 2018\n",
      "\n",
      "\n",
      "Location: Woodlands, Singapore\n",
      "\n",
      "\n",
      "About You\n",
      "\n",
      "Bachelor or Master student pursuing degree in Computer Science or equivalent\n",
      "Solid analytical and communication skills\n",
      "A passion for achieving results on time through the application of technology to business opportunities\n",
      "Emerging organizational skills and the ability to handle multiple assignments concurrently\n",
      "\n",
      "Knowledge/Skills/Experience:\n",
      "\n",
      "Experience with C# (or equivalent), JavaScript, Node.js\n",
      "\n",
      "Knowledge/Experience with bots/apps for platforms like Facebook Messenger, Slack, etc.\n",
      "\n",
      "Knowledge on MVC, SQL, Postgres would be an added advantage.\n",
      "\n",
      "Experience with source control (git, Subversion, etc)\n",
      "\n",
      "Exposure to working with the cloud\n",
      "\n",
      "Experience working with APIs, integrating data from various back-end services and databases\n",
      "\n",
      "Experience with writing test plans and documentation\n",
      "\n",
      "Demonstrated experience being innovative, flexible, engaging and empowered throughout the delivery cycle.\n",
      "\n",
      "Please submit your application with the following documents:\n",
      "\n",
      "resume\n",
      "letter of interest: “Why should I be chosen for this position” (1 page summary)\n",
      "\n",
      "#internship\n",
      "\n",
      "\n",
      "Job Family: Support\n"
     ]
    }
   ],
   "source": [
    "print(Xsalary_test.loc[902, 'description'])"
   ]
  },
  {
   "cell_type": "markdown",
   "metadata": {},
   "source": [
    "### LOL hashtag internship\n",
    "\n",
    "After a quick consultation with my team mates for the presentation, the internships reads more like a senior role and therefore it is not **that** hard to understand why even the model classified it as a \"Senior\" role. I would probably remove them at the start since this was the case, but it is a good idea on how the model was able to perform. "
   ]
  }
 ],
 "metadata": {
  "kernelspec": {
   "display_name": "Python 2",
   "language": "python",
   "name": "python2"
  },
  "language_info": {
   "codemirror_mode": {
    "name": "ipython",
    "version": 2
   },
   "file_extension": ".py",
   "mimetype": "text/x-python",
   "name": "python",
   "nbconvert_exporter": "python",
   "pygments_lexer": "ipython2",
   "version": "2.7.14"
  }
 },
 "nbformat": 4,
 "nbformat_minor": 2
}
