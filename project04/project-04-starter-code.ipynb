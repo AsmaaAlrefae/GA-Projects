{
 "cells": [
  {
   "cell_type": "code",
   "execution_count": 110,
   "metadata": {},
   "outputs": [],
   "source": [
    "import pandas as pd\n",
    "import sqlite3\n",
    "import re\n",
    "import matplotlib.pyplot as plt\n",
    "import numpy as np\n",
    "import pickle\n",
    "import string\n",
    "import itertools\n",
    "\n",
    "from nltk.corpus import stopwords\n",
    "from nltk.stem import SnowballStemmer\n",
    "\n",
    "from sklearn.feature_extraction.text import CountVectorizer, TfidfVectorizer, ENGLISH_STOP_WORDS\n",
    "\n",
    "from sklearn.model_selection import train_test_split\n",
    "\n",
    "from sklearn.linear_model import SGDClassifier, LogisticRegressionCV, LogisticRegression\n",
    "from sklearn.ensemble import GradientBoostingClassifier, RandomForestClassifier\n",
    "\n",
    "from sklearn.model_selection import GridSearchCV\n",
    "from sklearn.pipeline import Pipeline\n",
    "\n",
    "from sklearn import metrics\n",
    "\n",
    "import matplotlib.pyplot as plt\n",
    "%matplotlib inline"
   ]
  },
  {
   "cell_type": "code",
   "execution_count": 2,
   "metadata": {},
   "outputs": [],
   "source": [
    "## Helper functions\n",
    "#\n",
    "## CONFUSION MATRIX ###\n",
    "\n",
    "def plot_confusion_matrix(cm, classes,\n",
    "                          normalize=False,\n",
    "                          title='Confusion matrix',\n",
    "                          cmap=plt.cm.Blues):\n",
    "    \"\"\"\n",
    "    This function prints and plots the confusion matrix.\n",
    "    Normalization can be applied by setting `normalize=True`.\n",
    "    \"\"\"\n",
    "    if normalize:\n",
    "        cm = cm.astype('float') / cm.sum(axis=1)[:, np.newaxis]\n",
    "        print(\"Normalized confusion matrix\")\n",
    "    else:\n",
    "        print('Confusion matrix, without normalization')\n",
    "\n",
    "    print(cm)\n",
    "\n",
    "    plt.imshow(cm, interpolation='nearest', cmap=cmap)\n",
    "    plt.title(title)\n",
    "    plt.colorbar()\n",
    "    tick_marks = np.arange(len(classes))\n",
    "    plt.xticks(tick_marks, classes, rotation=45)\n",
    "    plt.yticks(tick_marks, classes)\n",
    "\n",
    "    fmt = '.2f' if normalize else 'd'\n",
    "    thresh = cm.max() / 2.\n",
    "    for i, j in itertools.product(range(cm.shape[0]), range(cm.shape[1])):\n",
    "        plt.text(j, i, format(cm[i, j], fmt),\n",
    "                 horizontalalignment=\"center\",\n",
    "                 color=\"white\" if cm[i, j] > thresh else \"black\")\n",
    "\n",
    "    plt.tight_layout()\n",
    "    plt.ylabel('True label')\n",
    "    plt.xlabel('Predicted label')\n",
    "    plt.show()\n",
    "\n",
    "## top10keywords from pipeline ##\n",
    "\n",
    "def top10keys(pipe_model, classes):\n",
    "    vectorizer = pipe_model.named_steps['vectorizer']\n",
    "    clf = pipe_model.named_steps['clf']\n",
    "    \n",
    "    features_names = vectorizer.get_feature_names()\n",
    "    features_names = np.asarray(features_names)\n",
    "    \n",
    "    print('Number of features: {} \\n'.format(len(features_names)))\n",
    "    \n",
    "    try:\n",
    "        if len(classes) > 2:\n",
    "            for i, label in enumerate(classes):\n",
    "                top10 = np.argsort(clf.coef_[i])[-10:]\n",
    "                print('%s: %s' % (label,', '.join(features_names[top10])))\n",
    "        else:\n",
    "            top10 = np.argsort(clf.coef_[0])[-10:] \n",
    "            print('Top 10 features found in %s:' % (classes[1]))\n",
    "            print('%s' % (', '.join(features_names[top10])))\n",
    "    except AttributeError:\n",
    "        top10 = np.argsort(clf.feature_importances_)[-10:]\n",
    "        print('Top 10 features found in %s:' % (classes[1]))\n",
    "        print('%s' % (', '.join(features_names[top10])))\n",
    "    \n",
    "#     try:\n",
    "#         for i, label in enumerate(classes):\n",
    "#             top10 = np.argsort(clf.coef_[i])[-10:]\n",
    "#             #print('Top 10 features \\n')\n",
    "#             print('%s: %s' % (label,', '.join(features_names[top10])))\n",
    "#     except IndexError:\n",
    "#         try:\n",
    "#             top10 = np.argsort(clf.coef_[0])[-10:]\n",
    "#             print('Top 10 features found in %s:' % (classes[1]))\n",
    "#             print('%s' % (', '.join(features_names[top10])))\n",
    "#         except AttributeError:\n",
    "#             top10 = np.argsort(clf.feature_importances_)[-10:]\n",
    "#             #print('Top 10 features found in %s:' % (classes[1]))\n",
    "#             #print('%s' % (', '.join(features_names[top10])))\n",
    "        \n",
    "## predict and print all the stuff ##\n",
    "\n",
    "def predict_and_win(classes_names):\n",
    "    y_pred = pipe.predict(X_test)\n",
    "    print('Classification Report: \\n')\n",
    "    print(metrics.classification_report(y_test, y_pred))\n",
    "    print('='*60)\n",
    "    print('Accuracy: {}'.format(metrics.accuracy_score(y_test,y_pred)))\n",
    "    print('='*60)\n",
    "    plot_confusion_matrix(metrics.confusion_matrix(y_test, y_pred), classes=classes_names, title='Confusion matrix')\n"
   ]
  },
  {
   "cell_type": "markdown",
   "metadata": {},
   "source": [
    "# Project 4: NLP, NLP, NLP\n",
    "\n",
    "We will be doing all classification models and attempt to kill two ~~birds~~ questions with one ~~stone~~ classification model - which is Section 1 and the bonus section. However, I would require the answers to Section 2 before I am able to do Section 1 So, I won't be going through the project in the same order as the README file. Sorry..."
   ]
  },
  {
   "cell_type": "markdown",
   "metadata": {},
   "source": [
    "## Bringing in my tables from SQL"
   ]
  },
  {
   "cell_type": "code",
   "execution_count": 3,
   "metadata": {},
   "outputs": [],
   "source": [
    "connection = sqlite3.connect('job_scraped.db.sqlite')"
   ]
  },
  {
   "cell_type": "code",
   "execution_count": 4,
   "metadata": {},
   "outputs": [],
   "source": [
    "sql_query = '''\n",
    "SELECT *\n",
    "FROM jobs\n",
    "'''"
   ]
  },
  {
   "cell_type": "code",
   "execution_count": 5,
   "metadata": {},
   "outputs": [],
   "source": [
    "df = pd.read_sql(sql_query, con=connection)"
   ]
  },
  {
   "cell_type": "code",
   "execution_count": 6,
   "metadata": {},
   "outputs": [
    {
     "data": {
      "text/html": [
       "<div>\n",
       "<style scoped>\n",
       "    .dataframe tbody tr th:only-of-type {\n",
       "        vertical-align: middle;\n",
       "    }\n",
       "\n",
       "    .dataframe tbody tr th {\n",
       "        vertical-align: top;\n",
       "    }\n",
       "\n",
       "    .dataframe thead th {\n",
       "        text-align: right;\n",
       "    }\n",
       "</style>\n",
       "<table border=\"1\" class=\"dataframe\">\n",
       "  <thead>\n",
       "    <tr style=\"text-align: right;\">\n",
       "      <th></th>\n",
       "      <th>description</th>\n",
       "      <th>id</th>\n",
       "      <th>title</th>\n",
       "    </tr>\n",
       "  </thead>\n",
       "  <tbody>\n",
       "    <tr>\n",
       "      <th>0</th>\n",
       "      <td>Dubbed “The Most Innovative Streaming Video Se...</td>\n",
       "      <td>2abc0718a6987824</td>\n",
       "      <td>Data Analyst</td>\n",
       "    </tr>\n",
       "    <tr>\n",
       "      <th>1</th>\n",
       "      <td>Title: Data Analyst\\n\\nRole:\\n\\nReporting to t...</td>\n",
       "      <td>c95dd846041ca1c5</td>\n",
       "      <td>Data Analyst</td>\n",
       "    </tr>\n",
       "    <tr>\n",
       "      <th>2</th>\n",
       "      <td>What is the job ?\\n\\n\\nThe role will involve m...</td>\n",
       "      <td>59df81c8a00dc826</td>\n",
       "      <td>Junior Data Analyst</td>\n",
       "    </tr>\n",
       "    <tr>\n",
       "      <th>3</th>\n",
       "      <td>Data Analyst - (180000E0)\\nDescription\\n\\nUnde...</td>\n",
       "      <td>6d9971d09cb788a6</td>\n",
       "      <td>Data Analyst</td>\n",
       "    </tr>\n",
       "    <tr>\n",
       "      <th>4</th>\n",
       "      <td>Your Responsibilities :\\n\\nThe Role\\n\\n\\nIn th...</td>\n",
       "      <td>b4c4860763098784</td>\n",
       "      <td>Data Insights Analyst</td>\n",
       "    </tr>\n",
       "  </tbody>\n",
       "</table>\n",
       "</div>"
      ],
      "text/plain": [
       "                                         description                id  \\\n",
       "0  Dubbed “The Most Innovative Streaming Video Se...  2abc0718a6987824   \n",
       "1  Title: Data Analyst\\n\\nRole:\\n\\nReporting to t...  c95dd846041ca1c5   \n",
       "2  What is the job ?\\n\\n\\nThe role will involve m...  59df81c8a00dc826   \n",
       "3  Data Analyst - (180000E0)\\nDescription\\n\\nUnde...  6d9971d09cb788a6   \n",
       "4  Your Responsibilities :\\n\\nThe Role\\n\\n\\nIn th...  b4c4860763098784   \n",
       "\n",
       "                   title  \n",
       "0           Data Analyst  \n",
       "1           Data Analyst  \n",
       "2    Junior Data Analyst  \n",
       "3           Data Analyst  \n",
       "4  Data Insights Analyst  "
      ]
     },
     "execution_count": 6,
     "metadata": {},
     "output_type": "execute_result"
    }
   ],
   "source": [
    "df.head()"
   ]
  },
  {
   "cell_type": "code",
   "execution_count": 7,
   "metadata": {},
   "outputs": [
    {
     "data": {
      "text/plain": [
       "0"
      ]
     },
     "execution_count": 7,
     "metadata": {},
     "output_type": "execute_result"
    }
   ],
   "source": [
    "# Check for duplicates\n",
    "df['id'].duplicated(keep='first').sum()"
   ]
  },
  {
   "cell_type": "code",
   "execution_count": 8,
   "metadata": {},
   "outputs": [
    {
     "data": {
      "text/html": [
       "<div>\n",
       "<style scoped>\n",
       "    .dataframe tbody tr th:only-of-type {\n",
       "        vertical-align: middle;\n",
       "    }\n",
       "\n",
       "    .dataframe tbody tr th {\n",
       "        vertical-align: top;\n",
       "    }\n",
       "\n",
       "    .dataframe thead th {\n",
       "        text-align: right;\n",
       "    }\n",
       "</style>\n",
       "<table border=\"1\" class=\"dataframe\">\n",
       "  <thead>\n",
       "    <tr style=\"text-align: right;\">\n",
       "      <th></th>\n",
       "      <th>description</th>\n",
       "      <th>id</th>\n",
       "      <th>title</th>\n",
       "    </tr>\n",
       "  </thead>\n",
       "  <tbody>\n",
       "  </tbody>\n",
       "</table>\n",
       "</div>"
      ],
      "text/plain": [
       "Empty DataFrame\n",
       "Columns: [description, id, title]\n",
       "Index: []"
      ]
     },
     "execution_count": 8,
     "metadata": {},
     "output_type": "execute_result"
    }
   ],
   "source": [
    "# Check for data entry jobs\n",
    "df[df['title'].str.contains('Data Entry')]"
   ]
  },
  {
   "cell_type": "code",
   "execution_count": 9,
   "metadata": {},
   "outputs": [
    {
     "data": {
      "text/html": [
       "<div>\n",
       "<style scoped>\n",
       "    .dataframe tbody tr th:only-of-type {\n",
       "        vertical-align: middle;\n",
       "    }\n",
       "\n",
       "    .dataframe tbody tr th {\n",
       "        vertical-align: top;\n",
       "    }\n",
       "\n",
       "    .dataframe thead th {\n",
       "        text-align: right;\n",
       "    }\n",
       "</style>\n",
       "<table border=\"1\" class=\"dataframe\">\n",
       "  <thead>\n",
       "    <tr style=\"text-align: right;\">\n",
       "      <th></th>\n",
       "      <th>description</th>\n",
       "      <th>id</th>\n",
       "      <th>title</th>\n",
       "    </tr>\n",
       "  </thead>\n",
       "  <tbody>\n",
       "    <tr>\n",
       "      <th>17</th>\n",
       "      <td>Expedia\\n\\nIf you are seeking a collaborative,...</td>\n",
       "      <td>b4360fcd5896614c</td>\n",
       "      <td>Internship – Singapore – Data Growth Analyst I...</td>\n",
       "    </tr>\n",
       "    <tr>\n",
       "      <th>19</th>\n",
       "      <td>In your new role you will:\\nAssist analytics t...</td>\n",
       "      <td>7ea2500e814e660b</td>\n",
       "      <td>Internship - Data Analyst</td>\n",
       "    </tr>\n",
       "    <tr>\n",
       "      <th>169</th>\n",
       "      <td>Job Summary\\n\\nJob Title: Summer Internship 20...</td>\n",
       "      <td>a4be9d6531a5fd98</td>\n",
       "      <td>Summer Internship 2018</td>\n",
       "    </tr>\n",
       "    <tr>\n",
       "      <th>258</th>\n",
       "      <td>About Us:\\nGE is the world's Digital Industria...</td>\n",
       "      <td>bf54a0408db5e412</td>\n",
       "      <td>Internship -Business Analyst- Healthcare (Jul ...</td>\n",
       "    </tr>\n",
       "    <tr>\n",
       "      <th>478</th>\n",
       "      <td>About Us:\\nGE is the world's Digital Industria...</td>\n",
       "      <td>14533e4fd58270cf</td>\n",
       "      <td>Internship - Service Operations</td>\n",
       "    </tr>\n",
       "    <tr>\n",
       "      <th>497</th>\n",
       "      <td>About Us:\\nGE is the world’s Digital Industria...</td>\n",
       "      <td>055cb0d9d8aa982c</td>\n",
       "      <td>GE Aviation Internship</td>\n",
       "    </tr>\n",
       "    <tr>\n",
       "      <th>521</th>\n",
       "      <td>In your role you will:\\nBe involved in key pro...</td>\n",
       "      <td>207475703e8d5f08</td>\n",
       "      <td>Internship - Test Automation</td>\n",
       "    </tr>\n",
       "    <tr>\n",
       "      <th>534</th>\n",
       "      <td>In your new role you will\\nBe involved in lots...</td>\n",
       "      <td>67081fd9c763ba0f</td>\n",
       "      <td>Internship - Product Test Engineering (Automat...</td>\n",
       "    </tr>\n",
       "    <tr>\n",
       "      <th>902</th>\n",
       "      <td>About the Role\\n\\n\\nInformation Technology at ...</td>\n",
       "      <td>86b371ee515b345c</td>\n",
       "      <td>Artificial Intelligent Bot Engineer - Internship</td>\n",
       "    </tr>\n",
       "    <tr>\n",
       "      <th>1101</th>\n",
       "      <td>In your new role you will:\\nStudy and assess c...</td>\n",
       "      <td>93c36bce0027be71</td>\n",
       "      <td>Internship - R&amp;D Big Data Analysis using AI/ML</td>\n",
       "    </tr>\n",
       "  </tbody>\n",
       "</table>\n",
       "</div>"
      ],
      "text/plain": [
       "                                            description                id  \\\n",
       "17    Expedia\\n\\nIf you are seeking a collaborative,...  b4360fcd5896614c   \n",
       "19    In your new role you will:\\nAssist analytics t...  7ea2500e814e660b   \n",
       "169   Job Summary\\n\\nJob Title: Summer Internship 20...  a4be9d6531a5fd98   \n",
       "258   About Us:\\nGE is the world's Digital Industria...  bf54a0408db5e412   \n",
       "478   About Us:\\nGE is the world's Digital Industria...  14533e4fd58270cf   \n",
       "497   About Us:\\nGE is the world’s Digital Industria...  055cb0d9d8aa982c   \n",
       "521   In your role you will:\\nBe involved in key pro...  207475703e8d5f08   \n",
       "534   In your new role you will\\nBe involved in lots...  67081fd9c763ba0f   \n",
       "902   About the Role\\n\\n\\nInformation Technology at ...  86b371ee515b345c   \n",
       "1101  In your new role you will:\\nStudy and assess c...  93c36bce0027be71   \n",
       "\n",
       "                                                  title  \n",
       "17    Internship – Singapore – Data Growth Analyst I...  \n",
       "19                            Internship - Data Analyst  \n",
       "169                              Summer Internship 2018  \n",
       "258   Internship -Business Analyst- Healthcare (Jul ...  \n",
       "478                     Internship - Service Operations  \n",
       "497                              GE Aviation Internship  \n",
       "521                        Internship - Test Automation  \n",
       "534   Internship - Product Test Engineering (Automat...  \n",
       "902    Artificial Intelligent Bot Engineer - Internship  \n",
       "1101     Internship - R&D Big Data Analysis using AI/ML  "
      ]
     },
     "execution_count": 9,
     "metadata": {},
     "output_type": "execute_result"
    }
   ],
   "source": [
    "# Check for Internships\n",
    "df[df['title'].str.contains('Internship')]"
   ]
  },
  {
   "cell_type": "markdown",
   "metadata": {},
   "source": [
    "Hurray! No duplicates! and no data entry jobs. There are some internships, but let's leave them in and see what happens.\n",
    "\n",
    "## 1) Data Scientists versus others\n",
    "What components of a job posting distinguish data scientists from other data jobs?\n",
    "\n",
    "### Data Scientist vs Data Analyst vs Data Engineer"
   ]
  },
  {
   "cell_type": "code",
   "execution_count": 10,
   "metadata": {},
   "outputs": [],
   "source": [
    "# Extracting all jobs with \"Data Science\" in the title\n",
    "\n",
    "only_ds = df[df['title'].isin(['Data Scientist','Junior Data Scientist','Senior Data Scientist'])].copy()\n",
    "only_ds['label'] = 'DS'"
   ]
  },
  {
   "cell_type": "code",
   "execution_count": 11,
   "metadata": {},
   "outputs": [],
   "source": [
    "only_da = df[df['title'].isin(['Data Analyst','Junior Data Analyst','Senior Data Analyst'])].copy()\n",
    "only_da['label'] = 'DA'"
   ]
  },
  {
   "cell_type": "code",
   "execution_count": 12,
   "metadata": {},
   "outputs": [],
   "source": [
    "only_de = df[df['title'].isin(['Data Engineer','Junior Data Engineer','Senior Data Engineer'])].copy()\n",
    "only_de['label'] = 'DE'"
   ]
  },
  {
   "cell_type": "code",
   "execution_count": 13,
   "metadata": {},
   "outputs": [],
   "source": [
    "ds_vs_others = pd.concat([only_ds,only_da,only_de], ignore_index=True)"
   ]
  },
  {
   "cell_type": "code",
   "execution_count": 14,
   "metadata": {},
   "outputs": [
    {
     "data": {
      "text/html": [
       "<div>\n",
       "<style scoped>\n",
       "    .dataframe tbody tr th:only-of-type {\n",
       "        vertical-align: middle;\n",
       "    }\n",
       "\n",
       "    .dataframe tbody tr th {\n",
       "        vertical-align: top;\n",
       "    }\n",
       "\n",
       "    .dataframe thead th {\n",
       "        text-align: right;\n",
       "    }\n",
       "</style>\n",
       "<table border=\"1\" class=\"dataframe\">\n",
       "  <thead>\n",
       "    <tr style=\"text-align: right;\">\n",
       "      <th></th>\n",
       "      <th>description</th>\n",
       "      <th>id</th>\n",
       "      <th>title</th>\n",
       "      <th>label</th>\n",
       "    </tr>\n",
       "  </thead>\n",
       "  <tbody>\n",
       "    <tr>\n",
       "      <th>0</th>\n",
       "      <td>PURPOSE OF THE ROLE\\nThis role of a data scien...</td>\n",
       "      <td>21a0e80107ccbbc3</td>\n",
       "      <td>Data Scientist</td>\n",
       "      <td>DS</td>\n",
       "    </tr>\n",
       "    <tr>\n",
       "      <th>1</th>\n",
       "      <td>Work cross-functionally with business managers...</td>\n",
       "      <td>95a6064e4ea39071</td>\n",
       "      <td>Data Scientist</td>\n",
       "      <td>DS</td>\n",
       "    </tr>\n",
       "    <tr>\n",
       "      <th>2</th>\n",
       "      <td>Serve as primary source of data insights suppo...</td>\n",
       "      <td>dc9137eaa6d7040a</td>\n",
       "      <td>Data Scientist</td>\n",
       "      <td>DS</td>\n",
       "    </tr>\n",
       "    <tr>\n",
       "      <th>3</th>\n",
       "      <td>Big data, artificial intelligence and advanced...</td>\n",
       "      <td>8401de1b34480359</td>\n",
       "      <td>Data Scientist</td>\n",
       "      <td>DS</td>\n",
       "    </tr>\n",
       "    <tr>\n",
       "      <th>4</th>\n",
       "      <td>As the innovation leader in the logistics indu...</td>\n",
       "      <td>eb0952cd8bad461b</td>\n",
       "      <td>Data Scientist</td>\n",
       "      <td>DS</td>\n",
       "    </tr>\n",
       "  </tbody>\n",
       "</table>\n",
       "</div>"
      ],
      "text/plain": [
       "                                         description                id  \\\n",
       "0  PURPOSE OF THE ROLE\\nThis role of a data scien...  21a0e80107ccbbc3   \n",
       "1  Work cross-functionally with business managers...  95a6064e4ea39071   \n",
       "2  Serve as primary source of data insights suppo...  dc9137eaa6d7040a   \n",
       "3  Big data, artificial intelligence and advanced...  8401de1b34480359   \n",
       "4  As the innovation leader in the logistics indu...  eb0952cd8bad461b   \n",
       "\n",
       "            title label  \n",
       "0  Data Scientist    DS  \n",
       "1  Data Scientist    DS  \n",
       "2  Data Scientist    DS  \n",
       "3  Data Scientist    DS  \n",
       "4  Data Scientist    DS  "
      ]
     },
     "execution_count": 14,
     "metadata": {},
     "output_type": "execute_result"
    }
   ],
   "source": [
    "ds_vs_others.head()"
   ]
  },
  {
   "cell_type": "code",
   "execution_count": 15,
   "metadata": {},
   "outputs": [
    {
     "data": {
      "text/plain": [
       "DS    33\n",
       "DE    25\n",
       "DA    21\n",
       "Name: label, dtype: int64"
      ]
     },
     "execution_count": 15,
     "metadata": {},
     "output_type": "execute_result"
    }
   ],
   "source": [
    "ds_vs_others['label'].value_counts()"
   ]
  },
  {
   "cell_type": "code",
   "execution_count": 16,
   "metadata": {},
   "outputs": [
    {
     "name": "stdout",
     "output_type": "stream",
     "text": [
      "Baseline: 0.582278481013\n"
     ]
    }
   ],
   "source": [
    "print('Baseline: {}'.format(1.0-(float(33)/float(33+25+21))))"
   ]
  },
  {
   "cell_type": "markdown",
   "metadata": {},
   "source": [
    "WOOT! I have a balanced dataset :) albeit small.... but let's see if we can infer anything from it using NLP.\n",
    "\n",
    "### Simple cleaning, no stemming or lemmitization or removal of stop words because it is so small (rows = 60+)."
   ]
  },
  {
   "cell_type": "code",
   "execution_count": 17,
   "metadata": {},
   "outputs": [],
   "source": [
    "# Removing punctuation, numbers and lowercase all\n",
    "ds_vs_others['clean'] = ds_vs_others['description'].apply(lambda x: re.sub(\"[^a-zA-Z]\", \" \", x).lower())"
   ]
  },
  {
   "cell_type": "code",
   "execution_count": 18,
   "metadata": {},
   "outputs": [
    {
     "data": {
      "text/html": [
       "<div>\n",
       "<style scoped>\n",
       "    .dataframe tbody tr th:only-of-type {\n",
       "        vertical-align: middle;\n",
       "    }\n",
       "\n",
       "    .dataframe tbody tr th {\n",
       "        vertical-align: top;\n",
       "    }\n",
       "\n",
       "    .dataframe thead th {\n",
       "        text-align: right;\n",
       "    }\n",
       "</style>\n",
       "<table border=\"1\" class=\"dataframe\">\n",
       "  <thead>\n",
       "    <tr style=\"text-align: right;\">\n",
       "      <th></th>\n",
       "      <th>description</th>\n",
       "      <th>id</th>\n",
       "      <th>title</th>\n",
       "      <th>label</th>\n",
       "      <th>clean</th>\n",
       "    </tr>\n",
       "  </thead>\n",
       "  <tbody>\n",
       "    <tr>\n",
       "      <th>0</th>\n",
       "      <td>PURPOSE OF THE ROLE\\nThis role of a data scien...</td>\n",
       "      <td>21a0e80107ccbbc3</td>\n",
       "      <td>Data Scientist</td>\n",
       "      <td>DS</td>\n",
       "      <td>purpose of the role this role of a data scient...</td>\n",
       "    </tr>\n",
       "    <tr>\n",
       "      <th>1</th>\n",
       "      <td>Work cross-functionally with business managers...</td>\n",
       "      <td>95a6064e4ea39071</td>\n",
       "      <td>Data Scientist</td>\n",
       "      <td>DS</td>\n",
       "      <td>work cross functionally with business managers...</td>\n",
       "    </tr>\n",
       "    <tr>\n",
       "      <th>2</th>\n",
       "      <td>Serve as primary source of data insights suppo...</td>\n",
       "      <td>dc9137eaa6d7040a</td>\n",
       "      <td>Data Scientist</td>\n",
       "      <td>DS</td>\n",
       "      <td>serve as primary source of data insights suppo...</td>\n",
       "    </tr>\n",
       "    <tr>\n",
       "      <th>3</th>\n",
       "      <td>Big data, artificial intelligence and advanced...</td>\n",
       "      <td>8401de1b34480359</td>\n",
       "      <td>Data Scientist</td>\n",
       "      <td>DS</td>\n",
       "      <td>big data  artificial intelligence and advanced...</td>\n",
       "    </tr>\n",
       "    <tr>\n",
       "      <th>4</th>\n",
       "      <td>As the innovation leader in the logistics indu...</td>\n",
       "      <td>eb0952cd8bad461b</td>\n",
       "      <td>Data Scientist</td>\n",
       "      <td>DS</td>\n",
       "      <td>as the innovation leader in the logistics indu...</td>\n",
       "    </tr>\n",
       "  </tbody>\n",
       "</table>\n",
       "</div>"
      ],
      "text/plain": [
       "                                         description                id  \\\n",
       "0  PURPOSE OF THE ROLE\\nThis role of a data scien...  21a0e80107ccbbc3   \n",
       "1  Work cross-functionally with business managers...  95a6064e4ea39071   \n",
       "2  Serve as primary source of data insights suppo...  dc9137eaa6d7040a   \n",
       "3  Big data, artificial intelligence and advanced...  8401de1b34480359   \n",
       "4  As the innovation leader in the logistics indu...  eb0952cd8bad461b   \n",
       "\n",
       "            title label                                              clean  \n",
       "0  Data Scientist    DS  purpose of the role this role of a data scient...  \n",
       "1  Data Scientist    DS  work cross functionally with business managers...  \n",
       "2  Data Scientist    DS  serve as primary source of data insights suppo...  \n",
       "3  Data Scientist    DS  big data  artificial intelligence and advanced...  \n",
       "4  Data Scientist    DS  as the innovation leader in the logistics indu...  "
      ]
     },
     "execution_count": 18,
     "metadata": {},
     "output_type": "execute_result"
    }
   ],
   "source": [
    "ds_vs_others.head()"
   ]
  },
  {
   "cell_type": "code",
   "execution_count": 19,
   "metadata": {},
   "outputs": [],
   "source": [
    "X = ds_vs_others['clean']\n",
    "y = ds_vs_others['label']"
   ]
  },
  {
   "cell_type": "code",
   "execution_count": 20,
   "metadata": {},
   "outputs": [],
   "source": [
    "X_train, X_test, y_train, y_test = train_test_split(X, y, test_size=0.3, random_state=42)"
   ]
  },
  {
   "cell_type": "code",
   "execution_count": 21,
   "metadata": {},
   "outputs": [],
   "source": [
    "pipe = Pipeline([\n",
    "    ('vectorizer', CountVectorizer()),\n",
    "    ('clf', LogisticRegressionCV(cv=3, random_state=42))\n",
    "])\n",
    "\n",
    "model = pipe.fit(X_train, y_train)"
   ]
  },
  {
   "cell_type": "code",
   "execution_count": 22,
   "metadata": {},
   "outputs": [
    {
     "name": "stdout",
     "output_type": "stream",
     "text": [
      "Number of features: 2696 \n",
      "\n",
      "DA: analysis, skills, strong, and, reports, business, clients, requirements, reporting, analyst\n",
      "DE: skill, is, pipelines, number, infrastructure, building, you, of, data, engineer\n",
      "DS: problems, scientist, in, business, research, analytics, science, models, machine, learning\n"
     ]
    }
   ],
   "source": [
    "top10keys(model, classes=['DA', 'DE', 'DS'])"
   ]
  },
  {
   "cell_type": "code",
   "execution_count": 23,
   "metadata": {},
   "outputs": [
    {
     "name": "stdout",
     "output_type": "stream",
     "text": [
      "Classification Report: \n",
      "\n",
      "             precision    recall  f1-score   support\n",
      "\n",
      "         DA       0.67      0.67      0.67         6\n",
      "         DE       1.00      0.57      0.73         7\n",
      "         DS       0.71      0.91      0.80        11\n",
      "\n",
      "avg / total       0.79      0.75      0.75        24\n",
      "\n",
      "============================================================\n",
      "Accuracy: 0.75\n",
      "============================================================\n",
      "Confusion matrix, without normalization\n",
      "[[ 4  0  2]\n",
      " [ 1  4  2]\n",
      " [ 1  0 10]]\n"
     ]
    },
    {
     "data": {
      "image/png": "[encoded data removed]",
      "text/plain": [
       "<Figure size 432x288 with 2 Axes>"
      ]
     },
     "metadata": {},
     "output_type": "display_data"
    }
   ],
   "source": [
    "predict_and_win(['DA', 'DE', 'DS'])"
   ]
  },
  {
   "cell_type": "markdown",
   "metadata": {},
   "source": [
    "Yup, as expected. Because DA's top 10 keywords had company names in the mix which of course will throw it off course quite fast and easily."
   ]
  },
  {
   "cell_type": "code",
   "execution_count": 24,
   "metadata": {},
   "outputs": [
    {
     "name": "stdout",
     "output_type": "stream",
     "text": [
      "Number of features: 11268 \n",
      "\n",
      "DA: planning, microsoft, reports, audit, clients, sales, customer, reporting, data analyst, analyst\n",
      "DE: end, data, data warehousing, infrastructure, skill, warehousing, aws, pipelines, data engineer, engineer\n",
      "DS: stakeholders, data scientist, scientist, data analytics, learning, machine learning, machine, models, research, analytics\n"
     ]
    },
    {
     "name": "stderr",
     "output_type": "stream",
     "text": [
      "/usr/local/anaconda3/envs/py27/lib/python2.7/site-packages/sklearn/linear_model/stochastic_gradient.py:128: FutureWarning: max_iter and tol parameters have been added in <class 'sklearn.linear_model.stochastic_gradient.SGDClassifier'> in 0.19. If both are left unset, they default to max_iter=5 and tol=None. If tol is not None, max_iter defaults to max_iter=1000. From 0.21, default max_iter will be 1000, and default tol will be 1e-3.\n",
      "  \"and default tol will be 1e-3.\" % type(self), FutureWarning)\n"
     ]
    }
   ],
   "source": [
    "pipe = Pipeline([\n",
    "    ('vectorizer', TfidfVectorizer(stop_words='english', ngram_range=(1,2))),\n",
    "    ('clf', SGDClassifier(random_state=42))\n",
    "])\n",
    "\n",
    "model = pipe.fit(X_train, y_train)\n",
    "\n",
    "top10keys(model, classes=['DA', 'DE', 'DS'])"
   ]
  },
  {
   "cell_type": "code",
   "execution_count": 25,
   "metadata": {},
   "outputs": [
    {
     "name": "stdout",
     "output_type": "stream",
     "text": [
      "Classification Report: \n",
      "\n",
      "             precision    recall  f1-score   support\n",
      "\n",
      "         DA       0.60      0.50      0.55         6\n",
      "         DE       1.00      0.71      0.83         7\n",
      "         DS       0.71      0.91      0.80        11\n",
      "\n",
      "avg / total       0.77      0.75      0.75        24\n",
      "\n",
      "============================================================\n",
      "Accuracy: 0.75\n",
      "============================================================\n",
      "Confusion matrix, without normalization\n",
      "[[ 3  0  3]\n",
      " [ 1  5  1]\n",
      " [ 1  0 10]]\n"
     ]
    },
    {
     "data": {
      "image/png": "[encoded data removed]",
      "text/plain": [
       "<Figure size 432x288 with 2 Axes>"
      ]
     },
     "metadata": {},
     "output_type": "display_data"
    }
   ],
   "source": [
    "predict_and_win(['DA', 'DE', 'DS'])"
   ]
  },
  {
   "cell_type": "markdown",
   "metadata": {},
   "source": [
    "At this point, I went back and scraped for company names. I just needed enough to add as stop words."
   ]
  },
  {
   "cell_type": "code",
   "execution_count": 26,
   "metadata": {},
   "outputs": [],
   "source": [
    "# Load in the pickled list of company names\n",
    "with open('company_names.p','rb') as f:\n",
    "    company_names = pickle.load(f)"
   ]
  },
  {
   "cell_type": "code",
   "execution_count": 27,
   "metadata": {},
   "outputs": [],
   "source": [
    "# Remove duplicates\n",
    "company_names = list(set(company_names))\n",
    "\n",
    "# Turn into dataframe for easy removal of punctuation and lowercasing\n",
    "company_df = pd.DataFrame({'companies': company_names})"
   ]
  },
  {
   "cell_type": "code",
   "execution_count": 28,
   "metadata": {},
   "outputs": [],
   "source": [
    "company_names = company_df['companies'].apply(lambda x: re.sub(\"[^a-zA-Z]\", \" \", x).lower().split()).tolist()\n",
    "company_names = [y for x in company_names for y in x]"
   ]
  },
  {
   "cell_type": "code",
   "execution_count": 29,
   "metadata": {},
   "outputs": [],
   "source": [
    "# Remove duplicates\n",
    "company_names = list(set(company_names))\n",
    "\n",
    "# Add 'jll' because it is a real estate company and microsoft because .... microsoft\n",
    "company_names.extend(['jll','microsoft'])"
   ]
  },
  {
   "cell_type": "code",
   "execution_count": 30,
   "metadata": {},
   "outputs": [],
   "source": [
    "# Add to the stopwords list\n",
    "stop_words1 = ENGLISH_STOP_WORDS.union(company_names)"
   ]
  },
  {
   "cell_type": "code",
   "execution_count": 31,
   "metadata": {},
   "outputs": [
    {
     "name": "stdout",
     "output_type": "stream",
     "text": [
      "Number of features: 10478 \n",
      "\n",
      "DA: report, great work, ability, audit, planning, reporting, clients, sales, data analyst, analyst\n",
      "DE: infrastructure, engineering, end, data warehousing, skill, aws, warehousing, pipelines, data engineer, engineer\n",
      "DS: fraud, algorithms, machine learning, stakeholders, learning, data scientist, scientist, machine, models, research\n"
     ]
    }
   ],
   "source": [
    "pipe = Pipeline([\n",
    "    ('vectorizer', TfidfVectorizer(stop_words=stop_words1, ngram_range=(1,2))),\n",
    "    ('clf', SGDClassifier(random_state=42))\n",
    "])\n",
    "\n",
    "model = pipe.fit(X_train, y_train)\n",
    "\n",
    "top10keys(model, classes=['DA', 'DE', 'DS'])"
   ]
  },
  {
   "cell_type": "code",
   "execution_count": 32,
   "metadata": {},
   "outputs": [
    {
     "name": "stdout",
     "output_type": "stream",
     "text": [
      "Classification Report: \n",
      "\n",
      "             precision    recall  f1-score   support\n",
      "\n",
      "         DA       0.80      0.67      0.73         6\n",
      "         DE       1.00      0.86      0.92         7\n",
      "         DS       0.77      0.91      0.83        11\n",
      "\n",
      "avg / total       0.84      0.83      0.83        24\n",
      "\n",
      "============================================================\n",
      "Accuracy: 0.833333333333\n",
      "============================================================\n",
      "Confusion matrix, without normalization\n",
      "[[ 4  0  2]\n",
      " [ 0  6  1]\n",
      " [ 1  0 10]]\n"
     ]
    },
    {
     "data": {
      "image/png": "[encoded data removed]",
      "text/plain": [
       "<Figure size 432x288 with 2 Axes>"
      ]
     },
     "metadata": {},
     "output_type": "display_data"
    }
   ],
   "source": [
    "predict_and_win(['DA', 'DE', 'DS'])"
   ]
  },
  {
   "cell_type": "code",
   "execution_count": 33,
   "metadata": {},
   "outputs": [],
   "source": [
    "# Let's do this with the ensemble method of the boosting family: GradientBoostingClassifier which is quite similar to the SGDClassifier \n",
    "# in that they both utilize Gradient Descent\n",
    "\n",
    "pipe = Pipeline([\n",
    "    ('vectorizer', TfidfVectorizer(stop_words=stop_words1, ngram_range=(1,2))),\n",
    "    ('clf', GradientBoostingClassifier(random_state=42))\n",
    "])\n",
    "\n",
    "model = pipe.fit(X_train, y_train)"
   ]
  },
  {
   "cell_type": "code",
   "execution_count": 34,
   "metadata": {},
   "outputs": [
    {
     "name": "stdout",
     "output_type": "stream",
     "text": [
      "Classification Report: \n",
      "\n",
      "             precision    recall  f1-score   support\n",
      "\n",
      "         DA       1.00      0.67      0.80         6\n",
      "         DE       1.00      1.00      1.00         7\n",
      "         DS       0.85      1.00      0.92        11\n",
      "\n",
      "avg / total       0.93      0.92      0.91        24\n",
      "\n",
      "============================================================\n",
      "Accuracy: 0.916666666667\n",
      "============================================================\n",
      "Confusion matrix, without normalization\n",
      "[[ 4  0  2]\n",
      " [ 0  7  0]\n",
      " [ 0  0 11]]\n"
     ]
    },
    {
     "data": {
      "image/png": "[encoded data removed]",
      "text/plain": [
       "<Figure size 432x288 with 2 Axes>"
      ]
     },
     "metadata": {},
     "output_type": "display_data"
    }
   ],
   "source": [
    "predict_and_win(['DA', 'DE', 'DS'])"
   ]
  },
  {
   "cell_type": "markdown",
   "metadata": {},
   "source": [
    "### Conclusion\n",
    "\n",
    "Removing company names (as much as possible) resulted in more mis-classifications of Data Analysts as Data Scientist, but less for the other way round. Without company names in the mix, the job description are close enough that there's a higher chance of mis-classification. This leads me to the following:\n",
    "\n",
    "1. Some companies posts Data Scientists job titles but the job descriptions reads closer to a Data Analyst title.\n",
    "2. Because I added Junior Data Scientists in the Data Scientist pool, perhaps that caused the mix of job description as Jr. Data Scientists tend to be Data Analysts.\n",
    "3. Data Analyst did have the lowerest number of samples, so not too surprised that it wasn't able to catch them all. \n",
    "4. One can argue that Data Analysts and Data Scientist are in the same cluster as each other, as compared to Data Engineers. Throughout all iterations, DEs were well classified and accurately so, with one wrong one (each)\n",
    "\n",
    "**Lesson:** It is possible to derive some insights from a small dataset, it is just very important to clean the data as much as possible and be mindful of the top10 words in both categories (don't remove too much and/or don't remove too little).\n",
    "\n",
    "**Choosing models:** A combination of simple models, or a simple model is better than a single complicated model. LogisticRegression did quite well on its own, unoptimized. GradientBoostingClassifier, which is a combination of weaker models also did very well. SGDClassifier needed a lot of work (added more stop words) to even meet LogisticRegression's first attempt.\n",
    "\n"
   ]
  },
  {
   "cell_type": "markdown",
   "metadata": {},
   "source": [
    "## 2) What features are important for distinguishing junior vs. senior positions?\n",
    "\n",
    "Salary numbers: https://www.techinasia.com/data-scientist-salaries-singapore-revealed and https://www.payscale.com/ "
   ]
  },
  {
   "cell_type": "code",
   "execution_count": 35,
   "metadata": {},
   "outputs": [],
   "source": [
    "only_jr = df[df['title'].str.contains('Junior|Jr|Associate|Assoc|Executive|Exec|Entry')].copy()\n",
    "only_jr['label'] = 'Jr'"
   ]
  },
  {
   "cell_type": "code",
   "execution_count": 36,
   "metadata": {},
   "outputs": [],
   "source": [
    "only_sr = df[df['title'].str.contains('Senior|Sr')].copy()\n",
    "only_sr['label'] = 'Sr'"
   ]
  },
  {
   "cell_type": "code",
   "execution_count": 37,
   "metadata": {},
   "outputs": [],
   "source": [
    "jr_vs_sr = pd.concat([only_jr,only_sr], ignore_index=True)"
   ]
  },
  {
   "cell_type": "code",
   "execution_count": 38,
   "metadata": {},
   "outputs": [
    {
     "data": {
      "text/plain": [
       "Sr    196\n",
       "Jr    103\n",
       "Name: label, dtype: int64"
      ]
     },
     "execution_count": 38,
     "metadata": {},
     "output_type": "execute_result"
    }
   ],
   "source": [
    "jr_vs_sr['label'].value_counts()"
   ]
  },
  {
   "cell_type": "code",
   "execution_count": 39,
   "metadata": {},
   "outputs": [
    {
     "name": "stdout",
     "output_type": "stream",
     "text": [
      "Baseline: 0.655518394649\n"
     ]
    }
   ],
   "source": [
    "print('Baseline: {}'.format(float(196)/float(103+196)))"
   ]
  },
  {
   "cell_type": "code",
   "execution_count": 40,
   "metadata": {},
   "outputs": [
    {
     "data": {
      "text/html": [
       "<div>\n",
       "<style scoped>\n",
       "    .dataframe tbody tr th:only-of-type {\n",
       "        vertical-align: middle;\n",
       "    }\n",
       "\n",
       "    .dataframe tbody tr th {\n",
       "        vertical-align: top;\n",
       "    }\n",
       "\n",
       "    .dataframe thead th {\n",
       "        text-align: right;\n",
       "    }\n",
       "</style>\n",
       "<table border=\"1\" class=\"dataframe\">\n",
       "  <thead>\n",
       "    <tr style=\"text-align: right;\">\n",
       "      <th></th>\n",
       "      <th>description</th>\n",
       "      <th>id</th>\n",
       "      <th>title</th>\n",
       "      <th>label</th>\n",
       "    </tr>\n",
       "  </thead>\n",
       "  <tbody>\n",
       "    <tr>\n",
       "      <th>0</th>\n",
       "      <td>What is the job ?\\n\\n\\nThe role will involve m...</td>\n",
       "      <td>59df81c8a00dc826</td>\n",
       "      <td>Junior Data Analyst</td>\n",
       "      <td>Jr</td>\n",
       "    </tr>\n",
       "    <tr>\n",
       "      <th>1</th>\n",
       "      <td>About the Business Analyst position\\n\\nWe are ...</td>\n",
       "      <td>97326f6a06a4d7dc</td>\n",
       "      <td>Business Analyst/Junior PM</td>\n",
       "      <td>Jr</td>\n",
       "    </tr>\n",
       "    <tr>\n",
       "      <th>2</th>\n",
       "      <td>Contribute to the Revenue Optimization departm...</td>\n",
       "      <td>b3410677f90d5db2</td>\n",
       "      <td>Associate Analyst/Analyst, Analytics</td>\n",
       "      <td>Jr</td>\n",
       "    </tr>\n",
       "    <tr>\n",
       "      <th>3</th>\n",
       "      <td>BlackRock helps investors build better financi...</td>\n",
       "      <td>d40e45e6c5c014ad</td>\n",
       "      <td>Data Implementation, Associate</td>\n",
       "      <td>Jr</td>\n",
       "    </tr>\n",
       "    <tr>\n",
       "      <th>4</th>\n",
       "      <td>The Company\\nWillis Towers Watson is a leading...</td>\n",
       "      <td>ea2518a4ebd725fd</td>\n",
       "      <td>Analyst - Executive Compensation, Singapore</td>\n",
       "      <td>Jr</td>\n",
       "    </tr>\n",
       "  </tbody>\n",
       "</table>\n",
       "</div>"
      ],
      "text/plain": [
       "                                         description                id  \\\n",
       "0  What is the job ?\\n\\n\\nThe role will involve m...  59df81c8a00dc826   \n",
       "1  About the Business Analyst position\\n\\nWe are ...  97326f6a06a4d7dc   \n",
       "2  Contribute to the Revenue Optimization departm...  b3410677f90d5db2   \n",
       "3  BlackRock helps investors build better financi...  d40e45e6c5c014ad   \n",
       "4  The Company\\nWillis Towers Watson is a leading...  ea2518a4ebd725fd   \n",
       "\n",
       "                                         title label  \n",
       "0                          Junior Data Analyst    Jr  \n",
       "1                   Business Analyst/Junior PM    Jr  \n",
       "2         Associate Analyst/Analyst, Analytics    Jr  \n",
       "3               Data Implementation, Associate    Jr  \n",
       "4  Analyst - Executive Compensation, Singapore    Jr  "
      ]
     },
     "execution_count": 40,
     "metadata": {},
     "output_type": "execute_result"
    }
   ],
   "source": [
    "jr_vs_sr.head()"
   ]
  },
  {
   "cell_type": "code",
   "execution_count": 41,
   "metadata": {},
   "outputs": [],
   "source": [
    "jr_vs_sr['clean'] = jr_vs_sr['description'].apply(lambda x: re.sub(\"[^a-zA-Z]\", \" \", x).lower())"
   ]
  },
  {
   "cell_type": "code",
   "execution_count": 42,
   "metadata": {},
   "outputs": [],
   "source": [
    "X = jr_vs_sr['clean']\n",
    "y = jr_vs_sr['label']"
   ]
  },
  {
   "cell_type": "code",
   "execution_count": 43,
   "metadata": {},
   "outputs": [],
   "source": [
    "X_train, X_test, y_train, y_test = train_test_split(X, y, test_size=0.3, random_state=42)"
   ]
  },
  {
   "cell_type": "code",
   "execution_count": 44,
   "metadata": {},
   "outputs": [],
   "source": [
    "pipe = Pipeline([\n",
    "    ('vectorizer', TfidfVectorizer(stop_words='english')),\n",
    "    ('clf', LogisticRegressionCV(cv=3, random_state=42, class_weight='balanced'))\n",
    "])\n",
    "\n",
    "model = pipe.fit(X_train, y_train)"
   ]
  },
  {
   "cell_type": "code",
   "execution_count": 45,
   "metadata": {},
   "outputs": [
    {
     "name": "stdout",
     "output_type": "stream",
     "text": [
      "Number of features: 5862 \n",
      "\n",
      "Top 10 features found in Senior:\n",
      "technical, lead, architecture, product, oracle, science, project, senior, experience, business\n"
     ]
    }
   ],
   "source": [
    "top10keys(model, ['Junior','Senior'])"
   ]
  },
  {
   "cell_type": "code",
   "execution_count": 46,
   "metadata": {},
   "outputs": [
    {
     "name": "stdout",
     "output_type": "stream",
     "text": [
      "Classification Report: \n",
      "\n",
      "             precision    recall  f1-score   support\n",
      "\n",
      "         Jr       0.73      0.54      0.62        35\n",
      "         Sr       0.75      0.87      0.81        55\n",
      "\n",
      "avg / total       0.74      0.74      0.74        90\n",
      "\n",
      "============================================================\n",
      "Accuracy: 0.744444444444\n",
      "============================================================\n",
      "Confusion matrix, without normalization\n",
      "[[19 16]\n",
      " [ 7 48]]\n"
     ]
    },
    {
     "data": {
      "image/png": "[encoded data removed]",
      "text/plain": [
       "<Figure size 432x288 with 2 Axes>"
      ]
     },
     "metadata": {},
     "output_type": "display_data"
    }
   ],
   "source": [
    "predict_and_win(['Junior','Senior'])"
   ]
  },
  {
   "cell_type": "code",
   "execution_count": 47,
   "metadata": {},
   "outputs": [],
   "source": [
    "# Add 'responsibilities','requirements','relevant','years' and others to stop words\n",
    "stop_words2 = stop_words1.union(['oracle','axa','edb','responsibilities','requirements','relevant','years','science','experience','advantage','phd','senior'])"
   ]
  },
  {
   "cell_type": "code",
   "execution_count": 48,
   "metadata": {},
   "outputs": [],
   "source": [
    "pipe = Pipeline([\n",
    "    ('vectorizer', TfidfVectorizer(stop_words=stop_words2, ngram_range=(2,2), max_df=0.8)),\n",
    "    ('clf', SGDClassifier(random_state=42, class_weight='balanced'))\n",
    "])\n",
    "\n",
    "model = pipe.fit(X_train, y_train)"
   ]
  },
  {
   "cell_type": "code",
   "execution_count": 49,
   "metadata": {},
   "outputs": [
    {
     "name": "stdout",
     "output_type": "stream",
     "text": [
      "Number of features: 32562 \n",
      "\n",
      "Top 10 features found in Senior:\n",
      "possess strong, roles utilizing, business analyst, sql server, degree computer, business problems, business process, ms sql, working knowledge, best practices\n"
     ]
    }
   ],
   "source": [
    "top10keys(model, ['Junior','Senior'])"
   ]
  },
  {
   "cell_type": "code",
   "execution_count": 50,
   "metadata": {},
   "outputs": [
    {
     "name": "stdout",
     "output_type": "stream",
     "text": [
      "Classification Report: \n",
      "\n",
      "             precision    recall  f1-score   support\n",
      "\n",
      "         Jr       0.63      0.63      0.63        35\n",
      "         Sr       0.76      0.76      0.76        55\n",
      "\n",
      "avg / total       0.71      0.71      0.71        90\n",
      "\n",
      "============================================================\n",
      "Accuracy: 0.711111111111\n",
      "============================================================\n",
      "Confusion matrix, without normalization\n",
      "[[22 13]\n",
      " [13 42]]\n"
     ]
    },
    {
     "data": {
      "image/png": "[encoded data removed]",
      "text/plain": [
       "<Figure size 432x288 with 2 Axes>"
      ]
     },
     "metadata": {},
     "output_type": "display_data"
    }
   ],
   "source": [
    "predict_and_win(['Junior','Senior'])"
   ]
  },
  {
   "cell_type": "code",
   "execution_count": 51,
   "metadata": {},
   "outputs": [],
   "source": [
    "# Ensemble method here:\n",
    "\n",
    "pipe = Pipeline([\n",
    "    ('vectorizer', TfidfVectorizer(stop_words=stop_words2, ngram_range=(1,2), max_df=0.6)),\n",
    "    ('clf', GradientBoostingClassifier(random_state=42))\n",
    "])\n",
    "\n",
    "model = pipe.fit(X_train, y_train)"
   ]
  },
  {
   "cell_type": "code",
   "execution_count": 52,
   "metadata": {},
   "outputs": [
    {
     "name": "stdout",
     "output_type": "stream",
     "text": [
      "Classification Report: \n",
      "\n",
      "             precision    recall  f1-score   support\n",
      "\n",
      "         Jr       0.67      0.63      0.65        35\n",
      "         Sr       0.77      0.80      0.79        55\n",
      "\n",
      "avg / total       0.73      0.73      0.73        90\n",
      "\n",
      "============================================================\n",
      "Accuracy: 0.733333333333\n",
      "============================================================\n",
      "Confusion matrix, without normalization\n",
      "[[22 13]\n",
      " [11 44]]\n"
     ]
    },
    {
     "data": {
      "image/png": "[encoded data removed]",
      "text/plain": [
       "<Figure size 432x288 with 2 Axes>"
      ]
     },
     "metadata": {},
     "output_type": "display_data"
    }
   ],
   "source": [
    "predict_and_win(['Junior','Senior'])"
   ]
  },
  {
   "cell_type": "markdown",
   "metadata": {},
   "source": [
    "### Conclusion\n",
    "\n",
    "One can argue that most of today's Junior roles in Data Science share a lot of key terms with Senior roles (models overall did better once 'PhD' was removed). `max_df` had to be set at a precise 0.60 in order to produce a better predictions. This means that it removed all terms that appeared more than 60% in all documents. There are two reasons to this:\n",
    "1. Job adverts tend to sound kinda the same anyway.\n",
    "2. A Senior role can be defined as someone with a Junior role AND 40% more. Pinpoining the terms down to these few, would need a lot more tuning.\n",
    "\n",
    "I am quite happy with 0.73 accuracy score here as I don't want it to overfit on this and it is an imbalanced dataset to start with. LogisticRegression didn't do so well this time, but could be due to the imbalanced classes.\n"
   ]
  },
  {
   "cell_type": "markdown",
   "metadata": {},
   "source": [
    "### For Boss\n",
    "\n",
    "Junior and Senior 'accuracy' is not really what the boss wants. Since he/she would like to inform a candidate that they would receive a lower salary that they would, in reality, get. With this, this means that we would need to find a model that would optimise for lower False Negatives (lower Senior predictions)."
   ]
  },
  {
   "cell_type": "code",
   "execution_count": 62,
   "metadata": {},
   "outputs": [
    {
     "data": {
      "text/html": [
       "<div>\n",
       "<style scoped>\n",
       "    .dataframe tbody tr th:only-of-type {\n",
       "        vertical-align: middle;\n",
       "    }\n",
       "\n",
       "    .dataframe tbody tr th {\n",
       "        vertical-align: top;\n",
       "    }\n",
       "\n",
       "    .dataframe thead th {\n",
       "        text-align: right;\n",
       "    }\n",
       "</style>\n",
       "<table border=\"1\" class=\"dataframe\">\n",
       "  <thead>\n",
       "    <tr style=\"text-align: right;\">\n",
       "      <th></th>\n",
       "      <th>description</th>\n",
       "      <th>id</th>\n",
       "      <th>title</th>\n",
       "      <th>label</th>\n",
       "      <th>clean</th>\n",
       "    </tr>\n",
       "  </thead>\n",
       "  <tbody>\n",
       "    <tr>\n",
       "      <th>0</th>\n",
       "      <td>What is the job ?\\n\\n\\nThe role will involve m...</td>\n",
       "      <td>59df81c8a00dc826</td>\n",
       "      <td>Junior Data Analyst</td>\n",
       "      <td>Jr</td>\n",
       "      <td>what is the job     the role will involve main...</td>\n",
       "    </tr>\n",
       "    <tr>\n",
       "      <th>1</th>\n",
       "      <td>About the Business Analyst position\\n\\nWe are ...</td>\n",
       "      <td>97326f6a06a4d7dc</td>\n",
       "      <td>Business Analyst/Junior PM</td>\n",
       "      <td>Jr</td>\n",
       "      <td>about the business analyst position  we are lo...</td>\n",
       "    </tr>\n",
       "    <tr>\n",
       "      <th>2</th>\n",
       "      <td>Contribute to the Revenue Optimization departm...</td>\n",
       "      <td>b3410677f90d5db2</td>\n",
       "      <td>Associate Analyst/Analyst, Analytics</td>\n",
       "      <td>Jr</td>\n",
       "      <td>contribute to the revenue optimization departm...</td>\n",
       "    </tr>\n",
       "    <tr>\n",
       "      <th>3</th>\n",
       "      <td>BlackRock helps investors build better financi...</td>\n",
       "      <td>d40e45e6c5c014ad</td>\n",
       "      <td>Data Implementation, Associate</td>\n",
       "      <td>Jr</td>\n",
       "      <td>blackrock helps investors build better financi...</td>\n",
       "    </tr>\n",
       "    <tr>\n",
       "      <th>4</th>\n",
       "      <td>The Company\\nWillis Towers Watson is a leading...</td>\n",
       "      <td>ea2518a4ebd725fd</td>\n",
       "      <td>Analyst - Executive Compensation, Singapore</td>\n",
       "      <td>Jr</td>\n",
       "      <td>the company willis towers watson is a leading ...</td>\n",
       "    </tr>\n",
       "  </tbody>\n",
       "</table>\n",
       "</div>"
      ],
      "text/plain": [
       "                                         description                id  \\\n",
       "0  What is the job ?\\n\\n\\nThe role will involve m...  59df81c8a00dc826   \n",
       "1  About the Business Analyst position\\n\\nWe are ...  97326f6a06a4d7dc   \n",
       "2  Contribute to the Revenue Optimization departm...  b3410677f90d5db2   \n",
       "3  BlackRock helps investors build better financi...  d40e45e6c5c014ad   \n",
       "4  The Company\\nWillis Towers Watson is a leading...  ea2518a4ebd725fd   \n",
       "\n",
       "                                         title label  \\\n",
       "0                          Junior Data Analyst    Jr   \n",
       "1                   Business Analyst/Junior PM    Jr   \n",
       "2         Associate Analyst/Analyst, Analytics    Jr   \n",
       "3               Data Implementation, Associate    Jr   \n",
       "4  Analyst - Executive Compensation, Singapore    Jr   \n",
       "\n",
       "                                               clean  \n",
       "0  what is the job     the role will involve main...  \n",
       "1  about the business analyst position  we are lo...  \n",
       "2  contribute to the revenue optimization departm...  \n",
       "3  blackrock helps investors build better financi...  \n",
       "4  the company willis towers watson is a leading ...  "
      ]
     },
     "execution_count": 62,
     "metadata": {},
     "output_type": "execute_result"
    }
   ],
   "source": [
    "jr_vs_sr.head()"
   ]
  },
  {
   "cell_type": "code",
   "execution_count": 64,
   "metadata": {},
   "outputs": [],
   "source": [
    "# The precision is intuitively the ability of the classifier not to label as positive a sample that is negative\n",
    "# So if it is Junior role, never ever label it as Sr\n",
    "\n",
    "jr_vs_sr['label'] = jr_vs_sr['label'].map({'Jr': 0, 'Sr': 1})"
   ]
  },
  {
   "cell_type": "code",
   "execution_count": 67,
   "metadata": {},
   "outputs": [],
   "source": [
    "X = jr_vs_sr['clean']\n",
    "y = jr_vs_sr['label']"
   ]
  },
  {
   "cell_type": "code",
   "execution_count": 114,
   "metadata": {},
   "outputs": [],
   "source": [
    "X_train, X_test, y_train, y_test = train_test_split(X, y, test_size=0.5, random_state=42)"
   ]
  },
  {
   "cell_type": "code",
   "execution_count": 115,
   "metadata": {},
   "outputs": [],
   "source": [
    "# #############################################################################\n",
    "# Define a pipeline combining a text feature extractor with a simple\n",
    "# classifier\n",
    "pipe = Pipeline([\n",
    "    ('vectorizer', TfidfVectorizer(stop_words=stop_words2)),\n",
    "    ('clf', LogisticRegression(random_state=42, class_weight='balanced', solver='liblinear'))\n",
    "])\n",
    "\n",
    "# uncommenting more parameters will give better exploring power but will\n",
    "# increase processing time in a combinatorial way\n",
    "parameters = {\n",
    "    'vectorizer__max_df': (0.5, 0.75, 1.0),\n",
    "    #'vectorizer__max_features': (None, 5000, 10000, 50000),\n",
    "    'vectorizer__ngram_range': ((1, 1), (1, 2)),  # unigrams or bigrams\n",
    "    #'vectorizer__use_idf': (True, False),\n",
    "    #'vectorizer__norm': ('l1', 'l2'),\n",
    "    'clf__C': ([0.1,1.0,5.0]),\n",
    "    'clf__penalty': ('l2', 'l1')\n",
    "}"
   ]
  },
  {
   "cell_type": "code",
   "execution_count": 116,
   "metadata": {},
   "outputs": [
    {
     "name": "stdout",
     "output_type": "stream",
     "text": [
      "Performing grid search...\n",
      "Fitting 3 folds for each of 36 candidates, totalling 108 fits\n"
     ]
    },
    {
     "name": "stderr",
     "output_type": "stream",
     "text": [
      "/usr/local/anaconda3/envs/py27/lib/python2.7/site-packages/sklearn/metrics/classification.py:1135: UndefinedMetricWarning: Precision is ill-defined and being set to 0.0 due to no predicted samples.\n",
      "  'precision', 'predicted', average, warn_for)\n",
      "/usr/local/anaconda3/envs/py27/lib/python2.7/site-packages/sklearn/metrics/classification.py:1135: UndefinedMetricWarning: Precision is ill-defined and being set to 0.0 due to no predicted samples.\n",
      "  'precision', 'predicted', average, warn_for)\n",
      "/usr/local/anaconda3/envs/py27/lib/python2.7/site-packages/sklearn/metrics/classification.py:1135: UndefinedMetricWarning: Precision is ill-defined and being set to 0.0 due to no predicted samples.\n",
      "  'precision', 'predicted', average, warn_for)\n",
      "/usr/local/anaconda3/envs/py27/lib/python2.7/site-packages/sklearn/metrics/classification.py:1135: UndefinedMetricWarning: Precision is ill-defined and being set to 0.0 due to no predicted samples.\n",
      "  'precision', 'predicted', average, warn_for)\n",
      "[Parallel(n_jobs=-1)]: Done  42 tasks      | elapsed:    3.7s\n"
     ]
    },
    {
     "name": "stdout",
     "output_type": "stream",
     "text": [
      "Best score: 0.744 \n",
      "\n",
      "Best parameters set:\n",
      "\tclf__C: 5.0\n",
      "\tclf__penalty: 'l2'\n",
      "\tvectorizer__max_df: 0.5\n",
      "\tvectorizer__ngram_range: (1, 1)\n"
     ]
    },
    {
     "name": "stderr",
     "output_type": "stream",
     "text": [
      "[Parallel(n_jobs=-1)]: Done 108 out of 108 | elapsed:    9.1s finished\n"
     ]
    }
   ],
   "source": [
    "if __name__ == \"__main__\":\n",
    "    # multiprocessing requires the fork to happen in a __main__ protected\n",
    "    # block\n",
    "\n",
    "    # find the best parameters for both the feature extraction and the\n",
    "    # classifier\n",
    "    grid_search = GridSearchCV(pipe, parameters, n_jobs=-1, verbose=1, cv=3, scoring='precision')\n",
    "\n",
    "    print(\"Performing grid search...\")\n",
    "    \n",
    "    grid_search.fit(X_train, y_train)\n",
    "    \n",
    "    print(\"Best score: %0.3f \\n\" % grid_search.best_score_)\n",
    "    \n",
    "    print(\"Best parameters set:\")\n",
    "    best_parameters = grid_search.best_estimator_.get_params()\n",
    "    for param_name in sorted(parameters.keys()):\n",
    "        print(\"\\t%s: %r\" % (param_name, best_parameters[param_name]))"
   ]
  },
  {
   "cell_type": "code",
   "execution_count": 117,
   "metadata": {},
   "outputs": [
    {
     "name": "stdout",
     "output_type": "stream",
     "text": [
      "Classification Report: \n",
      "\n",
      "             precision    recall  f1-score   support\n",
      "\n",
      "          0       0.68      0.53      0.59        51\n",
      "          1       0.78      0.87      0.82        99\n",
      "\n",
      "avg / total       0.75      0.75      0.74       150\n",
      "\n",
      "============================================================\n",
      "Accuracy: 0.753333333333\n",
      "============================================================\n",
      "Confusion matrix, without normalization\n",
      "[[27 24]\n",
      " [13 86]]\n"
     ]
    },
    {
     "data": {
      "image/png": "[encoded data removed]",
      "text/plain": [
       "<Figure size 432x288 with 2 Axes>"
      ]
     },
     "metadata": {},
     "output_type": "display_data"
    }
   ],
   "source": [
    "pipe = Pipeline([\n",
    "    ('vectorizer', TfidfVectorizer(stop_words=stop_words2, ngram_range=(1, 1), max_df=1.0)),\n",
    "    ('clf', LogisticRegression(random_state=42, class_weight='balanced', C=5.0, penalty='l1'))\n",
    "])\n",
    "\n",
    "model = pipe.fit(X_train, y_train)\n",
    "\n",
    "predict_and_win(['Junior','Senior'])"
   ]
  },
  {
   "cell_type": "code",
   "execution_count": null,
   "metadata": {},
   "outputs": [],
   "source": []
  },
  {
   "cell_type": "code",
   "execution_count": null,
   "metadata": {},
   "outputs": [],
   "source": []
  },
  {
   "cell_type": "markdown",
   "metadata": {},
   "source": [
    "# 3) Do the requirements for titles vary significantly with industry (e.g. healthcare vs. government)?"
   ]
  },
  {
   "cell_type": "code",
   "execution_count": null,
   "metadata": {},
   "outputs": [],
   "source": [
    "df.head()"
   ]
  },
  {
   "cell_type": "code",
   "execution_count": null,
   "metadata": {},
   "outputs": [],
   "source": [
    "df[df['description'].str.contains('industry')].count()"
   ]
  },
  {
   "cell_type": "markdown",
   "metadata": {},
   "source": [
    "I am not going to kill myself and the model trying to sieve through finance vs banking. So I will choose two opposite industries that also _happens_ to have a balanced class count: Manufacturing and Finance."
   ]
  },
  {
   "cell_type": "code",
   "execution_count": null,
   "metadata": {},
   "outputs": [],
   "source": [
    "only_fin = df[df['description'].str.contains('finance')].copy()\n",
    "only_fin['label'] = 'Finance'"
   ]
  },
  {
   "cell_type": "code",
   "execution_count": null,
   "metadata": {},
   "outputs": [],
   "source": [
    "only_mfg = df[df['description'].str.contains('manufacturing')].copy()\n",
    "only_mfg['label'] = 'Manufacturing'"
   ]
  },
  {
   "cell_type": "code",
   "execution_count": null,
   "metadata": {},
   "outputs": [],
   "source": [
    "industry = pd.concat([only_fin,only_mfg], ignore_index=True)\n",
    "\n",
    "# Dropping ID because we don't need it anymore, but we want Title later :D\n",
    "industry.drop(columns=['id'], inplace=True)"
   ]
  },
  {
   "cell_type": "code",
   "execution_count": null,
   "metadata": {},
   "outputs": [],
   "source": [
    "industry.head()"
   ]
  },
  {
   "cell_type": "code",
   "execution_count": null,
   "metadata": {},
   "outputs": [],
   "source": [
    "industry['label'].value_counts()"
   ]
  },
  {
   "cell_type": "code",
   "execution_count": null,
   "metadata": {},
   "outputs": [],
   "source": [
    "industry['clean'] = industry['description'].apply(lambda x: re.sub(\"[^a-zA-Z]\", \" \", x).lower())"
   ]
  },
  {
   "cell_type": "code",
   "execution_count": null,
   "metadata": {},
   "outputs": [],
   "source": [
    "X = industry['clean']\n",
    "y = industry['label']"
   ]
  },
  {
   "cell_type": "code",
   "execution_count": null,
   "metadata": {},
   "outputs": [],
   "source": [
    "X_train, X_test, y_train, y_test = train_test_split(X, y, test_size=0.7, random_state=42)"
   ]
  },
  {
   "cell_type": "code",
   "execution_count": null,
   "metadata": {},
   "outputs": [],
   "source": [
    "pipe = Pipeline([\n",
    "    ('vectorizer', TfidfVectorizer(stop_words='english')),\n",
    "    ('clf', LogisticRegressionCV(cv=3, random_state=42))\n",
    "])\n",
    "\n",
    "model = pipe.fit(X_train, y_train)"
   ]
  },
  {
   "cell_type": "code",
   "execution_count": null,
   "metadata": {},
   "outputs": [],
   "source": [
    "top10keys(model, ['Finance','Manufacturing'])"
   ]
  },
  {
   "cell_type": "code",
   "execution_count": null,
   "metadata": {},
   "outputs": [],
   "source": [
    "predict_and_win(['Finance','Manufacturing'])"
   ]
  },
  {
   "cell_type": "markdown",
   "metadata": {},
   "source": [
    "I fear something might be amiss. "
   ]
  },
  {
   "cell_type": "code",
   "execution_count": null,
   "metadata": {},
   "outputs": [],
   "source": [
    "# Add 'manufacturing' and 'finance' to stop words\n",
    "stop_words3 = stop_words1.union(['manufacturing','finance'])"
   ]
  },
  {
   "cell_type": "code",
   "execution_count": null,
   "metadata": {},
   "outputs": [],
   "source": [
    "pipe = Pipeline([\n",
    "    ('vectorizer', TfidfVectorizer(stop_words=stop_words3)),\n",
    "    ('clf', LogisticRegressionCV(cv=3, random_state=42))\n",
    "])\n",
    "\n",
    "model = pipe.fit(X_train, y_train)"
   ]
  },
  {
   "cell_type": "code",
   "execution_count": null,
   "metadata": {},
   "outputs": [],
   "source": [
    "top10keys(model, ['Finance','Manufacturing'])"
   ]
  },
  {
   "cell_type": "code",
   "execution_count": null,
   "metadata": {},
   "outputs": [],
   "source": [
    "predict_and_win(['Finance','Manufacturing'])"
   ]
  },
  {
   "cell_type": "code",
   "execution_count": null,
   "metadata": {},
   "outputs": [],
   "source": [
    "pipe = Pipeline([\n",
    "    ('vectorizer', TfidfVectorizer(stop_words=stop_words3, ngram_range=(1,4))),\n",
    "    ('clf', SGDClassifier(random_state=42))\n",
    "])\n",
    "\n",
    "model = pipe.fit(X_train, y_train)"
   ]
  },
  {
   "cell_type": "code",
   "execution_count": null,
   "metadata": {},
   "outputs": [],
   "source": [
    "top10keys(model, ['Finance','Manufacturing'])"
   ]
  },
  {
   "cell_type": "code",
   "execution_count": null,
   "metadata": {},
   "outputs": [],
   "source": [
    "predict_and_win(['Finance','Manufacturing'])"
   ]
  },
  {
   "cell_type": "code",
   "execution_count": null,
   "metadata": {},
   "outputs": [],
   "source": [
    "# Let's see if our GradientBoostingClassifier can make it even better\n",
    "\n",
    "pipe = Pipeline([\n",
    "    ('vectorizer', TfidfVectorizer(stop_words=stop_words3, ngram_range=(1,4))),\n",
    "    ('clf', GradientBoostingClassifier(random_state=42))\n",
    "])\n",
    "\n",
    "model = pipe.fit(X_train, y_train)"
   ]
  },
  {
   "cell_type": "code",
   "execution_count": null,
   "metadata": {},
   "outputs": [],
   "source": [
    "top10keys(model, ['Finance','Manufacturing'])"
   ]
  },
  {
   "cell_type": "code",
   "execution_count": null,
   "metadata": {},
   "outputs": [],
   "source": [
    "predict_and_win(['Finance','Manufacturing'])"
   ]
  },
  {
   "cell_type": "markdown",
   "metadata": {},
   "source": [
    "### Conclusion\n",
    "\n",
    "KISS wins the day. Keep it Simple, Stupid. LogisticRegression performed the best."
   ]
  },
  {
   "cell_type": "markdown",
   "metadata": {},
   "source": [
    "# 4) Salary Prediction\n",
    "\n",
    "My original dataset did not have any salary column. And it also contained search results that are not entirely related. I plan to solve it this way:\n",
    "1. Predict if the role is either DS/DA, DE or DArch, or others. \n",
    "2. Predict if the role is either Jr. or Sr.\n",
    "3. Sort accordingly.\n",
    "\n",
    "I wonder if I can do some clustering..."
   ]
  },
  {
   "cell_type": "markdown",
   "metadata": {},
   "source": [
    "https://stackoverflow.com/questions/8897593/similarity-between-two-text-documents and http://brandonrose.org/clustering"
   ]
  },
  {
   "cell_type": "code",
   "execution_count": null,
   "metadata": {},
   "outputs": [],
   "source": [
    "ds_vs_others.head()"
   ]
  },
  {
   "cell_type": "code",
   "execution_count": null,
   "metadata": {},
   "outputs": [],
   "source": [
    "jr_vs_sr.head()"
   ]
  },
  {
   "cell_type": "code",
   "execution_count": null,
   "metadata": {},
   "outputs": [],
   "source": [
    "ds_vs_others.info()"
   ]
  },
  {
   "cell_type": "code",
   "execution_count": null,
   "metadata": {},
   "outputs": [],
   "source": [
    "jr_vs_sr.info()"
   ]
  },
  {
   "cell_type": "markdown",
   "metadata": {},
   "source": [
    "In total I have 79 data points to train my first randomforest classifier. I then have 299 to classify senior vs junior. Bearing in mind that there might be overlaps in these two datasets even, I will assume there aren't any, and this means that I will be training on 79+299 = 378 data points. Which leaves me about 1000 rows to test on. "
   ]
  },
  {
   "cell_type": "code",
   "execution_count": null,
   "metadata": {},
   "outputs": [],
   "source": [
    "# Remove all those ids not in either jr_vs_sr or ds_vs_others tables\n",
    "\n",
    "Xsalary_test = df[~df['id'].isin(ds_vs_others['id'])].copy()\n",
    "Xsalary_test = df[~df['id'].isin(jr_vs_sr['id'])].copy()"
   ]
  },
  {
   "cell_type": "code",
   "execution_count": null,
   "metadata": {},
   "outputs": [],
   "source": [
    "Xsalary_test.info()"
   ]
  },
  {
   "cell_type": "code",
   "execution_count": null,
   "metadata": {},
   "outputs": [],
   "source": [
    "Xsalary_test.head()"
   ]
  },
  {
   "cell_type": "code",
   "execution_count": null,
   "metadata": {},
   "outputs": [],
   "source": [
    "Xsalary_test['clean'] = Xsalary_test['description'].apply(lambda x: re.sub(\"[^a-zA-Z]\", \" \", x).lower())"
   ]
  },
  {
   "cell_type": "code",
   "execution_count": null,
   "metadata": {},
   "outputs": [],
   "source": [
    "Xsalary_test.head()"
   ]
  },
  {
   "cell_type": "code",
   "execution_count": null,
   "metadata": {},
   "outputs": [],
   "source": [
    "X_ds = ds_vs_others['clean']\n",
    "y_ds = ds_vs_others['label']\n",
    "\n",
    "X_sr = jr_vs_sr['clean']\n",
    "y_sr = jr_vs_sr['label']"
   ]
  },
  {
   "cell_type": "code",
   "execution_count": null,
   "metadata": {},
   "outputs": [],
   "source": [
    "# Bring in the best model for DS vs others.\n",
    "pipe = Pipeline([\n",
    "    ('vectorizer', TfidfVectorizer(stop_words=stop_words1, ngram_range=(1,2))),\n",
    "    ('clf', GradientBoostingClassifier(random_state=42))\n",
    "])\n",
    "\n",
    "model = pipe.fit(X_ds, y_ds)"
   ]
  },
  {
   "cell_type": "code",
   "execution_count": null,
   "metadata": {},
   "outputs": [],
   "source": [
    "ds_pred = model.predict(Xsalary_test['clean'])\n",
    "Xsalary_test['is_DS'] = ds_pred"
   ]
  },
  {
   "cell_type": "code",
   "execution_count": null,
   "metadata": {},
   "outputs": [],
   "source": [
    "Xsalary_test.head()"
   ]
  },
  {
   "cell_type": "code",
   "execution_count": null,
   "metadata": {},
   "outputs": [],
   "source": [
    "# Best model for Jr vs Sr\n",
    "\n",
    "pipe = Pipeline([\n",
    "    ('vectorizer', TfidfVectorizer(stop_words=stop_words2, ngram_range=(1,2), max_df=0.6)),\n",
    "    ('clf', GradientBoostingClassifier(random_state=42))\n",
    "])\n",
    "\n",
    "model = pipe.fit(X_sr, y_sr)"
   ]
  },
  {
   "cell_type": "code",
   "execution_count": null,
   "metadata": {},
   "outputs": [],
   "source": [
    "sr_pred = model.predict(Xsalary_test['clean'])\n",
    "Xsalary_test['is_Sr'] = sr_pred"
   ]
  },
  {
   "cell_type": "code",
   "execution_count": null,
   "metadata": {},
   "outputs": [],
   "source": [
    "Xsalary_test.head()"
   ]
  },
  {
   "cell_type": "code",
   "execution_count": null,
   "metadata": {},
   "outputs": [],
   "source": [
    "Xsalary_test['is_DS'].value_counts()"
   ]
  },
  {
   "cell_type": "code",
   "execution_count": null,
   "metadata": {},
   "outputs": [],
   "source": [
    "Xsalary_test['is_Sr'].value_counts()"
   ]
  },
  {
   "cell_type": "code",
   "execution_count": null,
   "metadata": {},
   "outputs": [],
   "source": [
    "Xsalary_test[(Xsalary_test['is_DS']=='DE')]['is_Sr'].value_counts()"
   ]
  },
  {
   "cell_type": "code",
   "execution_count": null,
   "metadata": {},
   "outputs": [],
   "source": [
    "m1 = Xsalary_test['is_DS'] == 'DS'\n",
    "m2 = Xsalary_test['is_DS'] == 'DA'\n",
    "m3 = Xsalary_test['is_DS'] == 'DE'\n",
    "\n",
    "m4 = Xsalary_test['is_Sr'] == 'Sr'\n",
    "m5 = Xsalary_test['is_Sr'] == 'Jr'"
   ]
  },
  {
   "cell_type": "code",
   "execution_count": null,
   "metadata": {},
   "outputs": [],
   "source": [
    "Xsalary_test['salary'] = 0"
   ]
  },
  {
   "cell_type": "code",
   "execution_count": null,
   "metadata": {},
   "outputs": [],
   "source": [
    "Xsalary_test.loc[m1 & m4, 'salary'] = 136783 # Senior DS roles\n",
    "Xsalary_test.loc[m1 & m5, 'salary'] = 59480 # Junior DS roles\n",
    "\n",
    "Xsalary_test.loc[m2 & m4, 'salary'] = 59480 # Senior DA roles\n",
    "Xsalary_test.loc[m2 & m5, 'salary'] = 77998 # Junior DA roles\n",
    "\n",
    "Xsalary_test.loc[m3 & m4, 'salary'] = 100000 # Senior DE roles\n",
    "Xsalary_test.loc[m3 & m5, 'salary'] = 60606 # Junior DE roles"
   ]
  },
  {
   "cell_type": "code",
   "execution_count": null,
   "metadata": {},
   "outputs": [],
   "source": [
    "Xsalary_test.head()"
   ]
  },
  {
   "cell_type": "code",
   "execution_count": null,
   "metadata": {},
   "outputs": [],
   "source": [
    "# Check out the smallest group: Junior DEs\n",
    "\n",
    "Xsalary_test[(m3 & m5)]"
   ]
  },
  {
   "cell_type": "markdown",
   "metadata": {},
   "source": [
    "Let's check out a potential mis-classification..."
   ]
  },
  {
   "cell_type": "code",
   "execution_count": null,
   "metadata": {},
   "outputs": [],
   "source": [
    "print(Xsalary_test.loc[462, 'description'])"
   ]
  },
  {
   "cell_type": "code",
   "execution_count": null,
   "metadata": {},
   "outputs": [],
   "source": [
    "Xsalary_test[(Xsalary_test['is_DS']=='DS')]['is_Sr'].value_counts()"
   ]
  },
  {
   "cell_type": "code",
   "execution_count": null,
   "metadata": {},
   "outputs": [],
   "source": [
    "Xsalary_test[(m1 & m5)].sample(5)"
   ]
  },
  {
   "cell_type": "code",
   "execution_count": null,
   "metadata": {},
   "outputs": [],
   "source": [
    "print(Xsalary_test.loc[392, 'description'])"
   ]
  },
  {
   "cell_type": "code",
   "execution_count": null,
   "metadata": {},
   "outputs": [],
   "source": [
    "# I know there are internships in the titles. Let's look at those...\n",
    "\n",
    "Xsalary_test[Xsalary_test['description'].str.contains('internship')].sample(5)"
   ]
  },
  {
   "cell_type": "code",
   "execution_count": null,
   "metadata": {},
   "outputs": [],
   "source": [
    "print(Xsalary_test.loc[541, 'description'])"
   ]
  },
  {
   "cell_type": "markdown",
   "metadata": {},
   "source": [
    "HAHAHAHAHA.....\n",
    "\n",
    "Another one..."
   ]
  },
  {
   "cell_type": "code",
   "execution_count": null,
   "metadata": {},
   "outputs": [],
   "source": [
    "print(Xsalary_test.loc[902, 'description'])"
   ]
  },
  {
   "cell_type": "markdown",
   "metadata": {},
   "source": [
    "### LOL"
   ]
  }
 ],
 "metadata": {
  "kernelspec": {
   "display_name": "Python 2",
   "language": "python",
   "name": "python2"
  },
  "language_info": {
   "codemirror_mode": {
    "name": "ipython",
    "version": 2
   },
   "file_extension": ".py",
   "mimetype": "text/x-python",
   "name": "python",
   "nbconvert_exporter": "python",
   "pygments_lexer": "ipython2",
   "version": "2.7.14"
  }
 },
 "nbformat": 4,
 "nbformat_minor": 2
}
